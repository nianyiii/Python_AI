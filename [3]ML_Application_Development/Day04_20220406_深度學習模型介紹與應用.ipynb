{
 "cells": [
  {
   "cell_type": "markdown",
   "id": "c13f2aa6",
   "metadata": {},
   "source": [
    "## Functional API"
   ]
  },
  {
   "cell_type": "code",
   "execution_count": 2,
   "id": "4adb9fe0",
   "metadata": {},
   "outputs": [],
   "source": [
    "import numpy as np\n",
    "import tensorflow as tf\n",
    "from tensorflow import keras\n",
    "from tensorflow.keras import layers"
   ]
  },
  {
   "cell_type": "code",
   "execution_count": 4,
   "id": "ef2ef84b",
   "metadata": {},
   "outputs": [],
   "source": [
    "# 輸入\n",
    "inputs = keras.Input(shape = (784,))\n",
    "\n",
    "# 第一層神經：64個神經元\n",
    "dense = layers.Dense(64, activation = \"relu\")\n",
    "\n",
    "# dense(64)<-串接-inputs(784)\n",
    "x = dense(inputs)\n",
    "\n",
    "# 第二層神經：64個神經元\n",
    "x = layers.Dense(64, activation = \"relu\")(x) # 串接 \n",
    "\n",
    "# 輸出：10個神經元 == 答案種類 0~9\n",
    "outputs = layers.Dense(10)(x)\n",
    "\n",
    "# 解說\n",
    "# '''             <--          x          <--inputs\n",
    "# output Dense(10)<--Dense(64)<--Dense(64)<--Input(784)\n",
    "# '''"
   ]
  },
  {
   "cell_type": "code",
   "execution_count": null,
   "id": "8238678f",
   "metadata": {},
   "outputs": [],
   "source": [
    "# 檢視套件(框架)方法的參數\n",
    "help(keras.Model)"
   ]
  },
  {
   "cell_type": "code",
   "execution_count": 6,
   "id": "340b2506",
   "metadata": {},
   "outputs": [
    {
     "name": "stdout",
     "output_type": "stream",
     "text": [
      "Model: \"mnist_model\"\n",
      "_________________________________________________________________\n",
      " Layer (type)                Output Shape              Param #   \n",
      "=================================================================\n",
      " input_2 (InputLayer)        [(None, 784)]             0         \n",
      "                                                                 \n",
      " dense_3 (Dense)             (None, 64)                50240     \n",
      "                                                                 \n",
      " dense_4 (Dense)             (None, 64)                4160      \n",
      "                                                                 \n",
      " dense_5 (Dense)             (None, 10)                650       \n",
      "                                                                 \n",
      "=================================================================\n",
      "Total params: 55,050\n",
      "Trainable params: 55,050\n",
      "Non-trainable params: 0\n",
      "_________________________________________________________________\n"
     ]
    }
   ],
   "source": [
    "# 建置模型\n",
    "model = keras.Model(inputs = inputs, outputs = outputs, name = \"mnist_model\")\n",
    "# 模型參數\n",
    "model.summary()"
   ]
  },
  {
   "cell_type": "code",
   "execution_count": 8,
   "id": "33addfa0",
   "metadata": {},
   "outputs": [
    {
     "name": "stdout",
     "output_type": "stream",
     "text": [
      "Collecting pydot\n",
      "  Downloading pydot-1.4.2-py2.py3-none-any.whl (21 kB)\n",
      "Requirement already satisfied: pyparsing>=2.1.4 in c:\\python310\\lib\\site-packages (from pydot) (3.0.9)\n",
      "Installing collected packages: pydot\n",
      "Successfully installed pydot-1.4.2\n"
     ]
    }
   ],
   "source": [
    "!pip install pydot"
   ]
  },
  {
   "cell_type": "code",
   "execution_count": 10,
   "id": "aeb149a7",
   "metadata": {},
   "outputs": [
    {
     "name": "stdout",
     "output_type": "stream",
     "text": [
      "Collecting graphviz\n",
      "  Downloading graphviz-0.20.1-py3-none-any.whl (47 kB)\n",
      "     -------------------------------------- 47.0/47.0 kB 294.4 kB/s eta 0:00:00\n",
      "Installing collected packages: graphviz\n",
      "Successfully installed graphviz-0.20.1\n"
     ]
    }
   ],
   "source": [
    "!pip install graphviz"
   ]
  },
  {
   "cell_type": "code",
   "execution_count": 12,
   "id": "0db50acd",
   "metadata": {},
   "outputs": [
    {
     "name": "stdout",
     "output_type": "stream",
     "text": [
      "You must install pydot (`pip install pydot`) and install graphviz (see instructions at https://graphviz.gitlab.io/download/) for plot_model/model_to_dot to work.\n",
      "You must install pydot (`pip install pydot`) and install graphviz (see instructions at https://graphviz.gitlab.io/download/) for plot_model/model_to_dot to work.\n"
     ]
    }
   ],
   "source": [
    "# 繪圖\n",
    "keras.utils.plot_model(model, \"my_first_model.png\")\n",
    "keras.utils.plot_model(model, \"my_first_model_with_shape_info.png\", show_shapes = True)"
   ]
  },
  {
   "cell_type": "code",
   "execution_count": 22,
   "id": "d06b674c",
   "metadata": {},
   "outputs": [
    {
     "name": "stdout",
     "output_type": "stream",
     "text": [
      "(60000, 28, 28)\n"
     ]
    }
   ],
   "source": [
    "# 讀取數據\n",
    "(x_train, y_train), (x_test, y_test) = keras.datasets.mnist.load_data()\n",
    "print(x_train.shape)"
   ]
  },
  {
   "cell_type": "code",
   "execution_count": 23,
   "id": "2113b16a",
   "metadata": {},
   "outputs": [
    {
     "data": {
      "image/png": "[encoded data removed]",
      "text/plain": [
       "<Figure size 100x100 with 1 Axes>"
      ]
     },
     "metadata": {},
     "output_type": "display_data"
    },
    {
     "name": "stdout",
     "output_type": "stream",
     "text": [
      "min & max 0..255\n"
     ]
    }
   ],
   "source": [
    "# 檢視第一張圖片（經過標準化前）\n",
    "import matplotlib.pyplot as plt\n",
    "plt.figure(figsize = (1, 1))\n",
    "plt.imshow(x_train[0], cmap = 'gray_r')\n",
    "plt.axis('off')\n",
    "plt.show()\n",
    "print('min & max {}..{}'.format(x_train[0].min(), x_train[0].max()))"
   ]
  },
  {
   "cell_type": "code",
   "execution_count": 24,
   "id": "605d231b",
   "metadata": {},
   "outputs": [
    {
     "name": "stdout",
     "output_type": "stream",
     "text": [
      "(60000, 784)\n"
     ]
    }
   ],
   "source": [
    "# 資料標準化\n",
    "x_train = x_train.reshape(60000, 784).astype(\"float32\") / 255\n",
    "x_test = x_test.reshape(10000, 784).astype(\"float32\") / 255\n",
    "print(x_train.shape)"
   ]
  },
  {
   "cell_type": "code",
   "execution_count": 25,
   "id": "5da4e88b",
   "metadata": {},
   "outputs": [
    {
     "data": {
      "image/png": "[encoded data removed]",
      "text/plain": [
       "<Figure size 100x100 with 1 Axes>"
      ]
     },
     "metadata": {},
     "output_type": "display_data"
    },
    {
     "name": "stdout",
     "output_type": "stream",
     "text": [
      "min & max 0.0..1.0\n"
     ]
    }
   ],
   "source": [
    "# 檢視第一張圖片（經過標準化後）\n",
    "import matplotlib.pyplot as plt\n",
    "plt.figure(figsize = (1, 1))\n",
    "plt.imshow(x_train[0].reshape(28, 28), cmap = 'gray_r')\n",
    "plt.axis('off')\n",
    "plt.show()\n",
    "print('min & max {}..{}'.format(x_train[0].min(), x_train[0].max()))"
   ]
  },
  {
   "cell_type": "code",
   "execution_count": 26,
   "id": "c91860f3",
   "metadata": {},
   "outputs": [
    {
     "name": "stdout",
     "output_type": "stream",
     "text": [
      "Epoch 1/10\n",
      "750/750 [==============================] - 5s 5ms/step - loss: 0.3529 - accuracy: 0.8996 - val_loss: 0.1839 - val_accuracy: 0.9477\n",
      "Epoch 2/10\n",
      "750/750 [==============================] - 3s 5ms/step - loss: 0.1612 - accuracy: 0.9520 - val_loss: 0.1379 - val_accuracy: 0.9605\n",
      "Epoch 3/10\n",
      "750/750 [==============================] - 3s 4ms/step - loss: 0.1179 - accuracy: 0.9650 - val_loss: 0.1176 - val_accuracy: 0.9656\n",
      "Epoch 4/10\n",
      "750/750 [==============================] - 3s 4ms/step - loss: 0.0943 - accuracy: 0.9718 - val_loss: 0.1090 - val_accuracy: 0.9666\n",
      "Epoch 5/10\n",
      "750/750 [==============================] - 3s 5ms/step - loss: 0.0788 - accuracy: 0.9766 - val_loss: 0.1134 - val_accuracy: 0.9688\n",
      "Epoch 6/10\n",
      "750/750 [==============================] - 3s 5ms/step - loss: 0.0653 - accuracy: 0.9810 - val_loss: 0.1118 - val_accuracy: 0.9710\n",
      "Epoch 7/10\n",
      "750/750 [==============================] - 3s 4ms/step - loss: 0.0580 - accuracy: 0.9828 - val_loss: 0.1052 - val_accuracy: 0.9713\n",
      "Epoch 8/10\n",
      "750/750 [==============================] - 3s 4ms/step - loss: 0.0509 - accuracy: 0.9843 - val_loss: 0.1053 - val_accuracy: 0.9732\n",
      "Epoch 9/10\n",
      "750/750 [==============================] - 3s 4ms/step - loss: 0.0439 - accuracy: 0.9867 - val_loss: 0.1078 - val_accuracy: 0.9737\n",
      "Epoch 10/10\n",
      "750/750 [==============================] - 3s 4ms/step - loss: 0.0381 - accuracy: 0.9884 - val_loss: 0.1062 - val_accuracy: 0.9735\n",
      "313/313 - 1s - loss: 0.0951 - accuracy: 0.9743 - 649ms/epoch - 2ms/step\n",
      "Test loss: 0.09508777409791946\n",
      "Test accuracy: 0.9743000268936157\n"
     ]
    }
   ],
   "source": [
    "model.compile(\n",
    "    loss = keras.losses.SparseCategoricalCrossentropy(from_logits = True),\n",
    "    optimizer = keras.optimizers.RMSprop(),\n",
    "    metrics = [\"accuracy\"],\n",
    "            )\n",
    "# 開始訓練 & 給數據\n",
    "history = model.fit(x_train, y_train, batch_size = 64, epochs = 10, validation_split = 0.2)\n",
    "# 模型評估\n",
    "test_scores = model.evaluate(x_test, y_test, verbose = 2)\n",
    "print(\"Test loss:\", test_scores[0])\n",
    "print(\"Test accuracy:\", test_scores[1])"
   ]
  },
  {
   "cell_type": "code",
   "execution_count": 27,
   "id": "097c5af9",
   "metadata": {},
   "outputs": [
    {
     "data": {
      "image/png": "[encoded data removed]",
      "text/plain": [
       "<Figure size 640x480 with 1 Axes>"
      ]
     },
     "metadata": {},
     "output_type": "display_data"
    }
   ],
   "source": [
    "%matplotlib inline\n",
    "# accuracy chart\n",
    "import matplotlib.pyplot as plt\n",
    "plt.plot(history.history['accuracy'], color = 'red')\n",
    "plt.plot(history.history['val_accuracy'], color = 'blue')\n",
    "plt.grid()\n",
    "plt.show()"
   ]
  },
  {
   "cell_type": "code",
   "execution_count": 28,
   "id": "456a8c83",
   "metadata": {},
   "outputs": [
    {
     "data": {
      "image/png": "[encoded data removed]",
      "text/plain": [
       "<Figure size 640x480 with 1 Axes>"
      ]
     },
     "metadata": {},
     "output_type": "display_data"
    }
   ],
   "source": [
    "%matplotlib inline\n",
    "# loss chart\n",
    "import matplotlib.pyplot as plt\n",
    "plt.plot(history.history['loss'], color = 'red')\n",
    "plt.plot(history.history['val_loss'], color = 'blue')\n",
    "plt.grid()\n",
    "plt.show()"
   ]
  },
  {
   "cell_type": "markdown",
   "id": "9bc21446",
   "metadata": {},
   "source": [
    "#### 將Optimizer改為“Adam”"
   ]
  },
  {
   "cell_type": "code",
   "execution_count": 29,
   "id": "6aeb5964",
   "metadata": {},
   "outputs": [],
   "source": [
    "import numpy as np\n",
    "import tensorflow as tf\n",
    "from tensorflow import keras\n",
    "from tensorflow.keras import layers"
   ]
  },
  {
   "cell_type": "code",
   "execution_count": 30,
   "id": "22606d3f",
   "metadata": {},
   "outputs": [],
   "source": [
    "# 輸入\n",
    "inputs = keras.Input(shape = (784,))\n",
    "\n",
    "# 第一層神經：64個神經元\n",
    "dense = layers.Dense(64, activation = \"relu\")\n",
    "\n",
    "# dense(64)<-串接-inputs(784)\n",
    "x = dense(inputs)\n",
    "\n",
    "# 第二層神經：64個神經元\n",
    "x = layers.Dense(64, activation = \"relu\")(x)\n",
    "\n",
    "# 輸出：10個神經元 == 答案種類 0~9\n",
    "outputs = layers.Dense(10)(x)"
   ]
  },
  {
   "cell_type": "code",
   "execution_count": 31,
   "id": "db7e0f15",
   "metadata": {},
   "outputs": [
    {
     "name": "stdout",
     "output_type": "stream",
     "text": [
      "Model: \"mnist_model\"\n",
      "_________________________________________________________________\n",
      " Layer (type)                Output Shape              Param #   \n",
      "=================================================================\n",
      " input_3 (InputLayer)        [(None, 784)]             0         \n",
      "                                                                 \n",
      " dense_6 (Dense)             (None, 64)                50240     \n",
      "                                                                 \n",
      " dense_7 (Dense)             (None, 64)                4160      \n",
      "                                                                 \n",
      " dense_8 (Dense)             (None, 10)                650       \n",
      "                                                                 \n",
      "=================================================================\n",
      "Total params: 55,050\n",
      "Trainable params: 55,050\n",
      "Non-trainable params: 0\n",
      "_________________________________________________________________\n"
     ]
    }
   ],
   "source": [
    "# 建置模型\n",
    "model = keras.Model(inputs = inputs, outputs = outputs, name = \"mnist_model\")\n",
    "# 模型參數\n",
    "model.summary()"
   ]
  },
  {
   "cell_type": "code",
   "execution_count": 34,
   "id": "d1c4d4c5",
   "metadata": {},
   "outputs": [
    {
     "name": "stdout",
     "output_type": "stream",
     "text": [
      "(60000, 28, 28)\n"
     ]
    }
   ],
   "source": [
    "# 讀取數據\n",
    "(x_train, y_train), (x_test, y_test) = keras.datasets.mnist.load_data()\n",
    "print(x_train.shape)"
   ]
  },
  {
   "cell_type": "code",
   "execution_count": 35,
   "id": "28bdcc3d",
   "metadata": {},
   "outputs": [
    {
     "data": {
      "image/png": "[encoded data removed]",
      "text/plain": [
       "<Figure size 100x100 with 1 Axes>"
      ]
     },
     "metadata": {},
     "output_type": "display_data"
    },
    {
     "name": "stdout",
     "output_type": "stream",
     "text": [
      "min & max 0..255\n"
     ]
    }
   ],
   "source": [
    "# 檢視第一張圖片（經過標準化前）\n",
    "import matplotlib.pyplot as plt\n",
    "plt.figure(figsize = (1, 1))\n",
    "plt.imshow(x_train[0], cmap = 'gray_r')\n",
    "plt.axis('off')\n",
    "plt.show()\n",
    "print('min & max {}..{}'.format(x_train[0].min(), x_train[0].max()))"
   ]
  },
  {
   "cell_type": "code",
   "execution_count": 36,
   "id": "8ab0aafc",
   "metadata": {},
   "outputs": [
    {
     "name": "stdout",
     "output_type": "stream",
     "text": [
      "(60000, 784)\n"
     ]
    }
   ],
   "source": [
    "# 資料標準化\n",
    "x_train = x_train.reshape(60000, 784).astype(\"float32\") / 255\n",
    "x_test = x_test.reshape(10000, 784).astype(\"float32\") / 255\n",
    "print(x_train.shape)"
   ]
  },
  {
   "cell_type": "code",
   "execution_count": 37,
   "id": "0c24fc6e",
   "metadata": {},
   "outputs": [
    {
     "data": {
      "image/png": "[encoded data removed]",
      "text/plain": [
       "<Figure size 100x100 with 1 Axes>"
      ]
     },
     "metadata": {},
     "output_type": "display_data"
    },
    {
     "name": "stdout",
     "output_type": "stream",
     "text": [
      "min & max 0.0..1.0\n"
     ]
    }
   ],
   "source": [
    "# 檢視第一張圖片（經過標準化後）\n",
    "import matplotlib.pyplot as plt\n",
    "plt.figure(figsize = (1, 1))\n",
    "plt.imshow(x_train[0].reshape(28, 28), cmap = 'gray_r')\n",
    "plt.axis('off')\n",
    "plt.show()\n",
    "print('min & max {}..{}'.format(x_train[0].min(), x_train[0].max()))"
   ]
  },
  {
   "cell_type": "code",
   "execution_count": 38,
   "id": "ee68f891",
   "metadata": {},
   "outputs": [
    {
     "name": "stdout",
     "output_type": "stream",
     "text": [
      "Epoch 1/10\n",
      "750/750 [==============================] - 4s 4ms/step - loss: 0.2768 - accuracy: 0.9151 - val_loss: 0.1451 - val_accuracy: 0.9567\n",
      "Epoch 2/10\n",
      "750/750 [==============================] - 3s 4ms/step - loss: 0.1535 - accuracy: 0.9545 - val_loss: 0.1665 - val_accuracy: 0.9507\n",
      "Epoch 3/10\n",
      "750/750 [==============================] - 3s 4ms/step - loss: 0.1305 - accuracy: 0.9619 - val_loss: 0.1396 - val_accuracy: 0.9605\n",
      "Epoch 4/10\n",
      "750/750 [==============================] - 3s 4ms/step - loss: 0.1203 - accuracy: 0.9645 - val_loss: 0.1486 - val_accuracy: 0.9591\n",
      "Epoch 5/10\n",
      "750/750 [==============================] - 3s 4ms/step - loss: 0.1075 - accuracy: 0.9695 - val_loss: 0.1471 - val_accuracy: 0.9614\n",
      "Epoch 6/10\n",
      "750/750 [==============================] - 3s 4ms/step - loss: 0.1046 - accuracy: 0.9711 - val_loss: 0.1665 - val_accuracy: 0.9590\n",
      "Epoch 7/10\n",
      "750/750 [==============================] - 3s 4ms/step - loss: 0.0986 - accuracy: 0.9722 - val_loss: 0.1749 - val_accuracy: 0.9570\n",
      "Epoch 8/10\n",
      "750/750 [==============================] - 3s 4ms/step - loss: 0.0972 - accuracy: 0.9734 - val_loss: 0.1530 - val_accuracy: 0.9653\n",
      "Epoch 9/10\n",
      "750/750 [==============================] - 3s 4ms/step - loss: 0.0882 - accuracy: 0.9756 - val_loss: 0.1624 - val_accuracy: 0.9608\n",
      "Epoch 10/10\n",
      "750/750 [==============================] - 3s 4ms/step - loss: 0.0866 - accuracy: 0.9762 - val_loss: 0.1903 - val_accuracy: 0.9618\n",
      "313/313 - 1s - loss: 0.1930 - accuracy: 0.9617 - 643ms/epoch - 2ms/step\n",
      "Test loss: 0.19297122955322266\n",
      "Test accuracy: 0.9617000222206116\n"
     ]
    }
   ],
   "source": [
    "model.compile(\n",
    "    loss = keras.losses.SparseCategoricalCrossentropy(from_logits = True),\n",
    "    optimizer = keras.optimizers.Adam(learning_rate = 0.01),\n",
    "    metrics = [\"accuracy\"],\n",
    "            )\n",
    "# 開始訓練 & 給數據\n",
    "history = model.fit(x_train, y_train, batch_size = 64, epochs = 10, validation_split = 0.2)\n",
    "# 模型評估\n",
    "test_scores = model.evaluate(x_test, y_test, verbose = 2)\n",
    "print(\"Test loss:\", test_scores[0])\n",
    "print(\"Test accuracy:\", test_scores[1])"
   ]
  },
  {
   "cell_type": "code",
   "execution_count": 39,
   "id": "131abe1d",
   "metadata": {},
   "outputs": [
    {
     "data": {
      "image/png": "[encoded data removed]",
      "text/plain": [
       "<Figure size 640x480 with 1 Axes>"
      ]
     },
     "metadata": {},
     "output_type": "display_data"
    }
   ],
   "source": [
    "%matplotlib inline\n",
    "# accuracy chart\n",
    "import matplotlib.pyplot as plt\n",
    "plt.plot(history.history['accuracy'], color = 'red')\n",
    "plt.plot(history.history['val_accuracy'], color = 'blue')\n",
    "plt.grid()\n",
    "plt.show()"
   ]
  },
  {
   "cell_type": "code",
   "execution_count": 40,
   "id": "130fc196",
   "metadata": {},
   "outputs": [
    {
     "data": {
      "image/png": "[encoded data removed]",
      "text/plain": [
       "<Figure size 640x480 with 1 Axes>"
      ]
     },
     "metadata": {},
     "output_type": "display_data"
    }
   ],
   "source": [
    "%matplotlib inline\n",
    "# loss chart\n",
    "import matplotlib.pyplot as plt\n",
    "plt.plot(history.history['loss'], color = 'red')\n",
    "plt.plot(history.history['val_loss'], color = 'blue')\n",
    "plt.grid()\n",
    "plt.show()"
   ]
  },
  {
   "cell_type": "markdown",
   "id": "dc46f02f",
   "metadata": {},
   "source": [
    "#### Hyper parameter"
   ]
  },
  {
   "cell_type": "code",
   "execution_count": 59,
   "id": "e5d499f9",
   "metadata": {},
   "outputs": [],
   "source": [
    "import numpy as np\n",
    "import tensorflow as tf\n",
    "from tensorflow import keras\n",
    "from tensorflow.keras import layers"
   ]
  },
  {
   "cell_type": "code",
   "execution_count": 60,
   "id": "3306206d",
   "metadata": {},
   "outputs": [],
   "source": [
    "# 輸入\n",
    "inputs = keras.Input(shape = (784,))\n",
    "\n",
    "# 第一層神經：64個神經元\n",
    "dense = layers.Dense(64, activation = \"relu\")\n",
    "\n",
    "# dense(64)<-串接-inputs(784)\n",
    "x = dense(inputs)\n",
    "\n",
    "# 第二層神經：64個神經元\n",
    "x = layers.Dense(64, activation = \"relu\")(x)\n",
    "\n",
    "# 輸出：10個神經元 == 答案種類 0~9\n",
    "outputs = layers.Dense(10, activation = \"softmax\")(x)"
   ]
  },
  {
   "cell_type": "code",
   "execution_count": 61,
   "id": "93899f42",
   "metadata": {},
   "outputs": [
    {
     "name": "stdout",
     "output_type": "stream",
     "text": [
      "Model: \"mnist_model\"\n",
      "_________________________________________________________________\n",
      " Layer (type)                Output Shape              Param #   \n",
      "=================================================================\n",
      " input_7 (InputLayer)        [(None, 784)]             0         \n",
      "                                                                 \n",
      " dense_18 (Dense)            (None, 64)                50240     \n",
      "                                                                 \n",
      " dense_19 (Dense)            (None, 64)                4160      \n",
      "                                                                 \n",
      " dense_20 (Dense)            (None, 10)                650       \n",
      "                                                                 \n",
      "=================================================================\n",
      "Total params: 55,050\n",
      "Trainable params: 55,050\n",
      "Non-trainable params: 0\n",
      "_________________________________________________________________\n"
     ]
    }
   ],
   "source": [
    "# 建置模型\n",
    "model = keras.Model(inputs = inputs, outputs = outputs, name = \"mnist_model\")\n",
    "# 模型參數\n",
    "model.summary()"
   ]
  },
  {
   "cell_type": "code",
   "execution_count": 62,
   "id": "b4114d95",
   "metadata": {},
   "outputs": [
    {
     "name": "stdout",
     "output_type": "stream",
     "text": [
      "(60000, 28, 28)\n"
     ]
    }
   ],
   "source": [
    "# 讀取數據\n",
    "(x_train, y_train), (x_test, y_test) = keras.datasets.mnist.load_data()\n",
    "print(x_train.shape)"
   ]
  },
  {
   "cell_type": "code",
   "execution_count": 63,
   "id": "2537cd8c",
   "metadata": {},
   "outputs": [
    {
     "name": "stdout",
     "output_type": "stream",
     "text": [
      "(60000, 784)\n"
     ]
    }
   ],
   "source": [
    "# 資料標準化\n",
    "x_train = x_train.reshape(60000, 784).astype(\"float32\") / 255\n",
    "x_test = x_test.reshape(10000, 784).astype(\"float32\") / 255\n",
    "print(x_train.shape)"
   ]
  },
  {
   "cell_type": "code",
   "execution_count": 64,
   "id": "87ce5a55",
   "metadata": {},
   "outputs": [
    {
     "name": "stdout",
     "output_type": "stream",
     "text": [
      "Epoch 1/10\n",
      "60/60 [==============================] - 2s 17ms/step - loss: 1.0364 - accuracy: 0.7196 - val_loss: 0.3540 - val_accuracy: 0.9024\n",
      "Epoch 2/10\n",
      "60/60 [==============================] - 1s 13ms/step - loss: 0.3171 - accuracy: 0.9091 - val_loss: 0.2538 - val_accuracy: 0.9286\n",
      "Epoch 3/10\n",
      "60/60 [==============================] - 1s 13ms/step - loss: 0.2473 - accuracy: 0.9291 - val_loss: 0.2162 - val_accuracy: 0.9391\n",
      "Epoch 4/10\n",
      "60/60 [==============================] - 1s 13ms/step - loss: 0.2069 - accuracy: 0.9409 - val_loss: 0.1879 - val_accuracy: 0.9474\n",
      "Epoch 5/10\n",
      "60/60 [==============================] - 1s 14ms/step - loss: 0.1785 - accuracy: 0.9482 - val_loss: 0.1764 - val_accuracy: 0.9500\n",
      "Epoch 6/10\n",
      "60/60 [==============================] - 1s 14ms/step - loss: 0.1581 - accuracy: 0.9545 - val_loss: 0.1564 - val_accuracy: 0.9553\n",
      "Epoch 7/10\n",
      "60/60 [==============================] - 1s 12ms/step - loss: 0.1408 - accuracy: 0.9595 - val_loss: 0.1478 - val_accuracy: 0.9567\n",
      "Epoch 8/10\n",
      "60/60 [==============================] - 1s 13ms/step - loss: 0.1295 - accuracy: 0.9622 - val_loss: 0.1389 - val_accuracy: 0.9598\n",
      "Epoch 9/10\n",
      "60/60 [==============================] - 1s 13ms/step - loss: 0.1168 - accuracy: 0.9670 - val_loss: 0.1347 - val_accuracy: 0.9604\n",
      "Epoch 10/10\n",
      "60/60 [==============================] - 1s 13ms/step - loss: 0.1089 - accuracy: 0.9687 - val_loss: 0.1299 - val_accuracy: 0.9595\n",
      "313/313 - 1s - loss: 0.1288 - accuracy: 0.9599 - 1s/epoch - 3ms/step\n",
      "Test loss: 0.128760427236557\n",
      "Test accuracy: 0.9599000215530396\n"
     ]
    }
   ],
   "source": [
    "model.compile(\n",
    "    loss = keras.losses.SparseCategoricalCrossentropy(),\n",
    "    optimizer = keras.optimizers.Adam(),\n",
    "    metrics = [\"accuracy\"],\n",
    "             )\n",
    "# 開始訓練 & 給數據\n",
    "history = model.fit(x_train, y_train, batch_size = 800, epochs = 10, validation_split = 0.2)\n",
    "# 模型評估\n",
    "test_scores = model.evaluate(x_test, y_test, verbose = 2)\n",
    "print(\"Test loss:\", test_scores[0])\n",
    "print(\"Test accuracy:\", test_scores[1])"
   ]
  },
  {
   "cell_type": "code",
   "execution_count": 65,
   "id": "da6db269",
   "metadata": {},
   "outputs": [
    {
     "data": {
      "image/png": "[encoded data removed]",
      "text/plain": [
       "<Figure size 640x480 with 1 Axes>"
      ]
     },
     "metadata": {},
     "output_type": "display_data"
    }
   ],
   "source": [
    "%matplotlib inline\n",
    "# accuracy chart\n",
    "import matplotlib.pyplot as plt\n",
    "plt.plot(history.history['accuracy'], color = 'red')\n",
    "plt.plot(history.history['val_accuracy'], color = 'blue')\n",
    "plt.grid()\n",
    "plt.show()"
   ]
  },
  {
   "cell_type": "code",
   "execution_count": 66,
   "id": "a9e6166f",
   "metadata": {},
   "outputs": [
    {
     "data": {
      "image/png": "[encoded data removed]",
      "text/plain": [
       "<Figure size 640x480 with 1 Axes>"
      ]
     },
     "metadata": {},
     "output_type": "display_data"
    }
   ],
   "source": [
    "%matplotlib inline\n",
    "# loss chart\n",
    "import matplotlib.pyplot as plt\n",
    "plt.plot(history.history['loss'], color = 'red')\n",
    "plt.plot(history.history['val_loss'], color = 'blue')\n",
    "plt.grid()\n",
    "plt.show()"
   ]
  },
  {
   "cell_type": "markdown",
   "id": "e14dbac8",
   "metadata": {},
   "source": [
    "#### Sklearn_digits"
   ]
  },
  {
   "cell_type": "code",
   "execution_count": 67,
   "id": "98ffa079",
   "metadata": {},
   "outputs": [],
   "source": [
    "import numpy as np\n",
    "import tensorflow as tf\n",
    "from tensorflow import keras\n",
    "from tensorflow.keras import layers"
   ]
  },
  {
   "cell_type": "code",
   "execution_count": 68,
   "id": "2bd0087c",
   "metadata": {},
   "outputs": [],
   "source": [
    "# 輸入\n",
    "inputs = keras.Input(shape = (64,))\n",
    "\n",
    "# 第一層神經：64個神經元\n",
    "dense = layers.Dense(64, activation = \"relu\")\n",
    "\n",
    "# dense(64) <-串接- inputs(64)\n",
    "x = dense(inputs)\n",
    "\n",
    "# 第二層神經：64個神經元\n",
    "x = layers.Dense(64, activation = \"relu\")(x) # 串接 \n",
    "\n",
    "# 輸出：10個神經元\n",
    "outputs = layers.Dense(10, activation = \"softmax\")(x)"
   ]
  },
  {
   "cell_type": "code",
   "execution_count": 69,
   "id": "5baad616",
   "metadata": {},
   "outputs": [
    {
     "name": "stdout",
     "output_type": "stream",
     "text": [
      "Model: \"mnist_model\"\n",
      "_________________________________________________________________\n",
      " Layer (type)                Output Shape              Param #   \n",
      "=================================================================\n",
      " input_8 (InputLayer)        [(None, 64)]              0         \n",
      "                                                                 \n",
      " dense_21 (Dense)            (None, 64)                4160      \n",
      "                                                                 \n",
      " dense_22 (Dense)            (None, 64)                4160      \n",
      "                                                                 \n",
      " dense_23 (Dense)            (None, 10)                650       \n",
      "                                                                 \n",
      "=================================================================\n",
      "Total params: 8,970\n",
      "Trainable params: 8,970\n",
      "Non-trainable params: 0\n",
      "_________________________________________________________________\n"
     ]
    }
   ],
   "source": [
    "# 建置模型\n",
    "model = keras.Model(inputs = inputs, outputs = outputs, name = \"mnist_model\")\n",
    "# 模型參數\n",
    "model.summary()"
   ]
  },
  {
   "cell_type": "code",
   "execution_count": 70,
   "id": "cccf18fe",
   "metadata": {},
   "outputs": [],
   "source": [
    "# 讀取數據\n",
    "# ['data', 'target', 'frame', 'feature_names', 'target_names', 'images', 'DESCR']\n",
    "from sklearn import datasets\n",
    "from sklearn.model_selection import train_test_split\n",
    "digits = datasets.load_digits()\n",
    "X, y = digits['data'], digits['target']\n",
    "# digits['data'].shape\n",
    "# x_train, x_test, y_train, y_test = X, X, y, y\n",
    "x_train, x_test, y_train, y_test = train_test_split(X, y, test_size = 0.05, random_state = 42)\n",
    "# (x_train, y_train), (x_test, y_test) = keras.datasets.mnist.load_data()"
   ]
  },
  {
   "cell_type": "code",
   "execution_count": 73,
   "id": "5a181306",
   "metadata": {},
   "outputs": [
    {
     "data": {
      "image/png": "[encoded data removed]",
      "text/plain": [
       "<Figure size 100x100 with 1 Axes>"
      ]
     },
     "metadata": {},
     "output_type": "display_data"
    },
    {
     "name": "stdout",
     "output_type": "stream",
     "text": [
      "min & max 0.0..16.0\n"
     ]
    }
   ],
   "source": [
    "# 檢視第一張圖片（經過標準化前）\n",
    "import matplotlib.pyplot as plt\n",
    "plt.figure(figsize = (1, 1))\n",
    "plt.imshow(x_train[0].reshape(8, 8), cmap = 'gray_r')\n",
    "plt.axis('off')\n",
    "plt.show()\n",
    "print('min & max {}..{}'.format(x_train[0].min(), x_train[0].max()))"
   ]
  },
  {
   "cell_type": "code",
   "execution_count": 74,
   "id": "a7007b46",
   "metadata": {},
   "outputs": [
    {
     "name": "stdout",
     "output_type": "stream",
     "text": [
      "(1707, 64)\n"
     ]
    }
   ],
   "source": [
    "# 資料標準化\n",
    "x_train = x_train.astype(\"float32\") / x_train.max()\n",
    "x_test = x_test.astype(\"float32\") / x_test.max()\n",
    "print(x_train.shape)"
   ]
  },
  {
   "cell_type": "code",
   "execution_count": 75,
   "id": "f07648fa",
   "metadata": {},
   "outputs": [
    {
     "data": {
      "image/png": "[encoded data removed]",
      "text/plain": [
       "<Figure size 100x100 with 1 Axes>"
      ]
     },
     "metadata": {},
     "output_type": "display_data"
    },
    {
     "name": "stdout",
     "output_type": "stream",
     "text": [
      "min & max 0.0..1.0\n"
     ]
    }
   ],
   "source": [
    "# 檢視第一張圖片（經過標準化後）\n",
    "import matplotlib.pyplot as plt\n",
    "plt.figure(figsize = (1, 1))\n",
    "plt.imshow(x_train[0].reshape(8, 8), cmap = 'gray_r')\n",
    "plt.axis('off')\n",
    "plt.show()\n",
    "print('min & max {}..{}'.format(x_train[0].min(), x_train[0].max()) )"
   ]
  },
  {
   "cell_type": "code",
   "execution_count": 76,
   "id": "a7f80441",
   "metadata": {},
   "outputs": [
    {
     "name": "stdout",
     "output_type": "stream",
     "text": [
      "Epoch 1/10\n",
      "137/137 [==============================] - 1s 3ms/step - loss: 1.5872 - accuracy: 0.5941 - val_loss: 0.7528 - val_accuracy: 0.8392\n",
      "Epoch 2/10\n",
      "137/137 [==============================] - 0s 3ms/step - loss: 0.4449 - accuracy: 0.9070 - val_loss: 0.3591 - val_accuracy: 0.9123\n",
      "Epoch 3/10\n",
      "137/137 [==============================] - 0s 3ms/step - loss: 0.2394 - accuracy: 0.9414 - val_loss: 0.2515 - val_accuracy: 0.9240\n",
      "Epoch 4/10\n",
      "137/137 [==============================] - 0s 3ms/step - loss: 0.1729 - accuracy: 0.9604 - val_loss: 0.1962 - val_accuracy: 0.9386\n",
      "Epoch 5/10\n",
      "137/137 [==============================] - 0s 3ms/step - loss: 0.1345 - accuracy: 0.9692 - val_loss: 0.1627 - val_accuracy: 0.9503\n",
      "Epoch 6/10\n",
      "137/137 [==============================] - 0s 3ms/step - loss: 0.1066 - accuracy: 0.9802 - val_loss: 0.1612 - val_accuracy: 0.9561\n",
      "Epoch 7/10\n",
      "137/137 [==============================] - 0s 3ms/step - loss: 0.0892 - accuracy: 0.9810 - val_loss: 0.1527 - val_accuracy: 0.9474\n",
      "Epoch 8/10\n",
      "137/137 [==============================] - 0s 3ms/step - loss: 0.0760 - accuracy: 0.9861 - val_loss: 0.1329 - val_accuracy: 0.9591\n",
      "Epoch 9/10\n",
      "137/137 [==============================] - 0s 3ms/step - loss: 0.0679 - accuracy: 0.9861 - val_loss: 0.1393 - val_accuracy: 0.9532\n",
      "Epoch 10/10\n",
      "137/137 [==============================] - 0s 3ms/step - loss: 0.0593 - accuracy: 0.9883 - val_loss: 0.1148 - val_accuracy: 0.9649\n",
      "3/3 - 0s - loss: 0.0477 - accuracy: 0.9889 - 34ms/epoch - 11ms/step\n",
      "Test loss: 0.04769955575466156\n",
      "Test accuracy: 0.9888888597488403\n"
     ]
    }
   ],
   "source": [
    "model.compile(\n",
    "    loss = keras.losses.SparseCategoricalCrossentropy(),\n",
    "    optimizer = keras.optimizers.Adam(),\n",
    "    metrics = [\"accuracy\"],\n",
    ")\n",
    "# 開始訓練 & 給數據\n",
    "history = model.fit(x_train, y_train, batch_size = 10, epochs = 10, validation_split = 0.2)\n",
    "# 模型評估\n",
    "test_scores = model.evaluate(x_test, y_test, verbose = 2)\n",
    "print(\"Test loss:\", test_scores[0])\n",
    "print(\"Test accuracy:\", test_scores[1])"
   ]
  },
  {
   "cell_type": "code",
   "execution_count": 77,
   "id": "962f357e",
   "metadata": {},
   "outputs": [
    {
     "data": {
      "image/png": "[encoded data removed]",
      "text/plain": [
       "<Figure size 640x480 with 1 Axes>"
      ]
     },
     "metadata": {},
     "output_type": "display_data"
    }
   ],
   "source": [
    "%matplotlib inline\n",
    "# accuracy chart\n",
    "import matplotlib.pyplot as plt\n",
    "plt.plot(history.history['accuracy'], color = 'red')\n",
    "plt.plot(history.history['val_accuracy'], color = 'blue')\n",
    "plt.grid()\n",
    "plt.show()"
   ]
  },
  {
   "cell_type": "code",
   "execution_count": 78,
   "id": "cf49f235",
   "metadata": {},
   "outputs": [
    {
     "data": {
      "image/png": "[encoded data removed]",
      "text/plain": [
       "<Figure size 640x480 with 1 Axes>"
      ]
     },
     "metadata": {},
     "output_type": "display_data"
    }
   ],
   "source": [
    "%matplotlib inline\n",
    "# loss chart\n",
    "import matplotlib.pyplot as plt\n",
    "plt.plot(history.history['loss'], color = 'red')\n",
    "plt.plot(history.history['val_loss'], color = 'blue')\n",
    "plt.grid()\n",
    "plt.show()"
   ]
  },
  {
   "cell_type": "markdown",
   "id": "3b344561",
   "metadata": {},
   "source": [
    "## Quiz\n",
    "每一個節點均含bias，請問有幾個參數?  \n",
    "-Input:784  \n",
    "-First hidden layer  \n",
    "    Output:400  \n",
    "-Second hidden layer  \n",
    "    Output:200  \n",
    "-Output layer  \n",
    "    Output:10"
   ]
  },
  {
   "cell_type": "code",
   "execution_count": 79,
   "id": "5dcf3ce4",
   "metadata": {},
   "outputs": [
    {
     "data": {
      "text/plain": [
       "396210"
      ]
     },
     "execution_count": 79,
     "metadata": {},
     "output_type": "execute_result"
    }
   ],
   "source": [
    "(784 * 400 + 400) + (400 * 200 + 200) + (200 * 10 + 10)"
   ]
  },
  {
   "cell_type": "code",
   "execution_count": 80,
   "id": "62a3bacc",
   "metadata": {},
   "outputs": [],
   "source": [
    "# 導入函式庫\n",
    "import numpy as np  \n",
    "import keras\n",
    "# from keras.models import Sequential\n",
    "from keras.datasets import mnist\n",
    "from keras.layers import Dense, Dropout, Activation, Flatten\n",
    "from keras.utils import np_utils\n",
    "from matplotlib import pyplot as plt\n",
    "import os\n",
    "from datetime import datetime\n",
    "\n",
    "start = datetime.now()\n",
    "\n",
    "# 載入MNIST資料庫的訓練資料，並自動分為『訓練組』及『測試組』\n",
    "(X_train, y_train), (X_test, y_test) = mnist.load_data()"
   ]
  },
  {
   "cell_type": "code",
   "execution_count": 81,
   "id": "0e1dd5fa",
   "metadata": {},
   "outputs": [],
   "source": [
    "# 建立簡單的線性執行的模型\n",
    "model = keras.models.Sequential()\n",
    "# Add Input layer，隱藏層(hidden layer) 有 256個輸出變數\n",
    "model.add(Dense(units = 400, input_dim = 784, kernel_initializer = 'normal', activation = 'relu'))\n",
    "model.add(Dense(units = 200, kernel_initializer = 'normal', activation = 'relu'))\n",
    "# Add output layer\n",
    "model.add(Dense(units = 10, kernel_initializer = 'normal', activation = 'softmax'))\n",
    "\n",
    "# 編譯：選擇損失函數、優化方法及成效衡量方式\n",
    "model.compile(loss = 'categorical_crossentropy', optimizer = 'adam', metrics = ['accuracy'])"
   ]
  },
  {
   "cell_type": "code",
   "execution_count": 82,
   "id": "290417a4",
   "metadata": {},
   "outputs": [
    {
     "name": "stdout",
     "output_type": "stream",
     "text": [
      "Model: \"sequential\"\n",
      "_________________________________________________________________\n",
      " Layer (type)                Output Shape              Param #   \n",
      "=================================================================\n",
      " dense_24 (Dense)            (None, 400)               314000    \n",
      "                                                                 \n",
      " dense_25 (Dense)            (None, 200)               80200     \n",
      "                                                                 \n",
      " dense_26 (Dense)            (None, 10)                2010      \n",
      "                                                                 \n",
      "=================================================================\n",
      "Total params: 396,210\n",
      "Trainable params: 396,210\n",
      "Non-trainable params: 0\n",
      "_________________________________________________________________\n"
     ]
    }
   ],
   "source": [
    "model.summary()"
   ]
  },
  {
   "cell_type": "markdown",
   "id": "3be8e0d9",
   "metadata": {},
   "source": [
    "## Adaline_啟動函數_Activation funtion\n",
    "#### 未啟動"
   ]
  },
  {
   "cell_type": "code",
   "execution_count": 83,
   "id": "222e9836",
   "metadata": {},
   "outputs": [
    {
     "data": {
      "text/plain": [
       "dict_keys(['data', 'target', 'frame', 'target_names', 'DESCR', 'feature_names', 'filename', 'data_module'])"
      ]
     },
     "execution_count": 83,
     "metadata": {},
     "output_type": "execute_result"
    }
   ],
   "source": [
    "import numpy as np\n",
    "from sklearn import datasets\n",
    "iris = datasets.load_iris()\n",
    "iris.keys()"
   ]
  },
  {
   "cell_type": "code",
   "execution_count": 86,
   "id": "a9ca2e48",
   "metadata": {},
   "outputs": [
    {
     "data": {
      "text/plain": [
       "(array([[5.1, 3.5],\n",
       "        [4.9, 3. ],\n",
       "        [4.7, 3.2]]),\n",
       " array([-1, -1, -1]))"
      ]
     },
     "execution_count": 86,
     "metadata": {},
     "output_type": "execute_result"
    }
   ],
   "source": [
    "X, y = iris.data[:100][:, [0, 1]], np.where(iris.target[:100] > 0, 1, -1)\n",
    "X[:3], y[:3]"
   ]
  },
  {
   "cell_type": "code",
   "execution_count": 87,
   "id": "ee562038",
   "metadata": {},
   "outputs": [],
   "source": [
    "from math import floor\n",
    "import numpy as np\n",
    "class AdalineGD(object):\n",
    "    \"\"\"ADAptive LInear NEuron classifier.\n",
    "\n",
    "    Parameters\n",
    "    ------------\n",
    "    eta : float\n",
    "      Learning rate (between 0.0 and 1.0)\n",
    "    n_iter : int\n",
    "      Passes over the training dataset.\n",
    "    random_state : int\n",
    "      Random number generator seed for random weight\n",
    "      initialization.\n",
    "\n",
    "    Attributes\n",
    "    -----------\n",
    "    w_ : 1d-array\n",
    "      Weights after fitting.\n",
    "    cost_ : list\n",
    "      Sum-of-squares cost function value in each epoch.\n",
    "\n",
    "    \"\"\"\n",
    "    def __init__(self, eta = 0.01, n_iter = 50, random_state = 1):\n",
    "        self.eta = eta                   #權重改變比率\n",
    "        self.n_iter = n_iter             #經過幾次的計算\n",
    "        self.random_state = random_state #權重初始化亂數種子\n",
    "\n",
    "    def fit(self, X, y):\n",
    "        \"\"\" Fit training data.\n",
    "\n",
    "        Parameters\n",
    "        ----------\n",
    "        X : {array-like}, shape = [n_samples, n_features]\n",
    "          Training vectors, where n_samples is the number of samples and\n",
    "          n_features is the number of features.\n",
    "        y : array-like, shape = [n_samples]\n",
    "          Target values.\n",
    "\n",
    "        Returns\n",
    "        -------\n",
    "        self : object\n",
    "\n",
    "        \"\"\"\n",
    "        rgen = np.random.RandomState(self.random_state)                       #初始化權重\n",
    "        self.w_ = rgen.normal(loc = 0.0, scale = 0.01, size = 1 + X.shape[1]) #初始化權重個數 = w0 + 所有特徵\n",
    "        self.cost_ = []                                                       #每一round計算的所有成本\n",
    "\n",
    "        for i in range(self.n_iter):\n",
    "            net_input = self.net_input(X)                                     # 針對全部的資料進行預測值\n",
    "            # Please note that the \"activation\" method has no effect\n",
    "            # in the code since it is simply an identity function. We\n",
    "            # could write `output = self.net_input(X)` directly instead.\n",
    "            # The purpose of the activation is more conceptual, i.e.,  \n",
    "            # in the case of logistic regression (as we will see later), \n",
    "            # we could change it to\n",
    "            # a sigmoid function to implement a logistic regression classifier.\n",
    "            output = self.activation(net_input)                          # 經過啟動函數，這邊沒改變\n",
    "            errors = (y - output)                                        # 真正資料 & 預測的差距\n",
    "            self.w_[1:] += self.eta * X.T.dot(errors)                    # 產生對應特徵變更的權重 X=100,4, error=100,1\n",
    "            self.w_[0] += self.eta * errors.sum()                        # 產生w0變更的權重\n",
    "            cost = (errors ** 2).sum() / 2.0                             # 計算該次(round)的所有資料差距產生成本\n",
    "            self.cost_.append(cost)                                      # 針對該次產生成本加入變數\n",
    "            # <--- 最後三次 當連續三次 的訓練成本 到小數點下三位都一樣( 無條件捨去 )\n",
    "            if len(self.cost_) > 3 and (floor(self.cost_[-3] * 1000) / 1000.0 == \n",
    "                                        floor(self.cost_[-2] * 1000) / 1000.0 == \n",
    "                                        floor(self.cost_[-1] * 1000) / 1000.0):\n",
    "                print('Early Stopping', i)\n",
    "                break\n",
    "\n",
    "        return self\n",
    "\n",
    "    def net_input(self, X):\n",
    "        \"\"\"Calculate net input\"\"\"\n",
    "        return np.dot(X, self.w_[1:]) + self.w_[0]\n",
    "    # activation sigmoid\n",
    "    def logistic(self, X):\n",
    "        return(1 / (1 + np.exp(-1 * X)))\n",
    "    \n",
    "    def tanh(self, X):\n",
    "        return((np.exp(X) - np.exp(-1 * X)) / (np.exp(X) + np.exp(-1 * X)))\n",
    "\n",
    "    def relu(self, X):\n",
    "        return(np.where(X <= 0, 0, X))\n",
    "\n",
    "    def Leakyrelu(self, X):\n",
    "        return(np.where(X < 0, 0.01 * X, X))\n",
    "    \n",
    "    def activation(self, X):\n",
    "        \"\"\"Compute linear activation\"\"\"\n",
    "        # return self.logistic(X)\n",
    "        return X\n",
    "\n",
    "    def predict(self, X):\n",
    "        \"\"\"Return class label after unit step\"\"\"\n",
    "        return np.where(self.activation(self.net_input(X)) >= 0.0, 1, -1)"
   ]
  },
  {
   "cell_type": "code",
   "execution_count": 88,
   "id": "cbecbf4b",
   "metadata": {},
   "outputs": [
    {
     "data": {
      "text/plain": [
       "array([0, 2, 1, 0, 9])"
      ]
     },
     "execution_count": 88,
     "metadata": {},
     "output_type": "execute_result"
    }
   ],
   "source": [
    "# np.where\n",
    "import numpy as np\n",
    "test = np.array([-1, 2, 1, -3, 9])\n",
    "np.where(test <= 0, 0, test)"
   ]
  },
  {
   "cell_type": "code",
   "execution_count": 89,
   "id": "42f1df00",
   "metadata": {},
   "outputs": [
    {
     "data": {
      "text/plain": [
       "<__main__.AdalineGD at 0x1e65d657490>"
      ]
     },
     "execution_count": 89,
     "metadata": {},
     "output_type": "execute_result"
    }
   ],
   "source": [
    "model = AdalineGD(n_iter = 30, eta = 0.001) # <--改小\n",
    "model.fit(X, y)"
   ]
  },
  {
   "cell_type": "code",
   "execution_count": 90,
   "id": "57efe9ee",
   "metadata": {},
   "outputs": [
    {
     "data": {
      "text/plain": [
       "[7.28295837973198e+23,\n",
       " 6.926131949586687e+24,\n",
       " 6.586788126729736e+25,\n",
       " 6.264070355895678e+26,\n",
       " 5.957164048495436e+27]"
      ]
     },
     "execution_count": 90,
     "metadata": {},
     "output_type": "execute_result"
    }
   ],
   "source": [
    "# 如何讓程式碼自動停止，當連續三次的訓練成本到小數點下三位都一樣?\n",
    "model.cost_[-5:]"
   ]
  },
  {
   "cell_type": "code",
   "execution_count": 91,
   "id": "d1ec4390",
   "metadata": {},
   "outputs": [
    {
     "data": {
      "image/png": "[encoded data removed]",
      "text/plain": [
       "<Figure size 640x480 with 1 Axes>"
      ]
     },
     "metadata": {},
     "output_type": "display_data"
    }
   ],
   "source": [
    "# 畫圖 <--針對 model.cost_取log再畫圖\n",
    "\n",
    "import matplotlib.pyplot as plt\n",
    "plt.plot(model.cost_)\n",
    "plt.scatter(range(len(model.cost_)), model.cost_)\n",
    "plt.show()"
   ]
  },
  {
   "cell_type": "code",
   "execution_count": 92,
   "id": "cf1ad706",
   "metadata": {},
   "outputs": [
    {
     "data": {
      "image/png": "[encoded data removed]",
      "text/plain": [
       "<Figure size 640x480 with 1 Axes>"
      ]
     },
     "metadata": {},
     "output_type": "display_data"
    }
   ],
   "source": [
    "# 畫圖 <--針對 model.cost_取log再畫圖\n",
    "\n",
    "import matplotlib.pyplot as plt\n",
    "plt.plot(np.log(model.cost_))\n",
    "plt.scatter(range(len(model.cost_)), np.log(model.cost_))\n",
    "plt.show()"
   ]
  },
  {
   "cell_type": "markdown",
   "id": "05e5eea3",
   "metadata": {},
   "source": [
    "#### 啟動"
   ]
  },
  {
   "cell_type": "code",
   "execution_count": 101,
   "id": "21e77fba",
   "metadata": {},
   "outputs": [
    {
     "data": {
      "text/plain": [
       "dict_keys(['data', 'target', 'frame', 'target_names', 'DESCR', 'feature_names', 'filename', 'data_module'])"
      ]
     },
     "execution_count": 101,
     "metadata": {},
     "output_type": "execute_result"
    }
   ],
   "source": [
    "import numpy as np\n",
    "from sklearn import datasets\n",
    "iris = datasets.load_iris()\n",
    "iris.keys()"
   ]
  },
  {
   "cell_type": "code",
   "execution_count": 102,
   "id": "07bd1580",
   "metadata": {},
   "outputs": [
    {
     "data": {
      "text/plain": [
       "(array([[5.1, 3.5, 1.4, 0.2],\n",
       "        [4.9, 3. , 1.4, 0.2],\n",
       "        [4.7, 3.2, 1.3, 0.2]]),\n",
       " array([-1, -1, -1]))"
      ]
     },
     "execution_count": 102,
     "metadata": {},
     "output_type": "execute_result"
    }
   ],
   "source": [
    "X, y = iris.data[:100], np.where(iris.target[:100] > 0, 1, -1)\n",
    "X[:3], y[:3]"
   ]
  },
  {
   "cell_type": "code",
   "execution_count": 103,
   "id": "8841d6f4",
   "metadata": {},
   "outputs": [],
   "source": [
    "from math import floor\n",
    "import numpy as np\n",
    "class AdalineGD(object):\n",
    "    \"\"\"ADAptive LInear NEuron classifier.\n",
    "\n",
    "    Parameters\n",
    "    ------------\n",
    "    eta : float\n",
    "      Learning rate (between 0.0 and 1.0)\n",
    "    n_iter : int\n",
    "      Passes over the training dataset.\n",
    "    random_state : int\n",
    "      Random number generator seed for random weight\n",
    "      initialization.\n",
    "\n",
    "    Attributes\n",
    "    -----------\n",
    "    w_ : 1d-array\n",
    "      Weights after fitting.\n",
    "    cost_ : list\n",
    "      Sum-of-squares cost function value in each epoch.\n",
    "\n",
    "    \"\"\"\n",
    "    def __init__(self, eta = 0.01, n_iter = 50, random_state = 1):\n",
    "        self.eta = eta                   #權重改變比率\n",
    "        self.n_iter = n_iter             #經過幾次的計算\n",
    "        self.random_state = random_state #權重初始化亂數種子\n",
    "\n",
    "    def fit(self, X, y):\n",
    "        \"\"\" Fit training data.\n",
    "\n",
    "        Parameters\n",
    "        ----------\n",
    "        X : {array-like}, shape = [n_samples, n_features]\n",
    "          Training vectors, where n_samples is the number of samples and\n",
    "          n_features is the number of features.\n",
    "        y : array-like, shape = [n_samples]\n",
    "          Target values.\n",
    "\n",
    "        Returns\n",
    "        -------\n",
    "        self : object\n",
    "\n",
    "        \"\"\"\n",
    "        rgen = np.random.RandomState(self.random_state)                       #初始化權重\n",
    "        self.w_ = rgen.normal(loc = 0.0, scale = 0.01, size = 1 + X.shape[1]) #初始化權重個數 = w0 + 所有特徵\n",
    "        self.cost_ = []                                                       #每一round計算的所有成本\n",
    "\n",
    "        for i in range(self.n_iter):\n",
    "            net_input = self.net_input(X)                                     # 針對全部的資料進行預測值\n",
    "            # Please note that the \"activation\" method has no effect\n",
    "            # in the code since it is simply an identity function. We\n",
    "            # could write `output = self.net_input(X)` directly instead.\n",
    "            # The purpose of the activation is more conceptual, i.e.,  \n",
    "            # in the case of logistic regression (as we will see later), \n",
    "            # we could change it to\n",
    "            # a sigmoid function to implement a logistic regression classifier.\n",
    "            output = self.activation(net_input)                          # 經過啟動函數，這邊沒改變\n",
    "            errors = (y - output)                                        # 真正資料 & 預測的差距\n",
    "            self.w_[1:] += self.eta * X.T.dot(errors)                    # 產生對應特徵變更的權重 X=100,4, error=100,1\n",
    "            self.w_[0] += self.eta * errors.sum()                        # 產生w0變更的權重\n",
    "            cost = (errors ** 2).sum() / 2.0                             # 計算該次(round)的所有資料差距產生成本\n",
    "            self.cost_.append(cost)                                      # 針對該次產生成本加入變數\n",
    "            # <--- 最後三次 當連續三次 的訓練成本 到小數點下三位都一樣( 無條件捨去 )\n",
    "            if len(self.cost_) > 3 and (floor(self.cost_[-3] * 1000) / 1000.0 == \n",
    "                                        floor(self.cost_[-2] * 1000) / 1000.0 == \n",
    "                                        floor(self.cost_[-1] * 1000) / 1000.0):\n",
    "                print('Early Stopping', i)\n",
    "                break\n",
    "\n",
    "        return self\n",
    "\n",
    "    def net_input(self, X):\n",
    "        \"\"\"Calculate net input\"\"\"\n",
    "        return np.dot(X, self.w_[1:]) + self.w_[0]\n",
    "    # activation sigmoid\n",
    "    def logistic(self, X):\n",
    "        return(1 / (1 + np.exp(-1 * X)))\n",
    "    \n",
    "    def tanh(self, X):\n",
    "        return((np.exp(X) - np.exp(-1 * X)) / (np.exp(X) + np.exp(-1 * X)))\n",
    "\n",
    "    def relu(self, X):\n",
    "        return(np.where(X <= 0, 0, X))\n",
    "\n",
    "    def Leakyrelu(self, X):\n",
    "        return(np.where(X < 0, 0.01 * X, X))\n",
    "    \n",
    "    def activation(self, X):\n",
    "        \"\"\"Compute linear activation\"\"\"\n",
    "        return self.tanh(X)\n",
    "        return X\n",
    "\n",
    "    def predict(self, X):\n",
    "        \"\"\"Return class label after unit step\"\"\"\n",
    "        return np.where(self.activation(self.net_input(X)) >= 0.0, 1, -1)"
   ]
  },
  {
   "cell_type": "code",
   "execution_count": 104,
   "id": "ef8ccd5b",
   "metadata": {},
   "outputs": [
    {
     "data": {
      "text/plain": [
       "array([0, 2, 1, 0, 9])"
      ]
     },
     "execution_count": 104,
     "metadata": {},
     "output_type": "execute_result"
    }
   ],
   "source": [
    "# np.where\n",
    "import numpy as np\n",
    "test = np.array([-1, 2, 1, -3, 9])\n",
    "np.where(test <= 0, 0, test)"
   ]
  },
  {
   "cell_type": "code",
   "execution_count": 105,
   "id": "78c96fa7",
   "metadata": {},
   "outputs": [
    {
     "data": {
      "text/plain": [
       "<__main__.AdalineGD at 0x1e669aec1c0>"
      ]
     },
     "execution_count": 105,
     "metadata": {},
     "output_type": "execute_result"
    }
   ],
   "source": [
    "model = AdalineGD(n_iter = 30, eta = 0.001)\n",
    "model.fit(X, y)"
   ]
  },
  {
   "cell_type": "code",
   "execution_count": 106,
   "id": "7d7b85d3",
   "metadata": {},
   "outputs": [
    {
     "data": {
      "text/plain": [
       "[0.4098971438038821,\n",
       " 0.39617105917262024,\n",
       " 0.3831984027737776,\n",
       " 0.3709228465328457,\n",
       " 0.35929332908037637]"
      ]
     },
     "execution_count": 106,
     "metadata": {},
     "output_type": "execute_result"
    }
   ],
   "source": [
    "# 如何讓程式碼自動停止，當連續三次的訓練成本到小數點下三位都一樣?\n",
    "model.cost_[-5:]"
   ]
  },
  {
   "cell_type": "code",
   "execution_count": 107,
   "id": "99da74fc",
   "metadata": {},
   "outputs": [
    {
     "data": {
      "image/png": "[encoded data removed]",
      "text/plain": [
       "<Figure size 640x480 with 1 Axes>"
      ]
     },
     "metadata": {},
     "output_type": "display_data"
    }
   ],
   "source": [
    "# 畫圖 <--針對 model.cost_取log再畫圖\n",
    "\n",
    "import matplotlib.pyplot as plt\n",
    "plt.plot(model.cost_)\n",
    "plt.scatter(range(len(model.cost_)), model.cost_)\n",
    "plt.show()"
   ]
  },
  {
   "cell_type": "code",
   "execution_count": 108,
   "id": "3e59c1e3",
   "metadata": {},
   "outputs": [
    {
     "data": {
      "image/png": "[encoded data removed]",
      "text/plain": [
       "<Figure size 640x480 with 1 Axes>"
      ]
     },
     "metadata": {},
     "output_type": "display_data"
    }
   ],
   "source": [
    "# 畫圖 <--針對 model.cost_取log再畫圖\n",
    "\n",
    "import matplotlib.pyplot as plt\n",
    "plt.plot(np.log(model.cost_))\n",
    "plt.scatter(range(len(model.cost_)), np.log(model.cost_))\n",
    "plt.show()"
   ]
  }
 ],
 "metadata": {
  "kernelspec": {
   "display_name": "Python 3 (ipykernel)",
   "language": "python",
   "name": "python3"
  },
  "language_info": {
   "codemirror_mode": {
    "name": "ipython",
    "version": 3
   },
   "file_extension": ".py",
   "mimetype": "text/x-python",
   "name": "python",
   "nbconvert_exporter": "python",
   "pygments_lexer": "ipython3",
   "version": "3.10.7"
  }
 },
 "nbformat": 4,
 "nbformat_minor": 5
}
