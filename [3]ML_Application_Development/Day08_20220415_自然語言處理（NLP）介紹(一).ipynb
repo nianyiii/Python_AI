{
 "cells": [
  {
   "cell_type": "markdown",
   "id": "c91fbe3e",
   "metadata": {},
   "source": [
    "## Segmentation"
   ]
  },
  {
   "cell_type": "code",
   "execution_count": 2,
   "id": "cf518849",
   "metadata": {},
   "outputs": [
    {
     "name": "stdout",
     "output_type": "stream",
     "text": [
      "Collecting nltk\n",
      "  Downloading nltk-3.8.1-py3-none-any.whl (1.5 MB)\n",
      "     ---------------------------------------- 1.5/1.5 MB 1.8 MB/s eta 0:00:00\n",
      "Collecting regex>=2021.8.3\n",
      "  Downloading regex-2023.3.23-cp310-cp310-win_amd64.whl (267 kB)\n",
      "     -------------------------------------- 267.9/267.9 kB 2.8 MB/s eta 0:00:00\n",
      "Requirement already satisfied: tqdm in c:\\python310\\lib\\site-packages (from nltk) (4.65.0)\n",
      "Requirement already satisfied: joblib in c:\\python310\\lib\\site-packages (from nltk) (1.2.0)\n",
      "Collecting click\n",
      "  Downloading click-8.1.3-py3-none-any.whl (96 kB)\n",
      "     ---------------------------------------- 96.6/96.6 kB 2.8 MB/s eta 0:00:00\n",
      "Requirement already satisfied: colorama in c:\\python310\\lib\\site-packages (from click->nltk) (0.4.5)\n",
      "Installing collected packages: regex, click, nltk\n",
      "Successfully installed click-8.1.3 nltk-3.8.1 regex-2023.3.23\n"
     ]
    }
   ],
   "source": [
    "!pip install nltk"
   ]
  },
  {
   "cell_type": "code",
   "execution_count": 3,
   "id": "7ce82649",
   "metadata": {},
   "outputs": [
    {
     "name": "stderr",
     "output_type": "stream",
     "text": [
      "[nltk_data] Downloading package punkt to\n",
      "[nltk_data]     C:\\Users\\User\\AppData\\Roaming\\nltk_data...\n",
      "[nltk_data]   Unzipping tokenizers\\punkt.zip.\n"
     ]
    },
    {
     "data": {
      "text/plain": [
       "True"
      ]
     },
     "execution_count": 3,
     "metadata": {},
     "output_type": "execute_result"
    }
   ],
   "source": [
    "import nltk\n",
    "nltk.download('punkt')"
   ]
  },
  {
   "cell_type": "code",
   "execution_count": 4,
   "id": "90ef0703",
   "metadata": {},
   "outputs": [
    {
     "data": {
      "image/png": "[encoded data removed]",
      "text/plain": [
       "<Figure size 640x480 with 1 Axes>"
      ]
     },
     "metadata": {},
     "output_type": "display_data"
    },
    {
     "data": {
      "text/plain": [
       "<AxesSubplot:xlabel='Samples', ylabel='Counts'>"
      ]
     },
     "execution_count": 4,
     "metadata": {},
     "output_type": "execute_result"
    }
   ],
   "source": [
    "from nltk.tokenize import word_tokenize\n",
    "\n",
    "# 測試字句\n",
    "sent = \"the the the dog, dog some other words that we do not care about\"\n",
    "\n",
    "# 取出每個單字\n",
    "list = [word for word in word_tokenize(sent)]\n",
    "# 得到結果為 ['the', 'the', 'the', 'dog', ',', 'dog', 'some', 'other', 'words', 'that', 'we', 'do', 'not', 'care', 'about']\n",
    "\n",
    "# 去除重複，並排序\n",
    "vacabulary = sorted(set(list)) \n",
    "# 得到結果為 [',', 'about', 'care', 'do', 'dog', 'not', 'other', 'some', 'that', 'the', 'we', 'words']\n",
    "\n",
    "# 求得每個單字的出現頻率\n",
    "import nltk\n",
    "freq = nltk.FreqDist(list)\n",
    "# 得到結果為 FreqDist({'the': 3, 'dog': 2, 'care': 1, 'some': 1, 'other': 1, ',': 1, 'we': 1, 'that': 1, 'words': 1, 'about': 1, ...})\n",
    "\n",
    "# 作圖\n",
    "freq.plot()"
   ]
  },
  {
   "cell_type": "code",
   "execution_count": 5,
   "id": "519c336a",
   "metadata": {},
   "outputs": [
    {
     "name": "stdout",
     "output_type": "stream",
     "text": [
      "['dog', 'dog', 'some', 'other', 'words', 'that', 'we', 'do', 'not', 'care', 'about']\n"
     ]
    }
   ],
   "source": [
    "stopwords = [\",\", \"the\"]\n",
    "\n",
    "# 去除 Stop Words\n",
    "list = [word for word in word_tokenize(sent) if word not in stopwords]\n",
    "# 得到結果為 ['dog', 'dog', 'some', 'other', 'words', 'that', 'we', 'do', 'not', 'care', 'about']\n",
    "print(list)"
   ]
  },
  {
   "cell_type": "code",
   "execution_count": 6,
   "id": "8053fe08",
   "metadata": {},
   "outputs": [
    {
     "name": "stderr",
     "output_type": "stream",
     "text": [
      "[nltk_data] Downloading package wordnet to\n",
      "[nltk_data]     C:\\Users\\User\\AppData\\Roaming\\nltk_data...\n"
     ]
    },
    {
     "data": {
      "text/plain": [
       "True"
      ]
     },
     "execution_count": 6,
     "metadata": {},
     "output_type": "execute_result"
    }
   ],
   "source": [
    "import nltk\n",
    "nltk.download('wordnet')"
   ]
  },
  {
   "cell_type": "code",
   "execution_count": 7,
   "id": "ede7bce8",
   "metadata": {},
   "outputs": [
    {
     "name": "stdout",
     "output_type": "stream",
     "text": [
      "eat\n",
      "good\n",
      "dog\n"
     ]
    }
   ],
   "source": [
    "# 載入WordNet語料庫\n",
    "from nltk.stem import WordNetLemmatizer\n",
    "wnl = WordNetLemmatizer()\n",
    "\n",
    "# 要指定單字詞性(pos)\n",
    "print(wnl.lemmatize('ate', pos = 'v')) # 得到eat\n",
    "print(wnl.lemmatize('better', pos = 'a')) # 得到good\n",
    "print(wnl.lemmatize('dogs')) # 得到dog\n",
    "\n",
    "# 若要自動取得單字詞性(pos)，請參考 http://www.zmonster.me/2016/01/21/lemmatization-survey.html。"
   ]
  },
  {
   "cell_type": "markdown",
   "id": "4c02a7ed",
   "metadata": {},
   "source": [
    "## Part of Speech"
   ]
  },
  {
   "cell_type": "code",
   "execution_count": 8,
   "id": "82bc07bb",
   "metadata": {},
   "outputs": [
    {
     "name": "stderr",
     "output_type": "stream",
     "text": [
      "[nltk_data] Downloading package punkt to\n",
      "[nltk_data]     C:\\Users\\User\\AppData\\Roaming\\nltk_data...\n",
      "[nltk_data]   Package punkt is already up-to-date!\n",
      "[nltk_data] Downloading package maxent_ne_chunker to\n",
      "[nltk_data]     C:\\Users\\User\\AppData\\Roaming\\nltk_data...\n",
      "[nltk_data]   Unzipping chunkers\\maxent_ne_chunker.zip.\n",
      "[nltk_data] Downloading package averaged_perceptron_tagger to\n",
      "[nltk_data]     C:\\Users\\User\\AppData\\Roaming\\nltk_data...\n",
      "[nltk_data]   Unzipping taggers\\averaged_perceptron_tagger.zip.\n",
      "[nltk_data] Downloading package words to\n",
      "[nltk_data]     C:\\Users\\User\\AppData\\Roaming\\nltk_data...\n",
      "[nltk_data]   Unzipping corpora\\words.zip.\n",
      "[nltk_data] Downloading package ieer to\n",
      "[nltk_data]     C:\\Users\\User\\AppData\\Roaming\\nltk_data...\n",
      "[nltk_data]   Unzipping corpora\\ieer.zip.\n"
     ]
    },
    {
     "data": {
      "text/plain": [
       "True"
      ]
     },
     "execution_count": 8,
     "metadata": {},
     "output_type": "execute_result"
    }
   ],
   "source": [
    "import nltk\n",
    "nltk.download('punkt')\n",
    "nltk.download('maxent_ne_chunker')\n",
    "nltk.download('averaged_perceptron_tagger')\n",
    "nltk.download('words')\n",
    "nltk.download('ieer')"
   ]
  },
  {
   "cell_type": "code",
   "execution_count": 9,
   "id": "2a2844f4",
   "metadata": {},
   "outputs": [
    {
     "name": "stdout",
     "output_type": "stream",
     "text": [
      "(S\n",
      "  (PERSON Mark/NNP)\n",
      "  is/VBZ\n",
      "  studying/VBG\n",
      "  at/IN\n",
      "  (ORGANIZATION Stanford/NNP University/NNP)\n",
      "  in/IN\n",
      "  (GPE California/NNP))\n",
      "NER...........\n",
      "[ORG: 'WHYY'] 'in' [LOC: 'Philadelphia']\n",
      "[ORG: 'McGlashan &AMP; Sarrail'] 'firm in' [LOC: 'San Mateo']\n",
      "[ORG: 'Freedom Forum'] 'in' [LOC: 'Arlington']\n",
      "[ORG: 'Brookings Institution'] ', the research group in' [LOC: 'Washington']\n",
      "[ORG: 'Idealab'] ', a self-described business incubator based in' [LOC: 'Los Angeles']\n",
      "[ORG: 'Open Text'] ', based in' [LOC: 'Waterloo']\n",
      "[ORG: 'WGBH'] 'in' [LOC: 'Boston']\n",
      "[ORG: 'Bastille Opera'] 'in' [LOC: 'Paris']\n",
      "[ORG: 'Omnicom'] 'in' [LOC: 'New York']\n",
      "[ORG: 'DDB Needham'] 'in' [LOC: 'New York']\n",
      "[ORG: 'Kaplan Thaler Group'] 'in' [LOC: 'New York']\n",
      "[ORG: 'BBDO South'] 'in' [LOC: 'Atlanta']\n",
      "[ORG: 'Georgia-Pacific'] 'in' [LOC: 'Atlanta']\n"
     ]
    }
   ],
   "source": [
    "import nltk\n",
    "from nltk import ne_chunk\n",
    "from nltk import word_tokenize\n",
    "\n",
    "sent = \"Mark is studying at Stanford University in California\"\n",
    "# 取得詞性，並辨識 命名實體識別\n",
    "print(ne_chunk(nltk.pos_tag(word_tokenize(sent)), binary = False))\n",
    "\n",
    "# download NLTK語料庫 -> NYT_19980315\n",
    "print(\"NER...........\")\n",
    "import re\n",
    "IN = re.compile(r'.*\\bin\\b(?!\\b.+ing)')\n",
    "for doc in nltk.corpus.ieer.parsed_docs('NYT_19980315'):\n",
    "    for rel in nltk.sem.extract_rels('ORG', 'LOC', doc, corpus = 'ieer', pattern = IN):\n",
    "        print(nltk.sem.rtuple(rel))"
   ]
  },
  {
   "cell_type": "markdown",
   "id": "494bff65",
   "metadata": {},
   "source": [
    "## Bag of Word"
   ]
  },
  {
   "cell_type": "code",
   "execution_count": 1,
   "id": "edacc5b5",
   "metadata": {},
   "outputs": [
    {
     "name": "stdout",
     "output_type": "stream",
     "text": [
      "max_len  1000\n",
      "nb_words  658\n",
      "[('google', 18), ('ai', 14), ('data', 13), ('google’s', 12), ('medical', 12), ('health', 9), ('patient', 8), ('company', 6), ('health-care', 6), ('information', 6)]\n"
     ]
    }
   ],
   "source": [
    "import collections\n",
    "\n",
    "maxlen = 1000\n",
    "MAX_FEATURES = 10\n",
    "stop_words = ['the', 'to', 'a', 'and', 'of', 'in', 'on', 'for',\n",
    "              'that', 'with', 'is', 'as', 'could', 'its', 'this',\n",
    "              'other', 'an', 'have', 'more', 'at',]\n",
    "word_freqs = collections.Counter()\n",
    "with open('./news.txt', 'r+', encoding = 'UTF-8') as f:\n",
    "    for line in f:\n",
    "        words = line.lower().split(' ')\n",
    "        if len(words) > maxlen:\n",
    "            maxlen = len(words)\n",
    "        for word in words:\n",
    "            if not (word in stop_words):\n",
    "                word_freqs[word] += 1\n",
    "\n",
    "print('max_len ', maxlen)\n",
    "print('nb_words ', len(word_freqs))\n",
    "print(word_freqs.most_common(MAX_FEATURES))"
   ]
  },
  {
   "cell_type": "markdown",
   "id": "171c72da",
   "metadata": {},
   "source": [
    "## TF-IDF(Term Frequency-Inverse Document Frequency)"
   ]
  },
  {
   "cell_type": "code",
   "execution_count": 11,
   "id": "8be899a4",
   "metadata": {},
   "outputs": [
    {
     "name": "stdout",
     "output_type": "stream",
     "text": [
      "(4, 11)\n",
      "['blue' 'bright' 'can' 'in' 'is' 'see' 'shining' 'sky' 'sun' 'the' 'we']\n",
      "[[0.65919112 0.         0.         0.         0.42075315 0.\n",
      "  0.         0.51971385 0.         0.34399327 0.        ]\n",
      " [0.         0.52210862 0.         0.         0.52210862 0.\n",
      "  0.         0.         0.52210862 0.42685801 0.        ]\n",
      " [0.         0.3218464  0.         0.50423458 0.3218464  0.\n",
      "  0.         0.39754433 0.3218464  0.52626104 0.        ]\n",
      " [0.         0.23910199 0.37459947 0.         0.         0.37459947\n",
      "  0.37459947 0.         0.47820398 0.39096309 0.37459947]]\n"
     ]
    }
   ],
   "source": [
    "documents = (\n",
    "\"The sky is blue\",\n",
    "\"The sun is bright\",\n",
    "\"The sun in the sky is bright\",\n",
    "\"We can see the shining sun, the bright sun\"\n",
    ")\n",
    "\n",
    "from sklearn.feature_extraction.text import TfidfVectorizer\n",
    "tfidf_vectorizer = TfidfVectorizer()\n",
    "tfidf_matrix = tfidf_vectorizer.fit_transform(documents)\n",
    "print(tfidf_matrix.shape)\n",
    "print(tfidf_vectorizer.get_feature_names_out())\n",
    "print(tfidf_matrix.toarray())"
   ]
  },
  {
   "cell_type": "code",
   "execution_count": 12,
   "id": "8d60c939",
   "metadata": {},
   "outputs": [
    {
     "name": "stdout",
     "output_type": "stream",
     "text": [
      "[[1.         0.36651513 0.52305744 0.13448867]]\n"
     ]
    }
   ],
   "source": [
    "from sklearn.metrics.pairwise import cosine_similarity\n",
    "print (cosine_similarity(tfidf_matrix[0], tfidf_matrix))"
   ]
  },
  {
   "cell_type": "code",
   "execution_count": 13,
   "id": "3faee5d6",
   "metadata": {},
   "outputs": [
    {
     "name": "stdout",
     "output_type": "stream",
     "text": [
      "180.0\n"
     ]
    }
   ],
   "source": [
    "# 徑度換算成角度\n",
    "\n",
    "import math\n",
    "# This was already calculated on the previous step, so we just use the value\n",
    "cos_sim = -1\n",
    "angle_in_radians = math.acos(cos_sim)\n",
    "print(math.degrees(angle_in_radians))"
   ]
  },
  {
   "cell_type": "markdown",
   "id": "2fa7bc93",
   "metadata": {},
   "source": [
    "## GloVe-6B-100d\n",
    "glove.6B.100d.txt資料檔  \n",
    "6B -> 使用60億Token語料庫訓練(共包含40K字彙)  \n",
    "100d -> 100個維度"
   ]
  },
  {
   "cell_type": "code",
   "execution_count": 2,
   "id": "5c72359a",
   "metadata": {},
   "outputs": [],
   "source": [
    "with open('glove.6B.100d.txt', mode = 'r', encoding = 'utf-8-sig') as f:\n",
    "    data = f.readlines()"
   ]
  },
  {
   "cell_type": "code",
   "execution_count": 3,
   "id": "e56402b5",
   "metadata": {},
   "outputs": [
    {
     "data": {
      "text/plain": [
       "400000"
      ]
     },
     "execution_count": 3,
     "metadata": {},
     "output_type": "execute_result"
    }
   ],
   "source": [
    "# check all of lines\n",
    "len(data)"
   ]
  },
  {
   "cell_type": "code",
   "execution_count": 4,
   "id": "05782125",
   "metadata": {},
   "outputs": [
    {
     "data": {
      "text/plain": [
       "('working', 100)"
      ]
     },
     "execution_count": 4,
     "metadata": {},
     "output_type": "execute_result"
    }
   ],
   "source": [
    "idx = 500\n",
    "data[idx].replace('\\n', '').split(' ')[0], \\\n",
    "len(data[idx].replace('\\n', '').split(' ')[1:]), "
   ]
  },
  {
   "cell_type": "markdown",
   "id": "a4ee4cde",
   "metadata": {},
   "source": [
    "## Sklearn-countervector-中文斷詞切字"
   ]
  },
  {
   "cell_type": "code",
   "execution_count": 1,
   "id": "f80539d5",
   "metadata": {},
   "outputs": [
    {
     "name": "stdout",
     "output_type": "stream",
     "text": [
      "Collecting jieba\n",
      "  Downloading jieba-0.42.1.tar.gz (19.2 MB)\n",
      "     ---------------------------------------- 19.2/19.2 MB 7.0 MB/s eta 0:00:00\n",
      "  Preparing metadata (setup.py): started\n",
      "  Preparing metadata (setup.py): finished with status 'done'\n",
      "Building wheels for collected packages: jieba\n",
      "  Building wheel for jieba (setup.py): started\n",
      "  Building wheel for jieba (setup.py): finished with status 'done'\n",
      "  Created wheel for jieba: filename=jieba-0.42.1-py3-none-any.whl size=19314474 sha256=9b0afc689c33e5a169f13a9c72ae89977bb69baf6ef5eebae8446cd93f5bf67c\n",
      "  Stored in directory: c:\\users\\user\\appdata\\local\\pip\\cache\\wheels\\c9\\69\\31\\d56d90b22a1777b0b231e234b00302a55be255930f8bd92dcd\n",
      "Successfully built jieba\n",
      "Installing collected packages: jieba\n",
      "Successfully installed jieba-0.42.1\n"
     ]
    }
   ],
   "source": [
    "!pip install jieba"
   ]
  },
  {
   "cell_type": "code",
   "execution_count": 2,
   "id": "941593e1",
   "metadata": {},
   "outputs": [
    {
     "name": "stderr",
     "output_type": "stream",
     "text": [
      "Building prefix dict from the default dictionary ...\n",
      "Dumping model to file cache C:\\Users\\User\\AppData\\Local\\Temp\\jieba.cache\n",
      "Loading model cost 0.960 seconds.\n",
      "Prefix dict has been built successfully.\n"
     ]
    },
    {
     "data": {
      "text/plain": [
       "['MSN',\n",
       " '是',\n",
       " '由',\n",
       " '微軟',\n",
       " '公司',\n",
       " '架設',\n",
       " '的',\n",
       " '入口',\n",
       " '網站',\n",
       " '及',\n",
       " '資訊',\n",
       " '服務',\n",
       " '，',\n",
       " '於',\n",
       " '1995',\n",
       " '年',\n",
       " '8',\n",
       " '月',\n",
       " '24',\n",
       " '日',\n",
       " '首度',\n",
       " '以',\n",
       " '網際',\n",
       " '網路',\n",
       " '服務供',\n",
       " '應商',\n",
       " '隨著',\n",
       " 'Windows',\n",
       " ' ',\n",
       " '95',\n",
       " '一起',\n",
       " '問世']"
      ]
     },
     "execution_count": 2,
     "metadata": {},
     "output_type": "execute_result"
    }
   ],
   "source": [
    "import jieba\n",
    "# list(jieba.cut(sentence = '這是第一篇文章.'))\n",
    "corpus = '''MSN是由微軟公司架設的入口網站及資訊服務，於1995年8月24日首度以網際網路服務供應商隨著Windows 95一起問世'''\n",
    "list(jieba.cut(sentence = corpus))"
   ]
  },
  {
   "cell_type": "code",
   "execution_count": 3,
   "id": "01d9789d",
   "metadata": {},
   "outputs": [
    {
     "data": {
      "text/plain": [
       "array(['並且', '嗎', '文章', '是', '第一篇', '第三篇', '第二篇', '這', '這是'], dtype='<U3')"
      ]
     },
     "execution_count": 3,
     "metadata": {},
     "output_type": "execute_result"
    }
   ],
   "source": [
    "from sklearn.feature_extraction.text import CountVectorizer\n",
    "import numpy as np\n",
    "corpus = [\n",
    "    '這是第一篇文章',\n",
    "    '這文章是第二篇',\n",
    "    '並且這是第三篇',\n",
    "    '這是第一篇文章嗎',\n",
    "]\n",
    "words = []\n",
    "for c in corpus :\n",
    "    words.extend(list(jieba.cut(sentence = c )))\n",
    "np.unique(words)"
   ]
  },
  {
   "cell_type": "code",
   "execution_count": 4,
   "id": "c7e325ad",
   "metadata": {},
   "outputs": [
    {
     "data": {
      "text/plain": [
       "['這是', '第一篇', '文章', ' ', 'Microsoft', ' ', 'windows', ' ', '10']"
      ]
     },
     "execution_count": 4,
     "metadata": {},
     "output_type": "execute_result"
    }
   ],
   "source": [
    "# 手動轉換成 \n",
    "# Sentence to vector \n",
    "# [[0 1 1 1 0 0 1 0 1]\n",
    "#  [0 2 0 1 0 1 1 0 1]\n",
    "#  [1 0 0 1 1 0 1 1 1]\n",
    "#  [0 1 1 1 0 0 1 0 1]]\n",
    "\n",
    "list(jieba.cut(sentence = '這是第一篇文章 Microsoft windows 10'))"
   ]
  },
  {
   "cell_type": "code",
   "execution_count": 5,
   "id": "68648f9d",
   "metadata": {},
   "outputs": [
    {
     "data": {
      "text/plain": [
       "array([[0, 0, 1, 0, 1, 0, 0, 0, 1],\n",
       "       [0, 0, 1, 1, 0, 0, 1, 1, 0],\n",
       "       [1, 0, 0, 0, 0, 1, 0, 0, 1],\n",
       "       [0, 1, 1, 0, 1, 0, 0, 0, 1]])"
      ]
     },
     "execution_count": 5,
     "metadata": {},
     "output_type": "execute_result"
    }
   ],
   "source": [
    "# ['這是', '第一篇', '文章'] \n",
    "# ['並且', '嗎', '文章', '是', '第一篇', '第三篇', '第二篇', '這', '這是']\n",
    "# [ 0   ,   0,    1,     0,    1,        0,       0,        0,   1]\n",
    "zh_all = np.unique( words )\n",
    "zh_cv = np.zeros([4, 9]).astype('int')\n",
    "\n",
    "# 字頻分析表\n",
    "# 從文章中取出每一kk=序號，vv=每一條文章內容\n",
    "for kk,vv in enumerate(corpus):\n",
    "    # 針對vv，每一個文章內容去切字\n",
    "    for v in list(jieba.cut(sentence = vv)):\n",
    "        # 針對每一個單字進行轉換1 \n",
    "        pos = np.where(zh_all == v)\n",
    "        zh_cv[kk, pos] = 1\n",
    "zh_cv"
   ]
  },
  {
   "cell_type": "code",
   "execution_count": 6,
   "id": "d299d0ce",
   "metadata": {},
   "outputs": [
    {
     "name": "stdout",
     "output_type": "stream",
     "text": [
      "(0, 5)\n",
      "(1, 6)\n",
      "(2, 7)\n"
     ]
    }
   ],
   "source": [
    "# enumerate\n",
    "for i in enumerate(range(5, 8)):\n",
    "    print(i)"
   ]
  },
  {
   "cell_type": "code",
   "execution_count": 7,
   "id": "88f256c2",
   "metadata": {},
   "outputs": [
    {
     "data": {
      "text/plain": [
       "array([[0, 0, 1, 0, 1, 0, 0, 0, 1],\n",
       "       [0, 0, 1, 1, 0, 0, 1, 1, 0],\n",
       "       [1, 0, 0, 0, 0, 1, 0, 0, 1],\n",
       "       [0, 1, 1, 0, 1, 0, 0, 0, 1]])"
      ]
     },
     "execution_count": 7,
     "metadata": {},
     "output_type": "execute_result"
    }
   ],
   "source": [
    "zh_cv"
   ]
  },
  {
   "cell_type": "code",
   "execution_count": 8,
   "id": "740ab555",
   "metadata": {},
   "outputs": [
    {
     "data": {
      "text/plain": [
       "array([1.        , 0.28867513, 0.33333333, 0.8660254 ])"
      ]
     },
     "execution_count": 8,
     "metadata": {},
     "output_type": "execute_result"
    }
   ],
   "source": [
    "from sklearn.metrics.pairwise import cosine_similarity\n",
    "cosine_similarity(zh_cv[0].reshape(1, -1), zh_cv).ravel()"
   ]
  },
  {
   "cell_type": "code",
   "execution_count": 9,
   "id": "67f2bdf9",
   "metadata": {},
   "outputs": [
    {
     "name": "stdout",
     "output_type": "stream",
     "text": [
      "['這是 第一篇 文章', '這 文章 是 第二篇', '並且 這是 第三篇', '這是 第一篇 文章 嗎']\n"
     ]
    }
   ],
   "source": [
    "from sklearn.feature_extraction.text import CountVectorizer\n",
    "import numpy as np\n",
    "\n",
    "corpus = [\n",
    "    '這是第一篇文章',\n",
    "    '這文章是第二篇',\n",
    "    '並且這是第三篇',\n",
    "    '這是第一篇文章嗎',\n",
    "]\n",
    "words = []\n",
    "for c in corpus :\n",
    "    words.append(' '.join(list(jieba.cut(sentence = c ))))\n",
    "\n",
    "print(words)"
   ]
  },
  {
   "cell_type": "code",
   "execution_count": 10,
   "id": "8c1a3d08",
   "metadata": {},
   "outputs": [
    {
     "data": {
      "text/plain": [
       "array([[0.        , 0.        , 0.53256952, 0.        , 0.65782931,\n",
       "        0.        , 0.        , 0.        , 0.53256952],\n",
       "       [0.        , 0.        , 0.34578314, 0.5417361 , 0.        ,\n",
       "        0.        , 0.5417361 , 0.5417361 , 0.        ],\n",
       "       [0.64450299, 0.        , 0.        , 0.        , 0.        ,\n",
       "        0.64450299, 0.        , 0.        , 0.41137791],\n",
       "       [0.        , 0.64065543, 0.40892206, 0.        , 0.5051001 ,\n",
       "        0.        , 0.        , 0.        , 0.40892206]])"
      ]
     },
     "execution_count": 10,
     "metadata": {},
     "output_type": "execute_result"
    }
   ],
   "source": [
    "from sklearn.feature_extraction.text import TfidfTransformer\n",
    "transformer = TfidfTransformer()\n",
    "tfidf = transformer.fit_transform(zh_cv)\n",
    "tfidf.toarray().shape # 四篇文章所有的單字 \n",
    "tfidf.toarray() # 該部分類似CountVectorizer()，顯示單字出現的頻率，加上權重"
   ]
  },
  {
   "cell_type": "code",
   "execution_count": 11,
   "id": "b5cb04b5",
   "metadata": {},
   "outputs": [
    {
     "data": {
      "text/plain": [
       "array([1.        , 0.18415356, 0.21908734, 0.76782851])"
      ]
     },
     "execution_count": 11,
     "metadata": {},
     "output_type": "execute_result"
    }
   ],
   "source": [
    "base = 0\n",
    "similarity_subject = np.array(cosine_similarity(tfidf[base], tfidf)).ravel()\n",
    "similarity_subject\n",
    "# array([1.        , 0.28867513, 0.33333333, 0.8660254 ])"
   ]
  },
  {
   "cell_type": "markdown",
   "id": "64e74df6",
   "metadata": {},
   "source": [
    "## WordCloud"
   ]
  },
  {
   "cell_type": "code",
   "execution_count": 12,
   "id": "a05b164f",
   "metadata": {},
   "outputs": [
    {
     "name": "stdout",
     "output_type": "stream",
     "text": [
      "Collecting wordcloud\n",
      "  Downloading wordcloud-1.8.2.2-cp310-cp310-win_amd64.whl (153 kB)\n",
      "     -------------------------------------- 153.1/153.1 kB 1.3 MB/s eta 0:00:00\n",
      "Requirement already satisfied: matplotlib in c:\\python310\\lib\\site-packages (from wordcloud) (3.5.3)\n",
      "Requirement already satisfied: numpy>=1.6.1 in c:\\python310\\lib\\site-packages (from wordcloud) (1.23.3)\n",
      "Requirement already satisfied: pillow in c:\\python310\\lib\\site-packages (from wordcloud) (9.2.0)\n",
      "Requirement already satisfied: cycler>=0.10 in c:\\python310\\lib\\site-packages (from matplotlib->wordcloud) (0.11.0)\n",
      "Requirement already satisfied: pyparsing>=2.2.1 in c:\\python310\\lib\\site-packages (from matplotlib->wordcloud) (3.0.9)\n",
      "Requirement already satisfied: kiwisolver>=1.0.1 in c:\\python310\\lib\\site-packages (from matplotlib->wordcloud) (1.4.4)\n",
      "Requirement already satisfied: fonttools>=4.22.0 in c:\\python310\\lib\\site-packages (from matplotlib->wordcloud) (4.37.1)\n",
      "Requirement already satisfied: packaging>=20.0 in c:\\python310\\lib\\site-packages (from matplotlib->wordcloud) (21.3)\n",
      "Requirement already satisfied: python-dateutil>=2.7 in c:\\python310\\lib\\site-packages (from matplotlib->wordcloud) (2.8.2)\n",
      "Requirement already satisfied: six>=1.5 in c:\\python310\\lib\\site-packages (from python-dateutil>=2.7->matplotlib->wordcloud) (1.16.0)\n",
      "Installing collected packages: wordcloud\n",
      "Successfully installed wordcloud-1.8.2.2\n"
     ]
    }
   ],
   "source": [
    "!pip install wordcloud"
   ]
  },
  {
   "cell_type": "code",
   "execution_count": 14,
   "id": "7475ff1c",
   "metadata": {},
   "outputs": [
    {
     "name": "stdout",
     "output_type": "stream",
     "text": [
      "<wordcloud.wordcloud.WordCloud object at 0x00000201E715B3D0>\n"
     ]
    },
    {
     "data": {
      "image/png": "[encoded data removed]",
      "text/plain": [
       "<Figure size 640x480 with 1 Axes>"
      ]
     },
     "metadata": {},
     "output_type": "display_data"
    }
   ],
   "source": [
    "import numpy as np # linear algebra\n",
    "import pandas as pd \n",
    "import matplotlib as mpl\n",
    "import matplotlib.pyplot as plt\n",
    "# %matplotlib inline\n",
    "\n",
    "from subprocess import check_output\n",
    "from wordcloud import WordCloud, STOPWORDS\n",
    "\n",
    "# mpl.rcParams['figure.figsize'] = (8.0,6.0)    #(6.0,4.0)\n",
    "mpl.rcParams['font.size'] = 12                  #10 \n",
    "mpl.rcParams['savefig.dpi'] = 100               #72 \n",
    "mpl.rcParams['figure.subplot.bottom'] = .1 \n",
    "\n",
    "stopwords = set(STOPWORDS)\n",
    "data = pd.read_csv(\"./most_backed.csv\")\n",
    "\n",
    "wordcloud = WordCloud(\n",
    "      background_color = 'white',\n",
    "      stopwords = stopwords,\n",
    "      max_words = 200,\n",
    "      max_font_size = 40, \n",
    "      random_state = 42\n",
    "     ).generate(str(data['title']))\n",
    "\n",
    "print(wordcloud)\n",
    "fig = plt.figure(1)\n",
    "plt.imshow(wordcloud)\n",
    "plt.axis('off')\n",
    "plt.show()\n",
    "# fig.savefig(\"word1.png\", dpi=900)"
   ]
  },
  {
   "cell_type": "markdown",
   "id": "8f552606",
   "metadata": {},
   "source": [
    "## AzureCognitiveService\n",
    "\"The refresh token has expired due to inactivity. Hence unable login using Identity Management via DefaultAzureCredential object on Visual Studio to connect to Azure Cloud Resources.\""
   ]
  },
  {
   "cell_type": "code",
   "execution_count": 15,
   "id": "102e9eaa",
   "metadata": {},
   "outputs": [
    {
     "name": "stdout",
     "output_type": "stream",
     "text": [
      "Collecting azure-ai-textanalytics==5.1.0\n",
      "  Downloading azure_ai_textanalytics-5.1.0-py2.py3-none-any.whl (153 kB)\n",
      "     -------------------------------------- 153.2/153.2 kB 2.3 MB/s eta 0:00:00\n",
      "Collecting azure-common~=1.1\n",
      "  Downloading azure_common-1.1.28-py2.py3-none-any.whl (14 kB)\n",
      "Collecting azure-core<2.0.0,>=1.14.0\n",
      "  Downloading azure_core-1.26.4-py3-none-any.whl (173 kB)\n",
      "     -------------------------------------- 173.9/173.9 kB 2.6 MB/s eta 0:00:00\n",
      "Collecting msrest>=0.6.21\n",
      "  Downloading msrest-0.7.1-py3-none-any.whl (85 kB)\n",
      "     ---------------------------------------- 85.4/85.4 kB 2.4 MB/s eta 0:00:00\n",
      "Requirement already satisfied: six>=1.11.0 in c:\\python310\\lib\\site-packages (from azure-ai-textanalytics==5.1.0) (1.16.0)\n",
      "Requirement already satisfied: typing-extensions>=4.3.0 in c:\\python310\\lib\\site-packages (from azure-core<2.0.0,>=1.14.0->azure-ai-textanalytics==5.1.0) (4.5.0)\n",
      "Requirement already satisfied: requests>=2.18.4 in c:\\python310\\lib\\site-packages (from azure-core<2.0.0,>=1.14.0->azure-ai-textanalytics==5.1.0) (2.28.2)\n",
      "Collecting isodate>=0.6.0\n",
      "  Downloading isodate-0.6.1-py2.py3-none-any.whl (41 kB)\n",
      "     ---------------------------------------- 41.7/41.7 kB 2.0 MB/s eta 0:00:00\n",
      "Requirement already satisfied: requests-oauthlib>=0.5.0 in c:\\python310\\lib\\site-packages (from msrest>=0.6.21->azure-ai-textanalytics==5.1.0) (1.3.1)\n",
      "Requirement already satisfied: certifi>=2017.4.17 in c:\\python310\\lib\\site-packages (from msrest>=0.6.21->azure-ai-textanalytics==5.1.0) (2022.12.7)\n",
      "Requirement already satisfied: urllib3<1.27,>=1.21.1 in c:\\python310\\lib\\site-packages (from requests>=2.18.4->azure-core<2.0.0,>=1.14.0->azure-ai-textanalytics==5.1.0) (1.26.14)\n",
      "Requirement already satisfied: charset-normalizer<4,>=2 in c:\\python310\\lib\\site-packages (from requests>=2.18.4->azure-core<2.0.0,>=1.14.0->azure-ai-textanalytics==5.1.0) (3.0.1)\n",
      "Requirement already satisfied: idna<4,>=2.5 in c:\\python310\\lib\\site-packages (from requests>=2.18.4->azure-core<2.0.0,>=1.14.0->azure-ai-textanalytics==5.1.0) (3.4)\n",
      "Requirement already satisfied: oauthlib>=3.0.0 in c:\\python310\\lib\\site-packages (from requests-oauthlib>=0.5.0->msrest>=0.6.21->azure-ai-textanalytics==5.1.0) (3.2.2)\n",
      "Installing collected packages: azure-common, isodate, azure-core, msrest, azure-ai-textanalytics\n",
      "Successfully installed azure-ai-textanalytics-5.1.0 azure-common-1.1.28 azure-core-1.26.4 isodate-0.6.1 msrest-0.7.1\n"
     ]
    }
   ],
   "source": [
    "# 利用雲端進行斷詞切字\n",
    "# https://docs.microsoft.com/en-us/azure/cognitive-services/language-service/key-phrase-extraction/quickstart?pivots=programming-language-python\n",
    "# https://docs.microsoft.com/en-us/azure/cognitive-services/language-service/key-phrase-extraction/language-support\n",
    "# Sample code \n",
    "# https://github.com/Azure/azure-sdk-for-python/tree/main/sdk/textanalytics/azure-ai-textanalytics/samples\n",
    "# https://docs.microsoft.com/en-us/python/api/overview/azure/ai-textanalytics-readme?view=azure-python\n",
    "!pip install azure-ai-textanalytics==5.1.0"
   ]
  },
  {
   "cell_type": "code",
   "execution_count": 16,
   "id": "16eaa719",
   "metadata": {},
   "outputs": [
    {
     "name": "stdout",
     "output_type": "stream",
     "text": [
      "Encountered exception. (401) Access denied due to invalid subscription key or wrong API endpoint. Make sure to provide a valid key for an active subscription and use a correct regional API endpoint for your resource.\n",
      "Code: 401\n",
      "Message: Access denied due to invalid subscription key or wrong API endpoint. Make sure to provide a valid key for an active subscription and use a correct regional API endpoint for your resource.\n"
     ]
    }
   ],
   "source": [
    "key = \"a83d64fc5bfa43a78c6e92afed058774\"\n",
    "endpoint = \"https://nlp0418.cognitiveservices.azure.com/\"\n",
    "\n",
    "from azure.ai.textanalytics import TextAnalyticsClient\n",
    "from azure.core.credentials import AzureKeyCredential\n",
    "\n",
    "# Authenticate the client using your key and endpoint \n",
    "def authenticate_client():\n",
    "    ta_credential = AzureKeyCredential(key)\n",
    "    text_analytics_client = TextAnalyticsClient(\n",
    "            endpoint = endpoint, \n",
    "            credential = ta_credential)\n",
    "    return text_analytics_client\n",
    "\n",
    "client = authenticate_client()\n",
    "\n",
    "def key_phrase_extraction_example(client):\n",
    "\n",
    "    try:\n",
    "        #documents = [\"My cat might need to see a veterinarian and I also fix Windows 10 software.\"]\n",
    "        documents = [\"MSN是由微軟公司架設的入口網站及資訊服務，於1995年8月24日首度以網際網路服務供應商隨著Windows 95一起問世\"]\n",
    "\n",
    "        response = client.extract_key_phrases(documents = documents, language = \"zh-hans\")[0]\n",
    "\n",
    "        if not response.is_error:\n",
    "            print(\"\\tKey Phrases:\")\n",
    "            for phrase in response.key_phrases:\n",
    "                print(\"\\t\\t\", phrase)\n",
    "        else:\n",
    "            print(response.id, response.error)\n",
    "\n",
    "    except Exception as err:\n",
    "        print(\"Encountered exception. {}\".format(err))\n",
    "        \n",
    "key_phrase_extraction_example(client)"
   ]
  },
  {
   "cell_type": "code",
   "execution_count": 18,
   "id": "e659abac",
   "metadata": {},
   "outputs": [
    {
     "ename": "ClientAuthenticationError",
     "evalue": "(401) Access denied due to invalid subscription key or wrong API endpoint. Make sure to provide a valid key for an active subscription and use a correct regional API endpoint for your resource.\nCode: 401\nMessage: Access denied due to invalid subscription key or wrong API endpoint. Make sure to provide a valid key for an active subscription and use a correct regional API endpoint for your resource.",
     "output_type": "error",
     "traceback": [
      "\u001b[1;31m---------------------------------------------------------------------------\u001b[0m",
      "\u001b[1;31mClientAuthenticationError\u001b[0m                 Traceback (most recent call last)",
      "File \u001b[1;32mC:\\Python310\\lib\\site-packages\\azure\\ai\\textanalytics\\_text_analytics_client.py:824\u001b[0m, in \u001b[0;36mTextAnalyticsClient.analyze_sentiment\u001b[1;34m(self, documents, **kwargs)\u001b[0m\n\u001b[0;32m    823\u001b[0m \u001b[38;5;28;01mtry\u001b[39;00m:\n\u001b[1;32m--> 824\u001b[0m     \u001b[38;5;28;01mreturn\u001b[39;00m \u001b[38;5;28mself\u001b[39m\u001b[38;5;241m.\u001b[39m_client\u001b[38;5;241m.\u001b[39msentiment(\n\u001b[0;32m    825\u001b[0m         documents\u001b[38;5;241m=\u001b[39mdocs,\n\u001b[0;32m    826\u001b[0m         model_version\u001b[38;5;241m=\u001b[39mmodel_version,\n\u001b[0;32m    827\u001b[0m         show_stats\u001b[38;5;241m=\u001b[39mshow_stats,\n\u001b[0;32m    828\u001b[0m         \u001b[38;5;28mcls\u001b[39m\u001b[38;5;241m=\u001b[39mkwargs\u001b[38;5;241m.\u001b[39mpop(\u001b[38;5;124m\"\u001b[39m\u001b[38;5;124mcls\u001b[39m\u001b[38;5;124m\"\u001b[39m, sentiment_result),\n\u001b[0;32m    829\u001b[0m         \u001b[38;5;241m*\u001b[39m\u001b[38;5;241m*\u001b[39mkwargs\n\u001b[0;32m    830\u001b[0m     )\n\u001b[0;32m    831\u001b[0m \u001b[38;5;28;01mexcept\u001b[39;00m HttpResponseError \u001b[38;5;28;01mas\u001b[39;00m error:\n",
      "File \u001b[1;32mC:\\Python310\\lib\\site-packages\\azure\\ai\\textanalytics\\_generated\\_operations_mixin.py:587\u001b[0m, in \u001b[0;36mTextAnalyticsClientOperationsMixin.sentiment\u001b[1;34m(self, documents, model_version, show_stats, logging_opt_out, opinion_mining, string_index_type, **kwargs)\u001b[0m\n\u001b[0;32m    586\u001b[0m \u001b[38;5;28;01melif\u001b[39;00m api_version \u001b[38;5;241m==\u001b[39m \u001b[38;5;124m'\u001b[39m\u001b[38;5;124mv3.1\u001b[39m\u001b[38;5;124m'\u001b[39m:\n\u001b[1;32m--> 587\u001b[0m     \u001b[38;5;28;01mreturn\u001b[39;00m mixin_instance\u001b[38;5;241m.\u001b[39msentiment(documents, model_version, show_stats, logging_opt_out, opinion_mining, string_index_type, \u001b[38;5;241m*\u001b[39m\u001b[38;5;241m*\u001b[39mkwargs)\n",
      "File \u001b[1;32mC:\\Python310\\lib\\site-packages\\azure\\ai\\textanalytics\\_generated\\v3_1\\operations\\_text_analytics_client_operations.py:1120\u001b[0m, in \u001b[0;36mTextAnalyticsClientOperationsMixin.sentiment\u001b[1;34m(self, documents, model_version, show_stats, logging_opt_out, opinion_mining, string_index_type, **kwargs)\u001b[0m\n\u001b[0;32m   1119\u001b[0m \u001b[38;5;28;01mif\u001b[39;00m response\u001b[38;5;241m.\u001b[39mstatus_code \u001b[38;5;129;01mnot\u001b[39;00m \u001b[38;5;129;01min\u001b[39;00m [\u001b[38;5;241m200\u001b[39m]:\n\u001b[1;32m-> 1120\u001b[0m     \u001b[43mmap_error\u001b[49m\u001b[43m(\u001b[49m\u001b[43mstatus_code\u001b[49m\u001b[38;5;241;43m=\u001b[39;49m\u001b[43mresponse\u001b[49m\u001b[38;5;241;43m.\u001b[39;49m\u001b[43mstatus_code\u001b[49m\u001b[43m,\u001b[49m\u001b[43m \u001b[49m\u001b[43mresponse\u001b[49m\u001b[38;5;241;43m=\u001b[39;49m\u001b[43mresponse\u001b[49m\u001b[43m,\u001b[49m\u001b[43m \u001b[49m\u001b[43merror_map\u001b[49m\u001b[38;5;241;43m=\u001b[39;49m\u001b[43merror_map\u001b[49m\u001b[43m)\u001b[49m\n\u001b[0;32m   1121\u001b[0m     error \u001b[38;5;241m=\u001b[39m \u001b[38;5;28mself\u001b[39m\u001b[38;5;241m.\u001b[39m_deserialize\u001b[38;5;241m.\u001b[39mfailsafe_deserialize(_models\u001b[38;5;241m.\u001b[39mErrorResponse, response)\n",
      "File \u001b[1;32mC:\\Python310\\lib\\site-packages\\azure\\core\\exceptions.py:109\u001b[0m, in \u001b[0;36mmap_error\u001b[1;34m(status_code, response, error_map)\u001b[0m\n\u001b[0;32m    108\u001b[0m error \u001b[38;5;241m=\u001b[39m error_type(response\u001b[38;5;241m=\u001b[39mresponse)\n\u001b[1;32m--> 109\u001b[0m \u001b[38;5;28;01mraise\u001b[39;00m error\n",
      "\u001b[1;31mClientAuthenticationError\u001b[0m: (401) Access denied due to invalid subscription key or wrong API endpoint. Make sure to provide a valid key for an active subscription and use a correct regional API endpoint for your resource.\nCode: 401\nMessage: Access denied due to invalid subscription key or wrong API endpoint. Make sure to provide a valid key for an active subscription and use a correct regional API endpoint for your resource.",
      "\nDuring handling of the above exception, another exception occurred:\n",
      "\u001b[1;31mClientAuthenticationError\u001b[0m                 Traceback (most recent call last)",
      "Cell \u001b[1;32mIn [18], line 16\u001b[0m\n\u001b[0;32m      8\u001b[0m text_analytics_client \u001b[38;5;241m=\u001b[39m TextAnalyticsClient(endpoint, credential)\n\u001b[0;32m     10\u001b[0m documents \u001b[38;5;241m=\u001b[39m [\n\u001b[0;32m     11\u001b[0m     \u001b[38;5;124m\"\u001b[39m\u001b[38;5;124mI did not like the restaurant. The food was somehow both too spicy and underseasoned. Additionally, I thought the location was too far away from the playhouse.\u001b[39m\u001b[38;5;124m\"\u001b[39m,\n\u001b[0;32m     12\u001b[0m     \u001b[38;5;124m\"\u001b[39m\u001b[38;5;124mThe restaurant was decorated beautifully. The atmosphere was unlike any other restaurant I\u001b[39m\u001b[38;5;124m'\u001b[39m\u001b[38;5;124mve been to.\u001b[39m\u001b[38;5;124m\"\u001b[39m,\n\u001b[0;32m     13\u001b[0m     \u001b[38;5;124m\"\u001b[39m\u001b[38;5;124mThe food was yummy. :)\u001b[39m\u001b[38;5;124m\"\u001b[39m\n\u001b[0;32m     14\u001b[0m ]\n\u001b[1;32m---> 16\u001b[0m response \u001b[38;5;241m=\u001b[39m \u001b[43mtext_analytics_client\u001b[49m\u001b[38;5;241;43m.\u001b[39;49m\u001b[43manalyze_sentiment\u001b[49m\u001b[43m(\u001b[49m\u001b[43mdocuments\u001b[49m\u001b[43m,\u001b[49m\u001b[43m \u001b[49m\u001b[43mlanguage\u001b[49m\u001b[43m \u001b[49m\u001b[38;5;241;43m=\u001b[39;49m\u001b[43m \u001b[49m\u001b[38;5;124;43m\"\u001b[39;49m\u001b[38;5;124;43men\u001b[39;49m\u001b[38;5;124;43m\"\u001b[39;49m\u001b[43m)\u001b[49m\n\u001b[0;32m     17\u001b[0m result \u001b[38;5;241m=\u001b[39m [doc \u001b[38;5;28;01mfor\u001b[39;00m doc \u001b[38;5;129;01min\u001b[39;00m response \u001b[38;5;28;01mif\u001b[39;00m \u001b[38;5;129;01mnot\u001b[39;00m doc\u001b[38;5;241m.\u001b[39mis_error]\n\u001b[0;32m     19\u001b[0m \u001b[38;5;28;01mfor\u001b[39;00m doc \u001b[38;5;129;01min\u001b[39;00m result:\n",
      "File \u001b[1;32mC:\\Python310\\lib\\site-packages\\azure\\core\\tracing\\decorator.py:76\u001b[0m, in \u001b[0;36mdistributed_trace.<locals>.decorator.<locals>.wrapper_use_tracer\u001b[1;34m(*args, **kwargs)\u001b[0m\n\u001b[0;32m     74\u001b[0m span_impl_type \u001b[38;5;241m=\u001b[39m settings\u001b[38;5;241m.\u001b[39mtracing_implementation()\n\u001b[0;32m     75\u001b[0m \u001b[38;5;28;01mif\u001b[39;00m span_impl_type \u001b[38;5;129;01mis\u001b[39;00m \u001b[38;5;28;01mNone\u001b[39;00m:\n\u001b[1;32m---> 76\u001b[0m     \u001b[38;5;28;01mreturn\u001b[39;00m func(\u001b[38;5;241m*\u001b[39margs, \u001b[38;5;241m*\u001b[39m\u001b[38;5;241m*\u001b[39mkwargs)\n\u001b[0;32m     78\u001b[0m \u001b[38;5;66;03m# Merge span is parameter is set, but only if no explicit parent are passed\u001b[39;00m\n\u001b[0;32m     79\u001b[0m \u001b[38;5;28;01mif\u001b[39;00m merge_span \u001b[38;5;129;01mand\u001b[39;00m \u001b[38;5;129;01mnot\u001b[39;00m passed_in_parent:\n",
      "File \u001b[1;32mC:\\Python310\\lib\\site-packages\\azure\\ai\\textanalytics\\_text_analytics_client.py:832\u001b[0m, in \u001b[0;36mTextAnalyticsClient.analyze_sentiment\u001b[1;34m(self, documents, **kwargs)\u001b[0m\n\u001b[0;32m    824\u001b[0m     \u001b[38;5;28;01mreturn\u001b[39;00m \u001b[38;5;28mself\u001b[39m\u001b[38;5;241m.\u001b[39m_client\u001b[38;5;241m.\u001b[39msentiment(\n\u001b[0;32m    825\u001b[0m         documents\u001b[38;5;241m=\u001b[39mdocs,\n\u001b[0;32m    826\u001b[0m         model_version\u001b[38;5;241m=\u001b[39mmodel_version,\n\u001b[1;32m   (...)\u001b[0m\n\u001b[0;32m    829\u001b[0m         \u001b[38;5;241m*\u001b[39m\u001b[38;5;241m*\u001b[39mkwargs\n\u001b[0;32m    830\u001b[0m     )\n\u001b[0;32m    831\u001b[0m \u001b[38;5;28;01mexcept\u001b[39;00m HttpResponseError \u001b[38;5;28;01mas\u001b[39;00m error:\n\u001b[1;32m--> 832\u001b[0m     \u001b[43mprocess_http_response_error\u001b[49m\u001b[43m(\u001b[49m\u001b[43merror\u001b[49m\u001b[43m)\u001b[49m\n",
      "File \u001b[1;32mC:\\Python310\\lib\\site-packages\\azure\\ai\\textanalytics\\_response_handlers.py:55\u001b[0m, in \u001b[0;36mprocess_http_response_error\u001b[1;34m(error)\u001b[0m\n\u001b[0;32m     53\u001b[0m \u001b[38;5;28;01mif\u001b[39;00m error\u001b[38;5;241m.\u001b[39mstatus_code \u001b[38;5;241m==\u001b[39m \u001b[38;5;241m401\u001b[39m:\n\u001b[0;32m     54\u001b[0m     raise_error \u001b[38;5;241m=\u001b[39m ClientAuthenticationError\n\u001b[1;32m---> 55\u001b[0m \u001b[38;5;28;01mraise\u001b[39;00m raise_error(response\u001b[38;5;241m=\u001b[39merror\u001b[38;5;241m.\u001b[39mresponse, error_format\u001b[38;5;241m=\u001b[39mCSODataV4Format)\n",
      "\u001b[1;31mClientAuthenticationError\u001b[0m: (401) Access denied due to invalid subscription key or wrong API endpoint. Make sure to provide a valid key for an active subscription and use a correct regional API endpoint for your resource.\nCode: 401\nMessage: Access denied due to invalid subscription key or wrong API endpoint. Make sure to provide a valid key for an active subscription and use a correct regional API endpoint for your resource."
     ]
    }
   ],
   "source": [
    "# 情緒分析\n",
    "from azure.core.credentials import AzureKeyCredential\n",
    "from azure.ai.textanalytics import TextAnalyticsClient\n",
    "\n",
    "credential = AzureKeyCredential(\"a83d64fc5bfa43a78c6e92afed058774\")\n",
    "endpoint = \"https://eastus.api.cognitive.microsoft.com/\"\n",
    "\n",
    "text_analytics_client = TextAnalyticsClient(endpoint, credential)\n",
    "\n",
    "documents = [\n",
    "    \"I did not like the restaurant. The food was somehow both too spicy and underseasoned. Additionally, I thought the location was too far away from the playhouse.\",\n",
    "    \"The restaurant was decorated beautifully. The atmosphere was unlike any other restaurant I've been to.\",\n",
    "    \"The food was yummy. :)\"\n",
    "]\n",
    "\n",
    "response = text_analytics_client.analyze_sentiment(documents, language = \"en\")\n",
    "result = [doc for doc in response if not doc.is_error]\n",
    "\n",
    "for doc in result:\n",
    "    print(\"Overall sentiment: {}\".format(doc.sentiment))\n",
    "    print(\"Scores: positive={}; neutral={}; negative={} \\n\".format(\n",
    "        doc.confidence_scores.positive,\n",
    "        doc.confidence_scores.neutral,\n",
    "        doc.confidence_scores.negative,\n",
    "            ))"
   ]
  }
 ],
 "metadata": {
  "kernelspec": {
   "display_name": "Python 3 (ipykernel)",
   "language": "python",
   "name": "python3"
  },
  "language_info": {
   "codemirror_mode": {
    "name": "ipython",
    "version": 3
   },
   "file_extension": ".py",
   "mimetype": "text/x-python",
   "name": "python",
   "nbconvert_exporter": "python",
   "pygments_lexer": "ipython3",
   "version": "3.10.7"
  }
 },
 "nbformat": 4,
 "nbformat_minor": 5
}
