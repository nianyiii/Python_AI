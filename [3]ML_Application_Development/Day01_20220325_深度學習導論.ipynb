{
 "cells": [
  {
   "cell_type": "markdown",
   "id": "8f98396a",
   "metadata": {},
   "source": [
    "## Scikit-Learn_Mnist"
   ]
  },
  {
   "cell_type": "code",
   "execution_count": null,
   "id": "440b0a45",
   "metadata": {},
   "outputs": [],
   "source": [
    "!pip install scikit-learn"
   ]
  },
  {
   "cell_type": "code",
   "execution_count": 1,
   "id": "62a967f7",
   "metadata": {},
   "outputs": [
    {
     "name": "stdout",
     "output_type": "stream",
     "text": [
      "['__all__', '__builtins__', '__cached__', '__doc__', '__file__', '__getattr__', '__loader__', '__name__', '__package__', '__path__', '__spec__', '_arff_parser', '_base', '_california_housing', '_covtype', '_kddcup99', '_lfw', '_olivetti_faces', '_openml', '_rcv1', '_samples_generator', '_species_distributions', '_svmlight_format_fast', '_svmlight_format_io', '_twenty_newsgroups', 'clear_data_home', 'dump_svmlight_file', 'fetch_20newsgroups', 'fetch_20newsgroups_vectorized', 'fetch_california_housing', 'fetch_covtype', 'fetch_kddcup99', 'fetch_lfw_pairs', 'fetch_lfw_people', 'fetch_olivetti_faces', 'fetch_openml', 'fetch_rcv1', 'fetch_species_distributions', 'get_data_home', 'load_breast_cancer', 'load_diabetes', 'load_digits', 'load_files', 'load_iris', 'load_linnerud', 'load_sample_image', 'load_sample_images', 'load_svmlight_file', 'load_svmlight_files', 'load_wine', 'make_biclusters', 'make_blobs', 'make_checkerboard', 'make_circles', 'make_classification', 'make_friedman1', 'make_friedman2', 'make_friedman3', 'make_gaussian_quantiles', 'make_hastie_10_2', 'make_low_rank_matrix', 'make_moons', 'make_multilabel_classification', 'make_regression', 'make_s_curve', 'make_sparse_coded_signal', 'make_sparse_spd_matrix', 'make_sparse_uncorrelated', 'make_spd_matrix', 'make_swiss_roll', 'textwrap']\n"
     ]
    }
   ],
   "source": [
    "from sklearn import datasets\n",
    "print(dir(datasets))"
   ]
  },
  {
   "cell_type": "code",
   "execution_count": 2,
   "id": "58c70bf9",
   "metadata": {},
   "outputs": [
    {
     "data": {
      "text/plain": [
       "dict_keys(['data', 'target', 'frame', 'feature_names', 'target_names', 'images', 'DESCR'])"
      ]
     },
     "execution_count": 2,
     "metadata": {},
     "output_type": "execute_result"
    }
   ],
   "source": [
    "from sklearn import datasets\n",
    "\n",
    "mnist = datasets.load_digits()\n",
    "mnist.keys()"
   ]
  },
  {
   "cell_type": "code",
   "execution_count": 3,
   "id": "0a6b03ad",
   "metadata": {},
   "outputs": [
    {
     "data": {
      "text/plain": [
       "(1797, 64)"
      ]
     },
     "execution_count": 3,
     "metadata": {},
     "output_type": "execute_result"
    }
   ],
   "source": [
    "X, y = mnist.data, mnist.target\n",
    "X[:].shape # 特徵64個欄位"
   ]
  },
  {
   "cell_type": "code",
   "execution_count": 4,
   "id": "0e63edd5",
   "metadata": {},
   "outputs": [
    {
     "data": {
      "image/png": "[encoded data removed]",
      "text/plain": [
       "<Figure size 80x80 with 1 Axes>"
      ]
     },
     "metadata": {},
     "output_type": "display_data"
    }
   ],
   "source": [
    "%matplotlib inline\n",
    "\n",
    "import matplotlib.pyplot as plt\n",
    "\n",
    "plt.figure(figsize = (0.8 , 0.8))\n",
    "plt.imshow(X[1].reshape(8, 8), cmap = 'gray_r')\n",
    "plt.axis('off')\n",
    "plt.show()"
   ]
  },
  {
   "cell_type": "code",
   "execution_count": 5,
   "id": "0876abde",
   "metadata": {},
   "outputs": [
    {
     "name": "stderr",
     "output_type": "stream",
     "text": [
      "C:\\Python310\\lib\\site-packages\\sklearn\\linear_model\\_logistic.py:458: ConvergenceWarning: lbfgs failed to converge (status=1):\n",
      "STOP: TOTAL NO. of ITERATIONS REACHED LIMIT.\n",
      "\n",
      "Increase the number of iterations (max_iter) or scale the data as shown in:\n",
      "    https://scikit-learn.org/stable/modules/preprocessing.html\n",
      "Please also refer to the documentation for alternative solver options:\n",
      "    https://scikit-learn.org/stable/modules/linear_model.html#logistic-regression\n",
      "  n_iter_i = _check_optimize_result(\n"
     ]
    },
    {
     "data": {
      "text/plain": [
       "(1.0, 0.9638888888888889)"
      ]
     },
     "execution_count": 5,
     "metadata": {},
     "output_type": "execute_result"
    }
   ],
   "source": [
    "# 取出 X, y\n",
    "X, y = mnist.data, mnist.target\n",
    "\n",
    "# 區分訓練&測試\n",
    "from sklearn.model_selection import train_test_split\n",
    "X_train, X_test, y_train, y_test = train_test_split(X, y, test_size = 0.2, random_state = 1234)\n",
    "\n",
    "# 選擇演算法\n",
    "from sklearn.linear_model import LogisticRegression\n",
    "model = LogisticRegression()\n",
    "\n",
    "# 進行訓練\n",
    "model.fit(X_train, y_train)\n",
    "\n",
    "# 預測&評估\n",
    "model.score(X_train, y_train), model.score(X_test, y_test)"
   ]
  },
  {
   "cell_type": "code",
   "execution_count": 6,
   "id": "ec25c67d",
   "metadata": {},
   "outputs": [
    {
     "data": {
      "text/plain": [
       "(0.9993041057759221, 0.9638888888888889)"
      ]
     },
     "execution_count": 6,
     "metadata": {},
     "output_type": "execute_result"
    }
   ],
   "source": [
    "# 承上，加入StandardScaler\n",
    "\n",
    "# 取出 X, y\n",
    "X, y = mnist.data, mnist.target\n",
    "\n",
    "# 加入資料標準化（sklearn.preprocessing.StandardScaler）\n",
    "from sklearn.preprocessing import StandardScaler\n",
    "ss = StandardScaler()\n",
    "X_ss = ss.fit_transform(X)\n",
    "\n",
    "# 區分訓練&測試\n",
    "from sklearn.model_selection import train_test_split\n",
    "X_train, X_test, y_train, y_test = train_test_split(X_ss, y, test_size = 0.2 , random_state = 1234)\n",
    "\n",
    "# 選擇演算法\n",
    "from sklearn.linear_model import LogisticRegression\n",
    "model = LogisticRegression()\n",
    "\n",
    "# 進行訓練\n",
    "model.fit(X_train, y_train)\n",
    "\n",
    "# 預測&評估\n",
    "model.score(X_train, y_train), model.score(X_test, y_test)"
   ]
  },
  {
   "cell_type": "markdown",
   "id": "cae283f6",
   "metadata": {},
   "source": [
    "## 驗證Tensorflow"
   ]
  },
  {
   "cell_type": "code",
   "execution_count": null,
   "id": "35356860",
   "metadata": {},
   "outputs": [],
   "source": [
    "!pip install keras==2.3.1"
   ]
  },
  {
   "cell_type": "code",
   "execution_count": null,
   "id": "8fc68d99",
   "metadata": {},
   "outputs": [],
   "source": [
    "!pip install tensorflow-gpu==2.8.0"
   ]
  },
  {
   "cell_type": "code",
   "execution_count": null,
   "id": "4091663a",
   "metadata": {},
   "outputs": [],
   "source": [
    "!pip install protobuf==3.20.3"
   ]
  },
  {
   "cell_type": "code",
   "execution_count": 7,
   "id": "bce831bc",
   "metadata": {},
   "outputs": [
    {
     "data": {
      "text/plain": [
       "<module 'tensorflow._api.v2.version' from 'C:\\\\Python310\\\\lib\\\\site-packages\\\\tensorflow\\\\_api\\\\v2\\\\version\\\\__init__.py'>"
      ]
     },
     "execution_count": 7,
     "metadata": {},
     "output_type": "execute_result"
    }
   ],
   "source": [
    "import tensorflow\n",
    "tensorflow.version"
   ]
  },
  {
   "cell_type": "code",
   "execution_count": 8,
   "id": "6da7ce7f",
   "metadata": {},
   "outputs": [],
   "source": [
    "import keras"
   ]
  },
  {
   "cell_type": "code",
   "execution_count": 10,
   "id": "81b62b5e",
   "metadata": {},
   "outputs": [
    {
     "name": "stdout",
     "output_type": "stream",
     "text": [
      "Downloading data from https://storage.googleapis.com/tensorflow/tf-keras-datasets/mnist.npz\n",
      "11493376/11490434 [==============================] - 4s 0us/step\n",
      "11501568/11490434 [==============================] - 4s 0us/step\n"
     ]
    }
   ],
   "source": [
    "# 導入函式庫\n",
    "import numpy as np\n",
    "import keras\n",
    "\n",
    "# from keras.models import Sequential\n",
    "from keras.datasets import mnist\n",
    "from keras.layers import Dense, Dropout, Activation, Flatten\n",
    "from keras.utils import np_utils  # 用來後續將label標籤轉為one-hot-encoding\n",
    "from matplotlib import pyplot as plt\n",
    "import os\n",
    "from datetime import datetime\n",
    "\n",
    "start = datetime.now()\n",
    "\n",
    "# 載入MNIST資料庫的訓練資料，並自動分為『訓練組』及『測試組』\n",
    "#(X_train, y_train), (X_test, y_test) = mnist.load_data(os.path.join(os.getcwd(), 'datasets/mnist.npz'))\n",
    "(X_train, y_train), (X_test, y_test) = mnist.load_data()"
   ]
  },
  {
   "cell_type": "code",
   "execution_count": 11,
   "id": "b45dceb4",
   "metadata": {},
   "outputs": [
    {
     "data": {
      "text/plain": [
       "(28, 28)"
      ]
     },
     "execution_count": 11,
     "metadata": {},
     "output_type": "execute_result"
    }
   ],
   "source": [
    "X_train[0].shape"
   ]
  },
  {
   "cell_type": "code",
   "execution_count": 12,
   "id": "0458810c",
   "metadata": {},
   "outputs": [
    {
     "data": {
      "image/png": "[encoded data removed]",
      "text/plain": [
       "<Figure size 80x80 with 1 Axes>"
      ]
     },
     "metadata": {},
     "output_type": "display_data"
    },
    {
     "data": {
      "image/png": "[encoded data removed]",
      "text/plain": [
       "<Figure size 80x80 with 1 Axes>"
      ]
     },
     "metadata": {},
     "output_type": "display_data"
    },
    {
     "data": {
      "image/png": "[encoded data removed]",
      "text/plain": [
       "<Figure size 80x80 with 1 Axes>"
      ]
     },
     "metadata": {},
     "output_type": "display_data"
    },
    {
     "data": {
      "image/png": "[encoded data removed]",
      "text/plain": [
       "<Figure size 80x80 with 1 Axes>"
      ]
     },
     "metadata": {},
     "output_type": "display_data"
    },
    {
     "data": {
      "image/png": "[encoded data removed]",
      "text/plain": [
       "<Figure size 80x80 with 1 Axes>"
      ]
     },
     "metadata": {},
     "output_type": "display_data"
    }
   ],
   "source": [
    "%matplotlib inline\n",
    "import matplotlib.pyplot as plt\n",
    "\n",
    "for i in range(5):    \n",
    "    plt.figure(figsize = (0.8 , 0.8))\n",
    "    plt.imshow(X_train[i], cmap = 'gray_r')\n",
    "    plt.axis('off')\n",
    "    plt.show()"
   ]
  },
  {
   "cell_type": "code",
   "execution_count": 13,
   "id": "8f43cd96",
   "metadata": {},
   "outputs": [],
   "source": [
    "# 建立簡單的線性執行的模型\n",
    "model = keras.models.Sequential()\n",
    "\n",
    "# Add Input layer, 隱藏層(hidden layer)有256個輸出變數\n",
    "model.add(Dense(units = 256, input_dim = 784, kernel_initializer = 'normal', activation = 'relu')) \n",
    "\n",
    "# model.add(Dense(units=64, input_dim=784, kernel_initializer='normal', activation='relu')) \n",
    "\n",
    "# Add output layer\n",
    "model.add(Dense(units = 10, kernel_initializer = 'normal', activation = 'softmax'))\n",
    "\n",
    "# 編譯：選擇損失函數、優化方法及成效衡量方式\n",
    "model.compile(loss = 'categorical_crossentropy', optimizer = 'adam', metrics = ['accuracy']) "
   ]
  },
  {
   "cell_type": "code",
   "execution_count": 14,
   "id": "0a60c3e2",
   "metadata": {},
   "outputs": [
    {
     "name": "stdout",
     "output_type": "stream",
     "text": [
      "Model: \"sequential\"\n",
      "_________________________________________________________________\n",
      " Layer (type)                Output Shape              Param #   \n",
      "=================================================================\n",
      " dense (Dense)               (None, 256)               200960    \n",
      "                                                                 \n",
      " dense_1 (Dense)             (None, 10)                2570      \n",
      "                                                                 \n",
      "=================================================================\n",
      "Total params: 203,530\n",
      "Trainable params: 203,530\n",
      "Non-trainable params: 0\n",
      "_________________________________________________________________\n"
     ]
    }
   ],
   "source": [
    "model.summary()"
   ]
  },
  {
   "cell_type": "code",
   "execution_count": 15,
   "id": "d609c7f5",
   "metadata": {},
   "outputs": [
    {
     "data": {
      "text/plain": [
       "(array([7, 2, 1], dtype=uint8),\n",
       " array([[0., 0., 0., 0., 0., 0., 0., 1., 0., 0.],\n",
       "        [0., 0., 1., 0., 0., 0., 0., 0., 0., 0.],\n",
       "        [0., 1., 0., 0., 0., 0., 0., 0., 0., 0.]], dtype=float32))"
      ]
     },
     "execution_count": 15,
     "metadata": {},
     "output_type": "execute_result"
    }
   ],
   "source": [
    "y_test[:3],\\\n",
    "np_utils.to_categorical(y_test)[:3]"
   ]
  },
  {
   "cell_type": "code",
   "execution_count": 16,
   "id": "70552baf",
   "metadata": {},
   "outputs": [
    {
     "name": "stdout",
     "output_type": "stream",
     "text": [
      "Epoch 1/10\n",
      "60/60 [==============================] - 1s 16ms/step - loss: 0.7988 - accuracy: 0.8029 - val_loss: 0.3242 - val_accuracy: 0.9105\n",
      "Epoch 2/10\n",
      "60/60 [==============================] - 1s 14ms/step - loss: 0.2975 - accuracy: 0.9169 - val_loss: 0.2443 - val_accuracy: 0.9313\n",
      "Epoch 3/10\n",
      "60/60 [==============================] - 1s 14ms/step - loss: 0.2338 - accuracy: 0.9345 - val_loss: 0.2048 - val_accuracy: 0.9434\n",
      "Epoch 4/10\n",
      "60/60 [==============================] - 1s 14ms/step - loss: 0.1963 - accuracy: 0.9434 - val_loss: 0.1820 - val_accuracy: 0.9508\n",
      "Epoch 5/10\n",
      "60/60 [==============================] - 1s 14ms/step - loss: 0.1669 - accuracy: 0.9530 - val_loss: 0.1614 - val_accuracy: 0.9546\n",
      "Epoch 6/10\n",
      "60/60 [==============================] - 1s 13ms/step - loss: 0.1438 - accuracy: 0.9598 - val_loss: 0.1454 - val_accuracy: 0.9593\n",
      "Epoch 7/10\n",
      "60/60 [==============================] - 1s 13ms/step - loss: 0.1259 - accuracy: 0.9654 - val_loss: 0.1348 - val_accuracy: 0.9631\n",
      "Epoch 8/10\n",
      "60/60 [==============================] - 1s 13ms/step - loss: 0.1118 - accuracy: 0.9695 - val_loss: 0.1275 - val_accuracy: 0.9631\n",
      "Epoch 9/10\n",
      "60/60 [==============================] - 1s 12ms/step - loss: 0.1001 - accuracy: 0.9729 - val_loss: 0.1177 - val_accuracy: 0.9673\n",
      "Epoch 10/10\n",
      "60/60 [==============================] - 1s 13ms/step - loss: 0.0898 - accuracy: 0.9759 - val_loss: 0.1119 - val_accuracy: 0.9673\n"
     ]
    }
   ],
   "source": [
    "# 將training的label進行one-hot encoding，例如數字7經過One-hot encoding，轉換後是0000001000，即第7個值為1\n",
    "y_TrainOneHot = np_utils.to_categorical(y_train) \n",
    "y_TestOneHot = np_utils.to_categorical(y_test) \n",
    "\n",
    "# 將Training的Input資料轉為二維\n",
    "X_train_2D = X_train.reshape(60000, 28 * 28).astype('float32')  \n",
    "X_test_2D = X_test.reshape(10000, 28 * 28).astype('float32')  \n",
    "\n",
    "x_Train_norm = X_train_2D / 255 # 標準化就是0-1之間數字\n",
    "x_Test_norm = X_test_2D / 255\n",
    "\n",
    "# 進行訓練 -> 訓練過程會存在train_history變數中callback\n",
    "train_history = model.fit(x = x_Train_norm, y = y_TrainOneHot, \n",
    "                          validation_split = 0.2, \n",
    "                          epochs = 10, \n",
    "                          batch_size = 800, \n",
    "                          verbose = 1\n",
    "                          )  "
   ]
  },
  {
   "cell_type": "code",
   "execution_count": 17,
   "id": "e5820c21",
   "metadata": {},
   "outputs": [
    {
     "data": {
      "text/plain": [
       "dict_keys(['loss', 'accuracy', 'val_loss', 'val_accuracy'])"
      ]
     },
     "execution_count": 17,
     "metadata": {},
     "output_type": "execute_result"
    }
   ],
   "source": [
    "train_history.history.keys()"
   ]
  },
  {
   "cell_type": "code",
   "execution_count": 18,
   "id": "d0a579bd",
   "metadata": {},
   "outputs": [
    {
     "data": {
      "image/png": "[encoded data removed]",
      "text/plain": [
       "<Figure size 640x480 with 1 Axes>"
      ]
     },
     "metadata": {},
     "output_type": "display_data"
    }
   ],
   "source": [
    "%matplotlib inline\n",
    "# accuracy chart\n",
    "import matplotlib.pyplot as plt\n",
    "\n",
    "plt.plot(train_history.history['accuracy'], color = 'red')\n",
    "plt.plot(train_history.history['val_accuracy'], color = 'blue')\n",
    "plt.grid()\n",
    "plt.show()"
   ]
  },
  {
   "cell_type": "code",
   "execution_count": 19,
   "id": "4728c8f0",
   "metadata": {},
   "outputs": [
    {
     "data": {
      "image/png": "[encoded data removed]",
      "text/plain": [
       "<Figure size 640x480 with 1 Axes>"
      ]
     },
     "metadata": {},
     "output_type": "display_data"
    }
   ],
   "source": [
    "%matplotlib inline\n",
    "# loss chart\n",
    "import matplotlib.pyplot as plt\n",
    "\n",
    "plt.plot(train_history.history['loss'], color = 'red')\n",
    "plt.plot(train_history.history['val_loss'], color = 'blue')\n",
    "plt.grid()\n",
    "plt.show()"
   ]
  },
  {
   "cell_type": "code",
   "execution_count": 20,
   "id": "6d20d19f",
   "metadata": {},
   "outputs": [
    {
     "name": "stdout",
     "output_type": "stream",
     "text": [
      "313/313 [==============================] - 1s 3ms/step - loss: 0.1038 - accuracy: 0.9692\n",
      "\t[Info] Accuracy of testing data = 96.9%\n",
      "1875/1875 [==============================] - 6s 3ms/step - loss: 0.0866 - accuracy: 0.9764\n",
      "\t[Info] Accuracy of training data = 97.6%\n"
     ]
    }
   ],
   "source": [
    "# 顯示訓練成果（分數）\n",
    "scores = model.evaluate(x_Test_norm, y_TestOneHot)\n",
    "print(\"\\t[Info] Accuracy of testing data = {:2.1f}%\".format(scores[1] * 100.0))\n",
    "scores = model.evaluate(x_Train_norm, y_TrainOneHot)\n",
    "print(\"\\t[Info] Accuracy of training data = {:2.1f}%\".format(scores[1] * 100.0))"
   ]
  },
  {
   "cell_type": "code",
   "execution_count": 21,
   "id": "e1323936",
   "metadata": {},
   "outputs": [
    {
     "data": {
      "text/plain": [
       "array([[2.0845537e-06, 2.5797076e-08, 2.8317963e-04, 1.8292199e-03,\n",
       "        1.9281581e-08, 2.2069464e-05, 1.5450792e-10, 9.9781150e-01,\n",
       "        5.1035859e-06, 4.6819852e-05],\n",
       "       [8.8398338e-06, 1.5902667e-03, 9.9778360e-01, 3.1188515e-04,\n",
       "        1.2815421e-10, 7.7037985e-05, 5.0187355e-05, 6.4847967e-11,\n",
       "        1.7816649e-04, 1.7198586e-10],\n",
       "       [5.4872751e-05, 9.8897833e-01, 2.2638228e-03, 8.3397032e-04,\n",
       "        4.9386703e-04, 4.7431901e-04, 3.5051690e-04, 4.9895309e-03,\n",
       "        1.4621484e-03, 9.8667770e-05]], dtype=float32)"
      ]
     },
     "execution_count": 21,
     "metadata": {},
     "output_type": "execute_result"
    }
   ],
   "source": [
    "# 預測(prediction)\n",
    "X = x_Test_norm\n",
    "predictions = np.argmax(model.predict(X), axis = 1) # np.argmax找出最佳的數字softmax\n",
    "model.predict(X)[:3]"
   ]
  },
  {
   "cell_type": "code",
   "execution_count": 22,
   "id": "90808f1e",
   "metadata": {},
   "outputs": [
    {
     "name": "stdout",
     "output_type": "stream",
     "text": [
      "prediction: [7 2 1 0 4 1 4 9 6 9 0 6 9 0 1 5 9 7 3 4]\n",
      "actual    : [7 2 1 0 4 1 4 9 5 9 0 6 9 0 1 5 9 7 3 4]\n"
     ]
    }
   ],
   "source": [
    "# get prediction result\n",
    "\n",
    "print('prediction:', predictions[0:20])\n",
    "print('actual    :', y_test[0:20])"
   ]
  },
  {
   "cell_type": "code",
   "execution_count": 23,
   "id": "e68f6bed",
   "metadata": {},
   "outputs": [],
   "source": [
    "# 模型結構存檔\n",
    "from keras.models import model_from_json\n",
    "json_string = model.to_json()\n",
    "with open(\"model.config\", \"w\") as text_file:\n",
    "    text_file.write(json_string)\n",
    "    \n",
    "# 模型訓練結果存檔\n",
    "model.save_weights(\"model.weight\")"
   ]
  },
  {
   "cell_type": "code",
   "execution_count": 24,
   "id": "1d2678bd",
   "metadata": {},
   "outputs": [
    {
     "data": {
      "image/png": "[encoded data removed]",
      "text/plain": [
       "<Figure size 600x600 with 1 Axes>"
      ]
     },
     "metadata": {},
     "output_type": "display_data"
    }
   ],
   "source": [
    "from sklearn.metrics import confusion_matrix\n",
    "confmat = confusion_matrix(y_true = y_test, y_pred = predictions)\n",
    "\n",
    "# draw confusion_matrix\n",
    "import matplotlib.pyplot as plt\n",
    "fig, ax = plt.subplots(figsize = (6, 6))\n",
    "ax.matshow(confmat, cmap = plt.cm.Blues, alpha = 0.3)\n",
    "for i in range(confmat.shape[0]):\n",
    "    for j in range(confmat.shape[1]):\n",
    "        ax.text(x = j, y = i, s = confmat[i, j], va = 'center', ha = 'center')\n",
    "\n",
    "plt.xlabel('Predicted label')\n",
    "plt.ylabel('True label')\n",
    "\n",
    "plt.tight_layout()\n",
    "#plt.savefig('images/06_09.png', dpi=300)\n",
    "plt.show()"
   ]
  },
  {
   "cell_type": "code",
   "execution_count": 25,
   "id": "980cd103",
   "metadata": {},
   "outputs": [
    {
     "name": "stdout",
     "output_type": "stream",
     "text": [
      "config =  {'name': 'sequential', 'layers': [{'class_name': 'InputLayer', 'config': {'batch_input_shape': (None, 784), 'dtype': 'float32', 'sparse': False, 'ragged': False, 'name': 'dense_input'}}, {'class_name': 'Dense', 'config': {'name': 'dense', 'trainable': True, 'batch_input_shape': (None, 784), 'dtype': 'float32', 'units': 256, 'activation': 'relu', 'use_bias': True, 'kernel_initializer': {'class_name': 'RandomNormal', 'config': {'mean': 0.0, 'stddev': 0.05, 'seed': None}}, 'bias_initializer': {'class_name': 'Zeros', 'config': {}}, 'kernel_regularizer': None, 'bias_regularizer': None, 'activity_regularizer': None, 'kernel_constraint': None, 'bias_constraint': None}}, {'class_name': 'Dense', 'config': {'name': 'dense_1', 'trainable': True, 'dtype': 'float32', 'units': 10, 'activation': 'softmax', 'use_bias': True, 'kernel_initializer': {'class_name': 'RandomNormal', 'config': {'mean': 0.0, 'stddev': 0.05, 'seed': None}}, 'bias_initializer': {'class_name': 'Zeros', 'config': {}}, 'kernel_regularizer': None, 'bias_regularizer': None, 'activity_regularizer': None, 'kernel_constraint': None, 'bias_constraint': None}}]}\n",
      "weights =  [array([[-0.03894916, -0.01983825, -0.04561664, ..., -0.12686679,\n",
      "        -0.09522513,  0.08171886],\n",
      "       [ 0.04759656, -0.02182171,  0.01165012, ...,  0.01915615,\n",
      "         0.00627425, -0.01478928],\n",
      "       [-0.0001909 ,  0.10478761, -0.00429312, ..., -0.0303178 ,\n",
      "         0.07042699,  0.00250883],\n",
      "       ...,\n",
      "       [ 0.08550716, -0.01161731, -0.07219502, ...,  0.03916274,\n",
      "        -0.00502896,  0.02429382],\n",
      "       [ 0.00851564,  0.13103689,  0.03871521, ..., -0.01487178,\n",
      "        -0.07091966,  0.02249723],\n",
      "       [-0.07547595,  0.07521947, -0.05898713, ...,  0.05910918,\n",
      "         0.0645641 ,  0.01818288]], dtype=float32), array([ 0.05798489,  0.0415066 ,  0.11423602, -0.01135205,  0.01968541,\n",
      "        0.00551905,  0.02434189,  0.04457536,  0.0314564 ,  0.03311314,\n",
      "       -0.01055527,  0.00901649, -0.03331111,  0.01393138,  0.03765642,\n",
      "        0.05155453, -0.05129974,  0.05264279,  0.00171022,  0.07093398,\n",
      "        0.02748315,  0.05056575,  0.03140343, -0.00133279, -0.01447168,\n",
      "       -0.05381913, -0.05933239, -0.00604853, -0.02175543,  0.06145134,\n",
      "       -0.01803192,  0.01031902, -0.01423391,  0.02250403, -0.03963334,\n",
      "        0.02477468,  0.07196718,  0.02590187,  0.02627368,  0.01207673,\n",
      "        0.05411826, -0.01202008,  0.07268093,  0.03428353,  0.10174365,\n",
      "        0.01329829,  0.0155935 ,  0.04995583,  0.05145292, -0.0283102 ,\n",
      "        0.02795908,  0.05336982,  0.03409682,  0.00488987,  0.07494564,\n",
      "       -0.00550216,  0.06899013,  0.07285549,  0.01878964,  0.03924291,\n",
      "        0.06048858,  0.05803072,  0.00939723,  0.01042635,  0.02937698,\n",
      "        0.04649879, -0.02997461,  0.03659103,  0.06733157,  0.02657869,\n",
      "        0.00745881,  0.01611732,  0.03135361,  0.01049729, -0.01280626,\n",
      "        0.07120249,  0.00872289,  0.00642341,  0.02659132,  0.12140379,\n",
      "        0.05755796,  0.04102915,  0.09578843, -0.04366035,  0.05969024,\n",
      "        0.06762322, -0.02701964,  0.04553674,  0.04667306, -0.01562128,\n",
      "       -0.04962314, -0.00397629,  0.02692898,  0.05926228,  0.02567753,\n",
      "        0.04430645,  0.01236403, -0.03221425,  0.0628188 ,  0.00752224,\n",
      "        0.00546807,  0.06561282,  0.03953225,  0.00667147,  0.02327782,\n",
      "        0.00870134, -0.04232298,  0.01895167, -0.00936043,  0.01460309,\n",
      "        0.01719165, -0.03277844, -0.00858571, -0.08525314,  0.05674011,\n",
      "        0.00149907,  0.03545873,  0.0557629 ,  0.04880742,  0.0675955 ,\n",
      "        0.03938967,  0.01601202,  0.05821244,  0.08195382,  0.05318074,\n",
      "        0.0159292 , -0.01077515,  0.02102656,  0.05529173,  0.0351358 ,\n",
      "        0.02509672, -0.07485425,  0.03404453,  0.05933671, -0.02098384,\n",
      "        0.01729934,  0.05919217, -0.00510732,  0.00770688,  0.06801061,\n",
      "        0.06690845,  0.04440283,  0.03863624,  0.07151987, -0.02898792,\n",
      "        0.01284344,  0.09602009, -0.01032699,  0.03680132,  0.03832349,\n",
      "        0.07076233,  0.09265928, -0.006705  ,  0.00415039,  0.03119309,\n",
      "       -0.00861682,  0.11212609, -0.0329498 ,  0.0072713 ,  0.07420871,\n",
      "        0.02784794, -0.00998296,  0.03929674, -0.07974926, -0.01795957,\n",
      "       -0.032253  ,  0.03665326,  0.02048716,  0.04631079, -0.02526427,\n",
      "        0.06694991,  0.05829382,  0.09712465,  0.00517138,  0.01737475,\n",
      "        0.01139925, -0.01829598, -0.00733786,  0.05755162, -0.00091413,\n",
      "        0.06431455, -0.00538664,  0.03352318, -0.00073056, -0.00517839,\n",
      "       -0.01843442,  0.01452991,  0.04668703,  0.00362866,  0.03486743,\n",
      "       -0.01502752,  0.00566085,  0.03561406, -0.02761022,  0.03519193,\n",
      "        0.02680194, -0.02838115,  0.01777908,  0.02245256, -0.02240155,\n",
      "        0.04856401, -0.02742915,  0.02700665,  0.00887871,  0.02368317,\n",
      "       -0.0131703 ,  0.02711242, -0.01261127,  0.04784882, -0.03016527,\n",
      "       -0.0060242 , -0.02946863,  0.00202642,  0.00971459, -0.01447851,\n",
      "        0.05335565,  0.01518944, -0.0113919 , -0.01118058,  0.03861676,\n",
      "        0.04099226, -0.04140059,  0.03629933, -0.00824704,  0.03015907,\n",
      "        0.05672086,  0.026988  ,  0.07248984,  0.03255714, -0.02639487,\n",
      "        0.07071579, -0.04955128,  0.04101804, -0.02946679, -0.01297093,\n",
      "        0.01379608,  0.04005364, -0.06635126,  0.0098491 , -0.00198066,\n",
      "        0.02502491,  0.04789072, -0.00945157,  0.04125376,  0.02160327,\n",
      "        0.05691525, -0.02429491,  0.0164304 ,  0.06244401, -0.00934045,\n",
      "        0.06028404, -0.01455214, -0.0059898 ,  0.05079965,  0.0061925 ,\n",
      "        0.03229725], dtype=float32), array([[-0.16640078,  0.00055515,  0.06256381, ..., -0.06035184,\n",
      "        -0.01680153, -0.07530116],\n",
      "       [-0.01825999, -0.11041787, -0.01920836, ...,  0.17093013,\n",
      "         0.03159586, -0.00741843],\n",
      "       [ 0.01318773, -0.07874465,  0.06689489, ..., -0.15957291,\n",
      "         0.03439616, -0.12849405],\n",
      "       ...,\n",
      "       [ 0.03700761, -0.04059843, -0.07652415, ...,  0.08450667,\n",
      "        -0.10334577,  0.0041968 ],\n",
      "       [ 0.08260725, -0.11388065, -0.04902178, ..., -0.12032837,\n",
      "         0.05788155, -0.06077158],\n",
      "       [-0.12868823, -0.14448196, -0.06758475, ...,  0.03045024,\n",
      "        -0.04583459,  0.10717443]], dtype=float32), array([-0.02811711,  0.03753141, -0.00491057, -0.01991311,  0.01276503,\n",
      "        0.04134679, -0.02641442,  0.0311989 , -0.04737647, -0.02174703],\n",
      "      dtype=float32)]\n",
      "Model: \"sequential\"\n",
      "_________________________________________________________________\n",
      " Layer (type)                Output Shape              Param #   \n",
      "=================================================================\n",
      " dense (Dense)               (None, 256)               200960    \n",
      "                                                                 \n",
      " dense_1 (Dense)             (None, 10)                2570      \n",
      "                                                                 \n",
      "=================================================================\n",
      "Total params: 203,530\n",
      "Trainable params: 203,530\n",
      "Non-trainable params: 0\n",
      "_________________________________________________________________\n",
      "summary =  None\n",
      "layer =  dense_1\n",
      "params =  203530\n"
     ]
    }
   ],
   "source": [
    "# 取得模型組態\n",
    "print(\"config = \", model.get_config())\n",
    "\n",
    "# 取得模型所有權重\n",
    "print(\"weights = \", model.get_weights())\n",
    "\n",
    "# 取得模型彙總資訊\n",
    "print(\"summary = \", model.summary())\n",
    "\n",
    "# 取得網路層資訊\n",
    "print(\"layer = \", model.get_layer(index = 1).name)\n",
    "\n",
    "# 取得參數總數\n",
    "print(\"params = \", model.count_params())"
   ]
  },
  {
   "cell_type": "markdown",
   "id": "3dc0282a",
   "metadata": {},
   "source": [
    "## 驗證Tensorflow_Scikit-Learn-Digit"
   ]
  },
  {
   "cell_type": "code",
   "execution_count": 1,
   "id": "3766d593",
   "metadata": {},
   "outputs": [],
   "source": [
    "# 導入函式庫\n",
    "import numpy as np\n",
    "import keras\n",
    "# from keras.models import Sequential\n",
    "from keras.datasets import mnist\n",
    "from keras.layers import Dense, Dropout, Activation, Flatten\n",
    "from keras.utils import np_utils  # 用來後續將label標籤轉為one-hot-encoding\n",
    "from matplotlib import pyplot as plt\n",
    "import os\n",
    "from datetime import datetime\n",
    "from sklearn import datasets\n",
    "from sklearn.model_selection import train_test_split\n",
    "\n",
    "start = datetime.now()\n",
    "\n",
    "# 載入MNIST資料庫的訓練資料，並自動分為『訓練組』及『測試組』\n",
    "mnist = datasets.load_digits()\n",
    "X, y = mnist.data, mnist.target\n",
    "X_train, X_test, y_train, y_test = train_test_split(X, y, test_size = 0.2, random_state = 1234)\n",
    "# (X_train, y_train), (X_test, y_test) = mnist.load_data()"
   ]
  },
  {
   "cell_type": "code",
   "execution_count": 2,
   "id": "efa90f06",
   "metadata": {},
   "outputs": [
    {
     "data": {
      "text/plain": [
       "((1437, 64), (360, 64))"
      ]
     },
     "execution_count": 2,
     "metadata": {},
     "output_type": "execute_result"
    }
   ],
   "source": [
    "X_train.shape, X_test.shape"
   ]
  },
  {
   "cell_type": "code",
   "execution_count": 3,
   "id": "414d3a62",
   "metadata": {},
   "outputs": [
    {
     "data": {
      "image/png": "[encoded data removed]",
      "text/plain": [
       "<Figure size 80x80 with 1 Axes>"
      ]
     },
     "metadata": {},
     "output_type": "display_data"
    },
    {
     "data": {
      "image/png": "[encoded data removed]",
      "text/plain": [
       "<Figure size 80x80 with 1 Axes>"
      ]
     },
     "metadata": {},
     "output_type": "display_data"
    },
    {
     "data": {
      "image/png": "[encoded data removed]",
      "text/plain": [
       "<Figure size 80x80 with 1 Axes>"
      ]
     },
     "metadata": {},
     "output_type": "display_data"
    },
    {
     "data": {
      "image/png": "[encoded data removed]",
      "text/plain": [
       "<Figure size 80x80 with 1 Axes>"
      ]
     },
     "metadata": {},
     "output_type": "display_data"
    },
    {
     "data": {
      "image/png": "[encoded data removed]",
      "text/plain": [
       "<Figure size 80x80 with 1 Axes>"
      ]
     },
     "metadata": {},
     "output_type": "display_data"
    }
   ],
   "source": [
    "%matplotlib inline\n",
    "import matplotlib.pyplot as plt\n",
    "\n",
    "for i in range(5):\n",
    "    plt.figure(figsize = (0.8 , 0.8))\n",
    "    plt.imshow(X_train[i].reshape(8, 8), cmap = 'gray_r')\n",
    "    plt.axis('off')\n",
    "    plt.show()"
   ]
  },
  {
   "cell_type": "code",
   "execution_count": 4,
   "id": "46a64cff",
   "metadata": {},
   "outputs": [],
   "source": [
    "# 建立簡單的線性執行的模型\n",
    "model = keras.models.Sequential()\n",
    "\n",
    "# Add Input layer, 隱藏層(hidden layer) 有 256個輸出變數\n",
    "model.add(Dense(units = 256, input_dim = 8 * 8, kernel_initializer = 'normal', activation = 'relu')) \n",
    "model.add(Dense(units = 64, kernel_initializer = 'normal', activation = 'relu')) # 第二層 NN\n",
    "\n",
    "# Add output layer\n",
    "model.add(Dense(units = 10, kernel_initializer = 'normal', activation = 'softmax'))\n",
    "\n",
    "# 編譯：選擇損失函數、優化方法及成效衡量方式\n",
    "model.compile(loss = 'categorical_crossentropy', optimizer = 'adam', metrics = ['accuracy']) \n",
    "\n",
    "# 將Training的label進行one-hot encoding，例如數字7經過One-hot encoding，轉換後是0000001000，即第7個值為1"
   ]
  },
  {
   "cell_type": "code",
   "execution_count": 5,
   "id": "f7cb3b7a",
   "metadata": {},
   "outputs": [
    {
     "name": "stdout",
     "output_type": "stream",
     "text": [
      "Model: \"sequential\"\n",
      "_________________________________________________________________\n",
      " Layer (type)                Output Shape              Param #   \n",
      "=================================================================\n",
      " dense (Dense)               (None, 256)               16640     \n",
      "                                                                 \n",
      " dense_1 (Dense)             (None, 64)                16448     \n",
      "                                                                 \n",
      " dense_2 (Dense)             (None, 10)                650       \n",
      "                                                                 \n",
      "=================================================================\n",
      "Total params: 33,738\n",
      "Trainable params: 33,738\n",
      "Non-trainable params: 0\n",
      "_________________________________________________________________\n"
     ]
    }
   ],
   "source": [
    "model.summary()"
   ]
  },
  {
   "cell_type": "code",
   "execution_count": 6,
   "id": "35a7e841",
   "metadata": {},
   "outputs": [
    {
     "data": {
      "text/plain": [
       "(array([7, 1, 7]),\n",
       " array([[0., 0., 0., 0., 0., 0., 0., 1., 0., 0.],\n",
       "        [0., 1., 0., 0., 0., 0., 0., 0., 0., 0.],\n",
       "        [0., 0., 0., 0., 0., 0., 0., 1., 0., 0.]], dtype=float32))"
      ]
     },
     "execution_count": 6,
     "metadata": {},
     "output_type": "execute_result"
    }
   ],
   "source": [
    "y_test[:3],\\\n",
    "np_utils.to_categorical(y_test)[:3]"
   ]
  },
  {
   "cell_type": "code",
   "execution_count": 7,
   "id": "51c19bc6",
   "metadata": {},
   "outputs": [
    {
     "data": {
      "text/plain": [
       "((1437, 64), (360, 64))"
      ]
     },
     "execution_count": 7,
     "metadata": {},
     "output_type": "execute_result"
    }
   ],
   "source": [
    "X_train.shape, X_test.shape"
   ]
  },
  {
   "cell_type": "code",
   "execution_count": 8,
   "id": "54ef9ad9",
   "metadata": {},
   "outputs": [
    {
     "name": "stdout",
     "output_type": "stream",
     "text": [
      "Epoch 1/40\n",
      "115/115 [==============================] - 2s 6ms/step - loss: 2.2391 - accuracy: 0.2715 - val_loss: 2.0378 - val_accuracy: 0.4688\n",
      "Epoch 2/40\n",
      "115/115 [==============================] - 0s 4ms/step - loss: 1.4933 - accuracy: 0.6214 - val_loss: 1.0684 - val_accuracy: 0.7014\n",
      "Epoch 3/40\n",
      "115/115 [==============================] - 0s 3ms/step - loss: 0.8468 - accuracy: 0.7598 - val_loss: 0.7452 - val_accuracy: 0.7986\n",
      "Epoch 4/40\n",
      "115/115 [==============================] - 0s 3ms/step - loss: 0.6463 - accuracy: 0.8050 - val_loss: 0.6108 - val_accuracy: 0.8299\n",
      "Epoch 5/40\n",
      "115/115 [==============================] - 0s 4ms/step - loss: 0.5520 - accuracy: 0.8207 - val_loss: 0.4840 - val_accuracy: 0.8819\n",
      "Epoch 6/40\n",
      "115/115 [==============================] - 0s 4ms/step - loss: 0.4675 - accuracy: 0.8625 - val_loss: 0.4135 - val_accuracy: 0.8854\n",
      "Epoch 7/40\n",
      "115/115 [==============================] - 0s 4ms/step - loss: 0.4153 - accuracy: 0.8721 - val_loss: 0.3847 - val_accuracy: 0.8993\n",
      "Epoch 8/40\n",
      "115/115 [==============================] - 0s 4ms/step - loss: 0.3779 - accuracy: 0.8782 - val_loss: 0.3672 - val_accuracy: 0.8958\n",
      "Epoch 9/40\n",
      "115/115 [==============================] - 0s 3ms/step - loss: 0.3375 - accuracy: 0.8930 - val_loss: 0.3071 - val_accuracy: 0.9201\n",
      "Epoch 10/40\n",
      "115/115 [==============================] - 0s 3ms/step - loss: 0.3164 - accuracy: 0.9034 - val_loss: 0.2922 - val_accuracy: 0.9097\n",
      "Epoch 11/40\n",
      "115/115 [==============================] - 0s 3ms/step - loss: 0.2925 - accuracy: 0.9051 - val_loss: 0.2994 - val_accuracy: 0.9167\n",
      "Epoch 12/40\n",
      "115/115 [==============================] - 0s 3ms/step - loss: 0.2702 - accuracy: 0.9147 - val_loss: 0.2809 - val_accuracy: 0.9236\n",
      "Epoch 13/40\n",
      "115/115 [==============================] - 0s 3ms/step - loss: 0.2582 - accuracy: 0.9217 - val_loss: 0.2573 - val_accuracy: 0.9236\n",
      "Epoch 14/40\n",
      "115/115 [==============================] - 0s 3ms/step - loss: 0.2351 - accuracy: 0.9252 - val_loss: 0.2476 - val_accuracy: 0.9306\n",
      "Epoch 15/40\n",
      "115/115 [==============================] - 0s 3ms/step - loss: 0.2189 - accuracy: 0.9347 - val_loss: 0.2508 - val_accuracy: 0.9340\n",
      "Epoch 16/40\n",
      "115/115 [==============================] - 0s 4ms/step - loss: 0.2060 - accuracy: 0.9382 - val_loss: 0.2452 - val_accuracy: 0.9375\n",
      "Epoch 17/40\n",
      "115/115 [==============================] - 0s 3ms/step - loss: 0.1965 - accuracy: 0.9452 - val_loss: 0.2187 - val_accuracy: 0.9549\n",
      "Epoch 18/40\n",
      "115/115 [==============================] - 0s 4ms/step - loss: 0.1881 - accuracy: 0.9426 - val_loss: 0.2200 - val_accuracy: 0.9340\n",
      "Epoch 19/40\n",
      "115/115 [==============================] - 0s 3ms/step - loss: 0.1729 - accuracy: 0.9521 - val_loss: 0.2191 - val_accuracy: 0.9410\n",
      "Epoch 20/40\n",
      "115/115 [==============================] - 0s 4ms/step - loss: 0.1643 - accuracy: 0.9530 - val_loss: 0.2018 - val_accuracy: 0.9444\n",
      "Epoch 21/40\n",
      "115/115 [==============================] - 0s 3ms/step - loss: 0.1596 - accuracy: 0.9521 - val_loss: 0.2124 - val_accuracy: 0.9479\n",
      "Epoch 22/40\n",
      "115/115 [==============================] - 0s 3ms/step - loss: 0.1500 - accuracy: 0.9556 - val_loss: 0.2116 - val_accuracy: 0.9410\n",
      "Epoch 23/40\n",
      "115/115 [==============================] - 0s 3ms/step - loss: 0.1406 - accuracy: 0.9617 - val_loss: 0.2048 - val_accuracy: 0.9444\n",
      "Epoch 24/40\n",
      "115/115 [==============================] - 0s 3ms/step - loss: 0.1317 - accuracy: 0.9669 - val_loss: 0.1922 - val_accuracy: 0.9375\n",
      "Epoch 25/40\n",
      "115/115 [==============================] - 0s 4ms/step - loss: 0.1255 - accuracy: 0.9652 - val_loss: 0.1921 - val_accuracy: 0.9549\n",
      "Epoch 26/40\n",
      "115/115 [==============================] - 0s 3ms/step - loss: 0.1197 - accuracy: 0.9643 - val_loss: 0.1904 - val_accuracy: 0.9514\n",
      "Epoch 27/40\n",
      "115/115 [==============================] - 0s 3ms/step - loss: 0.1158 - accuracy: 0.9669 - val_loss: 0.1856 - val_accuracy: 0.9479\n",
      "Epoch 28/40\n",
      "115/115 [==============================] - 0s 3ms/step - loss: 0.1095 - accuracy: 0.9721 - val_loss: 0.1819 - val_accuracy: 0.9479\n",
      "Epoch 29/40\n",
      "115/115 [==============================] - 0s 3ms/step - loss: 0.1033 - accuracy: 0.9774 - val_loss: 0.1827 - val_accuracy: 0.9514\n",
      "Epoch 30/40\n",
      "115/115 [==============================] - 0s 3ms/step - loss: 0.1039 - accuracy: 0.9695 - val_loss: 0.1972 - val_accuracy: 0.9514\n",
      "Epoch 31/40\n",
      "115/115 [==============================] - 0s 4ms/step - loss: 0.0928 - accuracy: 0.9782 - val_loss: 0.1774 - val_accuracy: 0.9514\n",
      "Epoch 32/40\n",
      "115/115 [==============================] - 0s 3ms/step - loss: 0.0886 - accuracy: 0.9739 - val_loss: 0.1810 - val_accuracy: 0.9444\n",
      "Epoch 33/40\n",
      "115/115 [==============================] - 0s 3ms/step - loss: 0.0933 - accuracy: 0.9756 - val_loss: 0.1727 - val_accuracy: 0.9583\n",
      "Epoch 34/40\n",
      "115/115 [==============================] - 0s 4ms/step - loss: 0.0873 - accuracy: 0.9756 - val_loss: 0.2090 - val_accuracy: 0.9375\n",
      "Epoch 35/40\n",
      "115/115 [==============================] - 0s 4ms/step - loss: 0.0804 - accuracy: 0.9817 - val_loss: 0.1688 - val_accuracy: 0.9549\n",
      "Epoch 36/40\n",
      "115/115 [==============================] - 0s 3ms/step - loss: 0.0827 - accuracy: 0.9730 - val_loss: 0.1635 - val_accuracy: 0.9514\n",
      "Epoch 37/40\n",
      "115/115 [==============================] - 0s 4ms/step - loss: 0.0721 - accuracy: 0.9835 - val_loss: 0.1887 - val_accuracy: 0.9410\n",
      "Epoch 38/40\n",
      "115/115 [==============================] - 0s 3ms/step - loss: 0.0717 - accuracy: 0.9809 - val_loss: 0.1752 - val_accuracy: 0.9410\n",
      "Epoch 39/40\n",
      "115/115 [==============================] - 0s 4ms/step - loss: 0.0700 - accuracy: 0.9826 - val_loss: 0.1630 - val_accuracy: 0.9583\n",
      "Epoch 40/40\n",
      "115/115 [==============================] - 0s 4ms/step - loss: 0.0664 - accuracy: 0.9861 - val_loss: 0.1781 - val_accuracy: 0.9583\n"
     ]
    }
   ],
   "source": [
    "# 將Training的label進行one-hot encoding，例如數字7經過One-hot encoding，轉換後是0000001000，即第7個值為1\n",
    "y_TrainOneHot = np_utils.to_categorical(y_train) \n",
    "y_TestOneHot = np_utils.to_categorical(y_test) \n",
    "\n",
    "\n",
    "# 將Training的Input資料轉為二維\n",
    "X_train_2D = X_train.reshape(X_train.shape[0], 8 * 8).astype('float32')  \n",
    "X_test_2D = X_test.reshape(X_test.shape[0], 8 * 8).astype('float32')  \n",
    "\n",
    "x_Train_norm = X_train_2D / 255 # 標準化就是0-1之間數字\n",
    "x_Test_norm = X_test_2D / 255\n",
    "\n",
    "# 進行訓練，訓練過程會存在train_history變數中callback\n",
    "train_history = model.fit(x = x_Train_norm, y = y_TrainOneHot, \n",
    "                          validation_split = 0.2, \n",
    "                          epochs = 40, \n",
    "                          batch_size = 10, \n",
    "                          verbose = 1\n",
    "                          )  "
   ]
  },
  {
   "cell_type": "code",
   "execution_count": 9,
   "id": "e1dccb86",
   "metadata": {},
   "outputs": [
    {
     "data": {
      "text/plain": [
       "dict_keys(['loss', 'accuracy', 'val_loss', 'val_accuracy'])"
      ]
     },
     "execution_count": 9,
     "metadata": {},
     "output_type": "execute_result"
    }
   ],
   "source": [
    "train_history.history.keys()"
   ]
  },
  {
   "cell_type": "code",
   "execution_count": 10,
   "id": "29daa31c",
   "metadata": {},
   "outputs": [
    {
     "data": {
      "image/png": "[encoded data removed]",
      "text/plain": [
       "<Figure size 640x480 with 1 Axes>"
      ]
     },
     "metadata": {},
     "output_type": "display_data"
    }
   ],
   "source": [
    "%matplotlib inline\n",
    "# accuracy chart\n",
    "import matplotlib.pyplot as plt\n",
    "\n",
    "plt.plot(train_history.history['accuracy'], color = 'red')\n",
    "plt.plot(train_history.history['val_accuracy'], color = 'blue')\n",
    "plt.grid()\n",
    "plt.show()"
   ]
  },
  {
   "cell_type": "code",
   "execution_count": 11,
   "id": "c2345c68",
   "metadata": {},
   "outputs": [
    {
     "data": {
      "image/png": "[encoded data removed]",
      "text/plain": [
       "<Figure size 640x480 with 1 Axes>"
      ]
     },
     "metadata": {},
     "output_type": "display_data"
    }
   ],
   "source": [
    "%matplotlib inline\n",
    "# loss chart\n",
    "import matplotlib.pyplot as plt\n",
    "\n",
    "plt.plot(train_history.history['loss'], color = 'red')\n",
    "plt.plot(train_history.history['val_loss'], color = 'blue')\n",
    "plt.grid()\n",
    "plt.show()"
   ]
  },
  {
   "cell_type": "code",
   "execution_count": 12,
   "id": "21501b7a",
   "metadata": {},
   "outputs": [
    {
     "name": "stdout",
     "output_type": "stream",
     "text": [
      "12/12 [==============================] - 0s 4ms/step - loss: 0.1645 - accuracy: 0.9444\n",
      "\t[Info] Accuracy of testing data = 94.4%\n",
      "45/45 [==============================] - 0s 3ms/step - loss: 0.0812 - accuracy: 0.9833\n",
      "\t[Info] Accuracy of training data = 98.3%\n"
     ]
    }
   ],
   "source": [
    "# 顯示訓練成果（分數）\n",
    "\n",
    "scores = model.evaluate(x_Test_norm, y_TestOneHot)\n",
    "print(\"\\t[Info] Accuracy of testing data = {:2.1f}%\".format(scores[1] * 100.0))\n",
    "scores = model.evaluate(x_Train_norm, y_TrainOneHot)\n",
    "print(\"\\t[Info] Accuracy of training data = {:2.1f}%\".format(scores[1] * 100.0))"
   ]
  },
  {
   "cell_type": "code",
   "execution_count": 13,
   "id": "20d99b83",
   "metadata": {},
   "outputs": [
    {
     "data": {
      "text/plain": [
       "array([[2.29194132e-13, 1.75221976e-06, 5.99481098e-12, 1.17227955e-07,\n",
       "        9.40834013e-07, 5.48410640e-07, 6.99148274e-17, 9.99941945e-01,\n",
       "        7.98776728e-06, 4.67375612e-05],\n",
       "       [5.51109952e-06, 9.34579730e-01, 4.33534095e-14, 1.20234178e-09,\n",
       "        9.40624718e-03, 1.93619826e-06, 1.10935979e-03, 3.68231809e-07,\n",
       "        1.58462627e-03, 5.33122942e-02],\n",
       "       [1.76289209e-15, 1.08464633e-06, 4.63711025e-09, 8.30014415e-06,\n",
       "        3.92499402e-08, 1.83213615e-07, 4.75435747e-18, 9.99961972e-01,\n",
       "        1.40585453e-05, 1.42609370e-05]], dtype=float32)"
      ]
     },
     "execution_count": 13,
     "metadata": {},
     "output_type": "execute_result"
    }
   ],
   "source": [
    "# 預測（prediction）\n",
    "\n",
    "X = x_Test_norm\n",
    "predictions = np.argmax(model.predict(X), axis = 1) # np.argmax找出最佳的數字softmax\n",
    "model.predict(X)[:3]"
   ]
  },
  {
   "cell_type": "code",
   "execution_count": 14,
   "id": "4fac38da",
   "metadata": {},
   "outputs": [
    {
     "name": "stdout",
     "output_type": "stream",
     "text": [
      "prediction: [7 1 7 6 0 2 4 3 6 3 7 8 7 9 4 3 8 7 8 4]\n",
      "actual    : [7 1 7 6 0 2 4 3 6 3 7 8 7 9 4 3 8 7 8 4]\n"
     ]
    }
   ],
   "source": [
    "# get prediction result\n",
    "print('prediction:', predictions[0:20])\n",
    "print('actual    :', y_test[0:20])"
   ]
  },
  {
   "cell_type": "code",
   "execution_count": 15,
   "id": "c6a61b99",
   "metadata": {},
   "outputs": [
    {
     "data": {
      "image/png": "[encoded data removed]",
      "text/plain": [
       "<Figure size 600x600 with 1 Axes>"
      ]
     },
     "metadata": {},
     "output_type": "display_data"
    }
   ],
   "source": [
    "from sklearn.metrics import confusion_matrix\n",
    "confmat = confusion_matrix(y_true = y_test, y_pred = predictions)\n",
    "\n",
    "# draw confusion_matrix\n",
    "import matplotlib.pyplot as plt\n",
    "fig, ax = plt.subplots(figsize = (6, 6))\n",
    "ax.matshow(confmat, cmap = plt.cm.Blues, alpha = 0.3)\n",
    "for i in range(confmat.shape[0]):\n",
    "    for j in range(confmat.shape[1]):\n",
    "        ax.text(x = j, y = i, s = confmat[i, j], va = 'center', ha = 'center')\n",
    "\n",
    "plt.xlabel('Predicted label')\n",
    "plt.ylabel('True label')\n",
    "\n",
    "plt.tight_layout()\n",
    "# plt.savefig('images/06_09.png', dpi = 300)\n",
    "plt.show()"
   ]
  }
 ],
 "metadata": {
  "kernelspec": {
   "display_name": "Python 3 (ipykernel)",
   "language": "python",
   "name": "python3"
  },
  "language_info": {
   "codemirror_mode": {
    "name": "ipython",
    "version": 3
   },
   "file_extension": ".py",
   "mimetype": "text/x-python",
   "name": "python",
   "nbconvert_exporter": "python",
   "pygments_lexer": "ipython3",
   "version": "3.10.7"
  }
 },
 "nbformat": 4,
 "nbformat_minor": 5
}
