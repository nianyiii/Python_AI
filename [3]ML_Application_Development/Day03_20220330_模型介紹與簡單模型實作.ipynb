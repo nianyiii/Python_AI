{
 "cells": [
  {
   "cell_type": "markdown",
   "id": "c20c1eac",
   "metadata": {},
   "source": [
    "## Python Machine Learning - Code Examples\n",
    "### Chapter 2 - Training Machine Learning Algorithms for Classification\n",
    "The formal definition of an artificial neuron"
   ]
  },
  {
   "cell_type": "code",
   "execution_count": 2,
   "id": "55f4f24d",
   "metadata": {},
   "outputs": [],
   "source": [
    "import numpy as np\n",
    "\n",
    "class Perceptron(object):\n",
    "    \"\"\"Perceptron classifier.\n",
    "\n",
    "    Parameters\n",
    "    ------------\n",
    "    eta : float\n",
    "      Learning rate (between 0.0 and 1.0)\n",
    "    n_iter : int\n",
    "      Passes over the training dataset.\n",
    "    random_state : int\n",
    "      Random number generator seed for random weight\n",
    "      initialization.\n",
    "\n",
    "    Attributes\n",
    "    -----------\n",
    "    w_ : 1d-array\n",
    "      Weights after fitting.\n",
    "    errors_ : list\n",
    "      Number of misclassifications (updates) in each epoch.\n",
    "\n",
    "    \"\"\" \n",
    "    # 每一個類別都會 __init__ 預設方法 初始過程會被啟動\n",
    "    def __init__(self, eta = 0.01, n_iter = 50, random_state = 1):\n",
    "        self.eta = eta                    # 類別內部變數宣告self.XXX        >>學習率\n",
    "        self.n_iter = n_iter              # 類別內部變數可以直接跨越方法存取 >>round整理計算\n",
    "        self.random_state = random_state  #                               >>初始化權重\n",
    "    \n",
    "    # 這是類別提供的額外方法（函數）\n",
    "    def fit(self, X, y):\n",
    "        \"\"\"Fit training data.\n",
    "\n",
    "        Parameters\n",
    "        ----------\n",
    "        X : {array-like}, shape = [n_samples, n_features]\n",
    "          Training vectors, where n_samples is the number of samples and\n",
    "          n_features is the number of features.\n",
    "        y : array-like, shape = [n_samples]\n",
    "          Target values.\n",
    "\n",
    "        Returns\n",
    "        -------\n",
    "        self : object\n",
    "\n",
    "        \"\"\" \n",
    "        # 以下兩行是用來初始化權重\n",
    "        rgen = np.random.RandomState(self.random_state)\n",
    "        self.w_ = rgen.normal(loc = 0.0, scale = 0.01, size = 1 + X.shape[1])\n",
    "        self.errors_ = [] # 每一round = epoch所有數據的預測與真正錯誤次數\n",
    "        \n",
    "        # _ : 表示不重要變數 來代表跑幾次\n",
    "        for _ in range(self.n_iter):\n",
    "            errors = 0 # 每一round先將錯誤歸零\n",
    "            for xi, target in zip(X, y): # 每一次每一筆資料\n",
    "                update = self.eta * (target - self.predict(xi)) # xi :單筆所有欄位\n",
    "                self.w_[1:] += update * xi\n",
    "                self.w_[0] += update\n",
    "                errors += int(update != 0.0)\n",
    "            self.errors_.append(errors) # 每一round所有錯誤\n",
    "        return self\n",
    "\n",
    "    def net_input(self, X): # 計算xi w乘積\n",
    "        \"\"\"Calculate net input\"\"\"\n",
    "        return np.dot(X, self.w_[1:]) + self.w_[0]\n",
    " \n",
    "    def predict(self, X): # 判斷函數\n",
    "        \"\"\"Return class label after unit step\"\"\"\n",
    "        return np.where(self.net_input(X) >= 0.0, 1, -1)"
   ]
  },
  {
   "cell_type": "code",
   "execution_count": 3,
   "id": "c3592d7a",
   "metadata": {},
   "outputs": [],
   "source": [
    "model = Perceptron()"
   ]
  },
  {
   "cell_type": "code",
   "execution_count": 4,
   "id": "4c157ecd",
   "metadata": {},
   "outputs": [
    {
     "data": {
      "text/plain": [
       "dict_keys(['data', 'target', 'frame', 'target_names', 'DESCR', 'feature_names', 'filename', 'data_module'])"
      ]
     },
     "execution_count": 4,
     "metadata": {},
     "output_type": "execute_result"
    }
   ],
   "source": [
    "from sklearn import datasets\n",
    "iris = datasets.load_iris()\n",
    "iris.keys()"
   ]
  },
  {
   "cell_type": "code",
   "execution_count": 5,
   "id": "5ba473c8",
   "metadata": {},
   "outputs": [
    {
     "data": {
      "text/plain": [
       "array([[5.1, 3.5],\n",
       "       [4.9, 3. ],\n",
       "       [4.7, 3.2]])"
      ]
     },
     "execution_count": 5,
     "metadata": {},
     "output_type": "execute_result"
    }
   ],
   "source": [
    "# 僅取全部特徵的前一百筆數據，之後再取出前面兩個欄位，再顯示前三筆數據\n",
    "iris['data'][:100][:, [0, 1]][:3]"
   ]
  },
  {
   "cell_type": "code",
   "execution_count": 6,
   "id": "5da58977",
   "metadata": {},
   "outputs": [
    {
     "data": {
      "text/plain": [
       "(array([[5.1, 3.5],\n",
       "        [4.9, 3. ],\n",
       "        [4.7, 3.2]]),\n",
       " array([-1,  1]))"
      ]
     },
     "execution_count": 6,
     "metadata": {},
     "output_type": "execute_result"
    }
   ],
   "source": [
    "import numpy as np\n",
    "                        # numpy slicing\n",
    "X, y = iris['data'][:100][:, [0, 1]], np.where(iris.get('target')[:100] == 0, -1, 1)\n",
    "# 二分類：取前面一百筆，並且利用變更target從0, 1 --> -1, 1\n",
    "X[:3], np.unique(y)"
   ]
  },
  {
   "cell_type": "code",
   "execution_count": 7,
   "id": "33096856",
   "metadata": {},
   "outputs": [
    {
     "data": {
      "text/plain": [
       "<__main__.Perceptron at 0x1c653b9d150>"
      ]
     },
     "execution_count": 7,
     "metadata": {},
     "output_type": "execute_result"
    }
   ],
   "source": [
    "model.fit(X, y)"
   ]
  },
  {
   "cell_type": "code",
   "execution_count": 8,
   "id": "e78160a6",
   "metadata": {},
   "outputs": [
    {
     "data": {
      "image/png": "[encoded data removed]",
      "text/plain": [
       "<Figure size 640x480 with 1 Axes>"
      ]
     },
     "metadata": {},
     "output_type": "display_data"
    }
   ],
   "source": [
    "import matplotlib.pyplot as plt\n",
    "plt.plot(model.errors_, color = 'red')\n",
    "plt.grid()\n",
    "plt.show() # 結果：無法收斂"
   ]
  },
  {
   "cell_type": "code",
   "execution_count": 9,
   "id": "24c2914a",
   "metadata": {},
   "outputs": [
    {
     "data": {
      "text/plain": [
       "array([-0.22375655,  0.59788244, -0.76528172])"
      ]
     },
     "execution_count": 9,
     "metadata": {},
     "output_type": "execute_result"
    }
   ],
   "source": [
    "# 模型資訊\n",
    "model.w_"
   ]
  },
  {
   "cell_type": "markdown",
   "id": "676604b5",
   "metadata": {},
   "source": [
    "#### 調整參數訓練多次"
   ]
  },
  {
   "cell_type": "code",
   "execution_count": 10,
   "id": "f8746428",
   "metadata": {},
   "outputs": [],
   "source": [
    "import numpy as np\n",
    "\n",
    "class Perceptron(object):\n",
    "    \"\"\"Perceptron classifier.\n",
    "\n",
    "    Parameters\n",
    "    ------------\n",
    "    eta : float\n",
    "      Learning rate (between 0.0 and 1.0)\n",
    "    n_iter : int\n",
    "      Passes over the training dataset.\n",
    "    random_state : int\n",
    "      Random number generator seed for random weight\n",
    "      initialization.\n",
    "\n",
    "    Attributes\n",
    "    -----------\n",
    "    w_ : 1d-array\n",
    "      Weights after fitting.\n",
    "    errors_ : list\n",
    "      Number of misclassifications (updates) in each epoch.\n",
    "\n",
    "    \"\"\" \n",
    "    # 每一個類別都會 __init__ 預設方法 初始過程會被啟動\n",
    "    def __init__(self, eta = 0.01, n_iter = 50, random_state = 1):\n",
    "        self.eta = eta                    # 類別內部變數宣告self.XXX        >>學習率\n",
    "        self.n_iter = n_iter              # 類別內部變數可以直接跨越方法存取 >>round整理計算\n",
    "        self.random_state = random_state  #                               >>初始化權重\n",
    "    \n",
    "    # 這是類別提供的額外方法（函數）\n",
    "    def fit(self, X, y):\n",
    "        \"\"\"Fit training data.\n",
    "\n",
    "        Parameters\n",
    "        ----------\n",
    "        X : {array-like}, shape = [n_samples, n_features]\n",
    "          Training vectors, where n_samples is the number of samples and\n",
    "          n_features is the number of features.\n",
    "        y : array-like, shape = [n_samples]\n",
    "          Target values.\n",
    "\n",
    "        Returns\n",
    "        -------\n",
    "        self : object\n",
    "\n",
    "        \"\"\" \n",
    "        # 以下兩行是用來初始化權重\n",
    "        rgen = np.random.RandomState(self.random_state)\n",
    "        self.w_ = rgen.normal(loc = 0.0, scale = 0.01, size = 1 + X.shape[1])\n",
    "        self.errors_ = [] # 每一round = epoch所有數據的預測與真正錯誤次數\n",
    "        \n",
    "        # _ : 表示不重要變數 來代表跑幾次\n",
    "        for _ in range(self.n_iter):\n",
    "            errors = 0 # 每一round先將錯誤歸零\n",
    "            for xi, target in zip(X, y): # 每一次每一筆資料\n",
    "                update = self.eta * (target - self.predict(xi)) # xi :單筆所有欄位\n",
    "                self.w_[1:] += update * xi\n",
    "                self.w_[0] += update\n",
    "                errors += int(update != 0.0)\n",
    "            self.errors_.append(errors) # 每一round所有錯誤\n",
    "        return self\n",
    "\n",
    "    def net_input(self, X): # 計算xi w乘積\n",
    "        \"\"\"Calculate net input\"\"\"\n",
    "        return np.dot(X, self.w_[1:]) + self.w_[0]\n",
    " \n",
    "    def predict(self, X): # 判斷函數\n",
    "        \"\"\"Return class label after unit step\"\"\"\n",
    "        return np.where(self.net_input(X) >= 0.0, 1, -1)"
   ]
  },
  {
   "cell_type": "code",
   "execution_count": 11,
   "id": "87550dda",
   "metadata": {},
   "outputs": [],
   "source": [
    "model = Perceptron(n_iter = 1000) # 強迫訓練收斂到global mininum"
   ]
  },
  {
   "cell_type": "code",
   "execution_count": 12,
   "id": "81d362d4",
   "metadata": {},
   "outputs": [
    {
     "data": {
      "text/plain": [
       "dict_keys(['data', 'target', 'frame', 'target_names', 'DESCR', 'feature_names', 'filename', 'data_module'])"
      ]
     },
     "execution_count": 12,
     "metadata": {},
     "output_type": "execute_result"
    }
   ],
   "source": [
    "from sklearn import datasets\n",
    "iris = datasets.load_iris()\n",
    "iris.keys()"
   ]
  },
  {
   "cell_type": "code",
   "execution_count": 13,
   "id": "8ed1ab88",
   "metadata": {},
   "outputs": [
    {
     "data": {
      "text/plain": [
       "array([[5.1, 3.5, 1.4, 0.2],\n",
       "       [4.9, 3. , 1.4, 0.2],\n",
       "       [4.7, 3.2, 1.3, 0.2],\n",
       "       [4.6, 3.1, 1.5, 0.2],\n",
       "       [5. , 3.6, 1.4, 0.2],\n",
       "       [5.4, 3.9, 1.7, 0.4],\n",
       "       [4.6, 3.4, 1.4, 0.3],\n",
       "       [5. , 3.4, 1.5, 0.2],\n",
       "       [4.4, 2.9, 1.4, 0.2],\n",
       "       [4.9, 3.1, 1.5, 0.1],\n",
       "       [5.4, 3.7, 1.5, 0.2],\n",
       "       [4.8, 3.4, 1.6, 0.2],\n",
       "       [4.8, 3. , 1.4, 0.1],\n",
       "       [4.3, 3. , 1.1, 0.1],\n",
       "       [5.8, 4. , 1.2, 0.2],\n",
       "       [5.7, 4.4, 1.5, 0.4],\n",
       "       [5.4, 3.9, 1.3, 0.4],\n",
       "       [5.1, 3.5, 1.4, 0.3],\n",
       "       [5.7, 3.8, 1.7, 0.3],\n",
       "       [5.1, 3.8, 1.5, 0.3],\n",
       "       [5.4, 3.4, 1.7, 0.2],\n",
       "       [5.1, 3.7, 1.5, 0.4],\n",
       "       [4.6, 3.6, 1. , 0.2],\n",
       "       [5.1, 3.3, 1.7, 0.5],\n",
       "       [4.8, 3.4, 1.9, 0.2],\n",
       "       [5. , 3. , 1.6, 0.2],\n",
       "       [5. , 3.4, 1.6, 0.4],\n",
       "       [5.2, 3.5, 1.5, 0.2],\n",
       "       [5.2, 3.4, 1.4, 0.2],\n",
       "       [4.7, 3.2, 1.6, 0.2],\n",
       "       [4.8, 3.1, 1.6, 0.2],\n",
       "       [5.4, 3.4, 1.5, 0.4],\n",
       "       [5.2, 4.1, 1.5, 0.1],\n",
       "       [5.5, 4.2, 1.4, 0.2],\n",
       "       [4.9, 3.1, 1.5, 0.2],\n",
       "       [5. , 3.2, 1.2, 0.2],\n",
       "       [5.5, 3.5, 1.3, 0.2],\n",
       "       [4.9, 3.6, 1.4, 0.1],\n",
       "       [4.4, 3. , 1.3, 0.2],\n",
       "       [5.1, 3.4, 1.5, 0.2],\n",
       "       [5. , 3.5, 1.3, 0.3],\n",
       "       [4.5, 2.3, 1.3, 0.3],\n",
       "       [4.4, 3.2, 1.3, 0.2],\n",
       "       [5. , 3.5, 1.6, 0.6],\n",
       "       [5.1, 3.8, 1.9, 0.4],\n",
       "       [4.8, 3. , 1.4, 0.3],\n",
       "       [5.1, 3.8, 1.6, 0.2],\n",
       "       [4.6, 3.2, 1.4, 0.2],\n",
       "       [5.3, 3.7, 1.5, 0.2],\n",
       "       [5. , 3.3, 1.4, 0.2],\n",
       "       [7. , 3.2, 4.7, 1.4],\n",
       "       [6.4, 3.2, 4.5, 1.5],\n",
       "       [6.9, 3.1, 4.9, 1.5],\n",
       "       [5.5, 2.3, 4. , 1.3],\n",
       "       [6.5, 2.8, 4.6, 1.5],\n",
       "       [5.7, 2.8, 4.5, 1.3],\n",
       "       [6.3, 3.3, 4.7, 1.6],\n",
       "       [4.9, 2.4, 3.3, 1. ],\n",
       "       [6.6, 2.9, 4.6, 1.3],\n",
       "       [5.2, 2.7, 3.9, 1.4],\n",
       "       [5. , 2. , 3.5, 1. ],\n",
       "       [5.9, 3. , 4.2, 1.5],\n",
       "       [6. , 2.2, 4. , 1. ],\n",
       "       [6.1, 2.9, 4.7, 1.4],\n",
       "       [5.6, 2.9, 3.6, 1.3],\n",
       "       [6.7, 3.1, 4.4, 1.4],\n",
       "       [5.6, 3. , 4.5, 1.5],\n",
       "       [5.8, 2.7, 4.1, 1. ],\n",
       "       [6.2, 2.2, 4.5, 1.5],\n",
       "       [5.6, 2.5, 3.9, 1.1],\n",
       "       [5.9, 3.2, 4.8, 1.8],\n",
       "       [6.1, 2.8, 4. , 1.3],\n",
       "       [6.3, 2.5, 4.9, 1.5],\n",
       "       [6.1, 2.8, 4.7, 1.2],\n",
       "       [6.4, 2.9, 4.3, 1.3],\n",
       "       [6.6, 3. , 4.4, 1.4],\n",
       "       [6.8, 2.8, 4.8, 1.4],\n",
       "       [6.7, 3. , 5. , 1.7],\n",
       "       [6. , 2.9, 4.5, 1.5],\n",
       "       [5.7, 2.6, 3.5, 1. ],\n",
       "       [5.5, 2.4, 3.8, 1.1],\n",
       "       [5.5, 2.4, 3.7, 1. ],\n",
       "       [5.8, 2.7, 3.9, 1.2],\n",
       "       [6. , 2.7, 5.1, 1.6],\n",
       "       [5.4, 3. , 4.5, 1.5],\n",
       "       [6. , 3.4, 4.5, 1.6],\n",
       "       [6.7, 3.1, 4.7, 1.5],\n",
       "       [6.3, 2.3, 4.4, 1.3],\n",
       "       [5.6, 3. , 4.1, 1.3],\n",
       "       [5.5, 2.5, 4. , 1.3],\n",
       "       [5.5, 2.6, 4.4, 1.2],\n",
       "       [6.1, 3. , 4.6, 1.4],\n",
       "       [5.8, 2.6, 4. , 1.2],\n",
       "       [5. , 2.3, 3.3, 1. ],\n",
       "       [5.6, 2.7, 4.2, 1.3],\n",
       "       [5.7, 3. , 4.2, 1.2],\n",
       "       [5.7, 2.9, 4.2, 1.3],\n",
       "       [6.2, 2.9, 4.3, 1.3],\n",
       "       [5.1, 2.5, 3. , 1.1],\n",
       "       [5.7, 2.8, 4.1, 1.3]])"
      ]
     },
     "execution_count": 13,
     "metadata": {},
     "output_type": "execute_result"
    }
   ],
   "source": [
    "# 僅取全部特徵的前一百筆數據\n",
    "iris['data'][:100]"
   ]
  },
  {
   "cell_type": "code",
   "execution_count": 15,
   "id": "b7d17823",
   "metadata": {},
   "outputs": [
    {
     "data": {
      "text/plain": [
       "(array([[5.1, 3.5],\n",
       "        [4.9, 3. ],\n",
       "        [4.7, 3.2]]),\n",
       " array([-1,  1]))"
      ]
     },
     "execution_count": 15,
     "metadata": {},
     "output_type": "execute_result"
    }
   ],
   "source": [
    "import numpy as np\n",
    "                   # numpy slicing\n",
    "X, y = iris['data'][:100][:, [0, 1]], np.where(iris.get('target')[:100] == 0, -1, 1)\n",
    "# 二分類：取前面一百筆，並且利用變更target從0, 1 --> -1, 1\n",
    "X[:3], np.unique(y)"
   ]
  },
  {
   "cell_type": "code",
   "execution_count": 16,
   "id": "a3f73dbc",
   "metadata": {},
   "outputs": [
    {
     "data": {
      "text/plain": [
       "<__main__.Perceptron at 0x1c606b33e50>"
      ]
     },
     "execution_count": 16,
     "metadata": {},
     "output_type": "execute_result"
    }
   ],
   "source": [
    "model.fit(X, y)"
   ]
  },
  {
   "cell_type": "code",
   "execution_count": 17,
   "id": "cdad208d",
   "metadata": {},
   "outputs": [
    {
     "data": {
      "image/png": "[encoded data removed]",
      "text/plain": [
       "<Figure size 640x480 with 1 Axes>"
      ]
     },
     "metadata": {},
     "output_type": "display_data"
    }
   ],
   "source": [
    "import matplotlib.pyplot as plt\n",
    "plt.plot(model.errors_, color = 'red')\n",
    "plt.grid()\n",
    "plt.show()"
   ]
  },
  {
   "cell_type": "markdown",
   "id": "4af76929",
   "metadata": {},
   "source": [
    "#### 資料標準化"
   ]
  },
  {
   "cell_type": "code",
   "execution_count": 18,
   "id": "609df9c2",
   "metadata": {},
   "outputs": [],
   "source": [
    "import numpy as np\n",
    "\n",
    "class Perceptron(object):\n",
    "    \"\"\"Perceptron classifier.\n",
    "\n",
    "    Parameters\n",
    "    ------------\n",
    "    eta : float\n",
    "      Learning rate (between 0.0 and 1.0)\n",
    "    n_iter : int\n",
    "      Passes over the training dataset.\n",
    "    random_state : int\n",
    "      Random number generator seed for random weight\n",
    "      initialization.\n",
    "\n",
    "    Attributes\n",
    "    -----------\n",
    "    w_ : 1d-array\n",
    "      Weights after fitting.\n",
    "    errors_ : list\n",
    "      Number of misclassifications (updates) in each epoch.\n",
    "\n",
    "    \"\"\" \n",
    "    # 每一個類別都會 __init__ 預設方法 初始過程會被啟動\n",
    "    def __init__(self, eta = 0.01, n_iter = 50, random_state = 1):\n",
    "        self.eta = eta                    # 類別內部變數宣告self.XXX        >>學習率\n",
    "        self.n_iter = n_iter              # 類別內部變數可以直接跨越方法存取 >>round整理計算\n",
    "        self.random_state = random_state  #                               >>初始化權重\n",
    "    \n",
    "    # 這是類別提供的額外方法（函數）\n",
    "    def fit(self, X, y):\n",
    "        \"\"\"Fit training data.\n",
    "\n",
    "        Parameters\n",
    "        ----------\n",
    "        X : {array-like}, shape = [n_samples, n_features]\n",
    "          Training vectors, where n_samples is the number of samples and\n",
    "          n_features is the number of features.\n",
    "        y : array-like, shape = [n_samples]\n",
    "          Target values.\n",
    "\n",
    "        Returns\n",
    "        -------\n",
    "        self : object\n",
    "\n",
    "        \"\"\" \n",
    "        # 以下兩行是用來初始化權重\n",
    "        rgen = np.random.RandomState(self.random_state)\n",
    "        self.w_ = rgen.normal(loc = 0.0, scale = 0.01, size = 1 + X.shape[1])\n",
    "        self.errors_ = [] # 每一round = epoch所有數據的預測與真正錯誤次數\n",
    "        \n",
    "        # _ : 表示不重要變數 來代表跑幾次\n",
    "        for _ in range(self.n_iter):\n",
    "            errors = 0 # 每一round先將錯誤歸零\n",
    "            for xi, target in zip(X, y): # 每一次每一筆資料\n",
    "                update = self.eta * (target - self.predict(xi)) # xi :單筆所有欄位\n",
    "                self.w_[1:] += update * xi\n",
    "                self.w_[0] += update\n",
    "                errors += int(update != 0.0)\n",
    "            self.errors_.append(errors) # 每一round所有錯誤\n",
    "        return self\n",
    "\n",
    "    def net_input(self, X): # 計算xi w乘積\n",
    "        \"\"\"Calculate net input\"\"\"\n",
    "        return np.dot(X, self.w_[1:]) + self.w_[0]\n",
    " \n",
    "    def predict(self, X): # 判斷函數\n",
    "        \"\"\"Return class label after unit step\"\"\"\n",
    "        return np.where(self.net_input(X) >= 0.0, 1, -1)"
   ]
  },
  {
   "cell_type": "code",
   "execution_count": 19,
   "id": "471f35b0",
   "metadata": {},
   "outputs": [],
   "source": [
    "model = Perceptron()"
   ]
  },
  {
   "cell_type": "code",
   "execution_count": 20,
   "id": "7591d915",
   "metadata": {},
   "outputs": [
    {
     "data": {
      "text/plain": [
       "dict_keys(['data', 'target', 'frame', 'target_names', 'DESCR', 'feature_names', 'filename', 'data_module'])"
      ]
     },
     "execution_count": 20,
     "metadata": {},
     "output_type": "execute_result"
    }
   ],
   "source": [
    "from sklearn import datasets\n",
    "iris = datasets.load_iris()\n",
    "iris.keys()"
   ]
  },
  {
   "cell_type": "code",
   "execution_count": 21,
   "id": "4712eded",
   "metadata": {},
   "outputs": [
    {
     "data": {
      "text/plain": [
       "array([[5.1, 3.5],\n",
       "       [4.9, 3. ],\n",
       "       [4.7, 3.2]])"
      ]
     },
     "execution_count": 21,
     "metadata": {},
     "output_type": "execute_result"
    }
   ],
   "source": [
    "# 僅取全部特徵的前一百筆數據，之後再取出前面兩個欄位，再顯示前三筆數據\n",
    "iris['data'][:100][:, [0, 1]][:3]"
   ]
  },
  {
   "cell_type": "code",
   "execution_count": 22,
   "id": "49509eee",
   "metadata": {},
   "outputs": [
    {
     "data": {
      "text/plain": [
       "(array([[5.1, 3.5],\n",
       "        [4.9, 3. ],\n",
       "        [4.7, 3.2]]),\n",
       " array([-1,  1]))"
      ]
     },
     "execution_count": 22,
     "metadata": {},
     "output_type": "execute_result"
    }
   ],
   "source": [
    "import numpy as np\n",
    "                   # numpy slicing\n",
    "X, y = iris['data'][:100][:, [0, 1]], np.where(iris.get('target')[:100] == 0, -1, 1)\n",
    "# 二分類：取前面一百筆，並且利用變更target從0, 1 --> -1, 1\n",
    "X[:3], np.unique(y)"
   ]
  },
  {
   "cell_type": "code",
   "execution_count": 23,
   "id": "d27731fe",
   "metadata": {},
   "outputs": [
    {
     "data": {
      "text/plain": [
       "array([[-0.5810659 ,  0.84183714],\n",
       "       [-0.89430898, -0.2078351 ],\n",
       "       [-1.20755205,  0.21203379]])"
      ]
     },
     "execution_count": 23,
     "metadata": {},
     "output_type": "execute_result"
    }
   ],
   "source": [
    "# z-score 標準化 每一筆數據 與 平均 之間的差異 為幾倍 標準差\n",
    "X_ss = (X - np.mean(X, axis = 0)) / np.std(X, axis = 0)\n",
    "X_ss[:3]"
   ]
  },
  {
   "cell_type": "code",
   "execution_count": 24,
   "id": "7de92ff2",
   "metadata": {},
   "outputs": [
    {
     "data": {
      "text/plain": [
       "array([[-0.5810659 ,  0.84183714],\n",
       "       [-0.89430898, -0.2078351 ],\n",
       "       [-1.20755205,  0.21203379]])"
      ]
     },
     "execution_count": 24,
     "metadata": {},
     "output_type": "execute_result"
    }
   ],
   "source": [
    "# 使用sklearn \n",
    "from sklearn.preprocessing import StandardScaler\n",
    "ss = StandardScaler()\n",
    "X_sss = ss.fit_transform(X)\n",
    "X_sss[:3]"
   ]
  },
  {
   "cell_type": "code",
   "execution_count": 25,
   "id": "9cca4abd",
   "metadata": {},
   "outputs": [
    {
     "data": {
      "text/plain": [
       "<__main__.Perceptron at 0x1c606bb7a00>"
      ]
     },
     "execution_count": 25,
     "metadata": {},
     "output_type": "execute_result"
    }
   ],
   "source": [
    "model.fit(X_ss, y)"
   ]
  },
  {
   "cell_type": "code",
   "execution_count": 26,
   "id": "d09d9355",
   "metadata": {},
   "outputs": [
    {
     "data": {
      "image/png": "[encoded data removed]",
      "text/plain": [
       "<Figure size 640x480 with 1 Axes>"
      ]
     },
     "metadata": {},
     "output_type": "display_data"
    }
   ],
   "source": [
    "import matplotlib.pyplot as plt\n",
    "plt.plot(model.errors_, color = 'red')\n",
    "plt.grid()\n",
    "plt.show()"
   ]
  },
  {
   "cell_type": "markdown",
   "id": "15040a5b",
   "metadata": {},
   "source": [
    "#### Tensorflow_Iris"
   ]
  },
  {
   "cell_type": "code",
   "execution_count": 27,
   "id": "c7ed3a05",
   "metadata": {},
   "outputs": [],
   "source": [
    "# 導入函式庫\n",
    "import numpy as np  \n",
    "import keras\n",
    "# from keras.models import Sequential\n",
    "from keras.datasets import mnist\n",
    "from keras.layers import Dense, Dropout, Activation, Flatten\n",
    "from keras.utils import np_utils  # 用來後續將 label 標籤轉為 one-hot-encoding  \n",
    "from matplotlib import pyplot as plt\n",
    "import os\n",
    "from datetime import datetime\n",
    "\n",
    "# 載入iris資料庫的訓練資料，並自動分為『訓練組』及『測試組』\n",
    "from sklearn import datasets\n",
    "from sklearn.model_selection import train_test_split\n",
    "iris = datasets.load_iris() # 辨識三個類別，四個特徵\n",
    "X, y = iris['data'], iris.get('target')\n",
    "X_train, X_test, y_train, y_test = train_test_split(X, y, test_size = 0.1, random_state = 42)"
   ]
  },
  {
   "cell_type": "code",
   "execution_count": 28,
   "id": "d43d9136",
   "metadata": {},
   "outputs": [
    {
     "data": {
      "text/plain": [
       "(4,)"
      ]
     },
     "execution_count": 28,
     "metadata": {},
     "output_type": "execute_result"
    }
   ],
   "source": [
    "X_train[0].shape"
   ]
  },
  {
   "cell_type": "code",
   "execution_count": 29,
   "id": "668afa48",
   "metadata": {},
   "outputs": [],
   "source": [
    "# 建立簡單的線性執行的模型\n",
    "model = keras.models.Sequential()\n",
    "# Add Input layer, 隱藏層(hidden layer) 有 256個輸出變數\n",
    "model.add(Dense(units = 256, input_dim = 4, kernel_initializer = 'normal', activation = 'relu')) \n",
    "# Add output layer 根據鳶尾花種類\n",
    "model.add(Dense(units = 3, kernel_initializer = 'normal', activation = 'softmax'))\n",
    "\n",
    "# 編譯：選擇損失函數、優化方法及成效衡量方式\n",
    "model.compile(loss = 'categorical_crossentropy', optimizer = 'adam', metrics = ['accuracy']) "
   ]
  },
  {
   "cell_type": "code",
   "execution_count": 30,
   "id": "d4400401",
   "metadata": {},
   "outputs": [
    {
     "name": "stdout",
     "output_type": "stream",
     "text": [
      "Model: \"sequential\"\n",
      "_________________________________________________________________\n",
      " Layer (type)                Output Shape              Param #   \n",
      "=================================================================\n",
      " dense (Dense)               (None, 256)               1280      \n",
      "                                                                 \n",
      " dense_1 (Dense)             (None, 3)                 771       \n",
      "                                                                 \n",
      "=================================================================\n",
      "Total params: 2,051\n",
      "Trainable params: 2,051\n",
      "Non-trainable params: 0\n",
      "_________________________________________________________________\n"
     ]
    }
   ],
   "source": [
    "model.summary()"
   ]
  },
  {
   "cell_type": "code",
   "execution_count": 31,
   "id": "3a61c342",
   "metadata": {},
   "outputs": [
    {
     "data": {
      "text/plain": [
       "(array([1, 0, 2]),\n",
       " array([[0., 1., 0.],\n",
       "        [1., 0., 0.],\n",
       "        [0., 0., 1.]], dtype=float32))"
      ]
     },
     "execution_count": 31,
     "metadata": {},
     "output_type": "execute_result"
    }
   ],
   "source": [
    "y_test[:3],\\\n",
    "np_utils.to_categorical(y_test)[:3]"
   ]
  },
  {
   "cell_type": "code",
   "execution_count": 32,
   "id": "2eb30c1b",
   "metadata": {},
   "outputs": [
    {
     "name": "stdout",
     "output_type": "stream",
     "text": [
      "Epoch 1/10\n",
      "68/68 [==============================] - 1s 6ms/step - loss: 0.7568 - accuracy: 0.7778 - val_loss: 0.5293 - val_accuracy: 0.7333\n",
      "Epoch 2/10\n",
      "68/68 [==============================] - 0s 3ms/step - loss: 0.4263 - accuracy: 0.8074 - val_loss: 0.3454 - val_accuracy: 0.8667\n",
      "Epoch 3/10\n",
      "68/68 [==============================] - 0s 3ms/step - loss: 0.3244 - accuracy: 0.8741 - val_loss: 0.2633 - val_accuracy: 0.8667\n",
      "Epoch 4/10\n",
      "68/68 [==============================] - 0s 3ms/step - loss: 0.2718 - accuracy: 0.8963 - val_loss: 0.2323 - val_accuracy: 0.8667\n",
      "Epoch 5/10\n",
      "68/68 [==============================] - 0s 4ms/step - loss: 0.2192 - accuracy: 0.9111 - val_loss: 0.2202 - val_accuracy: 0.8667\n",
      "Epoch 6/10\n",
      "68/68 [==============================] - 0s 4ms/step - loss: 0.1813 - accuracy: 0.9407 - val_loss: 0.2036 - val_accuracy: 0.8667\n",
      "Epoch 7/10\n",
      "68/68 [==============================] - 0s 3ms/step - loss: 0.1481 - accuracy: 0.9704 - val_loss: 0.1733 - val_accuracy: 0.9333\n",
      "Epoch 8/10\n",
      "68/68 [==============================] - 0s 4ms/step - loss: 0.1355 - accuracy: 0.9630 - val_loss: 0.1716 - val_accuracy: 0.9333\n",
      "Epoch 9/10\n",
      "68/68 [==============================] - 0s 4ms/step - loss: 0.1172 - accuracy: 0.9556 - val_loss: 0.2607 - val_accuracy: 0.8000\n",
      "Epoch 10/10\n",
      "68/68 [==============================] - 0s 3ms/step - loss: 0.1021 - accuracy: 0.9704 - val_loss: 0.1753 - val_accuracy: 0.9333\n"
     ]
    }
   ],
   "source": [
    "# 將 training 的 label 進行 one-hot encoding\n",
    "y_TrainOneHot = np_utils.to_categorical(y_train) \n",
    "y_TestOneHot = np_utils.to_categorical(y_test) \n",
    "\n",
    "\n",
    "# 將 training 的 input 資料轉為2維\n",
    "X_train_2D = X_train.astype('float32')  \n",
    "X_test_2D = X_test.astype('float32')  \n",
    "\n",
    "x_Train_norm = ( X_train_2D - np.mean(X_train_2D, axis = 0) ) / np.std(X_train_2D, axis = 0) # 標準化就是0-1之間數字\n",
    "x_Test_norm = ( X_test_2D - np.mean(X_test_2D, axis = 0) ) / np.std(X_test_2D, axis = 0)\n",
    "\n",
    "# 進行訓練，訓練過程會存在train_history變數中callback\n",
    "train_history = model.fit(x = x_Train_norm, y = y_TrainOneHot, \n",
    "                          # validation_split = 0.2, \n",
    "                          epochs = 10, \n",
    "                          batch_size = 2, \n",
    "                          verbose = 1,\n",
    "                          validation_data = [x_Test_norm, y_TestOneHot],\n",
    "                         )  "
   ]
  },
  {
   "cell_type": "code",
   "execution_count": 33,
   "id": "5f02b8c9",
   "metadata": {},
   "outputs": [
    {
     "data": {
      "text/plain": [
       "dict_keys(['loss', 'accuracy', 'val_loss', 'val_accuracy'])"
      ]
     },
     "execution_count": 33,
     "metadata": {},
     "output_type": "execute_result"
    }
   ],
   "source": [
    "train_history.history.keys() # callback"
   ]
  },
  {
   "cell_type": "code",
   "execution_count": 34,
   "id": "161df152",
   "metadata": {},
   "outputs": [
    {
     "data": {
      "image/png": "[encoded data removed]",
      "text/plain": [
       "<Figure size 640x480 with 1 Axes>"
      ]
     },
     "metadata": {},
     "output_type": "display_data"
    }
   ],
   "source": [
    "%matplotlib inline\n",
    "# accuracy chart\n",
    "import matplotlib.pyplot as plt\n",
    "plt.plot(train_history.history['accuracy'], color = 'red')\n",
    "plt.plot(train_history.history['val_accuracy'], color = 'blue')\n",
    "plt.grid()\n",
    "plt.show()"
   ]
  },
  {
   "cell_type": "code",
   "execution_count": 35,
   "id": "bfdf1e61",
   "metadata": {},
   "outputs": [
    {
     "data": {
      "image/png": "[encoded data removed]",
      "text/plain": [
       "<Figure size 640x480 with 1 Axes>"
      ]
     },
     "metadata": {},
     "output_type": "display_data"
    }
   ],
   "source": [
    "%matplotlib inline\n",
    "# loss chart\n",
    "import matplotlib.pyplot as plt\n",
    "plt.plot(train_history.history['loss'], color = 'red')\n",
    "plt.plot(train_history.history['val_loss'], color = 'blue')\n",
    "plt.grid()\n",
    "plt.show()"
   ]
  },
  {
   "cell_type": "code",
   "execution_count": 36,
   "id": "93444590",
   "metadata": {},
   "outputs": [
    {
     "name": "stdout",
     "output_type": "stream",
     "text": [
      "1/1 [==============================] - 0s 28ms/step - loss: 0.1753 - accuracy: 0.9333\n",
      "\t[Info] Accuracy of testing data = 93.3%\n",
      "5/5 [==============================] - 0s 1ms/step - loss: 0.0899 - accuracy: 0.9704\n",
      "\t[Info] Accuracy of training data = 97.0%\n"
     ]
    }
   ],
   "source": [
    "# 顯示訓練成果(分數)\n",
    "scores = model.evaluate(x_Test_norm, y_TestOneHot)  \n",
    "print(\"\\t[Info] Accuracy of testing data = {:2.1f}%\".format(scores[1] * 100.0))  \n",
    "scores = model.evaluate(x_Train_norm, y_TrainOneHot)  \n",
    "print(\"\\t[Info] Accuracy of training data = {:2.1f}%\".format(scores[1] * 100.0)) "
   ]
  },
  {
   "cell_type": "code",
   "execution_count": 37,
   "id": "3f1e554a",
   "metadata": {},
   "outputs": [
    {
     "data": {
      "text/plain": [
       "array([[1.9476397e-03, 8.4583306e-01, 1.5221924e-01],\n",
       "       [9.9805617e-01, 1.9241548e-03, 1.9779678e-05],\n",
       "       [3.8359120e-09, 2.4802974e-04, 9.9975199e-01]], dtype=float32)"
      ]
     },
     "execution_count": 37,
     "metadata": {},
     "output_type": "execute_result"
    }
   ],
   "source": [
    "# 預測(prediction)\n",
    "X = x_Test_norm\n",
    "predictions = np.argmax(model.predict(X), axis = 1) # np.argmax找出最佳的數字softmax\n",
    "model.predict(X)[:3]"
   ]
  },
  {
   "cell_type": "code",
   "execution_count": 38,
   "id": "454fc350",
   "metadata": {},
   "outputs": [
    {
     "name": "stdout",
     "output_type": "stream",
     "text": [
      "prediction: [1 0 2 1 1 0 1 2 2 1 2 0 0 0 0]\n",
      "actual    : [1 0 2 1 1 0 1 2 1 1 2 0 0 0 0]\n"
     ]
    }
   ],
   "source": [
    "# get prediction result\n",
    "print('prediction:', predictions[0:20])\n",
    "print('actual    :', y_test[0:20])"
   ]
  },
  {
   "cell_type": "code",
   "execution_count": 39,
   "id": "d5dbccae",
   "metadata": {
    "scrolled": true
   },
   "outputs": [
    {
     "data": {
      "image/png": "[encoded data removed]",
      "text/plain": [
       "<Figure size 600x600 with 1 Axes>"
      ]
     },
     "metadata": {},
     "output_type": "display_data"
    }
   ],
   "source": [
    "from sklearn.metrics import confusion_matrix\n",
    "confmat = confusion_matrix(y_true = y_test, y_pred = predictions)\n",
    "\n",
    "# draw confusion_matrix\n",
    "import matplotlib.pyplot as plt\n",
    "fig, ax = plt.subplots(figsize = (6, 6))\n",
    "ax.matshow(confmat, cmap = plt.cm.Blues, alpha = 0.3)\n",
    "for i in range(confmat.shape[0]):\n",
    "    for j in range(confmat.shape[1]):\n",
    "        ax.text(x = j, y = i, s = confmat[i, j], va = 'center', ha = 'center')\n",
    "\n",
    "plt.xlabel('Predicted label')\n",
    "plt.ylabel('True label')\n",
    "\n",
    "plt.tight_layout()\n",
    "#plt.savefig('images/06_09.png', dpi=300)\n",
    "plt.show()"
   ]
  },
  {
   "cell_type": "markdown",
   "id": "5675bf7d",
   "metadata": {},
   "source": [
    "#### Tensorflow_Iris_LR"
   ]
  },
  {
   "cell_type": "code",
   "execution_count": 1,
   "id": "6c61ab7d",
   "metadata": {},
   "outputs": [],
   "source": [
    "# 導入函式庫\n",
    "import numpy as np  \n",
    "import keras\n",
    "# from keras.models import Sequential\n",
    "from keras.datasets import mnist\n",
    "from keras.layers import Dense, Dropout, Activation, Flatten\n",
    "from keras.utils import np_utils  # 用來後續將 label 標籤轉為 one-hot-encoding  \n",
    "from matplotlib import pyplot as plt\n",
    "import os\n",
    "from datetime import datetime\n",
    "\n",
    "# 載入iris資料庫的訓練資料，並自動分為『訓練組』及『測試組』\n",
    "from sklearn import datasets\n",
    "from sklearn.model_selection import train_test_split\n",
    "iris = datasets.load_iris() # 辨識三個類別，四個特徵\n",
    "X, y = iris['data'], iris.get('target')\n",
    "X_train, X_test, y_train, y_test = train_test_split(X, y, test_size = 0.1, random_state = 42)"
   ]
  },
  {
   "cell_type": "code",
   "execution_count": 2,
   "id": "18fafd3a",
   "metadata": {},
   "outputs": [],
   "source": [
    "# 建立簡單的線性執行的模型\n",
    "model = keras.models.Sequential()\n",
    "# Add Input layer, 隱藏層(hidden layer) 有 256個輸出變數\n",
    "model.add(Dense(units = 256, input_dim = 4, kernel_initializer = 'normal', activation = 'relu')) \n",
    "# Add output layer 根據鳶尾花種類\n",
    "model.add(Dense(units = 3, kernel_initializer = 'normal', activation = 'softmax'))\n",
    "\n",
    "from tensorflow import keras as tk\n",
    "opt = tk.optimizers.Adam(learning_rate = 0.01)\n",
    "\n",
    "# 編譯: 選擇損失函數、優化方法及成效衡量方式\n",
    "model.compile(loss = 'categorical_crossentropy', optimizer = opt, metrics = ['accuracy']) "
   ]
  },
  {
   "cell_type": "code",
   "execution_count": 3,
   "id": "6b42c999",
   "metadata": {},
   "outputs": [
    {
     "name": "stdout",
     "output_type": "stream",
     "text": [
      "Model: \"sequential\"\n",
      "_________________________________________________________________\n",
      " Layer (type)                Output Shape              Param #   \n",
      "=================================================================\n",
      " dense (Dense)               (None, 256)               1280      \n",
      "                                                                 \n",
      " dense_1 (Dense)             (None, 3)                 771       \n",
      "                                                                 \n",
      "=================================================================\n",
      "Total params: 2,051\n",
      "Trainable params: 2,051\n",
      "Non-trainable params: 0\n",
      "_________________________________________________________________\n"
     ]
    }
   ],
   "source": [
    "model.summary()"
   ]
  },
  {
   "cell_type": "code",
   "execution_count": 4,
   "id": "8d8ece3b",
   "metadata": {},
   "outputs": [
    {
     "data": {
      "text/plain": [
       "(array([1, 0, 2]),\n",
       " array([[0., 1., 0.],\n",
       "        [1., 0., 0.],\n",
       "        [0., 0., 1.]], dtype=float32))"
      ]
     },
     "execution_count": 4,
     "metadata": {},
     "output_type": "execute_result"
    }
   ],
   "source": [
    "y_test[:3],\\\n",
    "np_utils.to_categorical(y_test)[:3]"
   ]
  },
  {
   "cell_type": "code",
   "execution_count": 5,
   "id": "ebd75918",
   "metadata": {},
   "outputs": [
    {
     "name": "stdout",
     "output_type": "stream",
     "text": [
      "Epoch 1/10\n",
      "68/68 [==============================] - 1s 6ms/step - loss: 0.4100 - accuracy: 0.8148 - val_loss: 0.3258 - val_accuracy: 0.8000\n",
      "Epoch 2/10\n",
      "68/68 [==============================] - 0s 3ms/step - loss: 0.1576 - accuracy: 0.9333 - val_loss: 0.5984 - val_accuracy: 0.8000\n",
      "Epoch 3/10\n",
      "68/68 [==============================] - 0s 4ms/step - loss: 0.1381 - accuracy: 0.9407 - val_loss: 0.4652 - val_accuracy: 0.8000\n",
      "Epoch 4/10\n",
      "68/68 [==============================] - 0s 4ms/step - loss: 0.1943 - accuracy: 0.9185 - val_loss: 0.5170 - val_accuracy: 0.8000\n",
      "Epoch 5/10\n",
      "68/68 [==============================] - 0s 3ms/step - loss: 0.0796 - accuracy: 0.9630 - val_loss: 0.1573 - val_accuracy: 0.9333\n",
      "Epoch 6/10\n",
      "68/68 [==============================] - 0s 4ms/step - loss: 0.1107 - accuracy: 0.9630 - val_loss: 0.4118 - val_accuracy: 0.8667\n",
      "Epoch 7/10\n",
      "68/68 [==============================] - 0s 3ms/step - loss: 0.0983 - accuracy: 0.9481 - val_loss: 0.6002 - val_accuracy: 0.8000\n",
      "Epoch 8/10\n",
      "68/68 [==============================] - 0s 3ms/step - loss: 0.0839 - accuracy: 0.9704 - val_loss: 0.3546 - val_accuracy: 0.9333\n",
      "Epoch 9/10\n",
      "68/68 [==============================] - 0s 3ms/step - loss: 0.0836 - accuracy: 0.9704 - val_loss: 0.0808 - val_accuracy: 0.9333\n",
      "Epoch 10/10\n",
      "68/68 [==============================] - 0s 3ms/step - loss: 0.1368 - accuracy: 0.9407 - val_loss: 0.4545 - val_accuracy: 0.8000\n"
     ]
    }
   ],
   "source": [
    "# 將 training 的 label 進行 one-hot encoding\n",
    "y_TrainOneHot = np_utils.to_categorical(y_train) \n",
    "y_TestOneHot = np_utils.to_categorical(y_test) \n",
    "\n",
    "\n",
    "# 將 training 的 input 資料轉為2維\n",
    "X_train_2D = X_train.astype('float32')  \n",
    "X_test_2D = X_test.astype('float32')  \n",
    "\n",
    "x_Train_norm =( X_train_2D - np.mean(X_train_2D, axis = 0) ) / np.std(X_train_2D, axis = 0) # 標準化就是0-1之間數字\n",
    "x_Test_norm = ( X_test_2D - np.mean(X_test_2D, axis = 0) ) / np.std(X_test_2D, axis = 0)\n",
    "\n",
    "# 進行訓練，訓練過程會存在train_history變數中callback\n",
    "train_history = model.fit(x = x_Train_norm, y = y_TrainOneHot, \n",
    "                          #validation_split = 0.2, \n",
    "                          epochs = 10, \n",
    "                          batch_size = 2, \n",
    "                          verbose = 1,\n",
    "                          validation_data = [x_Test_norm, y_TestOneHot],\n",
    "                          )  "
   ]
  },
  {
   "cell_type": "code",
   "execution_count": 6,
   "id": "e48e827e",
   "metadata": {},
   "outputs": [
    {
     "data": {
      "text/plain": [
       "dict_keys(['loss', 'accuracy', 'val_loss', 'val_accuracy'])"
      ]
     },
     "execution_count": 6,
     "metadata": {},
     "output_type": "execute_result"
    }
   ],
   "source": [
    "train_history.history.keys() # callback"
   ]
  },
  {
   "cell_type": "code",
   "execution_count": 7,
   "id": "3ed68f07",
   "metadata": {},
   "outputs": [
    {
     "data": {
      "image/png": "[encoded data removed]",
      "text/plain": [
       "<Figure size 640x480 with 1 Axes>"
      ]
     },
     "metadata": {},
     "output_type": "display_data"
    }
   ],
   "source": [
    "%matplotlib inline\n",
    "# accuracy chart\n",
    "import matplotlib.pyplot as plt\n",
    "plt.plot(train_history.history['accuracy'], color = 'red')\n",
    "plt.plot(train_history.history['val_accuracy'], color = 'blue')\n",
    "plt.grid()\n",
    "plt.show()"
   ]
  },
  {
   "cell_type": "code",
   "execution_count": 8,
   "id": "7be92436",
   "metadata": {},
   "outputs": [
    {
     "data": {
      "image/png": "[encoded data removed]",
      "text/plain": [
       "<Figure size 640x480 with 1 Axes>"
      ]
     },
     "metadata": {},
     "output_type": "display_data"
    }
   ],
   "source": [
    "%matplotlib inline\n",
    "# loss chart\n",
    "import matplotlib.pyplot as plt\n",
    "plt.plot(train_history.history['loss'], color = 'red')\n",
    "plt.plot(train_history.history['val_loss'], color= 'blue')\n",
    "plt.grid()\n",
    "plt.show()"
   ]
  },
  {
   "cell_type": "code",
   "execution_count": 9,
   "id": "b1494b50",
   "metadata": {},
   "outputs": [
    {
     "name": "stdout",
     "output_type": "stream",
     "text": [
      "1/1 [==============================] - 0s 25ms/step - loss: 0.4545 - accuracy: 0.8000\n",
      "\t[Info] Accuracy of testing data = 80.0%\n",
      "5/5 [==============================] - 0s 1ms/step - loss: 0.0679 - accuracy: 0.9704\n",
      "\t[Info] Accuracy of training data = 97.0%\n"
     ]
    }
   ],
   "source": [
    "# 顯示訓練成果(分數)\n",
    "scores = model.evaluate(x_Test_norm, y_TestOneHot)  \n",
    "print(\"\\t[Info] Accuracy of testing data = {:2.1f}%\".format(scores[1] * 100.0))  \n",
    "scores = model.evaluate(x_Train_norm, y_TrainOneHot)\n",
    "print(\"\\t[Info] Accuracy of training data = {:2.1f}%\".format(scores[1] * 100.0))  "
   ]
  },
  {
   "cell_type": "code",
   "execution_count": 10,
   "id": "bc1296a1",
   "metadata": {},
   "outputs": [
    {
     "data": {
      "text/plain": [
       "array([[2.3087906e-03, 7.5763398e-01, 2.4005730e-01],\n",
       "       [1.0000000e+00, 6.5348851e-16, 2.5728367e-19],\n",
       "       [8.4368598e-15, 1.4419227e-07, 9.9999988e-01]], dtype=float32)"
      ]
     },
     "execution_count": 10,
     "metadata": {},
     "output_type": "execute_result"
    }
   ],
   "source": [
    "# 預測(prediction)\n",
    "X = x_Test_norm\n",
    "predictions = np.argmax(model.predict(X), axis = 1) # np.argmax找出最佳的數字softmax\n",
    "model.predict(X)[:3]"
   ]
  },
  {
   "cell_type": "code",
   "execution_count": 11,
   "id": "0a68b0db",
   "metadata": {},
   "outputs": [
    {
     "name": "stdout",
     "output_type": "stream",
     "text": [
      "prediction: [1 0 2 2 2 0 1 2 2 1 2 0 0 0 0]\n",
      "actual    : [1 0 2 1 1 0 1 2 1 1 2 0 0 0 0]\n"
     ]
    }
   ],
   "source": [
    "# get prediction result\n",
    "print('prediction:', predictions[0:20])\n",
    "print('actual    :', y_test[0:20])"
   ]
  },
  {
   "cell_type": "code",
   "execution_count": 12,
   "id": "662fea98",
   "metadata": {},
   "outputs": [
    {
     "data": {
      "image/png": "[encoded data removed]",
      "text/plain": [
       "<Figure size 600x600 with 1 Axes>"
      ]
     },
     "metadata": {},
     "output_type": "display_data"
    }
   ],
   "source": [
    "from sklearn.metrics import confusion_matrix\n",
    "confmat = confusion_matrix(y_true = y_test, y_pred = predictions)\n",
    "\n",
    "# draw confusion_matrix\n",
    "import matplotlib.pyplot as plt\n",
    "fig, ax = plt.subplots(figsize = (6, 6))\n",
    "ax.matshow(confmat, cmap = plt.cm.Blues, alpha = 0.3)\n",
    "for i in range(confmat.shape[0]):\n",
    "    for j in range(confmat.shape[1]):\n",
    "        ax.text(x = j, y = i, s = confmat[i, j], va = 'center', ha = 'center')\n",
    "\n",
    "plt.xlabel('Predicted label')\n",
    "plt.ylabel('True label')\n",
    "\n",
    "plt.tight_layout()\n",
    "#plt.savefig('images/06_09.png', dpi=300)\n",
    "plt.show()"
   ]
  }
 ],
 "metadata": {
  "kernelspec": {
   "display_name": "Python 3 (ipykernel)",
   "language": "python",
   "name": "python3"
  },
  "language_info": {
   "codemirror_mode": {
    "name": "ipython",
    "version": 3
   },
   "file_extension": ".py",
   "mimetype": "text/x-python",
   "name": "python",
   "nbconvert_exporter": "python",
   "pygments_lexer": "ipython3",
   "version": "3.10.7"
  }
 },
 "nbformat": 4,
 "nbformat_minor": 5
}
