{
 "cells": [
  {
   "cell_type": "code",
   "execution_count": 1,
   "id": "b416f373",
   "metadata": {},
   "outputs": [
    {
     "name": "stdout",
     "output_type": "stream",
     "text": [
      "Package                      Version\n",
      "---------------------------- -------------------\n",
      "absl-py                      1.4.0\n",
      "argon2-cffi                  21.3.0\n",
      "argon2-cffi-bindings         21.2.0\n",
      "asttokens                    2.0.8\n",
      "astunparse                   1.6.3\n",
      "attrs                        22.1.0\n",
      "backcall                     0.2.0\n",
      "beautifulsoup4               4.11.1\n",
      "bleach                       5.0.1\n",
      "cachetools                   5.3.0\n",
      "certifi                      2022.12.7\n",
      "cffi                         1.15.1\n",
      "charset-normalizer           3.0.1\n",
      "colorama                     0.4.5\n",
      "cycler                       0.11.0\n",
      "debugpy                      1.6.3\n",
      "decorator                    5.1.1\n",
      "defusedxml                   0.7.1\n",
      "entrypoints                  0.4\n",
      "et-xmlfile                   1.1.0\n",
      "exceptiongroup               1.1.0\n",
      "executing                    1.0.0\n",
      "fastjsonschema               2.16.1\n",
      "flatbuffers                  23.1.21\n",
      "fonttools                    4.37.1\n",
      "gast                         0.5.3\n",
      "google-auth                  2.16.1\n",
      "google-auth-oauthlib         0.4.6\n",
      "google-pasta                 0.2.0\n",
      "grpcio                       1.51.3\n",
      "h5py                         3.8.0\n",
      "idna                         3.4\n",
      "iniconfig                    2.0.0\n",
      "ipykernel                    6.15.2\n",
      "ipython                      8.5.0\n",
      "ipython-genutils             0.2.0\n",
      "ipywidgets                   8.0.2\n",
      "jedi                         0.18.1\n",
      "Jinja2                       3.1.2\n",
      "joblib                       1.2.0\n",
      "jsonschema                   4.16.0\n",
      "jupyter                      1.0.0\n",
      "jupyter_client               7.3.5\n",
      "jupyter-console              6.4.4\n",
      "jupyter-core                 4.11.1\n",
      "jupyterlab-pygments          0.2.2\n",
      "jupyterlab-widgets           3.0.3\n",
      "keras                        2.8.0\n",
      "Keras-Applications           1.0.8\n",
      "Keras-Preprocessing          1.1.2\n",
      "kiwisolver                   1.4.4\n",
      "libclang                     15.0.6.1\n",
      "lxml                         4.9.1\n",
      "Markdown                     3.4.1\n",
      "MarkupSafe                   2.1.1\n",
      "matplotlib                   3.5.3\n",
      "matplotlib-inline            0.1.6\n",
      "mistune                      2.0.4\n",
      "nbclient                     0.6.8\n",
      "nbconvert                    7.0.0\n",
      "nbformat                     5.4.0\n",
      "nest-asyncio                 1.5.5\n",
      "notebook                     6.4.12\n",
      "numpy                        1.23.3\n",
      "oauthlib                     3.2.2\n",
      "opencv-python                4.7.0.72\n",
      "openpyxl                     3.1.0\n",
      "opt-einsum                   3.3.0\n",
      "packaging                    21.3\n",
      "pandas                       1.4.4\n",
      "pandocfilters                1.5.0\n",
      "parso                        0.8.3\n",
      "pickleshare                  0.7.5\n",
      "Pillow                       9.2.0\n",
      "pip                          23.0.1\n",
      "pluggy                       1.0.0\n",
      "prometheus-client            0.14.1\n",
      "prompt-toolkit               3.0.31\n",
      "protobuf                     3.20.3\n",
      "psutil                       5.9.2\n",
      "pure-eval                    0.2.2\n",
      "pyasn1                       0.4.8\n",
      "pyasn1-modules               0.2.8\n",
      "pycparser                    2.21\n",
      "Pygments                     2.13.0\n",
      "pyodbc                       4.0.35\n",
      "pyparsing                    3.0.9\n",
      "pyrsistent                   0.18.1\n",
      "pytest                       7.2.1\n",
      "python-dateutil              2.8.2\n",
      "python-version               0.0.2\n",
      "pytz                         2022.2.1\n",
      "pywin32                      304\n",
      "pywinpty                     2.0.7\n",
      "PyYAML                       6.0\n",
      "pyzmq                        23.2.1\n",
      "qtconsole                    5.3.2\n",
      "QtPy                         2.2.0\n",
      "requests                     2.28.2\n",
      "requests-oauthlib            1.3.1\n",
      "rsa                          4.9\n",
      "scikit-learn                 1.2.1\n",
      "scipy                        1.10.0\n",
      "Send2Trash                   1.8.0\n",
      "setuptools                   63.2.0\n",
      "six                          1.16.0\n",
      "soupsieve                    2.3.2.post1\n",
      "stack-data                   0.5.0\n",
      "tensorboard                  2.8.0\n",
      "tensorboard-data-server      0.6.1\n",
      "tensorboard-plugin-wit       1.8.1\n",
      "tensorflow-gpu               2.8.0\n",
      "tensorflow-io-gcs-filesystem 0.30.0\n",
      "termcolor                    2.2.0\n",
      "terminado                    0.15.0\n",
      "tf-estimator-nightly         2.8.0.dev2021122109\n",
      "threadpoolctl                3.1.0\n",
      "tinycss2                     1.1.1\n",
      "tomli                        2.0.1\n",
      "torch                        1.13.1\n",
      "torchvision                  0.14.1\n",
      "tornado                      6.2\n",
      "traitlets                    5.4.0\n",
      "typing_extensions            4.5.0\n",
      "urllib3                      1.26.14\n",
      "wcwidth                      0.2.5\n",
      "webencodings                 0.5.1\n",
      "Werkzeug                     2.2.3\n",
      "wheel                        0.38.4\n",
      "widgetsnbextension           4.0.3\n",
      "wrapt                        1.14.1\n"
     ]
    }
   ],
   "source": [
    "!pip list"
   ]
  },
  {
   "cell_type": "code",
   "execution_count": 4,
   "id": "cbaf9cc2",
   "metadata": {},
   "outputs": [
    {
     "name": "stdout",
     "output_type": "stream",
     "text": [
      "Collecting imageai\n",
      "  Using cached imageai-3.0.3-py3-none-any.whl (69 kB)\n",
      "Installing collected packages: imageai\n",
      "Successfully installed imageai-3.0.3\n"
     ]
    }
   ],
   "source": [
    "!pip install imageai"
   ]
  },
  {
   "cell_type": "code",
   "execution_count": 7,
   "id": "b905f4ae",
   "metadata": {},
   "outputs": [],
   "source": [
    "# 先安裝上述套件\n",
    "# 確認以下是否可以執行\n",
    "from tensorflow.keras import backend as K"
   ]
  },
  {
   "cell_type": "code",
   "execution_count": null,
   "id": "35ce1d7f",
   "metadata": {},
   "outputs": [],
   "source": [
    "!pip install torch"
   ]
  },
  {
   "cell_type": "code",
   "execution_count": null,
   "id": "2ac98d7c",
   "metadata": {},
   "outputs": [],
   "source": [
    "!pip install torchvision"
   ]
  },
  {
   "cell_type": "code",
   "execution_count": null,
   "id": "84a79cc9",
   "metadata": {},
   "outputs": [],
   "source": [
    "!pip install opencv-python"
   ]
  },
  {
   "cell_type": "code",
   "execution_count": 2,
   "id": "41fecd0d",
   "metadata": {},
   "outputs": [],
   "source": [
    "from imageai.Detection import ObjectDetection\n",
    "import os"
   ]
  },
  {
   "cell_type": "code",
   "execution_count": 4,
   "id": "bad24a89",
   "metadata": {},
   "outputs": [
    {
     "name": "stdout",
     "output_type": "stream",
     "text": [
      "input_path: .\\image.jpg\n"
     ]
    },
    {
     "ename": "RuntimeError",
     "evalue": "You are trying to use a Tensorflow model with ImageAI. ImageAI now uses PyTorch as backed as from version 3.0.2 . If you want to use the Tensorflow models or a customly trained '.h5' model, install ImageAI 2.1.6 or earlier. To use the latest Pytorch models, see the documentation in https://imageai.readthedocs.io/",
     "output_type": "error",
     "traceback": [
      "\u001b[1;31m---------------------------------------------------------------------------\u001b[0m",
      "\u001b[1;31mRuntimeError\u001b[0m                              Traceback (most recent call last)",
      "Cell \u001b[1;32mIn [4], line 14\u001b[0m\n\u001b[0;32m     10\u001b[0m \u001b[38;5;66;03m# detector.setModelTypeAsRetinaNet()\u001b[39;00m\n\u001b[0;32m     11\u001b[0m \u001b[38;5;66;03m# detector.setModelPath( os.path.join(execution_path, \"resnet50_coco_best_v2.0.1.h5\"))\u001b[39;00m\n\u001b[0;32m     13\u001b[0m detector\u001b[38;5;241m.\u001b[39msetModelTypeAsYOLOv3()\n\u001b[1;32m---> 14\u001b[0m \u001b[43mdetector\u001b[49m\u001b[38;5;241;43m.\u001b[39;49m\u001b[43msetModelPath\u001b[49m\u001b[43m(\u001b[49m\u001b[38;5;124;43m\"\u001b[39;49m\u001b[38;5;124;43m./yolo.h5\u001b[39;49m\u001b[38;5;124;43m\"\u001b[39;49m\u001b[43m)\u001b[49m\n\u001b[0;32m     16\u001b[0m detector\u001b[38;5;241m.\u001b[39mloadModel()\n\u001b[0;32m     17\u001b[0m \u001b[38;5;28;01mif\u001b[39;00m os\u001b[38;5;241m.\u001b[39mpath\u001b[38;5;241m.\u001b[39mexists(input_path):\n",
      "File \u001b[1;32mC:\\Python310\\lib\\site-packages\\imageai\\Detection\\__init__.py:206\u001b[0m, in \u001b[0;36mObjectDetection.setModelPath\u001b[1;34m(self, path)\u001b[0m\n\u001b[0;32m    199\u001b[0m \u001b[38;5;124;03m\"\"\"\u001b[39;00m\n\u001b[0;32m    200\u001b[0m \u001b[38;5;124;03m'setModelPath()' function is required and is used to set the file path to the model adopted from the list of the\u001b[39;00m\n\u001b[0;32m    201\u001b[0m \u001b[38;5;124;03mavailable 3 model types. The model path must correspond to the model type.\u001b[39;00m\n\u001b[0;32m    202\u001b[0m \u001b[38;5;124;03m:param model_path:\u001b[39;00m\n\u001b[0;32m    203\u001b[0m \u001b[38;5;124;03m:return:\u001b[39;00m\n\u001b[0;32m    204\u001b[0m \u001b[38;5;124;03m\"\"\"\u001b[39;00m\n\u001b[0;32m    205\u001b[0m \u001b[38;5;28;01mif\u001b[39;00m os\u001b[38;5;241m.\u001b[39mpath\u001b[38;5;241m.\u001b[39misfile(path):\n\u001b[1;32m--> 206\u001b[0m     \u001b[43mextension_check\u001b[49m\u001b[43m(\u001b[49m\u001b[43mpath\u001b[49m\u001b[43m)\u001b[49m\n\u001b[0;32m    207\u001b[0m     \u001b[38;5;28mself\u001b[39m\u001b[38;5;241m.\u001b[39m__model_path \u001b[38;5;241m=\u001b[39m path\n\u001b[0;32m    208\u001b[0m     \u001b[38;5;28mself\u001b[39m\u001b[38;5;241m.\u001b[39m__model_loaded \u001b[38;5;241m=\u001b[39m \u001b[38;5;28;01mFalse\u001b[39;00m\n",
      "File \u001b[1;32mC:\\Python310\\lib\\site-packages\\imageai\\backend_check\\model_extension.py:5\u001b[0m, in \u001b[0;36mextension_check\u001b[1;34m(file_path)\u001b[0m\n\u001b[0;32m      3\u001b[0m \u001b[38;5;28;01mdef\u001b[39;00m \u001b[38;5;21mextension_check\u001b[39m(file_path: \u001b[38;5;28mstr\u001b[39m):\n\u001b[0;32m      4\u001b[0m     \u001b[38;5;28;01mif\u001b[39;00m file_path\u001b[38;5;241m.\u001b[39mendswith(\u001b[38;5;124m\"\u001b[39m\u001b[38;5;124m.h5\u001b[39m\u001b[38;5;124m\"\u001b[39m):\n\u001b[1;32m----> 5\u001b[0m         \u001b[38;5;28;01mraise\u001b[39;00m \u001b[38;5;167;01mRuntimeError\u001b[39;00m(\u001b[38;5;124m\"\u001b[39m\u001b[38;5;124mYou are trying to use a Tensorflow model with ImageAI. ImageAI now uses PyTorch as backed as from version 3.0.2 . If you want to use the Tensorflow models or a customly trained \u001b[39m\u001b[38;5;124m'\u001b[39m\u001b[38;5;124m.h5\u001b[39m\u001b[38;5;124m'\u001b[39m\u001b[38;5;124m model, install ImageAI 2.1.6 or earlier. To use the latest Pytorch models, see the documentation in https://imageai.readthedocs.io/\u001b[39m\u001b[38;5;124m\"\u001b[39m)\n\u001b[0;32m      6\u001b[0m     \u001b[38;5;28;01melif\u001b[39;00m file_path\u001b[38;5;241m.\u001b[39mendswith(\u001b[38;5;124m\"\u001b[39m\u001b[38;5;124m.pt\u001b[39m\u001b[38;5;124m\"\u001b[39m) \u001b[38;5;241m==\u001b[39m \u001b[38;5;28;01mFalse\u001b[39;00m \u001b[38;5;129;01mand\u001b[39;00m file_path\u001b[38;5;241m.\u001b[39mendswith(\u001b[38;5;124m\"\u001b[39m\u001b[38;5;124m.pth\u001b[39m\u001b[38;5;124m\"\u001b[39m) \u001b[38;5;241m==\u001b[39m \u001b[38;5;28;01mFalse\u001b[39;00m:\n\u001b[0;32m      7\u001b[0m         \u001b[38;5;28;01mraise\u001b[39;00m \u001b[38;5;167;01mValueError\u001b[39;00m(\u001b[38;5;124mf\u001b[39m\u001b[38;5;124m\"\u001b[39m\u001b[38;5;124mInvalid model file \u001b[39m\u001b[38;5;132;01m{\u001b[39;00mos\u001b[38;5;241m.\u001b[39mpath\u001b[38;5;241m.\u001b[39mbasename(file_path)\u001b[38;5;132;01m}\u001b[39;00m\u001b[38;5;124m. Please parse in a \u001b[39m\u001b[38;5;124m'\u001b[39m\u001b[38;5;124m.pt\u001b[39m\u001b[38;5;124m'\u001b[39m\u001b[38;5;124m and \u001b[39m\u001b[38;5;124m'\u001b[39m\u001b[38;5;124m.pth\u001b[39m\u001b[38;5;124m'\u001b[39m\u001b[38;5;124m model file.\u001b[39m\u001b[38;5;124m\"\u001b[39m)\n",
      "\u001b[1;31mRuntimeError\u001b[0m: You are trying to use a Tensorflow model with ImageAI. ImageAI now uses PyTorch as backed as from version 3.0.2 . If you want to use the Tensorflow models or a customly trained '.h5' model, install ImageAI 2.1.6 or earlier. To use the latest Pytorch models, see the documentation in https://imageai.readthedocs.io/"
     ]
    }
   ],
   "source": [
    "# 記得要等待yolo.h5上傳完成才可以進行預測\n",
    "# 路徑中間不能有空白\n",
    "\n",
    "execution_path = r\".\" #os.getcwd()\n",
    "input_path = os.path.join(execution_path, \"image.jpg\")\n",
    "output_path = os.path.join(execution_path, \"image_new.jpg\")\n",
    "print('input_path:', input_path)\n",
    "\n",
    "detector = ObjectDetection()\n",
    "# detector.setModelTypeAsRetinaNet()\n",
    "# detector.setModelPath( os.path.join(execution_path, \"resnet50_coco_best_v2.0.1.h5\"))\n",
    "\n",
    "detector.setModelTypeAsYOLOv3()\n",
    "detector.setModelPath(\"./yolo.h5\")\n",
    "\n",
    "detector.loadModel()\n",
    "if os.path.exists(input_path):\n",
    "    detections = detector.detectObjectsFromImage(input_image = input_path, output_image_path = output_path)\n",
    "\n",
    "    for eachObject in detections:\n",
    "        print(f'{eachObject[\"name\"]}:{eachObject[\"percentage_probability\"]}')"
   ]
  },
  {
   "cell_type": "code",
   "execution_count": null,
   "id": "ea37809d",
   "metadata": {},
   "outputs": [],
   "source": []
  }
 ],
 "metadata": {
  "kernelspec": {
   "display_name": "Python 3 (ipykernel)",
   "language": "python",
   "name": "python3"
  },
  "language_info": {
   "codemirror_mode": {
    "name": "ipython",
    "version": 3
   },
   "file_extension": ".py",
   "mimetype": "text/x-python",
   "name": "python",
   "nbconvert_exporter": "python",
   "pygments_lexer": "ipython3",
   "version": "3.10.7"
  }
 },
 "nbformat": 4,
 "nbformat_minor": 5
}
