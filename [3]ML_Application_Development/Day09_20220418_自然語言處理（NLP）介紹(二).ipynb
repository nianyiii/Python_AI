{
 "cells": [
  {
   "cell_type": "markdown",
   "id": "25da0d19",
   "metadata": {},
   "source": [
    "## Jieba-Traditional Chinese"
   ]
  },
  {
   "cell_type": "code",
   "execution_count": 1,
   "id": "db32ec26",
   "metadata": {},
   "outputs": [
    {
     "name": "stderr",
     "output_type": "stream",
     "text": [
      "Building prefix dict from the default dictionary ...\n",
      "Loading model from cache C:\\Users\\User\\AppData\\Local\\Temp\\jieba.cache\n",
      "Loading model cost 1.231 seconds.\n",
      "Prefix dict has been built successfully.\n"
     ]
    },
    {
     "name": "stdout",
     "output_type": "stream",
     "text": [
      "在|非洲|，|每|六十|秒|，|就|有|一分|鐘過|去\n"
     ]
    }
   ],
   "source": [
    "import jieba\n",
    "\n",
    "seg_list = jieba.cut(\"在非洲，每六十秒，就有一分鐘過去\") \n",
    "print(\"|\".join(seg_list))"
   ]
  },
  {
   "cell_type": "code",
   "execution_count": 2,
   "id": "34b95d49",
   "metadata": {},
   "outputs": [
    {
     "name": "stdout",
     "output_type": "stream",
     "text": [
      "Full Mode: 交通/ 大/ 學/ 在/ 新竹/ 大/ 學/ 路上\n",
      "Default Mode: 交通/ 大學/ 在/ 新竹/ 大學/ 路上\n",
      "小明, 碩士, 畢業于, 台灣, 大學, 電機, 所, ，, 後, 在, 日本, 京都, 大學, 深造\n"
     ]
    }
   ],
   "source": [
    "import jieba\n",
    "\n",
    "# jieba.cut -> 分詞模式\n",
    "# 全模式：列出各種可能的字詞，cut_all = True\n",
    "# 精確模式：Default，列出最適合的字詞，cut_all = False\n",
    "seg_list = jieba.cut(\"交通大學在新竹大學路上\", cut_all = True)\n",
    "print(\"Full Mode: \" + \"/ \".join(seg_list))\n",
    "\n",
    "seg_list = jieba.cut(\"交通大學在新竹大學路上\", cut_all = False)\n",
    "print(\"Default Mode: \" + \"/ \".join(seg_list))\n",
    "\n",
    "# jieba.cut_for_search -> 適合用於搜尋引擎構建倒排索引的分詞，分詞較細\n",
    "seg_list = jieba.cut_for_search(\"小明碩士畢業于台灣大學電機所，後在日本京都大學深造\")  # 搜索引擎模式\n",
    "print(\", \".join(seg_list))"
   ]
  },
  {
   "cell_type": "markdown",
   "id": "604adc5f",
   "metadata": {},
   "source": [
    "## Traditional and Simplified Chinese exchange\n",
    "https://pypi.org/project/OpenCC/  \n",
    "'''\n",
    "s2t.json Simplified Chinese to Traditional Chinese 簡體到繁體  \n",
    "t2s.json Traditional Chinese to Simplified Chinese 繁體到簡體  \n",
    "s2tw.json Simplified Chinese to Traditional Chinese (Taiwan Standard) 簡體到臺灣正體  \n",
    "tw2s.json Traditional Chinese (Taiwan Standard) to Simplified Chinese 臺灣正體到簡體  \n",
    "s2hk.json Simplified Chinese to Traditional Chinese (Hong Kong variant) 簡體到香港繁體  \n",
    "hk2s.json Traditional Chinese (Hong Kong variant) to Simplified Chinese 香港繁體到簡體  \n",
    "s2twp.json Simplified Chinese to Traditional Chinese (Taiwan Standard) with Taiwanese idiom 簡體到繁體（臺灣正體標準）並轉換爲臺灣常用詞彙  \n",
    "tw2sp.json Traditional Chinese (Taiwan Standard) to Simplified Chinese with Mainland Chinese idiom 繁體（臺灣正體標準）到簡體並轉換爲中國大陸常用詞彙  \n",
    "t2tw.json Traditional Chinese (OpenCC Standard) to Taiwan Standard 繁體（OpenCC標準）到臺灣正體  \n",
    "hk2t.json Traditional Chinese (Hong Kong variant) to Traditional Chinese 香港繁體到繁體（OpenCC標準）  \n",
    "t2hk.json Traditional Chinese (OpenCC Standard) to Hong Kong variant 繁體（OpenCC標準）到香港繁體  \n",
    "t2jp.json Traditional Chinese Characters (Kyūjitai) to New Japanese Kanji (Shinjitai) 繁體（OpenCC標準，舊字體）到日文新字體  \n",
    "jp2t.json New Japanese Kanji (Shinjitai) to Traditional Chinese Characters (Kyūjitai) 日文新字體到繁體（OpenCC標準，舊字體）  \n",
    "tw2t.json Traditional Chinese (Taiwan standard) to Traditional Chinese 臺灣正體到繁體（OpenCC標準）  \n",
    "\n",
    "'''"
   ]
  },
  {
   "cell_type": "code",
   "execution_count": 3,
   "id": "e56f064c",
   "metadata": {},
   "outputs": [
    {
     "name": "stdout",
     "output_type": "stream",
     "text": [
      "Collecting opencc\n",
      "  Downloading OpenCC-1.1.1-py2.py3-none-win_amd64.whl (726 kB)\n",
      "     -------------------------------------- 726.1/726.1 kB 1.4 MB/s eta 0:00:00\n",
      "Installing collected packages: opencc\n",
      "Successfully installed opencc-1.1.1\n"
     ]
    }
   ],
   "source": [
    "!pip install opencc"
   ]
  },
  {
   "cell_type": "code",
   "execution_count": 4,
   "id": "ecc82cf1",
   "metadata": {},
   "outputs": [
    {
     "data": {
      "text/plain": [
       "'漢字'"
      ]
     },
     "execution_count": 4,
     "metadata": {},
     "output_type": "execute_result"
    }
   ],
   "source": [
    "import opencc\n",
    "converter = opencc.OpenCC('s2tw.json')\n",
    "converter.convert('汉字')"
   ]
  },
  {
   "cell_type": "code",
   "execution_count": 5,
   "id": "e9072abc",
   "metadata": {},
   "outputs": [
    {
     "data": {
      "text/plain": [
       "'台湾鼠标'"
      ]
     },
     "execution_count": 5,
     "metadata": {},
     "output_type": "execute_result"
    }
   ],
   "source": [
    "import opencc\n",
    "converter = opencc.OpenCC('tw2sp.json')\n",
    "converter.convert('臺灣滑鼠')"
   ]
  },
  {
   "cell_type": "markdown",
   "id": "5d936a53",
   "metadata": {},
   "source": [
    "## 中文斷字"
   ]
  },
  {
   "cell_type": "code",
   "execution_count": 6,
   "id": "76da429f",
   "metadata": {},
   "outputs": [
    {
     "name": "stdout",
     "output_type": "stream",
     "text": [
      "word 永和\t\t start: 0 \t\t end:2\n",
      "word 服裝飾品\t\t start: 2 \t\t end:6\n",
      "word 有限公司\t\t start: 6 \t\t end:10\n"
     ]
    }
   ],
   "source": [
    "import jieba\n",
    "\n",
    "result = jieba.tokenize(u'永和服裝飾品有限公司')\n",
    "for tk in result: \n",
    "    print(\"word %s\\t\\t start: %d \\t\\t end:%d\" % (tk[0],tk[1],tk[2]))"
   ]
  },
  {
   "cell_type": "code",
   "execution_count": 7,
   "id": "ac538257",
   "metadata": {},
   "outputs": [
    {
     "name": "stdout",
     "output_type": "stream",
     "text": [
      "word 全台灣\t\t start: 0 \t\t end:3\n",
      "word 大\t\t start: 3 \t\t end:4\n",
      "word 停電\t\t start: 4 \t\t end:6\n"
     ]
    }
   ],
   "source": [
    "import jieba\n",
    "\n",
    "result = jieba.tokenize(u'全台灣大停電')\n",
    "for tk in result: \n",
    "    print(\"word %s\\t\\t start: %d \\t\\t end:%d\" % (tk[0],tk[1],tk[2]))"
   ]
  },
  {
   "cell_type": "markdown",
   "id": "5c3c82bd",
   "metadata": {},
   "source": [
    "## 語音辨識"
   ]
  },
  {
   "cell_type": "code",
   "execution_count": 1,
   "id": "2e119a49",
   "metadata": {},
   "outputs": [
    {
     "name": "stdout",
     "output_type": "stream",
     "text": [
      "Collecting SpeechRecognition\n",
      "  Downloading SpeechRecognition-3.10.0-py2.py3-none-any.whl (32.8 MB)\n",
      "     ---------------------------------------- 32.8/32.8 MB 5.9 MB/s eta 0:00:00\n",
      "Requirement already satisfied: requests>=2.26.0 in c:\\python310\\lib\\site-packages (from SpeechRecognition) (2.28.2)\n",
      "Requirement already satisfied: idna<4,>=2.5 in c:\\python310\\lib\\site-packages (from requests>=2.26.0->SpeechRecognition) (3.4)\n",
      "Requirement already satisfied: urllib3<1.27,>=1.21.1 in c:\\python310\\lib\\site-packages (from requests>=2.26.0->SpeechRecognition) (1.26.14)\n",
      "Requirement already satisfied: certifi>=2017.4.17 in c:\\python310\\lib\\site-packages (from requests>=2.26.0->SpeechRecognition) (2022.12.7)\n",
      "Requirement already satisfied: charset-normalizer<4,>=2 in c:\\python310\\lib\\site-packages (from requests>=2.26.0->SpeechRecognition) (3.0.1)\n",
      "Installing collected packages: SpeechRecognition\n",
      "Successfully installed SpeechRecognition-3.10.0\n",
      "Collecting pyaudio\n",
      "  Downloading PyAudio-0.2.13-cp310-cp310-win_amd64.whl (164 kB)\n",
      "     ------------------------------------ 164.1/164.1 kB 545.5 kB/s eta 0:00:00\n",
      "Installing collected packages: pyaudio\n",
      "Successfully installed pyaudio-0.2.13\n"
     ]
    }
   ],
   "source": [
    "!pip install SpeechRecognition\n",
    "!pip install pyaudio"
   ]
  },
  {
   "cell_type": "code",
   "execution_count": 2,
   "id": "c69b9a90",
   "metadata": {},
   "outputs": [
    {
     "name": "stdout",
     "output_type": "stream",
     "text": [
      "請說話......\n"
     ]
    },
    {
     "name": "stderr",
     "output_type": "stream",
     "text": [
      "Building prefix dict from the default dictionary ...\n",
      "Loading model from cache C:\\Users\\User\\AppData\\Local\\Temp\\jieba.cache\n"
     ]
    },
    {
     "name": "stdout",
     "output_type": "stream",
     "text": [
      "哈囉\n"
     ]
    },
    {
     "name": "stderr",
     "output_type": "stream",
     "text": [
      "Loading model cost 0.781 seconds.\n",
      "Prefix dict has been built successfully.\n"
     ]
    },
    {
     "name": "stdout",
     "output_type": "stream",
     "text": [
      "哈/囉\n"
     ]
    }
   ],
   "source": [
    "import speech_recognition as sr\n",
    "print('請說話......')\n",
    "\n",
    "# 錄音\n",
    "recognizer = sr.Recognizer()\n",
    "microphone = sr.Microphone()\n",
    "with microphone as source:\n",
    "    recognizer.adjust_for_ambient_noise(source)\n",
    "    audio = recognizer.listen(source)\n",
    "\n",
    "# 語音辨識    \n",
    "# pip install SpeechRecognition\n",
    "# pip install pyaudio\n",
    "try:\n",
    "    text = recognizer.recognize_google(audio, language = 'zh-tw')\n",
    "    print(text)\n",
    "except:\n",
    "    pass\n",
    "\n",
    "# jieba 分詞\n",
    "# pip install jieba\n",
    "import jieba\n",
    "\n",
    "# 加詞\n",
    "jieba.add_word('三天三夜')\n",
    "seg_list = jieba.cut(text)\n",
    "print(\"/\".join(seg_list))"
   ]
  },
  {
   "cell_type": "code",
   "execution_count": 7,
   "id": "bb088178",
   "metadata": {},
   "outputs": [
    {
     "name": "stdout",
     "output_type": "stream",
     "text": [
      "請說話......\n",
      "要開始寫論文了\n",
      "要/開始/寫/論文/了\n"
     ]
    }
   ],
   "source": [
    "import speech_recognition as sr\n",
    "print('請說話......')\n",
    "\n",
    "# 錄音\n",
    "recognizer = sr.Recognizer()\n",
    "microphone = sr.Microphone()\n",
    "with microphone as source:\n",
    "    recognizer.adjust_for_ambient_noise(source)\n",
    "    audio = recognizer.listen(source)\n",
    "\n",
    "# 語音辨識\n",
    "try:\n",
    "    text = recognizer.recognize_google(audio, language = 'zh-tw')\n",
    "    print(text)\n",
    "except:\n",
    "    pass\n",
    "\n",
    "# jieba分詞\n",
    "import jieba\n",
    "\n",
    "# 加詞\n",
    "jieba.add_word('三天三夜')\n",
    "seg_list = jieba.cut(text)\n",
    "print(\"/\".join(seg_list))"
   ]
  },
  {
   "cell_type": "code",
   "execution_count": 11,
   "id": "442d62c3",
   "metadata": {},
   "outputs": [
    {
     "name": "stdout",
     "output_type": "stream",
     "text": [
      "請說話......\n",
      "要去找k u k u\n",
      "要/去/找/k/ /u/ /k/ /u\n"
     ]
    }
   ],
   "source": [
    "import speech_recognition as sr\n",
    "print('請說話......')\n",
    "\n",
    "# 錄音\n",
    "recognizer = sr.Recognizer()\n",
    "microphone = sr.Microphone()\n",
    "with microphone as source:\n",
    "    recognizer.adjust_for_ambient_noise(source)\n",
    "    audio = recognizer.listen(source)\n",
    "\n",
    "# 語音辨識\n",
    "try:\n",
    "    text = recognizer.recognize_google(audio, language = 'zh-tw')\n",
    "    print(text)\n",
    "except:\n",
    "    pass\n",
    "\n",
    "# jieba分詞\n",
    "import jieba\n",
    "\n",
    "# 加詞\n",
    "jieba.add_word('三天三夜')\n",
    "seg_list = jieba.cut(text)\n",
    "print(\"/\".join(seg_list))"
   ]
  },
  {
   "cell_type": "code",
   "execution_count": 20,
   "id": "d69f17f4",
   "metadata": {},
   "outputs": [
    {
     "name": "stdout",
     "output_type": "stream",
     "text": [
      "請說話......\n",
      "找葉家妤\n",
      "找葉家/妤\n"
     ]
    }
   ],
   "source": [
    "import speech_recognition as sr\n",
    "print('請說話......')\n",
    "\n",
    "# 錄音\n",
    "recognizer = sr.Recognizer()\n",
    "microphone = sr.Microphone()\n",
    "with microphone as source:\n",
    "    recognizer.adjust_for_ambient_noise(source)\n",
    "    audio = recognizer.listen(source)\n",
    "\n",
    "# 語音辨識\n",
    "try:\n",
    "    text = recognizer.recognize_google(audio, language = 'zh-tw')\n",
    "    print(text)\n",
    "except:\n",
    "    pass\n",
    "\n",
    "# jieba分詞\n",
    "import jieba\n",
    "\n",
    "# 加詞\n",
    "jieba.add_word('三天三夜')\n",
    "seg_list = jieba.cut(text)\n",
    "print(\"/\".join(seg_list))"
   ]
  },
  {
   "cell_type": "code",
   "execution_count": 39,
   "id": "3f91ac3e",
   "metadata": {},
   "outputs": [
    {
     "name": "stdout",
     "output_type": "stream",
     "text": [
      "請說話......\n",
      "Lucy在忙什麼\n",
      "Lucy/在/忙/什麼\n"
     ]
    }
   ],
   "source": [
    "import speech_recognition as sr\n",
    "print('請說話......')\n",
    "\n",
    "# 錄音\n",
    "recognizer = sr.Recognizer()\n",
    "microphone = sr.Microphone()\n",
    "with microphone as source:\n",
    "    recognizer.adjust_for_ambient_noise(source)\n",
    "    audio = recognizer.listen(source)\n",
    "\n",
    "# 語音辨識    \n",
    "# pip install SpeechRecognition\n",
    "# pip install pyaudio\n",
    "try:\n",
    "    text = recognizer.recognize_google(audio, language = 'zh-tw')\n",
    "    print(text)\n",
    "except:\n",
    "    pass\n",
    "\n",
    "# jieba 分詞\n",
    "# pip install jieba\n",
    "import jieba\n",
    "\n",
    "# 加詞\n",
    "jieba.add_word('三天三夜')\n",
    "seg_list = jieba.cut(text)\n",
    "print(\"/\".join(seg_list))"
   ]
  }
 ],
 "metadata": {
  "kernelspec": {
   "display_name": "Python 3 (ipykernel)",
   "language": "python",
   "name": "python3"
  },
  "language_info": {
   "codemirror_mode": {
    "name": "ipython",
    "version": 3
   },
   "file_extension": ".py",
   "mimetype": "text/x-python",
   "name": "python",
   "nbconvert_exporter": "python",
   "pygments_lexer": "ipython3",
   "version": "3.10.7"
  }
 },
 "nbformat": 4,
 "nbformat_minor": 5
}
