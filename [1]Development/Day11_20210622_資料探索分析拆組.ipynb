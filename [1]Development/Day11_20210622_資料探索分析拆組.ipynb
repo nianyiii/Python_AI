{
 "cells": [
  {
   "cell_type": "markdown",
   "id": "853f9e0e",
   "metadata": {},
   "source": [
    "## Pandas資料探索"
   ]
  },
  {
   "cell_type": "code",
   "execution_count": 10,
   "id": "e4d1f287",
   "metadata": {},
   "outputs": [
    {
     "data": {
      "text/html": [
       "<div>\n",
       "<style scoped>\n",
       "    .dataframe tbody tr th:only-of-type {\n",
       "        vertical-align: middle;\n",
       "    }\n",
       "\n",
       "    .dataframe tbody tr th {\n",
       "        vertical-align: top;\n",
       "    }\n",
       "\n",
       "    .dataframe thead th {\n",
       "        text-align: right;\n",
       "    }\n",
       "</style>\n",
       "<table border=\"1\" class=\"dataframe\">\n",
       "  <thead>\n",
       "    <tr style=\"text-align: right;\">\n",
       "      <th></th>\n",
       "      <th>name</th>\n",
       "      <th>population</th>\n",
       "      <th>city</th>\n",
       "    </tr>\n",
       "  </thead>\n",
       "  <tbody>\n",
       "    <tr>\n",
       "      <th>0</th>\n",
       "      <td>中正區</td>\n",
       "      <td>159598</td>\n",
       "      <td>台北市</td>\n",
       "    </tr>\n",
       "    <tr>\n",
       "      <th>1</th>\n",
       "      <td>板橋區</td>\n",
       "      <td>551452</td>\n",
       "      <td>新北市</td>\n",
       "    </tr>\n",
       "    <tr>\n",
       "      <th>2</th>\n",
       "      <td>桃園區</td>\n",
       "      <td>441287</td>\n",
       "      <td>桃園市</td>\n",
       "    </tr>\n",
       "    <tr>\n",
       "      <th>3</th>\n",
       "      <td>北屯區</td>\n",
       "      <td>275207</td>\n",
       "      <td>台中市</td>\n",
       "    </tr>\n",
       "  </tbody>\n",
       "</table>\n",
       "</div>"
      ],
      "text/plain": [
       "  name  population city\n",
       "0  中正區      159598  台北市\n",
       "1  板橋區      551452  新北市\n",
       "2  桃園區      441287  桃園市\n",
       "3  北屯區      275207  台中市"
      ]
     },
     "execution_count": 10,
     "metadata": {},
     "output_type": "execute_result"
    }
   ],
   "source": [
    "# Pandas觀念強調\n",
    "\n",
    "data1 = {\"name\" : [\"中正區\", \"板橋區\", \"桃園區\", \"北屯區\",\n",
    "                   \"安南區\", \"三民區\", \"大安區\", \"永和區\",\n",
    "                   \"八德區\", \"前鎮區\", \"鳳山區\",\n",
    "                   \"信義區\", \"新店區\"],\n",
    "         \"population\" : [159598, 551452, 441287, 275207,\n",
    "                         192327, 343203, 309835, 222531,\n",
    "                         198473, 189623, 359125,\n",
    "                         225561, 302070],\n",
    "         \"city\" : [\"台北市\", \"新北市\", \"桃園市\", \"台中市\",\n",
    "                   \"台南市\", \"高雄市\", \"台北市\", \"新北市\",\n",
    "                   \"桃園市\", \"高雄市\", \"高雄市\",\n",
    "                   \"台北市\", \"新北市\"]}\n",
    "\n",
    "data2 = [\"first\", \"second\", \"third\", \"fourth\", \"fifth\",\n",
    "         \"sixth\", \"seventh\", \"eigth\", \"ninth\", \"tenth\",\n",
    "         \"eleventh\", \"twelvth\", \"thirteenth\"]\n",
    "\n",
    "import pandas as pd\n",
    "\n",
    "df = pd.DataFrame(data1) # DataFrame：header, row(s), column(s), index\n",
    "df[:4]                   # [[column, column, column]] = DataFrame[[]] = N * Series[]"
   ]
  },
  {
   "cell_type": "code",
   "execution_count": 2,
   "id": "6d1d78b6",
   "metadata": {},
   "outputs": [
    {
     "data": {
      "text/plain": [
       "0     159598\n",
       "1     551452\n",
       "2     441287\n",
       "3     275207\n",
       "4     192327\n",
       "5     343203\n",
       "6     309835\n",
       "7     222531\n",
       "8     198473\n",
       "9     189623\n",
       "10    359125\n",
       "11    225561\n",
       "12    302070\n",
       "Name: population, dtype: int64"
      ]
     },
     "execution_count": 2,
     "metadata": {},
     "output_type": "execute_result"
    }
   ],
   "source": [
    "df['population'] # 上下全部、左右使用名稱篩選 [Series]"
   ]
  },
  {
   "cell_type": "code",
   "execution_count": 3,
   "id": "2c8f0def",
   "metadata": {},
   "outputs": [
    {
     "data": {
      "text/html": [
       "<div>\n",
       "<style scoped>\n",
       "    .dataframe tbody tr th:only-of-type {\n",
       "        vertical-align: middle;\n",
       "    }\n",
       "\n",
       "    .dataframe tbody tr th {\n",
       "        vertical-align: top;\n",
       "    }\n",
       "\n",
       "    .dataframe thead th {\n",
       "        text-align: right;\n",
       "    }\n",
       "</style>\n",
       "<table border=\"1\" class=\"dataframe\">\n",
       "  <thead>\n",
       "    <tr style=\"text-align: right;\">\n",
       "      <th></th>\n",
       "      <th>population</th>\n",
       "    </tr>\n",
       "  </thead>\n",
       "  <tbody>\n",
       "    <tr>\n",
       "      <th>0</th>\n",
       "      <td>159598</td>\n",
       "    </tr>\n",
       "    <tr>\n",
       "      <th>1</th>\n",
       "      <td>551452</td>\n",
       "    </tr>\n",
       "    <tr>\n",
       "      <th>2</th>\n",
       "      <td>441287</td>\n",
       "    </tr>\n",
       "    <tr>\n",
       "      <th>3</th>\n",
       "      <td>275207</td>\n",
       "    </tr>\n",
       "    <tr>\n",
       "      <th>4</th>\n",
       "      <td>192327</td>\n",
       "    </tr>\n",
       "    <tr>\n",
       "      <th>5</th>\n",
       "      <td>343203</td>\n",
       "    </tr>\n",
       "    <tr>\n",
       "      <th>6</th>\n",
       "      <td>309835</td>\n",
       "    </tr>\n",
       "    <tr>\n",
       "      <th>7</th>\n",
       "      <td>222531</td>\n",
       "    </tr>\n",
       "    <tr>\n",
       "      <th>8</th>\n",
       "      <td>198473</td>\n",
       "    </tr>\n",
       "    <tr>\n",
       "      <th>9</th>\n",
       "      <td>189623</td>\n",
       "    </tr>\n",
       "    <tr>\n",
       "      <th>10</th>\n",
       "      <td>359125</td>\n",
       "    </tr>\n",
       "    <tr>\n",
       "      <th>11</th>\n",
       "      <td>225561</td>\n",
       "    </tr>\n",
       "    <tr>\n",
       "      <th>12</th>\n",
       "      <td>302070</td>\n",
       "    </tr>\n",
       "  </tbody>\n",
       "</table>\n",
       "</div>"
      ],
      "text/plain": [
       "    population\n",
       "0       159598\n",
       "1       551452\n",
       "2       441287\n",
       "3       275207\n",
       "4       192327\n",
       "5       343203\n",
       "6       309835\n",
       "7       222531\n",
       "8       198473\n",
       "9       189623\n",
       "10      359125\n",
       "11      225561\n",
       "12      302070"
      ]
     },
     "execution_count": 3,
     "metadata": {},
     "output_type": "execute_result"
    }
   ],
   "source": [
    "df[['population']] # 上下全部、左右使用名稱篩選 [[DataFrame]]"
   ]
  },
  {
   "cell_type": "code",
   "execution_count": 4,
   "id": "d1a9f5c8",
   "metadata": {},
   "outputs": [
    {
     "data": {
      "text/html": [
       "<div>\n",
       "<style scoped>\n",
       "    .dataframe tbody tr th:only-of-type {\n",
       "        vertical-align: middle;\n",
       "    }\n",
       "\n",
       "    .dataframe tbody tr th {\n",
       "        vertical-align: top;\n",
       "    }\n",
       "\n",
       "    .dataframe thead th {\n",
       "        text-align: right;\n",
       "    }\n",
       "</style>\n",
       "<table border=\"1\" class=\"dataframe\">\n",
       "  <thead>\n",
       "    <tr style=\"text-align: right;\">\n",
       "      <th></th>\n",
       "      <th>population</th>\n",
       "      <th>city</th>\n",
       "    </tr>\n",
       "  </thead>\n",
       "  <tbody>\n",
       "    <tr>\n",
       "      <th>0</th>\n",
       "      <td>159598</td>\n",
       "      <td>台北市</td>\n",
       "    </tr>\n",
       "    <tr>\n",
       "      <th>1</th>\n",
       "      <td>551452</td>\n",
       "      <td>新北市</td>\n",
       "    </tr>\n",
       "    <tr>\n",
       "      <th>2</th>\n",
       "      <td>441287</td>\n",
       "      <td>桃園市</td>\n",
       "    </tr>\n",
       "    <tr>\n",
       "      <th>3</th>\n",
       "      <td>275207</td>\n",
       "      <td>台中市</td>\n",
       "    </tr>\n",
       "    <tr>\n",
       "      <th>4</th>\n",
       "      <td>192327</td>\n",
       "      <td>台南市</td>\n",
       "    </tr>\n",
       "    <tr>\n",
       "      <th>5</th>\n",
       "      <td>343203</td>\n",
       "      <td>高雄市</td>\n",
       "    </tr>\n",
       "    <tr>\n",
       "      <th>6</th>\n",
       "      <td>309835</td>\n",
       "      <td>台北市</td>\n",
       "    </tr>\n",
       "    <tr>\n",
       "      <th>7</th>\n",
       "      <td>222531</td>\n",
       "      <td>新北市</td>\n",
       "    </tr>\n",
       "    <tr>\n",
       "      <th>8</th>\n",
       "      <td>198473</td>\n",
       "      <td>桃園市</td>\n",
       "    </tr>\n",
       "    <tr>\n",
       "      <th>9</th>\n",
       "      <td>189623</td>\n",
       "      <td>高雄市</td>\n",
       "    </tr>\n",
       "    <tr>\n",
       "      <th>10</th>\n",
       "      <td>359125</td>\n",
       "      <td>高雄市</td>\n",
       "    </tr>\n",
       "    <tr>\n",
       "      <th>11</th>\n",
       "      <td>225561</td>\n",
       "      <td>台北市</td>\n",
       "    </tr>\n",
       "    <tr>\n",
       "      <th>12</th>\n",
       "      <td>302070</td>\n",
       "      <td>新北市</td>\n",
       "    </tr>\n",
       "  </tbody>\n",
       "</table>\n",
       "</div>"
      ],
      "text/plain": [
       "    population city\n",
       "0       159598  台北市\n",
       "1       551452  新北市\n",
       "2       441287  桃園市\n",
       "3       275207  台中市\n",
       "4       192327  台南市\n",
       "5       343203  高雄市\n",
       "6       309835  台北市\n",
       "7       222531  新北市\n",
       "8       198473  桃園市\n",
       "9       189623  高雄市\n",
       "10      359125  高雄市\n",
       "11      225561  台北市\n",
       "12      302070  新北市"
      ]
     },
     "execution_count": 4,
     "metadata": {},
     "output_type": "execute_result"
    }
   ],
   "source": [
    "df[['population', 'city']] # 上下全部、左右使用名稱篩選 [['', '']]"
   ]
  },
  {
   "cell_type": "code",
   "execution_count": 5,
   "id": "7c000d0c",
   "metadata": {},
   "outputs": [
    {
     "data": {
      "text/html": [
       "<div>\n",
       "<style scoped>\n",
       "    .dataframe tbody tr th:only-of-type {\n",
       "        vertical-align: middle;\n",
       "    }\n",
       "\n",
       "    .dataframe tbody tr th {\n",
       "        vertical-align: top;\n",
       "    }\n",
       "\n",
       "    .dataframe thead th {\n",
       "        text-align: right;\n",
       "    }\n",
       "</style>\n",
       "<table border=\"1\" class=\"dataframe\">\n",
       "  <thead>\n",
       "    <tr style=\"text-align: right;\">\n",
       "      <th></th>\n",
       "      <th>name</th>\n",
       "      <th>population</th>\n",
       "    </tr>\n",
       "  </thead>\n",
       "  <tbody>\n",
       "    <tr>\n",
       "      <th>0</th>\n",
       "      <td>中正區</td>\n",
       "      <td>159598</td>\n",
       "    </tr>\n",
       "    <tr>\n",
       "      <th>1</th>\n",
       "      <td>板橋區</td>\n",
       "      <td>551452</td>\n",
       "    </tr>\n",
       "    <tr>\n",
       "      <th>2</th>\n",
       "      <td>桃園區</td>\n",
       "      <td>441287</td>\n",
       "    </tr>\n",
       "  </tbody>\n",
       "</table>\n",
       "</div>"
      ],
      "text/plain": [
       "  name  population\n",
       "0  中正區      159598\n",
       "1  板橋區      551452\n",
       "2  桃園區      441287"
      ]
     },
     "execution_count": 5,
     "metadata": {},
     "output_type": "execute_result"
    }
   ],
   "source": [
    "df.iloc[0:3, 0:2] # .iloc[索引的位置] (不包含尾)"
   ]
  },
  {
   "cell_type": "code",
   "execution_count": 6,
   "id": "0662c289",
   "metadata": {},
   "outputs": [
    {
     "data": {
      "text/html": [
       "<div>\n",
       "<style scoped>\n",
       "    .dataframe tbody tr th:only-of-type {\n",
       "        vertical-align: middle;\n",
       "    }\n",
       "\n",
       "    .dataframe tbody tr th {\n",
       "        vertical-align: top;\n",
       "    }\n",
       "\n",
       "    .dataframe thead th {\n",
       "        text-align: right;\n",
       "    }\n",
       "</style>\n",
       "<table border=\"1\" class=\"dataframe\">\n",
       "  <thead>\n",
       "    <tr style=\"text-align: right;\">\n",
       "      <th></th>\n",
       "      <th>name</th>\n",
       "      <th>population</th>\n",
       "    </tr>\n",
       "  </thead>\n",
       "  <tbody>\n",
       "    <tr>\n",
       "      <th>0</th>\n",
       "      <td>中正區</td>\n",
       "      <td>159598</td>\n",
       "    </tr>\n",
       "    <tr>\n",
       "      <th>1</th>\n",
       "      <td>板橋區</td>\n",
       "      <td>551452</td>\n",
       "    </tr>\n",
       "    <tr>\n",
       "      <th>2</th>\n",
       "      <td>桃園區</td>\n",
       "      <td>441287</td>\n",
       "    </tr>\n",
       "    <tr>\n",
       "      <th>3</th>\n",
       "      <td>北屯區</td>\n",
       "      <td>275207</td>\n",
       "    </tr>\n",
       "  </tbody>\n",
       "</table>\n",
       "</div>"
      ],
      "text/plain": [
       "  name  population\n",
       "0  中正區      159598\n",
       "1  板橋區      551452\n",
       "2  桃園區      441287\n",
       "3  北屯區      275207"
      ]
     },
     "execution_count": 6,
     "metadata": {},
     "output_type": "execute_result"
    }
   ],
   "source": [
    "df.loc[0:3, ['name', 'population']] # .loc[索引值] (包含尾)"
   ]
  },
  {
   "cell_type": "code",
   "execution_count": 7,
   "id": "593c48cd",
   "metadata": {},
   "outputs": [
    {
     "data": {
      "text/html": [
       "<div>\n",
       "<style scoped>\n",
       "    .dataframe tbody tr th:only-of-type {\n",
       "        vertical-align: middle;\n",
       "    }\n",
       "\n",
       "    .dataframe tbody tr th {\n",
       "        vertical-align: top;\n",
       "    }\n",
       "\n",
       "    .dataframe thead th {\n",
       "        text-align: right;\n",
       "    }\n",
       "</style>\n",
       "<table border=\"1\" class=\"dataframe\">\n",
       "  <thead>\n",
       "    <tr style=\"text-align: right;\">\n",
       "      <th></th>\n",
       "      <th>population</th>\n",
       "      <th>city</th>\n",
       "    </tr>\n",
       "  </thead>\n",
       "  <tbody>\n",
       "    <tr>\n",
       "      <th>10</th>\n",
       "      <td>359125</td>\n",
       "      <td>高雄市</td>\n",
       "    </tr>\n",
       "    <tr>\n",
       "      <th>11</th>\n",
       "      <td>225561</td>\n",
       "      <td>台北市</td>\n",
       "    </tr>\n",
       "    <tr>\n",
       "      <th>12</th>\n",
       "      <td>302070</td>\n",
       "      <td>新北市</td>\n",
       "    </tr>\n",
       "  </tbody>\n",
       "</table>\n",
       "</div>"
      ],
      "text/plain": [
       "    population city\n",
       "10      359125  高雄市\n",
       "11      225561  台北市\n",
       "12      302070  新北市"
      ]
     },
     "execution_count": 7,
     "metadata": {},
     "output_type": "execute_result"
    }
   ],
   "source": [
    "# Exam\n",
    "# 取後三筆的population、city資料\n",
    "\n",
    "data1 = {\"name\" : [\"中正區\", \"板橋區\", \"桃園區\", \"北屯區\",\n",
    "                   \"安南區\", \"三民區\", \"大安區\", \"永和區\",\n",
    "                   \"八德區\", \"前鎮區\", \"鳳山區\",\n",
    "                   \"信義區\", \"新店區\"],\n",
    "         \"population\" : [159598, 551452, 441287, 275207,\n",
    "                         192327, 343203, 309835, 222531,\n",
    "                         198473, 189623, 359125,\n",
    "                         225561, 302070],\n",
    "         \"city\" : [\"台北市\", \"新北市\", \"桃園市\", \"台中市\",\n",
    "                   \"台南市\", \"高雄市\", \"台北市\", \"新北市\",\n",
    "                   \"桃園市\", \"高雄市\", \"高雄市\",\n",
    "                   \"台北市\", \"新北市\"]}\n",
    "\n",
    "import pandas as pd\n",
    "\n",
    "df = pd.DataFrame(data1)\n",
    "\n",
    "#df.loc[10:, ['population', 'city']]\n",
    "#df.iloc[-3:, 1:3]\n",
    "#df.iloc[-3:, 1:]\n",
    "#df.iloc[-3:, [1,2]]\n",
    "df[-3:][['population', 'city']] # 補充：利用numpy方式取出後三筆的DataFrame，再切割左右欄位"
   ]
  },
  {
   "cell_type": "code",
   "execution_count": 8,
   "id": "13346a07",
   "metadata": {},
   "outputs": [
    {
     "data": {
      "text/html": [
       "<div>\n",
       "<style scoped>\n",
       "    .dataframe tbody tr th:only-of-type {\n",
       "        vertical-align: middle;\n",
       "    }\n",
       "\n",
       "    .dataframe tbody tr th {\n",
       "        vertical-align: top;\n",
       "    }\n",
       "\n",
       "    .dataframe thead th {\n",
       "        text-align: right;\n",
       "    }\n",
       "</style>\n",
       "<table border=\"1\" class=\"dataframe\">\n",
       "  <thead>\n",
       "    <tr style=\"text-align: right;\">\n",
       "      <th></th>\n",
       "      <th>population</th>\n",
       "      <th>city</th>\n",
       "    </tr>\n",
       "  </thead>\n",
       "  <tbody>\n",
       "    <tr>\n",
       "      <th>0</th>\n",
       "      <td>159598</td>\n",
       "      <td>台北市</td>\n",
       "    </tr>\n",
       "    <tr>\n",
       "      <th>1</th>\n",
       "      <td>551452</td>\n",
       "      <td>新北市</td>\n",
       "    </tr>\n",
       "    <tr>\n",
       "      <th>2</th>\n",
       "      <td>441287</td>\n",
       "      <td>桃園市</td>\n",
       "    </tr>\n",
       "    <tr>\n",
       "      <th>10</th>\n",
       "      <td>359125</td>\n",
       "      <td>高雄市</td>\n",
       "    </tr>\n",
       "    <tr>\n",
       "      <th>11</th>\n",
       "      <td>225561</td>\n",
       "      <td>台北市</td>\n",
       "    </tr>\n",
       "    <tr>\n",
       "      <th>12</th>\n",
       "      <td>302070</td>\n",
       "      <td>新北市</td>\n",
       "    </tr>\n",
       "  </tbody>\n",
       "</table>\n",
       "</div>"
      ],
      "text/plain": [
       "    population city\n",
       "0       159598  台北市\n",
       "1       551452  新北市\n",
       "2       441287  桃園市\n",
       "10      359125  高雄市\n",
       "11      225561  台北市\n",
       "12      302070  新北市"
      ]
     },
     "execution_count": 8,
     "metadata": {},
     "output_type": "execute_result"
    }
   ],
   "source": [
    "# 承上，取出前三筆和後三筆的population、city資料\n",
    "\n",
    "df.iloc[[0, 1, 2, -3, -2, -1], 1:]"
   ]
  },
  {
   "cell_type": "code",
   "execution_count": 12,
   "id": "62069297",
   "metadata": {},
   "outputs": [
    {
     "name": "stdout",
     "output_type": "stream",
     "text": [
      "   city\n",
      "0   台北市\n",
      "1   新北市\n",
      "2   桃園市\n",
      "3   台中市\n",
      "4   台南市\n",
      "5   高雄市\n",
      "6   台北市\n",
      "7   新北市\n",
      "8   桃園市\n",
      "9   高雄市\n",
      "10  高雄市\n",
      "11  台北市\n",
      "12  新北市\n",
      "-------\n",
      "   city name\n",
      "0   台北市  中正區\n",
      "1   新北市  板橋區\n",
      "2   桃園市  桃園區\n",
      "3   台中市  北屯區\n",
      "4   台南市  安南區\n",
      "5   高雄市  三民區\n",
      "6   台北市  大安區\n",
      "7   新北市  永和區\n",
      "8   桃園市  八德區\n",
      "9   高雄市  前鎮區\n",
      "10  高雄市  鳳山區\n",
      "11  台北市  信義區\n",
      "12  新北市  新店區\n",
      "-------\n",
      "  city name\n",
      "2  桃園市  桃園區\n",
      "3  台中市  北屯區\n",
      "4  台南市  安南區\n",
      "-------\n",
      "  city name\n",
      "3  台中市  北屯區\n",
      "4  台南市  安南區\n",
      "5  高雄市  三民區\n"
     ]
    }
   ],
   "source": [
    "# Practice\n",
    "\n",
    "import pandas as pd\n",
    "\n",
    "df = pd.DataFrame(data1, columns = [\"name\", \"city\", \"population\"]) #, index = data2實際上很少用此資料當索引\n",
    "print(df[[\"city\"]])\n",
    "print(\"-------\")\n",
    "print(df[[\"city\", \"name\"]])\n",
    "print(\"-------\")\n",
    "print(df[2:5][[\"city\", \"name\"]])\n",
    "print(\"-------\")\n",
    "list1 = [\"city\", \"name\"]\n",
    "print(df[3:6][list1])"
   ]
  },
  {
   "cell_type": "markdown",
   "id": "3868843f",
   "metadata": {},
   "source": [
    "## Numpy與Pandas寫法差異"
   ]
  },
  {
   "cell_type": "code",
   "execution_count": 13,
   "id": "81e2b283",
   "metadata": {},
   "outputs": [
    {
     "data": {
      "text/html": [
       "<div>\n",
       "<style scoped>\n",
       "    .dataframe tbody tr th:only-of-type {\n",
       "        vertical-align: middle;\n",
       "    }\n",
       "\n",
       "    .dataframe tbody tr th {\n",
       "        vertical-align: top;\n",
       "    }\n",
       "\n",
       "    .dataframe thead th {\n",
       "        text-align: right;\n",
       "    }\n",
       "</style>\n",
       "<table border=\"1\" class=\"dataframe\">\n",
       "  <thead>\n",
       "    <tr style=\"text-align: right;\">\n",
       "      <th></th>\n",
       "      <th>Apples</th>\n",
       "      <th>Bananas</th>\n",
       "      <th>Cherries</th>\n",
       "    </tr>\n",
       "  </thead>\n",
       "  <tbody>\n",
       "    <tr>\n",
       "      <th>0</th>\n",
       "      <td>2</td>\n",
       "      <td>1</td>\n",
       "      <td>4</td>\n",
       "    </tr>\n",
       "    <tr>\n",
       "      <th>1</th>\n",
       "      <td>7</td>\n",
       "      <td>5</td>\n",
       "      <td>3</td>\n",
       "    </tr>\n",
       "    <tr>\n",
       "      <th>2</th>\n",
       "      <td>12</td>\n",
       "      <td>8</td>\n",
       "      <td>6</td>\n",
       "    </tr>\n",
       "  </tbody>\n",
       "</table>\n",
       "</div>"
      ],
      "text/plain": [
       "   Apples  Bananas  Cherries\n",
       "0       2        1         4\n",
       "1       7        5         3\n",
       "2      12        8         6"
      ]
     },
     "execution_count": 13,
     "metadata": {},
     "output_type": "execute_result"
    }
   ],
   "source": [
    "# 依據網址下載資料\n",
    "\n",
    "import pandas as pd\n",
    "\n",
    "fruits = pd.read_csv('https://goo.gl/DOw6pe')\n",
    "fruits"
   ]
  },
  {
   "cell_type": "code",
   "execution_count": 14,
   "id": "dafe4bda",
   "metadata": {},
   "outputs": [
    {
     "data": {
      "text/html": [
       "<div>\n",
       "<style scoped>\n",
       "    .dataframe tbody tr th:only-of-type {\n",
       "        vertical-align: middle;\n",
       "    }\n",
       "\n",
       "    .dataframe tbody tr th {\n",
       "        vertical-align: top;\n",
       "    }\n",
       "\n",
       "    .dataframe thead th {\n",
       "        text-align: right;\n",
       "    }\n",
       "</style>\n",
       "<table border=\"1\" class=\"dataframe\">\n",
       "  <thead>\n",
       "    <tr style=\"text-align: right;\">\n",
       "      <th></th>\n",
       "      <th>Apples</th>\n",
       "      <th>Bananas</th>\n",
       "      <th>Cherries</th>\n",
       "    </tr>\n",
       "  </thead>\n",
       "  <tbody>\n",
       "    <tr>\n",
       "      <th>1</th>\n",
       "      <td>7</td>\n",
       "      <td>5</td>\n",
       "      <td>3</td>\n",
       "    </tr>\n",
       "    <tr>\n",
       "      <th>2</th>\n",
       "      <td>12</td>\n",
       "      <td>8</td>\n",
       "      <td>6</td>\n",
       "    </tr>\n",
       "  </tbody>\n",
       "</table>\n",
       "</div>"
      ],
      "text/plain": [
       "   Apples  Bananas  Cherries\n",
       "1       7        5         3\n",
       "2      12        8         6"
      ]
     },
     "execution_count": 14,
     "metadata": {},
     "output_type": "execute_result"
    }
   ],
   "source": [
    "# 承上，列出第一筆後的資料\n",
    "fruits[1:]"
   ]
  },
  {
   "cell_type": "code",
   "execution_count": 15,
   "id": "3e1d025c",
   "metadata": {},
   "outputs": [
    {
     "data": {
      "text/html": [
       "<div>\n",
       "<style scoped>\n",
       "    .dataframe tbody tr th:only-of-type {\n",
       "        vertical-align: middle;\n",
       "    }\n",
       "\n",
       "    .dataframe tbody tr th {\n",
       "        vertical-align: top;\n",
       "    }\n",
       "\n",
       "    .dataframe thead th {\n",
       "        text-align: right;\n",
       "    }\n",
       "</style>\n",
       "<table border=\"1\" class=\"dataframe\">\n",
       "  <thead>\n",
       "    <tr style=\"text-align: right;\">\n",
       "      <th></th>\n",
       "      <th>Apples</th>\n",
       "      <th>Bananas</th>\n",
       "      <th>Cherries</th>\n",
       "    </tr>\n",
       "  </thead>\n",
       "  <tbody>\n",
       "    <tr>\n",
       "      <th>0</th>\n",
       "      <td>2</td>\n",
       "      <td>1</td>\n",
       "      <td>4</td>\n",
       "    </tr>\n",
       "  </tbody>\n",
       "</table>\n",
       "</div>"
      ],
      "text/plain": [
       "   Apples  Bananas  Cherries\n",
       "0       2        1         4"
      ]
     },
     "execution_count": 15,
     "metadata": {},
     "output_type": "execute_result"
    }
   ],
   "source": [
    "# 承上，列出第一筆前的資料\n",
    "fruits[:1]"
   ]
  },
  {
   "cell_type": "code",
   "execution_count": 20,
   "id": "87b4d73c",
   "metadata": {},
   "outputs": [
    {
     "data": {
      "text/html": [
       "<div>\n",
       "<style scoped>\n",
       "    .dataframe tbody tr th:only-of-type {\n",
       "        vertical-align: middle;\n",
       "    }\n",
       "\n",
       "    .dataframe tbody tr th {\n",
       "        vertical-align: top;\n",
       "    }\n",
       "\n",
       "    .dataframe thead th {\n",
       "        text-align: right;\n",
       "    }\n",
       "</style>\n",
       "<table border=\"1\" class=\"dataframe\">\n",
       "  <thead>\n",
       "    <tr style=\"text-align: right;\">\n",
       "      <th></th>\n",
       "      <th>Apples</th>\n",
       "      <th>Bananas</th>\n",
       "      <th>Cherries</th>\n",
       "    </tr>\n",
       "  </thead>\n",
       "  <tbody>\n",
       "    <tr>\n",
       "      <th>1</th>\n",
       "      <td>7</td>\n",
       "      <td>5</td>\n",
       "      <td>3</td>\n",
       "    </tr>\n",
       "  </tbody>\n",
       "</table>\n",
       "</div>"
      ],
      "text/plain": [
       "   Apples  Bananas  Cherries\n",
       "1       7        5         3"
      ]
     },
     "execution_count": 20,
     "metadata": {},
     "output_type": "execute_result"
    }
   ],
   "source": [
    "# exam，如何列出第一筆資料\n",
    "# numpy寫法\n",
    "fruits[1:2]"
   ]
  },
  {
   "cell_type": "code",
   "execution_count": 24,
   "id": "564acfc6",
   "metadata": {},
   "outputs": [
    {
     "name": "stdout",
     "output_type": "stream",
     "text": [
      "Apples      7\n",
      "Bananas     5\n",
      "Cherries    3\n",
      "Name: 1, dtype: int64\n",
      "<class 'pandas.core.series.Series'>\n"
     ]
    }
   ],
   "source": [
    "# pandas寫法（此型態為Series）\n",
    "print(fruits.iloc[1])\n",
    "print(type(fruits.iloc[1]))"
   ]
  },
  {
   "cell_type": "code",
   "execution_count": 25,
   "id": "445d6822",
   "metadata": {},
   "outputs": [
    {
     "name": "stdout",
     "output_type": "stream",
     "text": [
      "Apples      7\n",
      "Bananas     5\n",
      "Cherries    3\n",
      "Name: 1, dtype: int64\n",
      "<class 'pandas.core.series.Series'>\n"
     ]
    }
   ],
   "source": [
    "# 等同上述寫法（型態一樣為Series）\n",
    "print(fruits.iloc[1, :])\n",
    "print(type(fruits.iloc[1, :]))"
   ]
  },
  {
   "cell_type": "code",
   "execution_count": 26,
   "id": "5970a8c3",
   "metadata": {},
   "outputs": [
    {
     "name": "stdout",
     "output_type": "stream",
     "text": [
      "   Apples  Bananas  Cherries\n",
      "1       7        5         3\n",
      "<class 'pandas.core.frame.DataFrame'>\n"
     ]
    }
   ],
   "source": [
    "# pandas寫法（此型態為DataFrame）\n",
    "print(fruits.iloc[[1]])\n",
    "print(type(fruits.iloc[[1]]))"
   ]
  },
  {
   "cell_type": "code",
   "execution_count": 27,
   "id": "9f4ada57",
   "metadata": {},
   "outputs": [
    {
     "name": "stdout",
     "output_type": "stream",
     "text": [
      "   Apples  Bananas  Cherries\n",
      "1       7        5         3\n",
      "<class 'pandas.core.frame.DataFrame'>\n"
     ]
    }
   ],
   "source": [
    "# 等同上述寫法（型態一樣為DataFrame）\n",
    "print(fruits.iloc[[1], :])\n",
    "print(type(fruits.iloc[[1], :]))"
   ]
  },
  {
   "cell_type": "code",
   "execution_count": 30,
   "id": "3a98b314",
   "metadata": {},
   "outputs": [
    {
     "data": {
      "text/html": [
       "<div>\n",
       "<style scoped>\n",
       "    .dataframe tbody tr th:only-of-type {\n",
       "        vertical-align: middle;\n",
       "    }\n",
       "\n",
       "    .dataframe tbody tr th {\n",
       "        vertical-align: top;\n",
       "    }\n",
       "\n",
       "    .dataframe thead th {\n",
       "        text-align: right;\n",
       "    }\n",
       "</style>\n",
       "<table border=\"1\" class=\"dataframe\">\n",
       "  <thead>\n",
       "    <tr style=\"text-align: right;\">\n",
       "      <th></th>\n",
       "      <th>Apples</th>\n",
       "      <th>Bananas</th>\n",
       "      <th>Cherries</th>\n",
       "    </tr>\n",
       "  </thead>\n",
       "  <tbody>\n",
       "    <tr>\n",
       "      <th>1</th>\n",
       "      <td>7</td>\n",
       "      <td>5</td>\n",
       "      <td>3</td>\n",
       "    </tr>\n",
       "  </tbody>\n",
       "</table>\n",
       "</div>"
      ],
      "text/plain": [
       "   Apples  Bananas  Cherries\n",
       "1       7        5         3"
      ]
     },
     "execution_count": 30,
     "metadata": {},
     "output_type": "execute_result"
    }
   ],
   "source": [
    "## Pandas，但為Numpy寫法（型態為DataFrame）\n",
    "fruits.iloc[1:2, :]"
   ]
  },
  {
   "cell_type": "code",
   "execution_count": 35,
   "id": "2c02e9ce",
   "metadata": {},
   "outputs": [
    {
     "name": "stdout",
     "output_type": "stream",
     "text": [
      "Apples      7\n",
      "Bananas     5\n",
      "Cherries    3\n",
      "Name: 1, dtype: int64\n",
      "<class 'pandas.core.series.Series'>\n"
     ]
    }
   ],
   "source": [
    "# 改為.loc（型態為Series）\n",
    "print(fruits.loc[1])\n",
    "print(type(fruits.loc[1]))"
   ]
  },
  {
   "cell_type": "code",
   "execution_count": 36,
   "id": "a7ab0681",
   "metadata": {},
   "outputs": [
    {
     "name": "stdout",
     "output_type": "stream",
     "text": [
      "   Apples  Bananas  Cherries\n",
      "1       7        5         3\n",
      "<class 'pandas.core.frame.DataFrame'>\n"
     ]
    }
   ],
   "source": [
    "# 改為.loc（型態為DataFrame）\n",
    "print(fruits.loc[[1]])\n",
    "print(type(fruits.loc[[1]]))"
   ]
  },
  {
   "cell_type": "code",
   "execution_count": 37,
   "id": "1f190384",
   "metadata": {},
   "outputs": [
    {
     "data": {
      "text/plain": [
       "0    1\n",
       "1    5\n",
       "2    8\n",
       "Name: Bananas, dtype: int64"
      ]
     },
     "execution_count": 37,
     "metadata": {},
     "output_type": "execute_result"
    }
   ],
   "source": [
    "# 左右切割（型態為Series）\n",
    "fruits['Bananas']"
   ]
  },
  {
   "cell_type": "code",
   "execution_count": 38,
   "id": "f0db1257",
   "metadata": {},
   "outputs": [
    {
     "data": {
      "text/html": [
       "<div>\n",
       "<style scoped>\n",
       "    .dataframe tbody tr th:only-of-type {\n",
       "        vertical-align: middle;\n",
       "    }\n",
       "\n",
       "    .dataframe tbody tr th {\n",
       "        vertical-align: top;\n",
       "    }\n",
       "\n",
       "    .dataframe thead th {\n",
       "        text-align: right;\n",
       "    }\n",
       "</style>\n",
       "<table border=\"1\" class=\"dataframe\">\n",
       "  <thead>\n",
       "    <tr style=\"text-align: right;\">\n",
       "      <th></th>\n",
       "      <th>Bananas</th>\n",
       "    </tr>\n",
       "  </thead>\n",
       "  <tbody>\n",
       "    <tr>\n",
       "      <th>0</th>\n",
       "      <td>1</td>\n",
       "    </tr>\n",
       "    <tr>\n",
       "      <th>1</th>\n",
       "      <td>5</td>\n",
       "    </tr>\n",
       "    <tr>\n",
       "      <th>2</th>\n",
       "      <td>8</td>\n",
       "    </tr>\n",
       "  </tbody>\n",
       "</table>\n",
       "</div>"
      ],
      "text/plain": [
       "   Bananas\n",
       "0        1\n",
       "1        5\n",
       "2        8"
      ]
     },
     "execution_count": 38,
     "metadata": {},
     "output_type": "execute_result"
    }
   ],
   "source": [
    "# 左右切割（型態為DataFrame）\n",
    "fruits[['Bananas']]"
   ]
  },
  {
   "cell_type": "code",
   "execution_count": 41,
   "id": "bef2faa9",
   "metadata": {},
   "outputs": [
    {
     "data": {
      "text/html": [
       "<div>\n",
       "<style scoped>\n",
       "    .dataframe tbody tr th:only-of-type {\n",
       "        vertical-align: middle;\n",
       "    }\n",
       "\n",
       "    .dataframe tbody tr th {\n",
       "        vertical-align: top;\n",
       "    }\n",
       "\n",
       "    .dataframe thead th {\n",
       "        text-align: right;\n",
       "    }\n",
       "</style>\n",
       "<table border=\"1\" class=\"dataframe\">\n",
       "  <thead>\n",
       "    <tr style=\"text-align: right;\">\n",
       "      <th></th>\n",
       "      <th>Bananas</th>\n",
       "    </tr>\n",
       "  </thead>\n",
       "  <tbody>\n",
       "    <tr>\n",
       "      <th>0</th>\n",
       "      <td>1</td>\n",
       "    </tr>\n",
       "    <tr>\n",
       "      <th>1</th>\n",
       "      <td>5</td>\n",
       "    </tr>\n",
       "    <tr>\n",
       "      <th>2</th>\n",
       "      <td>8</td>\n",
       "    </tr>\n",
       "  </tbody>\n",
       "</table>\n",
       "</div>"
      ],
      "text/plain": [
       "   Bananas\n",
       "0        1\n",
       "1        5\n",
       "2        8"
      ]
     },
     "execution_count": 41,
     "metadata": {},
     "output_type": "execute_result"
    }
   ],
   "source": [
    "# 將此錯誤程式碼改為正確的 ---> fruits[:, 'Bananas']\n",
    "fruits.loc[:, ['Bananas']]"
   ]
  },
  {
   "cell_type": "code",
   "execution_count": 1,
   "id": "fff22131",
   "metadata": {},
   "outputs": [
    {
     "data": {
      "text/plain": [
       "DatetimeIndex(['2021-01-01', '2021-01-02', '2021-01-03'], dtype='datetime64[ns]', freq='D')"
      ]
     },
     "execution_count": 1,
     "metadata": {},
     "output_type": "execute_result"
    }
   ],
   "source": [
    "# 產生20210101 - 20210103的資料\n",
    "\n",
    "import pandas as pd\n",
    "pd.date_range('20210101', '20210103')"
   ]
  },
  {
   "cell_type": "code",
   "execution_count": 2,
   "id": "39853c19",
   "metadata": {},
   "outputs": [
    {
     "data": {
      "text/html": [
       "<div>\n",
       "<style scoped>\n",
       "    .dataframe tbody tr th:only-of-type {\n",
       "        vertical-align: middle;\n",
       "    }\n",
       "\n",
       "    .dataframe tbody tr th {\n",
       "        vertical-align: top;\n",
       "    }\n",
       "\n",
       "    .dataframe thead th {\n",
       "        text-align: right;\n",
       "    }\n",
       "</style>\n",
       "<table border=\"1\" class=\"dataframe\">\n",
       "  <thead>\n",
       "    <tr style=\"text-align: right;\">\n",
       "      <th></th>\n",
       "      <th>Apples</th>\n",
       "      <th>Bananas</th>\n",
       "      <th>Cherries</th>\n",
       "    </tr>\n",
       "  </thead>\n",
       "  <tbody>\n",
       "    <tr>\n",
       "      <th>2021-01-01</th>\n",
       "      <td>2</td>\n",
       "      <td>1</td>\n",
       "      <td>4</td>\n",
       "    </tr>\n",
       "    <tr>\n",
       "      <th>2021-01-02</th>\n",
       "      <td>7</td>\n",
       "      <td>5</td>\n",
       "      <td>3</td>\n",
       "    </tr>\n",
       "    <tr>\n",
       "      <th>2021-01-03</th>\n",
       "      <td>12</td>\n",
       "      <td>8</td>\n",
       "      <td>6</td>\n",
       "    </tr>\n",
       "  </tbody>\n",
       "</table>\n",
       "</div>"
      ],
      "text/plain": [
       "            Apples  Bananas  Cherries\n",
       "2021-01-01       2        1         4\n",
       "2021-01-02       7        5         3\n",
       "2021-01-03      12        8         6"
      ]
     },
     "execution_count": 2,
     "metadata": {},
     "output_type": "execute_result"
    }
   ],
   "source": [
    "# 使用日期當成DataFrame的索引（日期區間）\n",
    "\n",
    "import pandas as pd\n",
    "\n",
    "fruitsdt = pd.read_csv('https://goo.gl/DOw6pe')\n",
    "fruitsdt.index = pd.date_range('20210101', '20210103')\n",
    "fruitsdt"
   ]
  },
  {
   "cell_type": "code",
   "execution_count": 4,
   "id": "88bcc530",
   "metadata": {},
   "outputs": [
    {
     "data": {
      "text/html": [
       "<div>\n",
       "<style scoped>\n",
       "    .dataframe tbody tr th:only-of-type {\n",
       "        vertical-align: middle;\n",
       "    }\n",
       "\n",
       "    .dataframe tbody tr th {\n",
       "        vertical-align: top;\n",
       "    }\n",
       "\n",
       "    .dataframe thead th {\n",
       "        text-align: right;\n",
       "    }\n",
       "</style>\n",
       "<table border=\"1\" class=\"dataframe\">\n",
       "  <thead>\n",
       "    <tr style=\"text-align: right;\">\n",
       "      <th></th>\n",
       "      <th>Apples</th>\n",
       "      <th>Bananas</th>\n",
       "      <th>Cherries</th>\n",
       "    </tr>\n",
       "  </thead>\n",
       "  <tbody>\n",
       "    <tr>\n",
       "      <th>2021-01-01</th>\n",
       "      <td>2</td>\n",
       "      <td>1</td>\n",
       "      <td>4</td>\n",
       "    </tr>\n",
       "    <tr>\n",
       "      <th>2021-01-02</th>\n",
       "      <td>7</td>\n",
       "      <td>5</td>\n",
       "      <td>3</td>\n",
       "    </tr>\n",
       "  </tbody>\n",
       "</table>\n",
       "</div>"
      ],
      "text/plain": [
       "            Apples  Bananas  Cherries\n",
       "2021-01-01       2        1         4\n",
       "2021-01-02       7        5         3"
      ]
     },
     "execution_count": 4,
     "metadata": {},
     "output_type": "execute_result"
    }
   ],
   "source": [
    "# 承上，使用iloc\n",
    "\n",
    "import pandas as pd\n",
    "\n",
    "fruitsdt = pd.read_csv('http://goo.gl/DOw6pe')\n",
    "fruitsdt.index = pd.date_range('20210101', '20210103')\n",
    "fruitsdt.iloc[0:2]"
   ]
  },
  {
   "cell_type": "code",
   "execution_count": 5,
   "id": "244aa228",
   "metadata": {},
   "outputs": [
    {
     "data": {
      "text/html": [
       "<div>\n",
       "<style scoped>\n",
       "    .dataframe tbody tr th:only-of-type {\n",
       "        vertical-align: middle;\n",
       "    }\n",
       "\n",
       "    .dataframe tbody tr th {\n",
       "        vertical-align: top;\n",
       "    }\n",
       "\n",
       "    .dataframe thead th {\n",
       "        text-align: right;\n",
       "    }\n",
       "</style>\n",
       "<table border=\"1\" class=\"dataframe\">\n",
       "  <thead>\n",
       "    <tr style=\"text-align: right;\">\n",
       "      <th></th>\n",
       "      <th>Apples</th>\n",
       "      <th>Bananas</th>\n",
       "      <th>Cherries</th>\n",
       "    </tr>\n",
       "  </thead>\n",
       "  <tbody>\n",
       "    <tr>\n",
       "      <th>2021-01-01</th>\n",
       "      <td>2</td>\n",
       "      <td>1</td>\n",
       "      <td>4</td>\n",
       "    </tr>\n",
       "    <tr>\n",
       "      <th>2021-01-02</th>\n",
       "      <td>7</td>\n",
       "      <td>5</td>\n",
       "      <td>3</td>\n",
       "    </tr>\n",
       "  </tbody>\n",
       "</table>\n",
       "</div>"
      ],
      "text/plain": [
       "            Apples  Bananas  Cherries\n",
       "2021-01-01       2        1         4\n",
       "2021-01-02       7        5         3"
      ]
     },
     "execution_count": 5,
     "metadata": {},
     "output_type": "execute_result"
    }
   ],
   "source": [
    "# 承上，使用loc\n",
    "\n",
    "import pandas as pd\n",
    "\n",
    "fruitsdt = pd.read_csv('http://goo.gl/DOw6pe')\n",
    "fruitsdt.index = pd.date_range('20210101', '20210103')\n",
    "fruitsdt.loc['2021-01-01':'2021-01-02']"
   ]
  },
  {
   "cell_type": "code",
   "execution_count": 7,
   "id": "c9de2a00",
   "metadata": {},
   "outputs": [
    {
     "data": {
      "text/plain": [
       "DatetimeIndex(['2018-05-16', '2018-05-17', '2018-05-18', '2018-05-19',\n",
       "               '2018-05-20', '2018-05-21'],\n",
       "              dtype='datetime64[ns]', freq='D')"
      ]
     },
     "execution_count": 7,
     "metadata": {},
     "output_type": "execute_result"
    }
   ],
   "source": [
    "# 產生六天資料\n",
    "\n",
    "pd.date_range('20180516', periods = 6)"
   ]
  },
  {
   "cell_type": "code",
   "execution_count": 8,
   "id": "dedc876f",
   "metadata": {},
   "outputs": [
    {
     "data": {
      "text/html": [
       "<div>\n",
       "<style scoped>\n",
       "    .dataframe tbody tr th:only-of-type {\n",
       "        vertical-align: middle;\n",
       "    }\n",
       "\n",
       "    .dataframe tbody tr th {\n",
       "        vertical-align: top;\n",
       "    }\n",
       "\n",
       "    .dataframe thead th {\n",
       "        text-align: right;\n",
       "    }\n",
       "</style>\n",
       "<table border=\"1\" class=\"dataframe\">\n",
       "  <thead>\n",
       "    <tr style=\"text-align: right;\">\n",
       "      <th></th>\n",
       "      <th>a</th>\n",
       "      <th>b</th>\n",
       "      <th>c</th>\n",
       "      <th>d</th>\n",
       "    </tr>\n",
       "  </thead>\n",
       "  <tbody>\n",
       "    <tr>\n",
       "      <th>2018-05-16</th>\n",
       "      <td>0</td>\n",
       "      <td>1</td>\n",
       "      <td>2</td>\n",
       "      <td>3</td>\n",
       "    </tr>\n",
       "    <tr>\n",
       "      <th>2018-05-17</th>\n",
       "      <td>4</td>\n",
       "      <td>5</td>\n",
       "      <td>6</td>\n",
       "      <td>7</td>\n",
       "    </tr>\n",
       "    <tr>\n",
       "      <th>2018-05-18</th>\n",
       "      <td>8</td>\n",
       "      <td>9</td>\n",
       "      <td>10</td>\n",
       "      <td>11</td>\n",
       "    </tr>\n",
       "    <tr>\n",
       "      <th>2018-05-19</th>\n",
       "      <td>12</td>\n",
       "      <td>13</td>\n",
       "      <td>14</td>\n",
       "      <td>15</td>\n",
       "    </tr>\n",
       "    <tr>\n",
       "      <th>2018-05-20</th>\n",
       "      <td>16</td>\n",
       "      <td>17</td>\n",
       "      <td>18</td>\n",
       "      <td>19</td>\n",
       "    </tr>\n",
       "    <tr>\n",
       "      <th>2018-05-21</th>\n",
       "      <td>20</td>\n",
       "      <td>21</td>\n",
       "      <td>22</td>\n",
       "      <td>23</td>\n",
       "    </tr>\n",
       "  </tbody>\n",
       "</table>\n",
       "</div>"
      ],
      "text/plain": [
       "             a   b   c   d\n",
       "2018-05-16   0   1   2   3\n",
       "2018-05-17   4   5   6   7\n",
       "2018-05-18   8   9  10  11\n",
       "2018-05-19  12  13  14  15\n",
       "2018-05-20  16  17  18  19\n",
       "2018-05-21  20  21  22  23"
      ]
     },
     "execution_count": 8,
     "metadata": {},
     "output_type": "execute_result"
    }
   ],
   "source": [
    "# Practice-1（以下印出各種結果）\n",
    "\n",
    "import pandas as pd\n",
    "import numpy as np\n",
    "\n",
    "dates = pd.date_range('20180516', periods=6)\n",
    "df = pd.DataFrame(np.arange(24).reshape(6,4),\n",
    "                 index = dates,\n",
    "                 columns = ['a','b','c','d'])\n",
    "df"
   ]
  },
  {
   "cell_type": "code",
   "execution_count": 9,
   "id": "d7a3ea60",
   "metadata": {},
   "outputs": [
    {
     "data": {
      "text/html": [
       "<div>\n",
       "<style scoped>\n",
       "    .dataframe tbody tr th:only-of-type {\n",
       "        vertical-align: middle;\n",
       "    }\n",
       "\n",
       "    .dataframe tbody tr th {\n",
       "        vertical-align: top;\n",
       "    }\n",
       "\n",
       "    .dataframe thead th {\n",
       "        text-align: right;\n",
       "    }\n",
       "</style>\n",
       "<table border=\"1\" class=\"dataframe\">\n",
       "  <thead>\n",
       "    <tr style=\"text-align: right;\">\n",
       "      <th></th>\n",
       "      <th>a</th>\n",
       "      <th>b</th>\n",
       "    </tr>\n",
       "  </thead>\n",
       "  <tbody>\n",
       "    <tr>\n",
       "      <th>2018-05-16</th>\n",
       "      <td>0</td>\n",
       "      <td>1</td>\n",
       "    </tr>\n",
       "    <tr>\n",
       "      <th>2018-05-17</th>\n",
       "      <td>4</td>\n",
       "      <td>5</td>\n",
       "    </tr>\n",
       "    <tr>\n",
       "      <th>2018-05-18</th>\n",
       "      <td>8</td>\n",
       "      <td>9</td>\n",
       "    </tr>\n",
       "    <tr>\n",
       "      <th>2018-05-19</th>\n",
       "      <td>12</td>\n",
       "      <td>13</td>\n",
       "    </tr>\n",
       "    <tr>\n",
       "      <th>2018-05-20</th>\n",
       "      <td>16</td>\n",
       "      <td>17</td>\n",
       "    </tr>\n",
       "    <tr>\n",
       "      <th>2018-05-21</th>\n",
       "      <td>20</td>\n",
       "      <td>21</td>\n",
       "    </tr>\n",
       "  </tbody>\n",
       "</table>\n",
       "</div>"
      ],
      "text/plain": [
       "             a   b\n",
       "2018-05-16   0   1\n",
       "2018-05-17   4   5\n",
       "2018-05-18   8   9\n",
       "2018-05-19  12  13\n",
       "2018-05-20  16  17\n",
       "2018-05-21  20  21"
      ]
     },
     "execution_count": 9,
     "metadata": {},
     "output_type": "execute_result"
    }
   ],
   "source": [
    "df.loc[:,['a','b']]"
   ]
  },
  {
   "cell_type": "code",
   "execution_count": 10,
   "id": "d4de1dcc",
   "metadata": {},
   "outputs": [
    {
     "data": {
      "text/html": [
       "<div>\n",
       "<style scoped>\n",
       "    .dataframe tbody tr th:only-of-type {\n",
       "        vertical-align: middle;\n",
       "    }\n",
       "\n",
       "    .dataframe tbody tr th {\n",
       "        vertical-align: top;\n",
       "    }\n",
       "\n",
       "    .dataframe thead th {\n",
       "        text-align: right;\n",
       "    }\n",
       "</style>\n",
       "<table border=\"1\" class=\"dataframe\">\n",
       "  <thead>\n",
       "    <tr style=\"text-align: right;\">\n",
       "      <th></th>\n",
       "      <th>a</th>\n",
       "      <th>b</th>\n",
       "    </tr>\n",
       "  </thead>\n",
       "  <tbody>\n",
       "    <tr>\n",
       "      <th>2018-05-17</th>\n",
       "      <td>4</td>\n",
       "      <td>5</td>\n",
       "    </tr>\n",
       "    <tr>\n",
       "      <th>2018-05-18</th>\n",
       "      <td>8</td>\n",
       "      <td>9</td>\n",
       "    </tr>\n",
       "    <tr>\n",
       "      <th>2018-05-19</th>\n",
       "      <td>12</td>\n",
       "      <td>13</td>\n",
       "    </tr>\n",
       "    <tr>\n",
       "      <th>2018-05-20</th>\n",
       "      <td>16</td>\n",
       "      <td>17</td>\n",
       "    </tr>\n",
       "    <tr>\n",
       "      <th>2018-05-21</th>\n",
       "      <td>20</td>\n",
       "      <td>21</td>\n",
       "    </tr>\n",
       "  </tbody>\n",
       "</table>\n",
       "</div>"
      ],
      "text/plain": [
       "             a   b\n",
       "2018-05-17   4   5\n",
       "2018-05-18   8   9\n",
       "2018-05-19  12  13\n",
       "2018-05-20  16  17\n",
       "2018-05-21  20  21"
      ]
     },
     "execution_count": 10,
     "metadata": {},
     "output_type": "execute_result"
    }
   ],
   "source": [
    "df.loc['20180517':, ['a','b']]"
   ]
  },
  {
   "cell_type": "code",
   "execution_count": 11,
   "id": "ee63b75c",
   "metadata": {},
   "outputs": [
    {
     "data": {
      "text/html": [
       "<div>\n",
       "<style scoped>\n",
       "    .dataframe tbody tr th:only-of-type {\n",
       "        vertical-align: middle;\n",
       "    }\n",
       "\n",
       "    .dataframe tbody tr th {\n",
       "        vertical-align: top;\n",
       "    }\n",
       "\n",
       "    .dataframe thead th {\n",
       "        text-align: right;\n",
       "    }\n",
       "</style>\n",
       "<table border=\"1\" class=\"dataframe\">\n",
       "  <thead>\n",
       "    <tr style=\"text-align: right;\">\n",
       "      <th></th>\n",
       "      <th>b</th>\n",
       "    </tr>\n",
       "  </thead>\n",
       "  <tbody>\n",
       "    <tr>\n",
       "      <th>2018-05-17</th>\n",
       "      <td>5</td>\n",
       "    </tr>\n",
       "    <tr>\n",
       "      <th>2018-05-18</th>\n",
       "      <td>9</td>\n",
       "    </tr>\n",
       "    <tr>\n",
       "      <th>2018-05-19</th>\n",
       "      <td>13</td>\n",
       "    </tr>\n",
       "    <tr>\n",
       "      <th>2018-05-20</th>\n",
       "      <td>17</td>\n",
       "    </tr>\n",
       "    <tr>\n",
       "      <th>2018-05-21</th>\n",
       "      <td>21</td>\n",
       "    </tr>\n",
       "  </tbody>\n",
       "</table>\n",
       "</div>"
      ],
      "text/plain": [
       "             b\n",
       "2018-05-17   5\n",
       "2018-05-18   9\n",
       "2018-05-19  13\n",
       "2018-05-20  17\n",
       "2018-05-21  21"
      ]
     },
     "execution_count": 11,
     "metadata": {},
     "output_type": "execute_result"
    }
   ],
   "source": [
    "df.loc['20180517':, ['b']]"
   ]
  },
  {
   "cell_type": "code",
   "execution_count": 12,
   "id": "b51e54f0",
   "metadata": {},
   "outputs": [
    {
     "data": {
      "text/html": [
       "<div>\n",
       "<style scoped>\n",
       "    .dataframe tbody tr th:only-of-type {\n",
       "        vertical-align: middle;\n",
       "    }\n",
       "\n",
       "    .dataframe tbody tr th {\n",
       "        vertical-align: top;\n",
       "    }\n",
       "\n",
       "    .dataframe thead th {\n",
       "        text-align: right;\n",
       "    }\n",
       "</style>\n",
       "<table border=\"1\" class=\"dataframe\">\n",
       "  <thead>\n",
       "    <tr style=\"text-align: right;\">\n",
       "      <th></th>\n",
       "      <th>b</th>\n",
       "      <th>c</th>\n",
       "      <th>d</th>\n",
       "    </tr>\n",
       "  </thead>\n",
       "  <tbody>\n",
       "    <tr>\n",
       "      <th>2018-05-18</th>\n",
       "      <td>9</td>\n",
       "      <td>10</td>\n",
       "      <td>11</td>\n",
       "    </tr>\n",
       "    <tr>\n",
       "      <th>2018-05-19</th>\n",
       "      <td>13</td>\n",
       "      <td>14</td>\n",
       "      <td>15</td>\n",
       "    </tr>\n",
       "    <tr>\n",
       "      <th>2018-05-20</th>\n",
       "      <td>17</td>\n",
       "      <td>18</td>\n",
       "      <td>19</td>\n",
       "    </tr>\n",
       "  </tbody>\n",
       "</table>\n",
       "</div>"
      ],
      "text/plain": [
       "             b   c   d\n",
       "2018-05-18   9  10  11\n",
       "2018-05-19  13  14  15\n",
       "2018-05-20  17  18  19"
      ]
     },
     "execution_count": 12,
     "metadata": {},
     "output_type": "execute_result"
    }
   ],
   "source": [
    "df.loc['20180518':'20180520', 'b':'d'] "
   ]
  },
  {
   "cell_type": "code",
   "execution_count": 14,
   "id": "2333963c",
   "metadata": {},
   "outputs": [
    {
     "name": "stdout",
     "output_type": "stream",
     "text": [
      "2018-05-16     1\n",
      "2018-05-17     5\n",
      "2018-05-18     9\n",
      "2018-05-19    13\n",
      "2018-05-20    17\n",
      "2018-05-21    21\n",
      "Freq: D, Name: b, dtype: int64\n",
      "------------\n",
      "2018-05-16     1\n",
      "2018-05-17     5\n",
      "2018-05-18     9\n",
      "2018-05-19    13\n",
      "2018-05-20    17\n",
      "2018-05-21    21\n",
      "Freq: D, Name: b, dtype: int64\n",
      "------------\n",
      "            a  b   c   d\n",
      "2018-05-16  0  1   2   3\n",
      "2018-05-17  4  5   6   7\n",
      "2018-05-18  8  9  10  11\n",
      "------------\n",
      "            a  b   c   d\n",
      "2018-05-16  0  1   2   3\n",
      "2018-05-17  4  5   6   7\n",
      "2018-05-18  8  9  10  11\n"
     ]
    }
   ],
   "source": [
    "print(df['b'])\n",
    "print(\"------------\")\n",
    "print(df.b) # 如果有空白或關鍵字，使用”.“可能會有錯誤\n",
    "print(\"------------\")\n",
    "print(df.iloc[0:3]) # 類似.iloc\n",
    "print(\"------------\")\n",
    "print(df.loc['20180516':'20180518']) # 等同.loc"
   ]
  },
  {
   "cell_type": "code",
   "execution_count": 16,
   "id": "d8756be0",
   "metadata": {},
   "outputs": [
    {
     "data": {
      "text/html": [
       "<div>\n",
       "<style scoped>\n",
       "    .dataframe tbody tr th:only-of-type {\n",
       "        vertical-align: middle;\n",
       "    }\n",
       "\n",
       "    .dataframe tbody tr th {\n",
       "        vertical-align: top;\n",
       "    }\n",
       "\n",
       "    .dataframe thead th {\n",
       "        text-align: right;\n",
       "    }\n",
       "</style>\n",
       "<table border=\"1\" class=\"dataframe\">\n",
       "  <thead>\n",
       "    <tr style=\"text-align: right;\">\n",
       "      <th></th>\n",
       "      <th>groups</th>\n",
       "      <th>numbers</th>\n",
       "    </tr>\n",
       "  </thead>\n",
       "  <tbody>\n",
       "    <tr>\n",
       "      <th>0</th>\n",
       "      <td>Python</td>\n",
       "      <td>59</td>\n",
       "    </tr>\n",
       "    <tr>\n",
       "      <th>1</th>\n",
       "      <td>Django</td>\n",
       "      <td>9</td>\n",
       "    </tr>\n",
       "    <tr>\n",
       "      <th>2</th>\n",
       "      <td>Sqlite</td>\n",
       "      <td>19</td>\n",
       "    </tr>\n",
       "    <tr>\n",
       "      <th>3</th>\n",
       "      <td>Numpy</td>\n",
       "      <td>14</td>\n",
       "    </tr>\n",
       "    <tr>\n",
       "      <th>4</th>\n",
       "      <td>Security</td>\n",
       "      <td>6</td>\n",
       "    </tr>\n",
       "    <tr>\n",
       "      <th>5</th>\n",
       "      <td>Pandas</td>\n",
       "      <td>77</td>\n",
       "    </tr>\n",
       "  </tbody>\n",
       "</table>\n",
       "</div>"
      ],
      "text/plain": [
       "     groups  numbers\n",
       "0    Python       59\n",
       "1    Django        9\n",
       "2    Sqlite       19\n",
       "3     Numpy       14\n",
       "4  Security        6\n",
       "5    Pandas       77"
      ]
     },
     "execution_count": 16,
     "metadata": {},
     "output_type": "execute_result"
    }
   ],
   "source": [
    "# Practice-2（以下印出各種結果）\n",
    "\n",
    "import pandas as pd\n",
    "\n",
    "groups = [\"Python\", \"Django\", \"Sqlite\", \"Numpy\", \"Security\", \"Pandas\"]\n",
    "numbers = [59, 9, 19, 14, 6, 77]\n",
    "group_dict = {\n",
    "            \"groups\": groups,\n",
    "            \"numbers\": numbers\n",
    "             }\n",
    "df1 = pd.DataFrame(group_dict)\n",
    "df1"
   ]
  },
  {
   "cell_type": "code",
   "execution_count": 42,
   "id": "e4023664",
   "metadata": {},
   "outputs": [
    {
     "data": {
      "text/html": [
       "<div>\n",
       "<style scoped>\n",
       "    .dataframe tbody tr th:only-of-type {\n",
       "        vertical-align: middle;\n",
       "    }\n",
       "\n",
       "    .dataframe tbody tr th {\n",
       "        vertical-align: top;\n",
       "    }\n",
       "\n",
       "    .dataframe thead th {\n",
       "        text-align: right;\n",
       "    }\n",
       "</style>\n",
       "<table border=\"1\" class=\"dataframe\">\n",
       "  <thead>\n",
       "    <tr style=\"text-align: right;\">\n",
       "      <th></th>\n",
       "      <th>groups</th>\n",
       "      <th>numbers</th>\n",
       "    </tr>\n",
       "  </thead>\n",
       "  <tbody>\n",
       "    <tr>\n",
       "      <th>2</th>\n",
       "      <td>Sqlite</td>\n",
       "      <td>19</td>\n",
       "    </tr>\n",
       "  </tbody>\n",
       "</table>\n",
       "</div>"
      ],
      "text/plain": [
       "   groups  numbers\n",
       "2  Sqlite       19"
      ]
     },
     "execution_count": 42,
     "metadata": {},
     "output_type": "execute_result"
    }
   ],
   "source": [
    "# practice-2結果的列表（以下個別印出結果）\n",
    "\n",
    "df1.iloc[0:1, 1]\n",
    "df1.iloc[0:1, :]\n",
    "df1.iloc[ : , 1]\n",
    "df1[\"numbers\"]\n",
    "df1.numbers\n",
    "df1.iloc[2]\n",
    "df1.iloc[[2]]"
   ]
  },
  {
   "cell_type": "code",
   "execution_count": 17,
   "id": "5481e49a",
   "metadata": {},
   "outputs": [
    {
     "data": {
      "text/plain": [
       "0    59\n",
       "Name: numbers, dtype: int64"
      ]
     },
     "execution_count": 17,
     "metadata": {},
     "output_type": "execute_result"
    }
   ],
   "source": [
    "df1.iloc[0:1, 1]"
   ]
  },
  {
   "cell_type": "code",
   "execution_count": 18,
   "id": "2cfac943",
   "metadata": {},
   "outputs": [
    {
     "data": {
      "text/html": [
       "<div>\n",
       "<style scoped>\n",
       "    .dataframe tbody tr th:only-of-type {\n",
       "        vertical-align: middle;\n",
       "    }\n",
       "\n",
       "    .dataframe tbody tr th {\n",
       "        vertical-align: top;\n",
       "    }\n",
       "\n",
       "    .dataframe thead th {\n",
       "        text-align: right;\n",
       "    }\n",
       "</style>\n",
       "<table border=\"1\" class=\"dataframe\">\n",
       "  <thead>\n",
       "    <tr style=\"text-align: right;\">\n",
       "      <th></th>\n",
       "      <th>groups</th>\n",
       "      <th>numbers</th>\n",
       "    </tr>\n",
       "  </thead>\n",
       "  <tbody>\n",
       "    <tr>\n",
       "      <th>0</th>\n",
       "      <td>Python</td>\n",
       "      <td>59</td>\n",
       "    </tr>\n",
       "  </tbody>\n",
       "</table>\n",
       "</div>"
      ],
      "text/plain": [
       "   groups  numbers\n",
       "0  Python       59"
      ]
     },
     "execution_count": 18,
     "metadata": {},
     "output_type": "execute_result"
    }
   ],
   "source": [
    "df1.iloc[0:1, :]"
   ]
  },
  {
   "cell_type": "code",
   "execution_count": 19,
   "id": "8f88d7a7",
   "metadata": {},
   "outputs": [
    {
     "data": {
      "text/plain": [
       "0    59\n",
       "1     9\n",
       "2    19\n",
       "3    14\n",
       "4     6\n",
       "5    77\n",
       "Name: numbers, dtype: int64"
      ]
     },
     "execution_count": 19,
     "metadata": {},
     "output_type": "execute_result"
    }
   ],
   "source": [
    "df1.iloc[:, 1]"
   ]
  },
  {
   "cell_type": "code",
   "execution_count": 21,
   "id": "af834530",
   "metadata": {},
   "outputs": [
    {
     "data": {
      "text/plain": [
       "0    59\n",
       "1     9\n",
       "2    19\n",
       "3    14\n",
       "4     6\n",
       "5    77\n",
       "Name: numbers, dtype: int64"
      ]
     },
     "execution_count": 21,
     "metadata": {},
     "output_type": "execute_result"
    }
   ],
   "source": [
    "df1['numbers']"
   ]
  },
  {
   "cell_type": "code",
   "execution_count": 22,
   "id": "75f97733",
   "metadata": {},
   "outputs": [
    {
     "data": {
      "text/plain": [
       "0    59\n",
       "1     9\n",
       "2    19\n",
       "3    14\n",
       "4     6\n",
       "5    77\n",
       "Name: numbers, dtype: int64"
      ]
     },
     "execution_count": 22,
     "metadata": {},
     "output_type": "execute_result"
    }
   ],
   "source": [
    "df1.numbers"
   ]
  },
  {
   "cell_type": "code",
   "execution_count": 23,
   "id": "ecfba00b",
   "metadata": {},
   "outputs": [
    {
     "data": {
      "text/plain": [
       "groups     Sqlite\n",
       "numbers        19\n",
       "Name: 2, dtype: object"
      ]
     },
     "execution_count": 23,
     "metadata": {},
     "output_type": "execute_result"
    }
   ],
   "source": [
    "df1.iloc[2]"
   ]
  },
  {
   "cell_type": "code",
   "execution_count": 24,
   "id": "3659debf",
   "metadata": {},
   "outputs": [
    {
     "data": {
      "text/html": [
       "<div>\n",
       "<style scoped>\n",
       "    .dataframe tbody tr th:only-of-type {\n",
       "        vertical-align: middle;\n",
       "    }\n",
       "\n",
       "    .dataframe tbody tr th {\n",
       "        vertical-align: top;\n",
       "    }\n",
       "\n",
       "    .dataframe thead th {\n",
       "        text-align: right;\n",
       "    }\n",
       "</style>\n",
       "<table border=\"1\" class=\"dataframe\">\n",
       "  <thead>\n",
       "    <tr style=\"text-align: right;\">\n",
       "      <th></th>\n",
       "      <th>groups</th>\n",
       "      <th>numbers</th>\n",
       "    </tr>\n",
       "  </thead>\n",
       "  <tbody>\n",
       "    <tr>\n",
       "      <th>2</th>\n",
       "      <td>Sqlite</td>\n",
       "      <td>19</td>\n",
       "    </tr>\n",
       "  </tbody>\n",
       "</table>\n",
       "</div>"
      ],
      "text/plain": [
       "   groups  numbers\n",
       "2  Sqlite       19"
      ]
     },
     "execution_count": 24,
     "metadata": {},
     "output_type": "execute_result"
    }
   ],
   "source": [
    "df1.iloc[[2]]"
   ]
  },
  {
   "cell_type": "code",
   "execution_count": 25,
   "id": "51eba704",
   "metadata": {},
   "outputs": [
    {
     "data": {
      "text/html": [
       "<div>\n",
       "<style scoped>\n",
       "    .dataframe tbody tr th:only-of-type {\n",
       "        vertical-align: middle;\n",
       "    }\n",
       "\n",
       "    .dataframe tbody tr th {\n",
       "        vertical-align: top;\n",
       "    }\n",
       "\n",
       "    .dataframe thead th {\n",
       "        text-align: right;\n",
       "    }\n",
       "</style>\n",
       "<table border=\"1\" class=\"dataframe\">\n",
       "  <thead>\n",
       "    <tr style=\"text-align: right;\">\n",
       "      <th></th>\n",
       "      <th>ID</th>\n",
       "      <th>Views</th>\n",
       "      <th>Clicks</th>\n",
       "    </tr>\n",
       "  </thead>\n",
       "  <tbody>\n",
       "    <tr>\n",
       "      <th>a</th>\n",
       "      <td>1</td>\n",
       "      <td>1000</td>\n",
       "      <td>300</td>\n",
       "    </tr>\n",
       "    <tr>\n",
       "      <th>b</th>\n",
       "      <td>2</td>\n",
       "      <td>1200</td>\n",
       "      <td>800</td>\n",
       "    </tr>\n",
       "    <tr>\n",
       "      <th>c</th>\n",
       "      <td>3</td>\n",
       "      <td>800</td>\n",
       "      <td>500</td>\n",
       "    </tr>\n",
       "  </tbody>\n",
       "</table>\n",
       "</div>"
      ],
      "text/plain": [
       "   ID  Views  Clicks\n",
       "a   1   1000     300\n",
       "b   2   1200     800\n",
       "c   3    800     500"
      ]
     },
     "execution_count": 25,
     "metadata": {},
     "output_type": "execute_result"
    }
   ],
   "source": [
    "# Practice-3\n",
    "\n",
    "import pandas as pd\n",
    "\n",
    "marketing=pd.read_csv(\"https://goo.gl/6A6Qe2\")\n",
    "marketing"
   ]
  },
  {
   "cell_type": "code",
   "execution_count": 43,
   "id": "4c9f3e94",
   "metadata": {},
   "outputs": [
    {
     "data": {
      "text/html": [
       "<div>\n",
       "<style scoped>\n",
       "    .dataframe tbody tr th:only-of-type {\n",
       "        vertical-align: middle;\n",
       "    }\n",
       "\n",
       "    .dataframe tbody tr th {\n",
       "        vertical-align: top;\n",
       "    }\n",
       "\n",
       "    .dataframe thead th {\n",
       "        text-align: right;\n",
       "    }\n",
       "</style>\n",
       "<table border=\"1\" class=\"dataframe\">\n",
       "  <thead>\n",
       "    <tr style=\"text-align: right;\">\n",
       "      <th></th>\n",
       "      <th>ID</th>\n",
       "      <th>Clicks</th>\n",
       "    </tr>\n",
       "  </thead>\n",
       "  <tbody>\n",
       "    <tr>\n",
       "      <th>a</th>\n",
       "      <td>1</td>\n",
       "      <td>300</td>\n",
       "    </tr>\n",
       "    <tr>\n",
       "      <th>b</th>\n",
       "      <td>2</td>\n",
       "      <td>800</td>\n",
       "    </tr>\n",
       "  </tbody>\n",
       "</table>\n",
       "</div>"
      ],
      "text/plain": [
       "   ID  Clicks\n",
       "a   1     300\n",
       "b   2     800"
      ]
     },
     "execution_count": 43,
     "metadata": {},
     "output_type": "execute_result"
    }
   ],
   "source": [
    "# practice-3結果的列表（以下個別印出結果）\n",
    "\n",
    "marketing.loc[['a','c'], ['Views','Clicks']]\n",
    "marketing.loc['b' , :]\n",
    "marketing.loc[['b']]\n",
    "marketing.loc[['a', 'c']]\n",
    "marketing.loc[:, ['ID', 'Clicks']]\n",
    "marketing.iloc[:, [0, 2]]\n",
    "marketing.iloc[0:2, [0, 2]]"
   ]
  },
  {
   "cell_type": "code",
   "execution_count": 26,
   "id": "86575d0b",
   "metadata": {},
   "outputs": [
    {
     "data": {
      "text/html": [
       "<div>\n",
       "<style scoped>\n",
       "    .dataframe tbody tr th:only-of-type {\n",
       "        vertical-align: middle;\n",
       "    }\n",
       "\n",
       "    .dataframe tbody tr th {\n",
       "        vertical-align: top;\n",
       "    }\n",
       "\n",
       "    .dataframe thead th {\n",
       "        text-align: right;\n",
       "    }\n",
       "</style>\n",
       "<table border=\"1\" class=\"dataframe\">\n",
       "  <thead>\n",
       "    <tr style=\"text-align: right;\">\n",
       "      <th></th>\n",
       "      <th>Views</th>\n",
       "      <th>Clicks</th>\n",
       "    </tr>\n",
       "  </thead>\n",
       "  <tbody>\n",
       "    <tr>\n",
       "      <th>a</th>\n",
       "      <td>1000</td>\n",
       "      <td>300</td>\n",
       "    </tr>\n",
       "    <tr>\n",
       "      <th>c</th>\n",
       "      <td>800</td>\n",
       "      <td>500</td>\n",
       "    </tr>\n",
       "  </tbody>\n",
       "</table>\n",
       "</div>"
      ],
      "text/plain": [
       "   Views  Clicks\n",
       "a   1000     300\n",
       "c    800     500"
      ]
     },
     "execution_count": 26,
     "metadata": {},
     "output_type": "execute_result"
    }
   ],
   "source": [
    "marketing.loc[['a', 'c'], ['Views', 'Clicks']]"
   ]
  },
  {
   "cell_type": "code",
   "execution_count": 27,
   "id": "7cec3ede",
   "metadata": {},
   "outputs": [
    {
     "data": {
      "text/plain": [
       "ID           2\n",
       "Views     1200\n",
       "Clicks     800\n",
       "Name: b, dtype: int64"
      ]
     },
     "execution_count": 27,
     "metadata": {},
     "output_type": "execute_result"
    }
   ],
   "source": [
    "marketing.loc['b', : ]"
   ]
  },
  {
   "cell_type": "code",
   "execution_count": 28,
   "id": "03c7e7c1",
   "metadata": {},
   "outputs": [
    {
     "data": {
      "text/html": [
       "<div>\n",
       "<style scoped>\n",
       "    .dataframe tbody tr th:only-of-type {\n",
       "        vertical-align: middle;\n",
       "    }\n",
       "\n",
       "    .dataframe tbody tr th {\n",
       "        vertical-align: top;\n",
       "    }\n",
       "\n",
       "    .dataframe thead th {\n",
       "        text-align: right;\n",
       "    }\n",
       "</style>\n",
       "<table border=\"1\" class=\"dataframe\">\n",
       "  <thead>\n",
       "    <tr style=\"text-align: right;\">\n",
       "      <th></th>\n",
       "      <th>ID</th>\n",
       "      <th>Views</th>\n",
       "      <th>Clicks</th>\n",
       "    </tr>\n",
       "  </thead>\n",
       "  <tbody>\n",
       "    <tr>\n",
       "      <th>b</th>\n",
       "      <td>2</td>\n",
       "      <td>1200</td>\n",
       "      <td>800</td>\n",
       "    </tr>\n",
       "  </tbody>\n",
       "</table>\n",
       "</div>"
      ],
      "text/plain": [
       "   ID  Views  Clicks\n",
       "b   2   1200     800"
      ]
     },
     "execution_count": 28,
     "metadata": {},
     "output_type": "execute_result"
    }
   ],
   "source": [
    "marketing.loc[['b']]"
   ]
  },
  {
   "cell_type": "code",
   "execution_count": 29,
   "id": "25959445",
   "metadata": {},
   "outputs": [
    {
     "data": {
      "text/html": [
       "<div>\n",
       "<style scoped>\n",
       "    .dataframe tbody tr th:only-of-type {\n",
       "        vertical-align: middle;\n",
       "    }\n",
       "\n",
       "    .dataframe tbody tr th {\n",
       "        vertical-align: top;\n",
       "    }\n",
       "\n",
       "    .dataframe thead th {\n",
       "        text-align: right;\n",
       "    }\n",
       "</style>\n",
       "<table border=\"1\" class=\"dataframe\">\n",
       "  <thead>\n",
       "    <tr style=\"text-align: right;\">\n",
       "      <th></th>\n",
       "      <th>ID</th>\n",
       "      <th>Views</th>\n",
       "      <th>Clicks</th>\n",
       "    </tr>\n",
       "  </thead>\n",
       "  <tbody>\n",
       "    <tr>\n",
       "      <th>a</th>\n",
       "      <td>1</td>\n",
       "      <td>1000</td>\n",
       "      <td>300</td>\n",
       "    </tr>\n",
       "    <tr>\n",
       "      <th>c</th>\n",
       "      <td>3</td>\n",
       "      <td>800</td>\n",
       "      <td>500</td>\n",
       "    </tr>\n",
       "  </tbody>\n",
       "</table>\n",
       "</div>"
      ],
      "text/plain": [
       "   ID  Views  Clicks\n",
       "a   1   1000     300\n",
       "c   3    800     500"
      ]
     },
     "execution_count": 29,
     "metadata": {},
     "output_type": "execute_result"
    }
   ],
   "source": [
    "marketing.loc[['a', 'c']]"
   ]
  },
  {
   "cell_type": "code",
   "execution_count": 30,
   "id": "42c573e0",
   "metadata": {},
   "outputs": [
    {
     "data": {
      "text/html": [
       "<div>\n",
       "<style scoped>\n",
       "    .dataframe tbody tr th:only-of-type {\n",
       "        vertical-align: middle;\n",
       "    }\n",
       "\n",
       "    .dataframe tbody tr th {\n",
       "        vertical-align: top;\n",
       "    }\n",
       "\n",
       "    .dataframe thead th {\n",
       "        text-align: right;\n",
       "    }\n",
       "</style>\n",
       "<table border=\"1\" class=\"dataframe\">\n",
       "  <thead>\n",
       "    <tr style=\"text-align: right;\">\n",
       "      <th></th>\n",
       "      <th>ID</th>\n",
       "      <th>Clicks</th>\n",
       "    </tr>\n",
       "  </thead>\n",
       "  <tbody>\n",
       "    <tr>\n",
       "      <th>a</th>\n",
       "      <td>1</td>\n",
       "      <td>300</td>\n",
       "    </tr>\n",
       "    <tr>\n",
       "      <th>b</th>\n",
       "      <td>2</td>\n",
       "      <td>800</td>\n",
       "    </tr>\n",
       "    <tr>\n",
       "      <th>c</th>\n",
       "      <td>3</td>\n",
       "      <td>500</td>\n",
       "    </tr>\n",
       "  </tbody>\n",
       "</table>\n",
       "</div>"
      ],
      "text/plain": [
       "   ID  Clicks\n",
       "a   1     300\n",
       "b   2     800\n",
       "c   3     500"
      ]
     },
     "execution_count": 30,
     "metadata": {},
     "output_type": "execute_result"
    }
   ],
   "source": [
    "marketing.loc[:, ['ID', 'Clicks']]"
   ]
  },
  {
   "cell_type": "code",
   "execution_count": 31,
   "id": "6288ba12",
   "metadata": {},
   "outputs": [
    {
     "data": {
      "text/html": [
       "<div>\n",
       "<style scoped>\n",
       "    .dataframe tbody tr th:only-of-type {\n",
       "        vertical-align: middle;\n",
       "    }\n",
       "\n",
       "    .dataframe tbody tr th {\n",
       "        vertical-align: top;\n",
       "    }\n",
       "\n",
       "    .dataframe thead th {\n",
       "        text-align: right;\n",
       "    }\n",
       "</style>\n",
       "<table border=\"1\" class=\"dataframe\">\n",
       "  <thead>\n",
       "    <tr style=\"text-align: right;\">\n",
       "      <th></th>\n",
       "      <th>ID</th>\n",
       "      <th>Clicks</th>\n",
       "    </tr>\n",
       "  </thead>\n",
       "  <tbody>\n",
       "    <tr>\n",
       "      <th>a</th>\n",
       "      <td>1</td>\n",
       "      <td>300</td>\n",
       "    </tr>\n",
       "    <tr>\n",
       "      <th>b</th>\n",
       "      <td>2</td>\n",
       "      <td>800</td>\n",
       "    </tr>\n",
       "    <tr>\n",
       "      <th>c</th>\n",
       "      <td>3</td>\n",
       "      <td>500</td>\n",
       "    </tr>\n",
       "  </tbody>\n",
       "</table>\n",
       "</div>"
      ],
      "text/plain": [
       "   ID  Clicks\n",
       "a   1     300\n",
       "b   2     800\n",
       "c   3     500"
      ]
     },
     "execution_count": 31,
     "metadata": {},
     "output_type": "execute_result"
    }
   ],
   "source": [
    "marketing.iloc[:, [0, 2]]"
   ]
  },
  {
   "cell_type": "code",
   "execution_count": 32,
   "id": "419d1378",
   "metadata": {},
   "outputs": [
    {
     "data": {
      "text/html": [
       "<div>\n",
       "<style scoped>\n",
       "    .dataframe tbody tr th:only-of-type {\n",
       "        vertical-align: middle;\n",
       "    }\n",
       "\n",
       "    .dataframe tbody tr th {\n",
       "        vertical-align: top;\n",
       "    }\n",
       "\n",
       "    .dataframe thead th {\n",
       "        text-align: right;\n",
       "    }\n",
       "</style>\n",
       "<table border=\"1\" class=\"dataframe\">\n",
       "  <thead>\n",
       "    <tr style=\"text-align: right;\">\n",
       "      <th></th>\n",
       "      <th>ID</th>\n",
       "      <th>Clicks</th>\n",
       "    </tr>\n",
       "  </thead>\n",
       "  <tbody>\n",
       "    <tr>\n",
       "      <th>a</th>\n",
       "      <td>1</td>\n",
       "      <td>300</td>\n",
       "    </tr>\n",
       "    <tr>\n",
       "      <th>b</th>\n",
       "      <td>2</td>\n",
       "      <td>800</td>\n",
       "    </tr>\n",
       "  </tbody>\n",
       "</table>\n",
       "</div>"
      ],
      "text/plain": [
       "   ID  Clicks\n",
       "a   1     300\n",
       "b   2     800"
      ]
     },
     "execution_count": 32,
     "metadata": {},
     "output_type": "execute_result"
    }
   ],
   "source": [
    "marketing.iloc[0:2, [0, 2]]"
   ]
  },
  {
   "cell_type": "code",
   "execution_count": 33,
   "id": "8467e24a",
   "metadata": {},
   "outputs": [
    {
     "data": {
      "text/html": [
       "<div>\n",
       "<style scoped>\n",
       "    .dataframe tbody tr th:only-of-type {\n",
       "        vertical-align: middle;\n",
       "    }\n",
       "\n",
       "    .dataframe tbody tr th {\n",
       "        vertical-align: top;\n",
       "    }\n",
       "\n",
       "    .dataframe thead th {\n",
       "        text-align: right;\n",
       "    }\n",
       "</style>\n",
       "<table border=\"1\" class=\"dataframe\">\n",
       "  <thead>\n",
       "    <tr style=\"text-align: right;\">\n",
       "      <th></th>\n",
       "      <th>a</th>\n",
       "      <th>b</th>\n",
       "      <th>c</th>\n",
       "      <th>d</th>\n",
       "    </tr>\n",
       "  </thead>\n",
       "  <tbody>\n",
       "    <tr>\n",
       "      <th>2018-05-16</th>\n",
       "      <td>0</td>\n",
       "      <td>1</td>\n",
       "      <td>2</td>\n",
       "      <td>3</td>\n",
       "    </tr>\n",
       "    <tr>\n",
       "      <th>2018-05-17</th>\n",
       "      <td>4</td>\n",
       "      <td>5</td>\n",
       "      <td>6</td>\n",
       "      <td>7</td>\n",
       "    </tr>\n",
       "    <tr>\n",
       "      <th>2018-05-18</th>\n",
       "      <td>8</td>\n",
       "      <td>9</td>\n",
       "      <td>10</td>\n",
       "      <td>11</td>\n",
       "    </tr>\n",
       "    <tr>\n",
       "      <th>2018-05-19</th>\n",
       "      <td>12</td>\n",
       "      <td>13</td>\n",
       "      <td>14</td>\n",
       "      <td>15</td>\n",
       "    </tr>\n",
       "    <tr>\n",
       "      <th>2018-05-20</th>\n",
       "      <td>16</td>\n",
       "      <td>17</td>\n",
       "      <td>18</td>\n",
       "      <td>19</td>\n",
       "    </tr>\n",
       "    <tr>\n",
       "      <th>2018-05-21</th>\n",
       "      <td>20</td>\n",
       "      <td>21</td>\n",
       "      <td>22</td>\n",
       "      <td>23</td>\n",
       "    </tr>\n",
       "  </tbody>\n",
       "</table>\n",
       "</div>"
      ],
      "text/plain": [
       "             a   b   c   d\n",
       "2018-05-16   0   1   2   3\n",
       "2018-05-17   4   5   6   7\n",
       "2018-05-18   8   9  10  11\n",
       "2018-05-19  12  13  14  15\n",
       "2018-05-20  16  17  18  19\n",
       "2018-05-21  20  21  22  23"
      ]
     },
     "execution_count": 33,
     "metadata": {},
     "output_type": "execute_result"
    }
   ],
   "source": [
    "# Practice-4\n",
    "\n",
    "import pandas as pd\n",
    "import numpy as np\n",
    "\n",
    "dates = pd.date_range('20180516',periods=6)\n",
    "df = pd.DataFrame(np.arange(24).reshape(6,4), index = dates, columns = ['a', 'b', 'c', 'd'])\n",
    "df"
   ]
  },
  {
   "cell_type": "code",
   "execution_count": 40,
   "id": "8c53c6d0",
   "metadata": {},
   "outputs": [
    {
     "data": {
      "text/html": [
       "<div>\n",
       "<style scoped>\n",
       "    .dataframe tbody tr th:only-of-type {\n",
       "        vertical-align: middle;\n",
       "    }\n",
       "\n",
       "    .dataframe tbody tr th {\n",
       "        vertical-align: top;\n",
       "    }\n",
       "\n",
       "    .dataframe thead th {\n",
       "        text-align: right;\n",
       "    }\n",
       "</style>\n",
       "<table border=\"1\" class=\"dataframe\">\n",
       "  <thead>\n",
       "    <tr style=\"text-align: right;\">\n",
       "      <th></th>\n",
       "      <th>b</th>\n",
       "      <th>c</th>\n",
       "    </tr>\n",
       "  </thead>\n",
       "  <tbody>\n",
       "    <tr>\n",
       "      <th>2018-05-17</th>\n",
       "      <td>5</td>\n",
       "      <td>6</td>\n",
       "    </tr>\n",
       "    <tr>\n",
       "      <th>2018-05-19</th>\n",
       "      <td>13</td>\n",
       "      <td>14</td>\n",
       "    </tr>\n",
       "    <tr>\n",
       "      <th>2018-05-21</th>\n",
       "      <td>21</td>\n",
       "      <td>22</td>\n",
       "    </tr>\n",
       "  </tbody>\n",
       "</table>\n",
       "</div>"
      ],
      "text/plain": [
       "             b   c\n",
       "2018-05-17   5   6\n",
       "2018-05-19  13  14\n",
       "2018-05-21  21  22"
      ]
     },
     "execution_count": 40,
     "metadata": {},
     "output_type": "execute_result"
    }
   ],
   "source": [
    "# practice-4結果的列表（以下個別印出結果）\n",
    "\n",
    "df.iloc[[3]]\n",
    "df.iloc[3        , 1  ] # row = 3, column = 1\n",
    "df.iloc[[3, 1]   ,  : ] # row = 3, 1\n",
    "df.iloc[[3, 1]        ] # row = 3, 1\n",
    "df.iloc[3:5      , 1:3] # row = 3, 4, column = 1, 2\n",
    "df.iloc[[1, 3, 5], 1:3] # row = 1, 3, 5, column = 1, 2"
   ]
  },
  {
   "cell_type": "code",
   "execution_count": 34,
   "id": "4b451d19",
   "metadata": {},
   "outputs": [
    {
     "data": {
      "text/html": [
       "<div>\n",
       "<style scoped>\n",
       "    .dataframe tbody tr th:only-of-type {\n",
       "        vertical-align: middle;\n",
       "    }\n",
       "\n",
       "    .dataframe tbody tr th {\n",
       "        vertical-align: top;\n",
       "    }\n",
       "\n",
       "    .dataframe thead th {\n",
       "        text-align: right;\n",
       "    }\n",
       "</style>\n",
       "<table border=\"1\" class=\"dataframe\">\n",
       "  <thead>\n",
       "    <tr style=\"text-align: right;\">\n",
       "      <th></th>\n",
       "      <th>a</th>\n",
       "      <th>b</th>\n",
       "      <th>c</th>\n",
       "      <th>d</th>\n",
       "    </tr>\n",
       "  </thead>\n",
       "  <tbody>\n",
       "    <tr>\n",
       "      <th>2018-05-19</th>\n",
       "      <td>12</td>\n",
       "      <td>13</td>\n",
       "      <td>14</td>\n",
       "      <td>15</td>\n",
       "    </tr>\n",
       "  </tbody>\n",
       "</table>\n",
       "</div>"
      ],
      "text/plain": [
       "             a   b   c   d\n",
       "2018-05-19  12  13  14  15"
      ]
     },
     "execution_count": 34,
     "metadata": {},
     "output_type": "execute_result"
    }
   ],
   "source": [
    "df.iloc[[3]]"
   ]
  },
  {
   "cell_type": "code",
   "execution_count": 35,
   "id": "a4dadbd6",
   "metadata": {},
   "outputs": [
    {
     "data": {
      "text/plain": [
       "13"
      ]
     },
     "execution_count": 35,
     "metadata": {},
     "output_type": "execute_result"
    }
   ],
   "source": [
    "df.iloc[3, 1] # row = 3, column = 1"
   ]
  },
  {
   "cell_type": "code",
   "execution_count": 36,
   "id": "fcfc01e7",
   "metadata": {},
   "outputs": [
    {
     "data": {
      "text/html": [
       "<div>\n",
       "<style scoped>\n",
       "    .dataframe tbody tr th:only-of-type {\n",
       "        vertical-align: middle;\n",
       "    }\n",
       "\n",
       "    .dataframe tbody tr th {\n",
       "        vertical-align: top;\n",
       "    }\n",
       "\n",
       "    .dataframe thead th {\n",
       "        text-align: right;\n",
       "    }\n",
       "</style>\n",
       "<table border=\"1\" class=\"dataframe\">\n",
       "  <thead>\n",
       "    <tr style=\"text-align: right;\">\n",
       "      <th></th>\n",
       "      <th>a</th>\n",
       "      <th>b</th>\n",
       "      <th>c</th>\n",
       "      <th>d</th>\n",
       "    </tr>\n",
       "  </thead>\n",
       "  <tbody>\n",
       "    <tr>\n",
       "      <th>2018-05-19</th>\n",
       "      <td>12</td>\n",
       "      <td>13</td>\n",
       "      <td>14</td>\n",
       "      <td>15</td>\n",
       "    </tr>\n",
       "    <tr>\n",
       "      <th>2018-05-17</th>\n",
       "      <td>4</td>\n",
       "      <td>5</td>\n",
       "      <td>6</td>\n",
       "      <td>7</td>\n",
       "    </tr>\n",
       "  </tbody>\n",
       "</table>\n",
       "</div>"
      ],
      "text/plain": [
       "             a   b   c   d\n",
       "2018-05-19  12  13  14  15\n",
       "2018-05-17   4   5   6   7"
      ]
     },
     "execution_count": 36,
     "metadata": {},
     "output_type": "execute_result"
    }
   ],
   "source": [
    "df.iloc[[3, 1] , : ] # row = 3, 1"
   ]
  },
  {
   "cell_type": "code",
   "execution_count": 37,
   "id": "2adf05b4",
   "metadata": {},
   "outputs": [
    {
     "data": {
      "text/html": [
       "<div>\n",
       "<style scoped>\n",
       "    .dataframe tbody tr th:only-of-type {\n",
       "        vertical-align: middle;\n",
       "    }\n",
       "\n",
       "    .dataframe tbody tr th {\n",
       "        vertical-align: top;\n",
       "    }\n",
       "\n",
       "    .dataframe thead th {\n",
       "        text-align: right;\n",
       "    }\n",
       "</style>\n",
       "<table border=\"1\" class=\"dataframe\">\n",
       "  <thead>\n",
       "    <tr style=\"text-align: right;\">\n",
       "      <th></th>\n",
       "      <th>a</th>\n",
       "      <th>b</th>\n",
       "      <th>c</th>\n",
       "      <th>d</th>\n",
       "    </tr>\n",
       "  </thead>\n",
       "  <tbody>\n",
       "    <tr>\n",
       "      <th>2018-05-19</th>\n",
       "      <td>12</td>\n",
       "      <td>13</td>\n",
       "      <td>14</td>\n",
       "      <td>15</td>\n",
       "    </tr>\n",
       "    <tr>\n",
       "      <th>2018-05-17</th>\n",
       "      <td>4</td>\n",
       "      <td>5</td>\n",
       "      <td>6</td>\n",
       "      <td>7</td>\n",
       "    </tr>\n",
       "  </tbody>\n",
       "</table>\n",
       "</div>"
      ],
      "text/plain": [
       "             a   b   c   d\n",
       "2018-05-19  12  13  14  15\n",
       "2018-05-17   4   5   6   7"
      ]
     },
     "execution_count": 37,
     "metadata": {},
     "output_type": "execute_result"
    }
   ],
   "source": [
    "df.iloc[[3, 1]] # row = 3, 1"
   ]
  },
  {
   "cell_type": "code",
   "execution_count": 38,
   "id": "3e500a58",
   "metadata": {},
   "outputs": [
    {
     "data": {
      "text/html": [
       "<div>\n",
       "<style scoped>\n",
       "    .dataframe tbody tr th:only-of-type {\n",
       "        vertical-align: middle;\n",
       "    }\n",
       "\n",
       "    .dataframe tbody tr th {\n",
       "        vertical-align: top;\n",
       "    }\n",
       "\n",
       "    .dataframe thead th {\n",
       "        text-align: right;\n",
       "    }\n",
       "</style>\n",
       "<table border=\"1\" class=\"dataframe\">\n",
       "  <thead>\n",
       "    <tr style=\"text-align: right;\">\n",
       "      <th></th>\n",
       "      <th>b</th>\n",
       "      <th>c</th>\n",
       "    </tr>\n",
       "  </thead>\n",
       "  <tbody>\n",
       "    <tr>\n",
       "      <th>2018-05-19</th>\n",
       "      <td>13</td>\n",
       "      <td>14</td>\n",
       "    </tr>\n",
       "    <tr>\n",
       "      <th>2018-05-20</th>\n",
       "      <td>17</td>\n",
       "      <td>18</td>\n",
       "    </tr>\n",
       "  </tbody>\n",
       "</table>\n",
       "</div>"
      ],
      "text/plain": [
       "             b   c\n",
       "2018-05-19  13  14\n",
       "2018-05-20  17  18"
      ]
     },
     "execution_count": 38,
     "metadata": {},
     "output_type": "execute_result"
    }
   ],
   "source": [
    "df.iloc[3:5, 1:3] # row = 3, 4, column = 1, 2"
   ]
  },
  {
   "cell_type": "code",
   "execution_count": 41,
   "id": "97456152",
   "metadata": {},
   "outputs": [
    {
     "data": {
      "text/html": [
       "<div>\n",
       "<style scoped>\n",
       "    .dataframe tbody tr th:only-of-type {\n",
       "        vertical-align: middle;\n",
       "    }\n",
       "\n",
       "    .dataframe tbody tr th {\n",
       "        vertical-align: top;\n",
       "    }\n",
       "\n",
       "    .dataframe thead th {\n",
       "        text-align: right;\n",
       "    }\n",
       "</style>\n",
       "<table border=\"1\" class=\"dataframe\">\n",
       "  <thead>\n",
       "    <tr style=\"text-align: right;\">\n",
       "      <th></th>\n",
       "      <th>b</th>\n",
       "      <th>c</th>\n",
       "    </tr>\n",
       "  </thead>\n",
       "  <tbody>\n",
       "    <tr>\n",
       "      <th>2018-05-17</th>\n",
       "      <td>5</td>\n",
       "      <td>6</td>\n",
       "    </tr>\n",
       "    <tr>\n",
       "      <th>2018-05-19</th>\n",
       "      <td>13</td>\n",
       "      <td>14</td>\n",
       "    </tr>\n",
       "    <tr>\n",
       "      <th>2018-05-21</th>\n",
       "      <td>21</td>\n",
       "      <td>22</td>\n",
       "    </tr>\n",
       "  </tbody>\n",
       "</table>\n",
       "</div>"
      ],
      "text/plain": [
       "             b   c\n",
       "2018-05-17   5   6\n",
       "2018-05-19  13  14\n",
       "2018-05-21  21  22"
      ]
     },
     "execution_count": 41,
     "metadata": {},
     "output_type": "execute_result"
    }
   ],
   "source": [
    "df.iloc[[1, 3, 5], 1:3] # row = 1, 3, 5, column = 1, 2"
   ]
  },
  {
   "cell_type": "markdown",
   "id": "50eac5a5",
   "metadata": {},
   "source": [
    "## 陣列合併與拆解"
   ]
  },
  {
   "cell_type": "code",
   "execution_count": 1,
   "id": "45154515",
   "metadata": {},
   "outputs": [
    {
     "data": {
      "text/html": [
       "<div>\n",
       "<style scoped>\n",
       "    .dataframe tbody tr th:only-of-type {\n",
       "        vertical-align: middle;\n",
       "    }\n",
       "\n",
       "    .dataframe tbody tr th {\n",
       "        vertical-align: top;\n",
       "    }\n",
       "\n",
       "    .dataframe thead th {\n",
       "        text-align: right;\n",
       "    }\n",
       "</style>\n",
       "<table border=\"1\" class=\"dataframe\">\n",
       "  <thead>\n",
       "    <tr style=\"text-align: right;\">\n",
       "      <th></th>\n",
       "      <th>Apples</th>\n",
       "      <th>Bananas</th>\n",
       "      <th>Cherries</th>\n",
       "    </tr>\n",
       "  </thead>\n",
       "  <tbody>\n",
       "    <tr>\n",
       "      <th>0</th>\n",
       "      <td>2</td>\n",
       "      <td>1</td>\n",
       "      <td>4</td>\n",
       "    </tr>\n",
       "    <tr>\n",
       "      <th>1</th>\n",
       "      <td>7</td>\n",
       "      <td>5</td>\n",
       "      <td>3</td>\n",
       "    </tr>\n",
       "    <tr>\n",
       "      <th>2</th>\n",
       "      <td>12</td>\n",
       "      <td>8</td>\n",
       "      <td>6</td>\n",
       "    </tr>\n",
       "  </tbody>\n",
       "</table>\n",
       "</div>"
      ],
      "text/plain": [
       "   Apples  Bananas  Cherries\n",
       "0       2        1         4\n",
       "1       7        5         3\n",
       "2      12        8         6"
      ]
     },
     "execution_count": 1,
     "metadata": {},
     "output_type": "execute_result"
    }
   ],
   "source": [
    "import pandas as pd\n",
    "fruits = pd.read_csv('https://goo.gl/DOw6pe')\n",
    "fruits"
   ]
  },
  {
   "cell_type": "code",
   "execution_count": 2,
   "id": "5f569a47",
   "metadata": {},
   "outputs": [
    {
     "data": {
      "text/plain": [
       "array([[ 2,  1,  4],\n",
       "       [ 7,  5,  3],\n",
       "       [12,  8,  6]])"
      ]
     },
     "execution_count": 2,
     "metadata": {},
     "output_type": "execute_result"
    }
   ],
   "source": [
    "# pandas --> numpy\n",
    "data = fruits.values\n",
    "data"
   ]
  },
  {
   "cell_type": "markdown",
   "id": "d2b7a573",
   "metadata": {},
   "source": [
    "## row的切割與合併"
   ]
  },
  {
   "cell_type": "code",
   "execution_count": 3,
   "id": "575aefe8",
   "metadata": {},
   "outputs": [
    {
     "data": {
      "text/plain": [
       "[array([[2, 1, 4]]), array([[7, 5, 3]]), array([[12,  8,  6]])]"
      ]
     },
     "execution_count": 3,
     "metadata": {},
     "output_type": "execute_result"
    }
   ],
   "source": [
    "# np.vsplit()：可指定要切割的數量（水平切割後，結果顯示為垂直方式）\n",
    "\n",
    "import numpy as np\n",
    "np.vsplit(data, 3)"
   ]
  },
  {
   "cell_type": "code",
   "execution_count": 4,
   "id": "44f3bdb4",
   "metadata": {},
   "outputs": [
    {
     "data": {
      "text/plain": [
       "array([[ 0,  1,  2,  3],\n",
       "       [ 4,  5,  6,  7],\n",
       "       [ 8,  9, 10, 11]])"
      ]
     },
     "execution_count": 4,
     "metadata": {},
     "output_type": "execute_result"
    }
   ],
   "source": [
    "# Practice\n",
    "\n",
    "import numpy as np\n",
    "\n",
    "a = np.arange(12).reshape(3, 4)\n",
    "a"
   ]
  },
  {
   "cell_type": "code",
   "execution_count": 5,
   "id": "6894b157",
   "metadata": {},
   "outputs": [
    {
     "data": {
      "text/plain": [
       "[array([[0, 1, 2, 3]]), array([[4, 5, 6, 7]]), array([[ 8,  9, 10, 11]])]"
      ]
     },
     "execution_count": 5,
     "metadata": {},
     "output_type": "execute_result"
    }
   ],
   "source": [
    "np.vsplit(a, 3)"
   ]
  },
  {
   "cell_type": "code",
   "execution_count": 6,
   "id": "dc98ac75",
   "metadata": {},
   "outputs": [
    {
     "data": {
      "text/plain": [
       "array([[12, 13, 14, 15],\n",
       "       [16, 17, 18, 19],\n",
       "       [20, 21, 22, 23]])"
      ]
     },
     "execution_count": 6,
     "metadata": {},
     "output_type": "execute_result"
    }
   ],
   "source": [
    "b = np.arange(12, 24).reshape(3, 4)\n",
    "b"
   ]
  },
  {
   "cell_type": "code",
   "execution_count": 7,
   "id": "418fea9b",
   "metadata": {
    "scrolled": true
   },
   "outputs": [
    {
     "data": {
      "text/plain": [
       "array([[ 0,  1,  2,  3],\n",
       "       [ 4,  5,  6,  7],\n",
       "       [ 8,  9, 10, 11],\n",
       "       [12, 13, 14, 15],\n",
       "       [16, 17, 18, 19],\n",
       "       [20, 21, 22, 23]])"
      ]
     },
     "execution_count": 7,
     "metadata": {},
     "output_type": "execute_result"
    }
   ],
   "source": [
    "# np.vstack(tup)：進行合併\n",
    "\n",
    "np.vstack( (a, b) )  # (動  (tuple)  作)"
   ]
  },
  {
   "cell_type": "markdown",
   "id": "d612a8d9",
   "metadata": {},
   "source": [
    "## column的切割與合併"
   ]
  },
  {
   "cell_type": "code",
   "execution_count": 8,
   "id": "381f8952",
   "metadata": {},
   "outputs": [
    {
     "data": {
      "text/plain": [
       "array([[ 0,  1,  2,  3],\n",
       "       [ 4,  5,  6,  7],\n",
       "       [ 8,  9, 10, 11]])"
      ]
     },
     "execution_count": 8,
     "metadata": {},
     "output_type": "execute_result"
    }
   ],
   "source": [
    "# Practice\n",
    "\n",
    "import numpy as np\n",
    "a = np.arange(12).reshape(3, 4)\n",
    "a"
   ]
  },
  {
   "cell_type": "code",
   "execution_count": 9,
   "id": "4386b474",
   "metadata": {},
   "outputs": [
    {
     "data": {
      "text/plain": [
       "[array([[0],\n",
       "        [4],\n",
       "        [8]]),\n",
       " array([[1],\n",
       "        [5],\n",
       "        [9]]),\n",
       " array([[ 2],\n",
       "        [ 6],\n",
       "        [10]]),\n",
       " array([[ 3],\n",
       "        [ 7],\n",
       "        [11]])]"
      ]
     },
     "execution_count": 9,
     "metadata": {},
     "output_type": "execute_result"
    }
   ],
   "source": [
    "# np.hsplit()：可指定要切割的數量（垂直切割後，結果顯示為水平方式）\n",
    "\n",
    "np.hsplit(a, 4)"
   ]
  },
  {
   "cell_type": "code",
   "execution_count": 10,
   "id": "d4e92139",
   "metadata": {},
   "outputs": [
    {
     "data": {
      "text/plain": [
       "array([[12, 13, 14, 15],\n",
       "       [16, 17, 18, 19],\n",
       "       [20, 21, 22, 23]])"
      ]
     },
     "execution_count": 10,
     "metadata": {},
     "output_type": "execute_result"
    }
   ],
   "source": [
    "b = np.arange(12, 24).reshape(3, 4)\n",
    "b"
   ]
  },
  {
   "cell_type": "code",
   "execution_count": 11,
   "id": "9cbce837",
   "metadata": {},
   "outputs": [
    {
     "data": {
      "text/plain": [
       "array([[ 0,  1,  2,  3, 12, 13, 14, 15],\n",
       "       [ 4,  5,  6,  7, 16, 17, 18, 19],\n",
       "       [ 8,  9, 10, 11, 20, 21, 22, 23]])"
      ]
     },
     "execution_count": 11,
     "metadata": {},
     "output_type": "execute_result"
    }
   ],
   "source": [
    "# np.hstack(tup)：進行合併\n",
    "\n",
    "np.hstack( (a, b) ) # 最後結果顯示是水平方式"
   ]
  },
  {
   "cell_type": "markdown",
   "id": "ae9c4732",
   "metadata": {},
   "source": [
    "## 可選擇行列的切割與合併"
   ]
  },
  {
   "cell_type": "code",
   "execution_count": 12,
   "id": "7790c623",
   "metadata": {},
   "outputs": [
    {
     "data": {
      "text/plain": [
       "array([[ 0,  1,  2,  3],\n",
       "       [ 4,  5,  6,  7],\n",
       "       [ 8,  9, 10, 11]])"
      ]
     },
     "execution_count": 12,
     "metadata": {},
     "output_type": "execute_result"
    }
   ],
   "source": [
    "# np.split()：代表切割的動作\n",
    "# ->若axis = 0代表row切割，等同vsplit\n",
    "# ->若axis = 1代表column切割，等同hsplit\n",
    "\n",
    "import numpy as np\n",
    "a = np.arange(12).reshape(3, 4)\n",
    "a"
   ]
  },
  {
   "cell_type": "code",
   "execution_count": 13,
   "id": "c70d9b77",
   "metadata": {},
   "outputs": [
    {
     "data": {
      "text/plain": [
       "[array([[0, 1, 2, 3]]), array([[4, 5, 6, 7]]), array([[ 8,  9, 10, 11]])]"
      ]
     },
     "execution_count": 13,
     "metadata": {},
     "output_type": "execute_result"
    }
   ],
   "source": [
    "np.split(a, 3, axis = 0) # axis = 0 上下"
   ]
  },
  {
   "cell_type": "code",
   "execution_count": 14,
   "id": "6e087e47",
   "metadata": {},
   "outputs": [
    {
     "data": {
      "text/plain": [
       "[array([[0],\n",
       "        [4],\n",
       "        [8]]),\n",
       " array([[1],\n",
       "        [5],\n",
       "        [9]]),\n",
       " array([[ 2],\n",
       "        [ 6],\n",
       "        [10]]),\n",
       " array([[ 3],\n",
       "        [ 7],\n",
       "        [11]])]"
      ]
     },
     "execution_count": 14,
     "metadata": {},
     "output_type": "execute_result"
    }
   ],
   "source": [
    "np.split(a, 4, axis = 1) # axis = 1 左右"
   ]
  },
  {
   "cell_type": "code",
   "execution_count": 15,
   "id": "ec3201a2",
   "metadata": {},
   "outputs": [
    {
     "data": {
      "text/plain": [
       "array([[12, 13, 14, 15],\n",
       "       [16, 17, 18, 19],\n",
       "       [20, 21, 22, 23]])"
      ]
     },
     "execution_count": 15,
     "metadata": {},
     "output_type": "execute_result"
    }
   ],
   "source": [
    "b = np.arange(12, 24).reshape(3, 4)\n",
    "b"
   ]
  },
  {
   "cell_type": "code",
   "execution_count": 16,
   "id": "5a7c29d4",
   "metadata": {},
   "outputs": [
    {
     "data": {
      "text/plain": [
       "array([[ 0,  1,  2,  3, 12, 13, 14, 15],\n",
       "       [ 4,  5,  6,  7, 16, 17, 18, 19],\n",
       "       [ 8,  9, 10, 11, 20, 21, 22, 23]])"
      ]
     },
     "execution_count": 16,
     "metadata": {},
     "output_type": "execute_result"
    }
   ],
   "source": [
    "# np.concatenate()：代表合併動作\n",
    "# ->若axis = 0代表row合併，等同vstack\n",
    "# ->若axis = 1代表column合併，等同hstack\n",
    "np.concatenate( (a, b), axis = 1 )"
   ]
  },
  {
   "cell_type": "code",
   "execution_count": null,
   "id": "cf374824",
   "metadata": {},
   "outputs": [],
   "source": [
    "# numpy, pandas : 先看 上下(axis=0)，再看 左右(axis=1)\n",
    "# matplotlib    : 先看 x 左右，再看 y 上下"
   ]
  },
  {
   "cell_type": "markdown",
   "id": "99bc89ad",
   "metadata": {},
   "source": [
    "## 不等量切割"
   ]
  },
  {
   "cell_type": "code",
   "execution_count": 17,
   "id": "70878616",
   "metadata": {},
   "outputs": [
    {
     "data": {
      "text/plain": [
       "array([[ 0,  1,  2,  3],\n",
       "       [ 4,  5,  6,  7],\n",
       "       [ 8,  9, 10, 11]])"
      ]
     },
     "execution_count": 17,
     "metadata": {},
     "output_type": "execute_result"
    }
   ],
   "source": [
    "a # 3*4"
   ]
  },
  {
   "cell_type": "code",
   "execution_count": 18,
   "id": "fadc2586",
   "metadata": {},
   "outputs": [
    {
     "data": {
      "text/plain": [
       "[array([[0, 1],\n",
       "        [4, 5],\n",
       "        [8, 9]]),\n",
       " array([[ 2],\n",
       "        [ 6],\n",
       "        [10]]),\n",
       " array([[ 3],\n",
       "        [ 7],\n",
       "        [11]])]"
      ]
     },
     "execution_count": 18,
     "metadata": {},
     "output_type": "execute_result"
    }
   ],
   "source": [
    "np.array_split(a, 3, axis = 1)"
   ]
  },
  {
   "cell_type": "markdown",
   "id": "2e6337dc",
   "metadata": {},
   "source": [
    "## HW：檔案讀取查詢"
   ]
  },
  {
   "cell_type": "code",
   "execution_count": 1,
   "id": "bca854a0",
   "metadata": {},
   "outputs": [],
   "source": [
    "# 可從政府資料開放平台取得資料\n",
    "# 請載入CSV檔案內容並設定查詢（例如是否可以輸入郵遞區號列出所有的派出所）？"
   ]
  },
  {
   "cell_type": "code",
   "execution_count": 14,
   "id": "563544ab",
   "metadata": {},
   "outputs": [
    {
     "name": "stdout",
     "output_type": "stream",
     "text": [
      "-rw-r--r--@ 1 jean  staff  196000 Jun  3 19:40 HW11__Data.csv\r\n"
     ]
    }
   ],
   "source": [
    "!ls -rtl *.csv"
   ]
  },
  {
   "cell_type": "code",
   "execution_count": 15,
   "id": "4b1f9f58",
   "metadata": {},
   "outputs": [
    {
     "data": {
      "text/html": [
       "<div>\n",
       "<style scoped>\n",
       "    .dataframe tbody tr th:only-of-type {\n",
       "        vertical-align: middle;\n",
       "    }\n",
       "\n",
       "    .dataframe tbody tr th {\n",
       "        vertical-align: top;\n",
       "    }\n",
       "\n",
       "    .dataframe thead th {\n",
       "        text-align: right;\n",
       "    }\n",
       "</style>\n",
       "<table border=\"1\" class=\"dataframe\">\n",
       "  <thead>\n",
       "    <tr style=\"text-align: right;\">\n",
       "      <th></th>\n",
       "      <th>中文單位名稱</th>\n",
       "      <th>英文單位名稱</th>\n",
       "      <th>郵遞區號</th>\n",
       "      <th>地址</th>\n",
       "      <th>電話</th>\n",
       "      <th>POINT_X</th>\n",
       "      <th>POINT_Y</th>\n",
       "    </tr>\n",
       "  </thead>\n",
       "  <tbody>\n",
       "    <tr>\n",
       "      <th>0</th>\n",
       "      <td>臺北市政府警察局</td>\n",
       "      <td>Taipei City Police Department</td>\n",
       "      <td>100</td>\n",
       "      <td>臺北市中正區延平南路96號</td>\n",
       "      <td>02 23313561</td>\n",
       "      <td>301442.6468</td>\n",
       "      <td>2770733.688</td>\n",
       "    </tr>\n",
       "    <tr>\n",
       "      <th>1</th>\n",
       "      <td>中山分局</td>\n",
       "      <td>Zhongshan Precinct</td>\n",
       "      <td>104</td>\n",
       "      <td>臺北市中山區中山北路2段1號</td>\n",
       "      <td>02 25412491</td>\n",
       "      <td>302750.6974</td>\n",
       "      <td>2771704.464</td>\n",
       "    </tr>\n",
       "    <tr>\n",
       "      <th>2</th>\n",
       "      <td>中山一派出所</td>\n",
       "      <td>Zhongshan First Police Station</td>\n",
       "      <td>104</td>\n",
       "      <td>臺北市中山區中山北路1段110號</td>\n",
       "      <td>02 25519321</td>\n",
       "      <td>302613.5457</td>\n",
       "      <td>2771415.780</td>\n",
       "    </tr>\n",
       "  </tbody>\n",
       "</table>\n",
       "</div>"
      ],
      "text/plain": [
       "     中文單位名稱                          英文單位名稱  郵遞區號                地址  \\\n",
       "0  臺北市政府警察局   Taipei City Police Department   100     臺北市中正區延平南路96號   \n",
       "1      中山分局              Zhongshan Precinct   104    臺北市中山區中山北路2段1號   \n",
       "2    中山一派出所  Zhongshan First Police Station   104  臺北市中山區中山北路1段110號   \n",
       "\n",
       "            電話      POINT_X      POINT_Y  \n",
       "0  02 23313561  301442.6468  2770733.688  \n",
       "1  02 25412491  302750.6974  2771704.464  \n",
       "2  02 25519321  302613.5457  2771415.780  "
      ]
     },
     "execution_count": 15,
     "metadata": {},
     "output_type": "execute_result"
    }
   ],
   "source": [
    "import pandas as pd\n",
    "\n",
    "df = pd.read_csv('HW11__Data.csv')\n",
    "df[:3]"
   ]
  },
  {
   "cell_type": "code",
   "execution_count": 7,
   "id": "02eeba9a",
   "metadata": {},
   "outputs": [
    {
     "name": "stdout",
     "output_type": "stream",
     "text": [
      "郵遞區號104\n",
      "104\n"
     ]
    }
   ],
   "source": [
    "postcode = input('郵遞區號')\n",
    "print(postcode)"
   ]
  },
  {
   "cell_type": "code",
   "execution_count": 16,
   "id": "f3be57b6",
   "metadata": {},
   "outputs": [
    {
     "data": {
      "text/plain": [
       "[['臺北市政府警察局',\n",
       "  'Taipei City Police Department',\n",
       "  100,\n",
       "  '臺北市中正區延平南路96號',\n",
       "  '02 23313561',\n",
       "  301442.6468,\n",
       "  2770733.688],\n",
       " ['中山分局',\n",
       "  'Zhongshan Precinct',\n",
       "  104,\n",
       "  '臺北市中山區中山北路2段1號',\n",
       "  '02 25412491',\n",
       "  302750.6974,\n",
       "  2771704.464]]"
      ]
     },
     "execution_count": 16,
     "metadata": {},
     "output_type": "execute_result"
    }
   ],
   "source": [
    "# 需求就是根據輸入郵遞區號找出對應資料列\n",
    "# list comprehension\n",
    "data = df.values.tolist()\n",
    "data[:2]"
   ]
  },
  {
   "cell_type": "code",
   "execution_count": 18,
   "id": "e5c17ca9",
   "metadata": {
    "scrolled": true
   },
   "outputs": [
    {
     "name": "stdout",
     "output_type": "stream",
     "text": [
      "請輸入郵遞區號104\n"
     ]
    },
    {
     "data": {
      "text/plain": [
       "[['中山分局',\n",
       "  'Zhongshan Precinct',\n",
       "  104,\n",
       "  '臺北市中山區中山北路2段1號',\n",
       "  '02 25412491',\n",
       "  302750.6974,\n",
       "  2771704.464],\n",
       " ['中山一派出所',\n",
       "  'Zhongshan First Police Station',\n",
       "  104,\n",
       "  '臺北市中山區中山北路1段110號',\n",
       "  '02 25519321',\n",
       "  302613.5457,\n",
       "  2771415.78],\n",
       " ['中山二派出所',\n",
       "  'Zhongshan Second Police Station',\n",
       "  104,\n",
       "  '臺北市中山區中山北路2段90號',\n",
       "  '02 25517771',\n",
       "  302727.2356,\n",
       "  2772263.722],\n",
       " ['圓山派出所',\n",
       "  'Yuanshan Police Staticn',\n",
       "  104,\n",
       "  '臺北市中山區中山北路3段62號',\n",
       "  '02 25969433',\n",
       "  302834.9838,\n",
       "  2773933.985],\n",
       " ['長春路派出所',\n",
       "  'Changchun Rd. Police Station',\n",
       "  104,\n",
       "  '臺北市中山區長春路206號',\n",
       "  '02 25062289',\n",
       "  304083.3089,\n",
       "  2771936.628],\n",
       " ['長安東路派出所',\n",
       "  'Changan E. Rd. Police Station',\n",
       "  104,\n",
       "  '臺北市中山區長安東路2段165號',\n",
       "  '02 27735207',\n",
       "  304542.2421,\n",
       "  2771254.798],\n",
       " ['民權一派出所',\n",
       "  'Minquan First Police Station',\n",
       "  104,\n",
       "  '臺北市中山區新生北路2段127之1號',\n",
       "  '02 25314672',\n",
       "  303266.0302,\n",
       "  2772517.502],\n",
       " ['建國路派出所',\n",
       "  'Jianguo Police Station',\n",
       "  104,\n",
       "  '臺北市中山區民族東路284號',\n",
       "  '02 25099774',\n",
       "  304074.2363,\n",
       "  2773416.496],\n",
       " ['大直派出所',\n",
       "  'Dazhi Police Station',\n",
       "  104,\n",
       "  '臺北市中山區北安路456號',\n",
       "  '02 25332984',\n",
       "  304885.9044,\n",
       "  2774696.884]]"
      ]
     },
     "execution_count": 18,
     "metadata": {},
     "output_type": "execute_result"
    }
   ],
   "source": [
    "# list comprehension\n",
    "\n",
    "postcode = int(input('請輸入郵遞區號'))\n",
    "[d for d in data if d[2] == postcode]"
   ]
  },
  {
   "cell_type": "code",
   "execution_count": 20,
   "id": "36022947",
   "metadata": {},
   "outputs": [
    {
     "name": "stdout",
     "output_type": "stream",
     "text": [
      "請輸入郵遞區號104\n"
     ]
    },
    {
     "data": {
      "text/html": [
       "<div>\n",
       "<style scoped>\n",
       "    .dataframe tbody tr th:only-of-type {\n",
       "        vertical-align: middle;\n",
       "    }\n",
       "\n",
       "    .dataframe tbody tr th {\n",
       "        vertical-align: top;\n",
       "    }\n",
       "\n",
       "    .dataframe thead th {\n",
       "        text-align: right;\n",
       "    }\n",
       "</style>\n",
       "<table border=\"1\" class=\"dataframe\">\n",
       "  <thead>\n",
       "    <tr style=\"text-align: right;\">\n",
       "      <th></th>\n",
       "      <th>中文單位名稱</th>\n",
       "      <th>英文單位名稱</th>\n",
       "      <th>郵遞區號</th>\n",
       "      <th>地址</th>\n",
       "      <th>電話</th>\n",
       "      <th>POINT_X</th>\n",
       "      <th>POINT_Y</th>\n",
       "    </tr>\n",
       "  </thead>\n",
       "  <tbody>\n",
       "    <tr>\n",
       "      <th>1</th>\n",
       "      <td>中山分局</td>\n",
       "      <td>Zhongshan Precinct</td>\n",
       "      <td>104</td>\n",
       "      <td>臺北市中山區中山北路2段1號</td>\n",
       "      <td>02 25412491</td>\n",
       "      <td>302750.6974</td>\n",
       "      <td>2771704.464</td>\n",
       "    </tr>\n",
       "    <tr>\n",
       "      <th>2</th>\n",
       "      <td>中山一派出所</td>\n",
       "      <td>Zhongshan First Police Station</td>\n",
       "      <td>104</td>\n",
       "      <td>臺北市中山區中山北路1段110號</td>\n",
       "      <td>02 25519321</td>\n",
       "      <td>302613.5457</td>\n",
       "      <td>2771415.780</td>\n",
       "    </tr>\n",
       "    <tr>\n",
       "      <th>3</th>\n",
       "      <td>中山二派出所</td>\n",
       "      <td>Zhongshan Second Police Station</td>\n",
       "      <td>104</td>\n",
       "      <td>臺北市中山區中山北路2段90號</td>\n",
       "      <td>02 25517771</td>\n",
       "      <td>302727.2356</td>\n",
       "      <td>2772263.722</td>\n",
       "    </tr>\n",
       "    <tr>\n",
       "      <th>4</th>\n",
       "      <td>圓山派出所</td>\n",
       "      <td>Yuanshan Police Staticn</td>\n",
       "      <td>104</td>\n",
       "      <td>臺北市中山區中山北路3段62號</td>\n",
       "      <td>02 25969433</td>\n",
       "      <td>302834.9838</td>\n",
       "      <td>2773933.985</td>\n",
       "    </tr>\n",
       "    <tr>\n",
       "      <th>5</th>\n",
       "      <td>長春路派出所</td>\n",
       "      <td>Changchun Rd. Police Station</td>\n",
       "      <td>104</td>\n",
       "      <td>臺北市中山區長春路206號</td>\n",
       "      <td>02 25062289</td>\n",
       "      <td>304083.3089</td>\n",
       "      <td>2771936.628</td>\n",
       "    </tr>\n",
       "    <tr>\n",
       "      <th>6</th>\n",
       "      <td>長安東路派出所</td>\n",
       "      <td>Changan E. Rd. Police Station</td>\n",
       "      <td>104</td>\n",
       "      <td>臺北市中山區長安東路2段165號</td>\n",
       "      <td>02 27735207</td>\n",
       "      <td>304542.2421</td>\n",
       "      <td>2771254.798</td>\n",
       "    </tr>\n",
       "    <tr>\n",
       "      <th>7</th>\n",
       "      <td>民權一派出所</td>\n",
       "      <td>Minquan First Police Station</td>\n",
       "      <td>104</td>\n",
       "      <td>臺北市中山區新生北路2段127之1號</td>\n",
       "      <td>02 25314672</td>\n",
       "      <td>303266.0302</td>\n",
       "      <td>2772517.502</td>\n",
       "    </tr>\n",
       "    <tr>\n",
       "      <th>8</th>\n",
       "      <td>建國路派出所</td>\n",
       "      <td>Jianguo Police Station</td>\n",
       "      <td>104</td>\n",
       "      <td>臺北市中山區民族東路284號</td>\n",
       "      <td>02 25099774</td>\n",
       "      <td>304074.2363</td>\n",
       "      <td>2773416.496</td>\n",
       "    </tr>\n",
       "    <tr>\n",
       "      <th>9</th>\n",
       "      <td>大直派出所</td>\n",
       "      <td>Dazhi Police Station</td>\n",
       "      <td>104</td>\n",
       "      <td>臺北市中山區北安路456號</td>\n",
       "      <td>02 25332984</td>\n",
       "      <td>304885.9044</td>\n",
       "      <td>2774696.884</td>\n",
       "    </tr>\n",
       "  </tbody>\n",
       "</table>\n",
       "</div>"
      ],
      "text/plain": [
       "    中文單位名稱                           英文單位名稱  郵遞區號                  地址  \\\n",
       "1     中山分局               Zhongshan Precinct   104      臺北市中山區中山北路2段1號   \n",
       "2   中山一派出所   Zhongshan First Police Station   104    臺北市中山區中山北路1段110號   \n",
       "3   中山二派出所  Zhongshan Second Police Station   104     臺北市中山區中山北路2段90號   \n",
       "4    圓山派出所          Yuanshan Police Staticn   104     臺北市中山區中山北路3段62號   \n",
       "5   長春路派出所     Changchun Rd. Police Station   104       臺北市中山區長春路206號   \n",
       "6  長安東路派出所    Changan E. Rd. Police Station   104    臺北市中山區長安東路2段165號   \n",
       "7   民權一派出所     Minquan First Police Station   104  臺北市中山區新生北路2段127之1號   \n",
       "8   建國路派出所           Jianguo Police Station   104      臺北市中山區民族東路284號   \n",
       "9    大直派出所             Dazhi Police Station   104       臺北市中山區北安路456號   \n",
       "\n",
       "            電話      POINT_X      POINT_Y  \n",
       "1  02 25412491  302750.6974  2771704.464  \n",
       "2  02 25519321  302613.5457  2771415.780  \n",
       "3  02 25517771  302727.2356  2772263.722  \n",
       "4  02 25969433  302834.9838  2773933.985  \n",
       "5  02 25062289  304083.3089  2771936.628  \n",
       "6  02 27735207  304542.2421  2771254.798  \n",
       "7  02 25314672  303266.0302  2772517.502  \n",
       "8  02 25099774  304074.2363  2773416.496  \n",
       "9  02 25332984  304885.9044  2774696.884  "
      ]
     },
     "execution_count": 20,
     "metadata": {},
     "output_type": "execute_result"
    }
   ],
   "source": [
    "# DataFrame subset\n",
    "\n",
    "postcode = int(input('請輸入郵遞區號'))\n",
    "df[df['郵遞區號'] == postcode]"
   ]
  }
 ],
 "metadata": {
  "kernelspec": {
   "display_name": "Python 3",
   "language": "python",
   "name": "python3"
  },
  "language_info": {
   "codemirror_mode": {
    "name": "ipython",
    "version": 3
   },
   "file_extension": ".py",
   "mimetype": "text/x-python",
   "name": "python",
   "nbconvert_exporter": "python",
   "pygments_lexer": "ipython3",
   "version": "3.7.10"
  }
 },
 "nbformat": 4,
 "nbformat_minor": 5
}
