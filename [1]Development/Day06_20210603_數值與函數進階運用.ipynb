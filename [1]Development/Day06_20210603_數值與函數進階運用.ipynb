{
 "cells": [
  {
   "cell_type": "code",
   "execution_count": null,
   "metadata": {
    "colab": {
     "base_uri": "https://localhost:8080/"
    },
    "id": "UaBKW1aKgROx",
    "outputId": "65695cf7-b584-47f1-9b93-3c0f1597849c"
   },
   "outputs": [
    {
     "name": "stdout",
     "output_type": "stream",
     "text": [
      "Help on built-in function len in module builtins:\n",
      "\n",
      "len(obj, /)\n",
      "    Return the number of items in a container.\n",
      "\n"
     ]
    }
   ],
   "source": [
    "# 函數說明可使用\"?\" or \"help\"\n",
    "len?\n",
    "help(len)"
   ]
  },
  {
   "cell_type": "markdown",
   "metadata": {
    "id": "vg7biI7iEfB8"
   },
   "source": [
    "## 自訂函數的運用"
   ]
  },
  {
   "cell_type": "code",
   "execution_count": null,
   "metadata": {
    "id": "4da0RRxUF3Zn"
   },
   "outputs": [],
   "source": [
    "# def自訂函數運用\n",
    "\n",
    "scores = [9, 19, 29, 39, 49, 59, 69, 79]\n",
    "\n",
    "# 成績放大\n",
    "# 規則：開根號*10"
   ]
  },
  {
   "cell_type": "code",
   "execution_count": null,
   "metadata": {
    "colab": {
     "base_uri": "https://localhost:8080/"
    },
    "id": "m-xvGywFYIwm",
    "outputId": "8bf5fe47-362d-4f8b-e2b7-4bf1df230c4f"
   },
   "outputs": [
    {
     "data": {
      "text/plain": [
       "(30.0, 43.58898943540674, 53.85164807134504)"
      ]
     },
     "execution_count": 3,
     "metadata": {},
     "output_type": "execute_result"
    }
   ],
   "source": [
    "# def自訂函數運用_I (開根號)\n",
    "\n",
    "9 ** 0.5 * 10, \\\n",
    "19 ** 0.5 * 10, \\\n",
    "29 ** 0.5 * 10"
   ]
  },
  {
   "cell_type": "code",
   "execution_count": null,
   "metadata": {
    "colab": {
     "base_uri": "https://localhost:8080/"
    },
    "id": "XhBL820AZPjV",
    "outputId": "a0a53a01-ee3f-4a7d-9809-75cf6c39e90a"
   },
   "outputs": [
    {
     "data": {
      "text/plain": [
       "(30, 44, 54)"
      ]
     },
     "execution_count": 5,
     "metadata": {},
     "output_type": "execute_result"
    }
   ],
   "source": [
    "# def自訂函數運用_II (四捨五入)\n",
    "\n",
    "round(30.3), round(43.58898943540674), round(53.85164807134504)"
   ]
  },
  {
   "cell_type": "code",
   "execution_count": null,
   "metadata": {
    "colab": {
     "base_uri": "https://localhost:8080/"
    },
    "id": "ki9GEhgWZ1bF",
    "outputId": "199eb657-d320-469e-d530-e3476d8b5cd8"
   },
   "outputs": [
    {
     "data": {
      "text/plain": [
       "(30, 44, 54)"
      ]
     },
     "execution_count": 8,
     "metadata": {},
     "output_type": "execute_result"
    }
   ],
   "source": [
    "# def自訂函數運用_I + II\n",
    "\n",
    "def upgrade(s):\n",
    "  return round(s ** 0.5 * 10)\n",
    "upgrade(9), upgrade(19), upgrade(29)"
   ]
  },
  {
   "cell_type": "code",
   "execution_count": null,
   "metadata": {
    "colab": {
     "base_uri": "https://localhost:8080/"
    },
    "id": "fxJ4-AETb6Z3",
    "outputId": "712e3fd0-1bd6-4b7d-fd92-a44a8ecfbd1f"
   },
   "outputs": [
    {
     "name": "stdout",
     "output_type": "stream",
     "text": [
      "9 30\n",
      "19 44\n",
      "29 54\n",
      "39 62\n",
      "49 70\n",
      "59 77\n",
      "69 83\n",
      "79 89\n"
     ]
    }
   ],
   "source": [
    "# def自訂函數運用_III\n",
    "\n",
    "scores = [9, 19, 29, 39, 49, 59, 69, 79]\n",
    "\n",
    "for s in scores:\n",
    "  print(s, upgrade(s))"
   ]
  },
  {
   "cell_type": "code",
   "execution_count": null,
   "metadata": {
    "colab": {
     "base_uri": "https://localhost:8080/"
    },
    "id": "5CadG1nxdVyi",
    "outputId": "ef4829f5-8d95-4abd-a320-f3eb22b84161"
   },
   "outputs": [
    {
     "data": {
      "text/plain": [
       "[30, 44, 54, 62, 70, 77, 83, 89]"
      ]
     },
     "execution_count": 10,
     "metadata": {},
     "output_type": "execute_result"
    }
   ],
   "source": [
    "# def自訂函數運用_IV（list comprehension）\n",
    "\n",
    "scores = [9, 19, 29, 39, 49, 59, 69, 79]\n",
    "\n",
    "[upgrade(s) for s in scores]"
   ]
  },
  {
   "cell_type": "markdown",
   "metadata": {
    "id": "4E3289uAE2ed"
   },
   "source": [
    "#### 函數傳回多值"
   ]
  },
  {
   "cell_type": "code",
   "execution_count": null,
   "metadata": {
    "colab": {
     "base_uri": "https://localhost:8080/"
    },
    "id": "TAioDM41htf1",
    "outputId": "e1b86875-6955-4025-c181-beb6465b2997"
   },
   "outputs": [
    {
     "name": "stdout",
     "output_type": "stream",
     "text": [
      "呼叫函數\n"
     ]
    }
   ],
   "source": [
    "# def樣式_I\n",
    "\n",
    "def func(): # 接收參數，此處沒有接收資料\n",
    "  print('呼叫函數')\n",
    "  return()  # 函數結束前的資料回傳，此處沒有傳回資料可省略\n",
    "\n",
    "func()"
   ]
  },
  {
   "cell_type": "code",
   "execution_count": null,
   "metadata": {
    "colab": {
     "base_uri": "https://localhost:8080/"
    },
    "id": "t_Lke6cakkbP",
    "outputId": "6efa43ef-cffe-47ae-e307-9f99bd78f757"
   },
   "outputs": [
    {
     "name": "stdout",
     "output_type": "stream",
     "text": [
      "1\n",
      "7\n",
      "2\n"
     ]
    }
   ],
   "source": [
    "# def樣式_II\n",
    "\n",
    "def func(a, b): # 接收參數，此處接收兩個資料\n",
    "  c = a + b\n",
    "  print(c)\n",
    "  return()      # 函數結束前的資料回傳\n",
    "\n",
    "print('1')\n",
    "func(3, 4)\n",
    "print('2')"
   ]
  },
  {
   "cell_type": "code",
   "execution_count": null,
   "metadata": {
    "colab": {
     "base_uri": "https://localhost:8080/",
     "height": 232
    },
    "id": "NmmU9dNfy3wI",
    "outputId": "ba04e928-ef66-436e-e9a4-cbee8bc8008e"
   },
   "outputs": [
    {
     "name": "stdout",
     "output_type": "stream",
     "text": [
      "1\n"
     ]
    },
    {
     "ename": "TypeError",
     "evalue": "ignored",
     "output_type": "error",
     "traceback": [
      "\u001b[0;31m---------------------------------------------------------------------------\u001b[0m",
      "\u001b[0;31mTypeError\u001b[0m                                 Traceback (most recent call last)",
      "\u001b[0;32m<ipython-input-16-e6af4069bf17>\u001b[0m in \u001b[0;36m<module>\u001b[0;34m()\u001b[0m\n\u001b[1;32m      7\u001b[0m \u001b[0;34m\u001b[0m\u001b[0m\n\u001b[1;32m      8\u001b[0m \u001b[0mprint\u001b[0m\u001b[0;34m(\u001b[0m\u001b[0;34m'1'\u001b[0m\u001b[0;34m)\u001b[0m\u001b[0;34m\u001b[0m\u001b[0;34m\u001b[0m\u001b[0m\n\u001b[0;32m----> 9\u001b[0;31m \u001b[0mfunc\u001b[0m\u001b[0;34m(\u001b[0m\u001b[0;34m)\u001b[0m\u001b[0;34m\u001b[0m\u001b[0;34m\u001b[0m\u001b[0m\n\u001b[0m\u001b[1;32m     10\u001b[0m \u001b[0mprint\u001b[0m\u001b[0;34m(\u001b[0m\u001b[0;34m'2'\u001b[0m\u001b[0;34m)\u001b[0m\u001b[0;34m\u001b[0m\u001b[0;34m\u001b[0m\u001b[0m\n",
      "\u001b[0;31mTypeError\u001b[0m: func() missing 2 required positional arguments: 'a' and 'b'"
     ]
    }
   ],
   "source": [
    "# Practice\n",
    "\n",
    "def func(a, b):\n",
    "  c = a + b\n",
    "  print(c)\n",
    "  return()\n",
    "\n",
    "print('1')\n",
    "func() # 此處沒有參數，則出現錯誤\n",
    "print('2')"
   ]
  },
  {
   "cell_type": "code",
   "execution_count": null,
   "metadata": {
    "colab": {
     "base_uri": "https://localhost:8080/"
    },
    "id": "gp0VurkzznQM",
    "outputId": "ca3a02a9-bf4d-4b48-e304-57fdebf0f42a"
   },
   "outputs": [
    {
     "name": "stdout",
     "output_type": "stream",
     "text": [
      "1\n",
      "0\n",
      "2\n"
     ]
    }
   ],
   "source": [
    "# Practice\n",
    "# 延續上題\n",
    "\n",
    "def func(a = 0, b = 0): # 此處設定預設值就OK\n",
    "  c = a + b\n",
    "  print(c)\n",
    "  return()\n",
    "\n",
    "print('1')\n",
    "func()\n",
    "print('2')"
   ]
  },
  {
   "cell_type": "code",
   "execution_count": null,
   "metadata": {
    "colab": {
     "base_uri": "https://localhost:8080/"
    },
    "id": "8Ku2MupFg0K2",
    "outputId": "3af7c41c-cd4e-48e5-ae77-852d067983af"
   },
   "outputs": [
    {
     "name": "stdout",
     "output_type": "stream",
     "text": [
      "25\n"
     ]
    }
   ],
   "source": [
    "# def樣式_III\n",
    "\n",
    "def func(a, b):  # 接收參數，此處接收兩個資料\n",
    "  c = a + b\n",
    "  return(c)      # 函數結束前的資料回傳\n",
    "z = func(10, 15) # 回傳資料會傳回呼叫此函數的語法；如語法有指派，也就是\"=\"，就會回傳給=左邊的變數\n",
    "\n",
    "print(z)"
   ]
  },
  {
   "cell_type": "code",
   "execution_count": null,
   "metadata": {
    "colab": {
     "base_uri": "https://localhost:8080/"
    },
    "id": "Yvqg2pwl5gSo",
    "outputId": "1ae67393-3427-4c3e-da56-d0981dba8b99"
   },
   "outputs": [
    {
     "name": "stdout",
     "output_type": "stream",
     "text": [
      "a + b = 3\n"
     ]
    }
   ],
   "source": [
    "# 驗證return = stop (return可停止後續程式碼的執行)\n",
    "\n",
    "def func(a, b):\n",
    "  c = a + b\n",
    "  print('a + b =', c)\n",
    "  return\n",
    "  c = a - b\n",
    "  print('a - b =', c)\n",
    "\n",
    "func(1, 2)"
   ]
  },
  {
   "cell_type": "code",
   "execution_count": null,
   "metadata": {
    "colab": {
     "base_uri": "https://localhost:8080/"
    },
    "id": "-0JwabGt8gpf",
    "outputId": "9a4fdc92-97a2-4d48-df35-6c1ddd765815"
   },
   "outputs": [
    {
     "name": "stdout",
     "output_type": "stream",
     "text": [
      "1\n",
      "2\n",
      "11\n"
     ]
    }
   ],
   "source": [
    "# Practice\n",
    "\n",
    "def func(a, b):\n",
    "  c = a + b * 2\n",
    "  return(c)\n",
    "\n",
    "print('1')\n",
    "z = func(3, 4)\n",
    "print(2)\n",
    "print(z)"
   ]
  },
  {
   "cell_type": "code",
   "execution_count": null,
   "metadata": {
    "colab": {
     "base_uri": "https://localhost:8080/"
    },
    "id": "GVCzoBzQ91Gb",
    "outputId": "c6c44210-c8ac-4367-b0e1-91e7e1943664"
   },
   "outputs": [
    {
     "name": "stdout",
     "output_type": "stream",
     "text": [
      "(3, -1, 2, 0.5)\n",
      "3\n",
      "-1\n",
      "2\n",
      "0.5\n"
     ]
    }
   ],
   "source": [
    "# Practice\n",
    "\n",
    "def func(x, y):\n",
    "  return(x + y, x - y, x * y, x / y)\n",
    "\n",
    "temp = func(1, 2)\n",
    "print(temp)\n",
    "print(temp[0])\n",
    "print(temp[1])\n",
    "print(temp[2])\n",
    "print(temp[3])"
   ]
  },
  {
   "cell_type": "code",
   "execution_count": null,
   "metadata": {
    "colab": {
     "base_uri": "https://localhost:8080/"
    },
    "id": "OB0X8HGJ_-vt",
    "outputId": "c3ac53f3-54d0-424d-9efc-ba749f133df3"
   },
   "outputs": [
    {
     "name": "stdout",
     "output_type": "stream",
     "text": [
      "3 -1 2 0.5\n"
     ]
    }
   ],
   "source": [
    "# Practice\n",
    "\n",
    "def func(x, y):\n",
    "  return(x + y, x - y, x * y, x / y)\n",
    "\n",
    "a, b, c, d = func(1, 2)\n",
    "\n",
    "print(a, b, c, d)"
   ]
  },
  {
   "cell_type": "markdown",
   "metadata": {
    "id": "tzJfMZ7NFDyS"
   },
   "source": [
    "#### 變數影響範圍"
   ]
  },
  {
   "cell_type": "code",
   "execution_count": null,
   "metadata": {
    "colab": {
     "base_uri": "https://localhost:8080/"
    },
    "id": "-fYJpU_AJU-R",
    "outputId": "6622f445-8532-4b4a-e5f3-1b419b21fb69"
   },
   "outputs": [
    {
     "name": "stdout",
     "output_type": "stream",
     "text": [
      "inner 100\n",
      "outer 10\n"
     ]
    }
   ],
   "source": [
    "# 補充1：變數名稱相同，內外分開\n",
    "\n",
    "score = 10\n",
    "\n",
    "def upgrade(s):\n",
    "  score = 100     # ---> 此行重新定義，非修改外部變數\n",
    "  print('inner', score)\n",
    "\n",
    "# 呼叫\n",
    "upgrade(score)\n",
    "print('outer', score)"
   ]
  },
  {
   "cell_type": "code",
   "execution_count": null,
   "metadata": {
    "colab": {
     "base_uri": "https://localhost:8080/"
    },
    "id": "bqpvCV1hQBJV",
    "outputId": "fe84ced0-20e9-4fbe-ea37-56721602df4f"
   },
   "outputs": [
    {
     "name": "stdout",
     "output_type": "stream",
     "text": [
      "inner 10\n",
      "outer 10\n"
     ]
    }
   ],
   "source": [
    "# 補充2：變數在函數呼叫之前宣告，函數內可直接使用\n",
    "\n",
    "def upgrade(s):\n",
    "  print('inner', score)\n",
    "\n",
    "# 呼叫\n",
    "score = 10\n",
    "upgrade(score)\n",
    "print('outer', score)"
   ]
  },
  {
   "cell_type": "code",
   "execution_count": null,
   "metadata": {
    "colab": {
     "base_uri": "https://localhost:8080/",
     "height": 215
    },
    "id": "WaFNjy9lSU8g",
    "outputId": "10dd773f-b113-41a1-e314-9609f824e15d"
   },
   "outputs": [
    {
     "name": "stdout",
     "output_type": "stream",
     "text": [
      "inner 100\n"
     ]
    },
    {
     "ename": "NameError",
     "evalue": "ignored",
     "output_type": "error",
     "traceback": [
      "\u001b[0;31m---------------------------------------------------------------------------\u001b[0m",
      "\u001b[0;31mNameError\u001b[0m                                 Traceback (most recent call last)",
      "\u001b[0;32m<ipython-input-6-6bc1e485e22b>\u001b[0m in \u001b[0;36m<module>\u001b[0;34m()\u001b[0m\n\u001b[1;32m      7\u001b[0m \u001b[0;31m# 呼叫\u001b[0m\u001b[0;34m\u001b[0m\u001b[0;34m\u001b[0m\u001b[0;34m\u001b[0m\u001b[0m\n\u001b[1;32m      8\u001b[0m \u001b[0mupgrade\u001b[0m\u001b[0;34m(\u001b[0m\u001b[0ms\u001b[0m \u001b[0;34m=\u001b[0m \u001b[0;36m100\u001b[0m\u001b[0;34m)\u001b[0m\u001b[0;34m\u001b[0m\u001b[0;34m\u001b[0m\u001b[0m\n\u001b[0;32m----> 9\u001b[0;31m \u001b[0mprint\u001b[0m\u001b[0;34m(\u001b[0m\u001b[0;34m'outer'\u001b[0m\u001b[0;34m,\u001b[0m \u001b[0mscore_inner\u001b[0m\u001b[0;34m)\u001b[0m\u001b[0;34m\u001b[0m\u001b[0;34m\u001b[0m\u001b[0m\n\u001b[0m",
      "\u001b[0;31mNameError\u001b[0m: name 'score_inner' is not defined"
     ]
    }
   ],
   "source": [
    "# 補充3：函數內的變數，外部無法使用\n",
    "\n",
    "def upgrade(s):\n",
    "  score_inner = s\n",
    "  print('inner', score_inner)\n",
    "\n",
    "# 呼叫\n",
    "upgrade(s = 100)\n",
    "print('outer', score_inner)"
   ]
  },
  {
   "cell_type": "code",
   "execution_count": null,
   "metadata": {
    "colab": {
     "base_uri": "https://localhost:8080/"
    },
    "id": "aF4idnhwTNFw",
    "outputId": "7da79a99-1169-4cc9-cc00-2762df490eb9"
   },
   "outputs": [
    {
     "name": "stdout",
     "output_type": "stream",
     "text": [
      "outer1： 5\n",
      "inner： 10\n",
      "outer2： 5\n"
     ]
    }
   ],
   "source": [
    "# Practice\n",
    "\n",
    "a = 5\n",
    "def magic():\n",
    "  a = 10\n",
    "  print('inner：', a)\n",
    "  return()\n",
    "print('outer1：', a)\n",
    "magic()\n",
    "print('outer2：', a)"
   ]
  },
  {
   "cell_type": "code",
   "execution_count": null,
   "metadata": {
    "colab": {
     "base_uri": "https://localhost:8080/"
    },
    "id": "lu37LrA0eosN",
    "outputId": "c6a88ebc-cbff-4a62-8973-9f47206906fb"
   },
   "outputs": [
    {
     "name": "stdout",
     "output_type": "stream",
     "text": [
      "outer1： 5\n",
      "inner： 5\n",
      "outer2： 5\n"
     ]
    }
   ],
   "source": [
    "# Practice\n",
    "\n",
    "a = 5\n",
    "def magic():\n",
    "  # a = 10\n",
    "  print('inner：', a)\n",
    "  return()\n",
    "print('outer1：', a)\n",
    "magic()\n",
    "print('outer2：', a)"
   ]
  },
  {
   "cell_type": "code",
   "execution_count": null,
   "metadata": {
    "colab": {
     "base_uri": "https://localhost:8080/"
    },
    "id": "8kzZQHJ1f09t",
    "outputId": "d9d74d26-ffad-4c2c-e9cb-3ebb7c119262"
   },
   "outputs": [
    {
     "name": "stdout",
     "output_type": "stream",
     "text": [
      "2\n"
     ]
    }
   ],
   "source": [
    "# Practice\n",
    "\n",
    "a = 2\n",
    "def magic():\n",
    "  print(a)\n",
    "  return\n",
    "\n",
    "magic()"
   ]
  },
  {
   "cell_type": "code",
   "execution_count": null,
   "metadata": {
    "colab": {
     "base_uri": "https://localhost:8080/",
     "height": 351
    },
    "id": "7TLqiPBzg3Pf",
    "outputId": "82c903dd-22ef-4cdc-ca9a-15f04d1106f5"
   },
   "outputs": [
    {
     "name": "stdout",
     "output_type": "stream",
     "text": [
      "outer1： 5\n"
     ]
    },
    {
     "ename": "UnboundLocalError",
     "evalue": "ignored",
     "output_type": "error",
     "traceback": [
      "\u001b[0;31m---------------------------------------------------------------------------\u001b[0m",
      "\u001b[0;31mUnboundLocalError\u001b[0m                         Traceback (most recent call last)",
      "\u001b[0;32m<ipython-input-21-df56d6c3b169>\u001b[0m in \u001b[0;36m<module>\u001b[0;34m()\u001b[0m\n\u001b[1;32m      8\u001b[0m   \u001b[0;32mreturn\u001b[0m\u001b[0;34m(\u001b[0m\u001b[0;34m)\u001b[0m\u001b[0;34m\u001b[0m\u001b[0;34m\u001b[0m\u001b[0m\n\u001b[1;32m      9\u001b[0m \u001b[0mprint\u001b[0m\u001b[0;34m(\u001b[0m\u001b[0;34m'outer1：'\u001b[0m\u001b[0;34m,\u001b[0m \u001b[0ma\u001b[0m\u001b[0;34m)\u001b[0m\u001b[0;34m\u001b[0m\u001b[0;34m\u001b[0m\u001b[0m\n\u001b[0;32m---> 10\u001b[0;31m \u001b[0mmagic\u001b[0m\u001b[0;34m(\u001b[0m\u001b[0;34m)\u001b[0m\u001b[0;34m\u001b[0m\u001b[0;34m\u001b[0m\u001b[0m\n\u001b[0m\u001b[1;32m     11\u001b[0m \u001b[0mprint\u001b[0m\u001b[0;34m(\u001b[0m\u001b[0;34m'outer2：'\u001b[0m\u001b[0;34m,\u001b[0m \u001b[0ma\u001b[0m\u001b[0;34m)\u001b[0m\u001b[0;34m\u001b[0m\u001b[0;34m\u001b[0m\u001b[0m\n",
      "\u001b[0;32m<ipython-input-21-df56d6c3b169>\u001b[0m in \u001b[0;36mmagic\u001b[0;34m()\u001b[0m\n\u001b[1;32m      4\u001b[0m \u001b[0;32mdef\u001b[0m \u001b[0mmagic\u001b[0m\u001b[0;34m(\u001b[0m\u001b[0;34m)\u001b[0m\u001b[0;34m:\u001b[0m\u001b[0;34m\u001b[0m\u001b[0;34m\u001b[0m\u001b[0m\n\u001b[1;32m      5\u001b[0m   \u001b[0;31m# a = 0\u001b[0m\u001b[0;34m\u001b[0m\u001b[0;34m\u001b[0m\u001b[0;34m\u001b[0m\u001b[0m\n\u001b[0;32m----> 6\u001b[0;31m   \u001b[0ma\u001b[0m \u001b[0;34m=\u001b[0m \u001b[0ma\u001b[0m \u001b[0;34m+\u001b[0m \u001b[0;36m1\u001b[0m\u001b[0;34m\u001b[0m\u001b[0;34m\u001b[0m\u001b[0m\n\u001b[0m\u001b[1;32m      7\u001b[0m   \u001b[0mprint\u001b[0m\u001b[0;34m(\u001b[0m\u001b[0;34m'inner：'\u001b[0m\u001b[0;34m,\u001b[0m \u001b[0ma\u001b[0m\u001b[0;34m)\u001b[0m\u001b[0;34m\u001b[0m\u001b[0;34m\u001b[0m\u001b[0m\n\u001b[1;32m      8\u001b[0m   \u001b[0;32mreturn\u001b[0m\u001b[0;34m(\u001b[0m\u001b[0;34m)\u001b[0m\u001b[0;34m\u001b[0m\u001b[0;34m\u001b[0m\u001b[0m\n",
      "\u001b[0;31mUnboundLocalError\u001b[0m: local variable 'a' referenced before assignment"
     ]
    }
   ],
   "source": [
    "# Practice（延伸）\n",
    "\n",
    "a = 5\n",
    "def magic():\n",
    "  # a = 0\n",
    "  a = a + 1\n",
    "  print('inner：', a)\n",
    "  return()\n",
    "print('outer1：', a)\n",
    "magic()\n",
    "print('outer2：', a)"
   ]
  },
  {
   "cell_type": "code",
   "execution_count": null,
   "metadata": {
    "colab": {
     "base_uri": "https://localhost:8080/"
    },
    "id": "AzYZTM6fjpCk",
    "outputId": "7a30df9b-a129-4063-d3f3-865e50b482d0"
   },
   "outputs": [
    {
     "name": "stdout",
     "output_type": "stream",
     "text": [
      "outer1： 5\n",
      "inner 6\n",
      "outer2： 5\n"
     ]
    }
   ],
   "source": [
    "# Practice（延伸） 同上程式碼，將a變數改成x，即不會出現錯誤\n",
    "\n",
    "a = 5\n",
    "def magic():\n",
    "  # a = 0\n",
    "  x = a + 1\n",
    "  print('inner', x)\n",
    "  return()\n",
    "print('outer1：', a)\n",
    "magic()\n",
    "print('outer2：', a)\n",
    "\n",
    "# 函數外的變數，內部可以使用；函數內的變數，外部不可使用"
   ]
  },
  {
   "cell_type": "code",
   "execution_count": null,
   "metadata": {
    "colab": {
     "base_uri": "https://localhost:8080/"
    },
    "id": "a1-EkltFnSOV",
    "outputId": "653aca77-af32-4b61-adae-f17dc914c3e6"
   },
   "outputs": [
    {
     "name": "stdout",
     "output_type": "stream",
     "text": [
      "inner： 13\n",
      "outer： 9\n"
     ]
    }
   ],
   "source": [
    "# Practice\n",
    "\n",
    "a = 3\n",
    "def magic():\n",
    "  a = 7\n",
    "  a = a + 6\n",
    "  print('inner：', a)\n",
    "  return()\n",
    "a += 6\n",
    "magic()\n",
    "print('outer：', a)"
   ]
  },
  {
   "cell_type": "code",
   "execution_count": null,
   "metadata": {
    "colab": {
     "base_uri": "https://localhost:8080/"
    },
    "id": "P53kA08dpYzp",
    "outputId": "c800bc03-1df2-48a2-f4d5-28a530e6d965"
   },
   "outputs": [
    {
     "name": "stdout",
     "output_type": "stream",
     "text": [
      "inner： 7 94813010025152\n",
      "outer： 3 94813010025024\n"
     ]
    }
   ],
   "source": [
    "# 驗證函數內外之變數個別計算，相同變數名稱視為不同的變數（記憶體位置不同）\n",
    "# 結論：避免函數內外宣告相同之變數名稱\n",
    "\n",
    "a = 3\n",
    "def magic():\n",
    "  a = 7\n",
    "  print('inner：', a, id(a))\n",
    "\n",
    "# 呼叫function\n",
    "magic()\n",
    "print('outer：', a, id(a))"
   ]
  },
  {
   "cell_type": "code",
   "execution_count": null,
   "metadata": {
    "colab": {
     "base_uri": "https://localhost:8080/"
    },
    "id": "sd2q9i2PFUTw",
    "outputId": "537d3f95-d5af-4977-aa67-13b89a6f6baa"
   },
   "outputs": [
    {
     "name": "stdout",
     "output_type": "stream",
     "text": [
      "B\n",
      "A\n",
      "C\n"
     ]
    }
   ],
   "source": [
    "# Question：在程式中，print('B')下一行的magic的作用是告訴電腦將該函數的動作print('A')顯示在該處嗎? YES\n",
    "\n",
    "def magic():\n",
    "  print('A')\n",
    "  return\n",
    "\n",
    "print('B')  #執行列印B\n",
    "magic()     #執行上方3~5行的函數，列印A\n",
    "print('C')  #執行列印C"
   ]
  },
  {
   "cell_type": "code",
   "execution_count": null,
   "metadata": {
    "colab": {
     "base_uri": "https://localhost:8080/"
    },
    "id": "LPUvKB4GG8lU",
    "outputId": "adda387c-c5dd-4eae-bf7f-8f937049a0f4"
   },
   "outputs": [
    {
     "name": "stdout",
     "output_type": "stream",
     "text": [
      "[66, 88, 77, 0]\n"
     ]
    }
   ],
   "source": [
    "# 如果是list，內部可以改外部\n",
    "\n",
    "scores = [66, 88, 77]\n",
    "\n",
    "def f(lst):\n",
    "  lst.append(0)\n",
    "\n",
    "f(scores) # 補上一個0\n",
    "print(scores)"
   ]
  },
  {
   "cell_type": "code",
   "execution_count": null,
   "metadata": {
    "colab": {
     "base_uri": "https://localhost:8080/"
    },
    "id": "r7G6xti8bd7H",
    "outputId": "959df220-af7c-4194-e2ce-4e2ce32e1611"
   },
   "outputs": [
    {
     "name": "stdout",
     "output_type": "stream",
     "text": [
      "[66, 88, 77, 0]\n"
     ]
    }
   ],
   "source": [
    "# 同上程式碼，亦可變更為此\n",
    "\n",
    "scores = [66, 88, 77]\n",
    "\n",
    "def f():\n",
    "  scores.append(0)\n",
    "\n",
    "f() # 補上一個0\n",
    "print(scores)"
   ]
  },
  {
   "cell_type": "code",
   "execution_count": null,
   "metadata": {
    "colab": {
     "base_uri": "https://localhost:8080/",
     "height": 334
    },
    "id": "5nwGY5X-cISn",
    "outputId": "3d7c18e7-f2e0-470a-99ad-bfed861d090d"
   },
   "outputs": [
    {
     "ename": "UnboundLocalError",
     "evalue": "ignored",
     "output_type": "error",
     "traceback": [
      "\u001b[0;31m---------------------------------------------------------------------------\u001b[0m",
      "\u001b[0;31mUnboundLocalError\u001b[0m                         Traceback (most recent call last)",
      "\u001b[0;32m<ipython-input-3-049d7836ef0d>\u001b[0m in \u001b[0;36m<module>\u001b[0;34m()\u001b[0m\n\u001b[1;32m      7\u001b[0m   \u001b[0mprint\u001b[0m\u001b[0;34m(\u001b[0m\u001b[0mcc\u001b[0m\u001b[0;34m)\u001b[0m\u001b[0;34m\u001b[0m\u001b[0;34m\u001b[0m\u001b[0m\n\u001b[1;32m      8\u001b[0m \u001b[0;34m\u001b[0m\u001b[0m\n\u001b[0;32m----> 9\u001b[0;31m \u001b[0mfss\u001b[0m\u001b[0;34m(\u001b[0m\u001b[0mtt\u001b[0m \u001b[0;34m=\u001b[0m \u001b[0;36m99\u001b[0m\u001b[0;34m)\u001b[0m\u001b[0;34m\u001b[0m\u001b[0;34m\u001b[0m\u001b[0m\n\u001b[0m\u001b[1;32m     10\u001b[0m \u001b[0mprint\u001b[0m\u001b[0;34m(\u001b[0m\u001b[0mcc\u001b[0m\u001b[0;34m)\u001b[0m\u001b[0;34m\u001b[0m\u001b[0;34m\u001b[0m\u001b[0m\n",
      "\u001b[0;32m<ipython-input-3-049d7836ef0d>\u001b[0m in \u001b[0;36mfss\u001b[0;34m(tt)\u001b[0m\n\u001b[1;32m      4\u001b[0m \u001b[0;34m\u001b[0m\u001b[0m\n\u001b[1;32m      5\u001b[0m \u001b[0;32mdef\u001b[0m \u001b[0mfss\u001b[0m\u001b[0;34m(\u001b[0m\u001b[0mtt\u001b[0m\u001b[0;34m)\u001b[0m\u001b[0;34m:\u001b[0m\u001b[0;34m\u001b[0m\u001b[0;34m\u001b[0m\u001b[0m\n\u001b[0;32m----> 6\u001b[0;31m   \u001b[0mcc\u001b[0m \u001b[0;34m=\u001b[0m \u001b[0mcc\u001b[0m \u001b[0;34m+\u001b[0m \u001b[0;36m990\u001b[0m\u001b[0;34m\u001b[0m\u001b[0;34m\u001b[0m\u001b[0m\n\u001b[0m\u001b[1;32m      7\u001b[0m   \u001b[0mprint\u001b[0m\u001b[0;34m(\u001b[0m\u001b[0mcc\u001b[0m\u001b[0;34m)\u001b[0m\u001b[0;34m\u001b[0m\u001b[0;34m\u001b[0m\u001b[0m\n\u001b[1;32m      8\u001b[0m \u001b[0;34m\u001b[0m\u001b[0m\n",
      "\u001b[0;31mUnboundLocalError\u001b[0m: local variable 'cc' referenced before assignment"
     ]
    }
   ],
   "source": [
    "# 補充1_補充1&補充2的比較\n",
    "\n",
    "cc = 99\n",
    "\n",
    "def fss(tt):\n",
    "  cc = cc + 990 # 外部cc=99變數無法帶進cc=cc+990使用\n",
    "  print(cc)\n",
    "\n",
    "fss(tt = 99)\n",
    "print(cc)"
   ]
  },
  {
   "cell_type": "code",
   "execution_count": null,
   "metadata": {
    "colab": {
     "base_uri": "https://localhost:8080/"
    },
    "id": "PSSU2B99c1K_",
    "outputId": "1a0a7774-b819-4873-d76b-aeff21a2e867"
   },
   "outputs": [
    {
     "name": "stdout",
     "output_type": "stream",
     "text": [
      "1089\n",
      "99\n"
     ]
    }
   ],
   "source": [
    "# 補充2_補充1&補充2的比較\n",
    "\n",
    "ss = 99\n",
    "\n",
    "def fss(tt):       # --->fss(tt)參數\n",
    "  tt = tt + 990    # 轉tt=tt+990變數<---\n",
    "  print(tt)\n",
    "\n",
    "fss(tt = 99)\n",
    "print(ss)"
   ]
  },
  {
   "cell_type": "markdown",
   "metadata": {
    "id": "23ERhLUEFXiU"
   },
   "source": [
    "## 函數的固定傳遞\n",
    "#### list傳送與接收"
   ]
  },
  {
   "cell_type": "code",
   "execution_count": null,
   "metadata": {
    "colab": {
     "base_uri": "https://localhost:8080/"
    },
    "id": "Xpp_DQuqgVn2",
    "outputId": "62ef007a-0bcb-45e9-831b-0551392e13a2"
   },
   "outputs": [
    {
     "name": "stdout",
     "output_type": "stream",
     "text": [
      "outer 140345992622560\n",
      "inner 140345992622560\n",
      "140345992622560\n",
      "函數內： [10, 20, 'a']\n",
      "函數外： [10, 20, 'a']\n"
     ]
    }
   ],
   "source": [
    "# Practice\n",
    "\n",
    "def changeme(mylist):\n",
    "  print('inner', id(mylist))\n",
    "  mylist[2] = 'a'\n",
    "  print(id(mylist))\n",
    "  print('函數內：', mylist)\n",
    "  return\n",
    "\n",
    "mylist = [10, 20, 30]\n",
    "print('outer', id(mylist))\n",
    "\n",
    "changeme(mylist)\n",
    "\n",
    "print('函數外：', mylist)"
   ]
  },
  {
   "cell_type": "code",
   "execution_count": null,
   "metadata": {
    "colab": {
     "base_uri": "https://localhost:8080/"
    },
    "id": "cErarVbsic4v",
    "outputId": "51a36c8f-30fb-4588-c5a2-7d357e5a5a35"
   },
   "outputs": [
    {
     "name": "stdout",
     "output_type": "stream",
     "text": [
      "outer 140345992760288\n",
      "inner 140345992760288\n",
      "140345992622560\n",
      "函數內： [1, 2, 3]\n",
      "函數外： [10, 20, 30]\n"
     ]
    }
   ],
   "source": [
    "# Practice\n",
    "\n",
    "def changeme(mylist):\n",
    "  print('inner', id(mylist))\n",
    "  mylist = [1, 2, 3]\n",
    "  print(id(mylist))\n",
    "  print('函數內：', mylist)\n",
    "  return\n",
    "\n",
    "mylist = [10, 20, 30]\n",
    "print('outer', id(mylist))\n",
    "\n",
    "changeme(mylist)\n",
    "\n",
    "print('函數外：', mylist)"
   ]
  },
  {
   "cell_type": "code",
   "execution_count": null,
   "metadata": {
    "colab": {
     "base_uri": "https://localhost:8080/"
    },
    "id": "VFBLxZv4jWcX",
    "outputId": "7ee9e586-f0cd-4070-e1f9-5291ff597ae4"
   },
   "outputs": [
    {
     "name": "stdout",
     "output_type": "stream",
     "text": [
      "outer 140345992705760\n",
      "inner 140345992705760\n",
      "140345992705760\n",
      "函數內： [10, 20, 30, [1, 2]]\n",
      "函數外： [10, 20, 30, [1, 2]]\n"
     ]
    }
   ],
   "source": [
    "# Practice\n",
    "\n",
    "def changeme(mylist):\n",
    "  print('inner', id(mylist))\n",
    "  mylist.append([1, 2])\n",
    "  print(id(mylist))\n",
    "  print('函數內：', mylist)\n",
    "  return\n",
    "\n",
    "mylist = [10, 20, 30]\n",
    "print('outer',id(mylist))\n",
    "\n",
    "changeme(mylist)\n",
    "\n",
    "print('函數外：',mylist)"
   ]
  },
  {
   "cell_type": "markdown",
   "metadata": {
    "id": "_uJ0DOMsdlOl"
   },
   "source": [
    "結論：\n",
    "\n",
    "     1.函數參數使用List傳遞預設內外一樣位置、一樣數值。\n",
    "     2.若函數內重新定義一個相同名稱LIST，則記憶體位置分開，視為不同物件。"
   ]
  },
  {
   "cell_type": "markdown",
   "metadata": {
    "id": "79znJKOTweiu"
   },
   "source": [
    "#### list計算式與固定間隔取值"
   ]
  },
  {
   "cell_type": "code",
   "execution_count": null,
   "metadata": {
    "colab": {
     "base_uri": "https://localhost:8080/"
    },
    "id": "ADK9UI--eqZP",
    "outputId": "ab21013c-cbce-4690-aab4-f9cf7884a9c4"
   },
   "outputs": [
    {
     "name": "stdout",
     "output_type": "stream",
     "text": [
      "[1, 2, 3, 4, 5]\n",
      "[1, 2, 3, 4, 5]\n"
     ]
    }
   ],
   "source": [
    "# 以下與函數無關\n",
    "# 如果將一個list定義變數，並指派給另一個變數；後者變更內容，會反應到第一個list變數\n",
    "\n",
    "scores = [1, 2, 3, 4]\n",
    "scores2 = scores\n",
    "\n",
    "scores2.append(5)\n",
    "print(scores2)\n",
    "print(scores)"
   ]
  },
  {
   "cell_type": "code",
   "execution_count": null,
   "metadata": {
    "colab": {
     "base_uri": "https://localhost:8080/"
    },
    "id": "hGD-aVGHg8XK",
    "outputId": "a812b907-ed3a-4c1b-f8d9-1b2ef078f3c7"
   },
   "outputs": [
    {
     "name": "stdout",
     "output_type": "stream",
     "text": [
      "[1, 2, 3, 4, 5]\n",
      "[1, 2, 3, 4]\n"
     ]
    }
   ],
   "source": [
    "# 避免上一情況，可使用copy\n",
    "\n",
    "scores = [1, 2, 3, 4]\n",
    "scores3 = scores.copy()\n",
    "scores3.append(5)\n",
    "print(scores3)\n",
    "print(scores)"
   ]
  },
  {
   "cell_type": "code",
   "execution_count": null,
   "metadata": {
    "colab": {
     "base_uri": "https://localhost:8080/"
    },
    "id": "NyitEXGRhisU",
    "outputId": "15b97b5f-8cb3-41d1-c1b6-6bf28ed3945d"
   },
   "outputs": [
    {
     "name": "stdout",
     "output_type": "stream",
     "text": [
      "x [0, 1, 2, 3]\n",
      "y [0, 1, 2, 3]\n"
     ]
    }
   ],
   "source": [
    "# 針對list的物件的變數設定有重點_1\n",
    "\n",
    "x = y = [0, 1, 2]\n",
    "x.append(3) # -----> 同一個記憶體空間\n",
    "print('x', x)\n",
    "print('y', y)"
   ]
  },
  {
   "cell_type": "code",
   "execution_count": null,
   "metadata": {
    "colab": {
     "base_uri": "https://localhost:8080/"
    },
    "id": "f8a0k2W_lks7",
    "outputId": "ff1ce70b-c7f4-4c1a-ecba-c63cb0ca1c75"
   },
   "outputs": [
    {
     "name": "stdout",
     "output_type": "stream",
     "text": [
      "x [0, 1, 2, 3]\n",
      "y [0, 1, 2, 3]\n"
     ]
    }
   ],
   "source": [
    "# 針對list的物件的變數設定有重點_2\n",
    "\n",
    "x = y = [0, 1, 2]\n",
    "x += [3] # -----> 同一個記憶體空間\n",
    "print('x', x)\n",
    "print('y', y)"
   ]
  },
  {
   "cell_type": "code",
   "execution_count": null,
   "metadata": {
    "colab": {
     "base_uri": "https://localhost:8080/"
    },
    "id": "L_dKPFfYl0KG",
    "outputId": "32f106d0-0890-4171-8d18-be3b5669a5c5"
   },
   "outputs": [
    {
     "name": "stdout",
     "output_type": "stream",
     "text": [
      "x [0, 1, 2, 3]\n",
      "y [0, 1, 2]\n"
     ]
    }
   ],
   "source": [
    "# 針對list的物件的變數設定有重點_3\n",
    "\n",
    "x = y = [0, 1, 2]\n",
    "x = x + [3] # -----> 不同記憶體空間\n",
    "print('x', x)\n",
    "print('y', y)"
   ]
  },
  {
   "cell_type": "code",
   "execution_count": null,
   "metadata": {
    "colab": {
     "base_uri": "https://localhost:8080/"
    },
    "id": "HtC2E6mEmIWo",
    "outputId": "9d01bba2-2622-440a-fa01-86108975aca0"
   },
   "outputs": [
    {
     "name": "stdout",
     "output_type": "stream",
     "text": [
      "140004018565808\n",
      "140003331057776\n",
      "101\n",
      "-----\n",
      "94446687558432\n",
      "94446687558464\n",
      "11\n",
      "-----\n",
      "140003330952208\n",
      "140003332106960\n",
      "1.8\n"
     ]
    }
   ],
   "source": [
    "# 釐清觀念1_for scalar value(string, int, float)\n",
    "\n",
    "w = '10'\n",
    "print(id(w))\n",
    "w += '1'\n",
    "print(id(w))\n",
    "print(w)\n",
    "print('-----')\n",
    "w = 10\n",
    "print(id(w))\n",
    "w += 1\n",
    "print(id(w))\n",
    "print(w)\n",
    "print('-----')\n",
    "w = 0.9\n",
    "print(id(w))\n",
    "w += 0.9\n",
    "print(id(w))\n",
    "print(w)"
   ]
  },
  {
   "cell_type": "code",
   "execution_count": null,
   "metadata": {
    "colab": {
     "base_uri": "https://localhost:8080/"
    },
    "id": "-qg7b5ikr4VC",
    "outputId": "000caf0a-2b84-4044-efd0-5b21f9009035"
   },
   "outputs": [
    {
     "name": "stdout",
     "output_type": "stream",
     "text": [
      "140003331410192\n",
      "140003331410192\n",
      "[10, 1]\n",
      "-----\n",
      "140003331399424\n",
      "140003330964688\n",
      "[10, 1]\n"
     ]
    }
   ],
   "source": [
    "# 釐清觀念2_for list \n",
    "\n",
    "w = [10]\n",
    "print(id(w))\n",
    "w += [1] # -----> 記憶體位置相同\n",
    "print(id(w))\n",
    "print(w)\n",
    "print('-----')\n",
    "w = [10]\n",
    "print(id(w))\n",
    "w = w + [1] # -----> 記憶體位置不同\n",
    "print(id(w))\n",
    "print(w)"
   ]
  },
  {
   "cell_type": "code",
   "execution_count": null,
   "metadata": {
    "colab": {
     "base_uri": "https://localhost:8080/"
    },
    "id": "Pmu1SU0hwOW4",
    "outputId": "f1957587-f127-4480-bde8-3b2a6c0bd347"
   },
   "outputs": [
    {
     "name": "stdout",
     "output_type": "stream",
     "text": [
      "['Einstein', 'Hawking', 'Schrodinger']\n",
      "['Schrodinger', 'Feynman', 'Heisenberg']\n"
     ]
    }
   ],
   "source": [
    "names = ['Einstein', 'Hawking', 'Schrodinger', 'Feynman', 'Heisenberg']\n",
    "\n",
    "print(names[ :3])  # 前三個\n",
    "print(names[-3: ]) # 後三個"
   ]
  },
  {
   "cell_type": "code",
   "execution_count": null,
   "metadata": {
    "colab": {
     "base_uri": "https://localhost:8080/"
    },
    "id": "K4AGN2xGzztM",
    "outputId": "efe8ecb9-be30-46e1-cf4d-f5e59a916463"
   },
   "outputs": [
    {
     "data": {
      "text/plain": [
       "['Einstein', 'Schrodinger', 'Heisenberg']"
      ]
     },
     "execution_count": 29,
     "metadata": {},
     "output_type": "execute_result"
    }
   ],
   "source": [
    "names = ['Einstein', 'Hawking', 'Schrodinger', 'Feynman', 'Heisenberg']\n",
    "# 每兩個取一個\n",
    "names[ : :2] # [start : end : freq]"
   ]
  },
  {
   "cell_type": "code",
   "execution_count": null,
   "metadata": {
    "colab": {
     "base_uri": "https://localhost:8080/"
    },
    "id": "GK5z0PkKwEDx",
    "outputId": "56fa1b40-e0d8-4785-d86c-e89e17bca8fc"
   },
   "outputs": [
    {
     "data": {
      "text/plain": [
       "['Heisenberg', 'Feynman', 'Schrodinger', 'Hawking', 'Einstein']"
      ]
     },
     "execution_count": 30,
     "metadata": {},
     "output_type": "execute_result"
    }
   ],
   "source": [
    "names = ['Einstein', 'Hawking', 'Schrodinger', 'Feynman', 'Heisenberg']\n",
    "# 每freq = -1 負數表示由後往前（非排序）\n",
    "names[ : :-1]"
   ]
  },
  {
   "cell_type": "code",
   "execution_count": null,
   "metadata": {
    "colab": {
     "base_uri": "https://localhost:8080/"
    },
    "id": "SAKhcQG31WPb",
    "outputId": "436c00f2-7379-473d-ca68-a46f8054476e"
   },
   "outputs": [
    {
     "data": {
      "text/plain": [
       "['Hawking', 'Feynman']"
      ]
     },
     "execution_count": 31,
     "metadata": {},
     "output_type": "execute_result"
    }
   ],
   "source": [
    "names = ['Einstein', 'Hawking', 'Schrodinger', 'Feynman', 'Heisenberg']\n",
    "# 每freq = 2\n",
    "names[1:4:2]"
   ]
  },
  {
   "cell_type": "code",
   "execution_count": null,
   "metadata": {
    "colab": {
     "base_uri": "https://localhost:8080/"
    },
    "id": "FXGkNvEK2Fno",
    "outputId": "3f9cfcca-ad58-4cbf-fa8f-14a4fff88b72"
   },
   "outputs": [
    {
     "data": {
      "text/plain": [
       "['Heisenberg', 'Feynman', 'Schrodinger']"
      ]
     },
     "execution_count": 32,
     "metadata": {},
     "output_type": "execute_result"
    }
   ],
   "source": [
    "names = ['Einstein', 'Hawking', 'Schrodinger', 'Feynman', 'Heisenberg']\n",
    "# 每freq = -1\n",
    "names[4:1:-1]"
   ]
  },
  {
   "cell_type": "code",
   "execution_count": null,
   "metadata": {
    "colab": {
     "base_uri": "https://localhost:8080/"
    },
    "id": "ENvKCgBCBjU4",
    "outputId": "9333f208-aca3-411f-b3cb-d86d415330dd"
   },
   "outputs": [
    {
     "name": "stdout",
     "output_type": "stream",
     "text": [
      "9\n",
      "8\n",
      "7\n",
      "6\n",
      "5\n",
      "4\n",
      "3\n",
      "2\n",
      "1\n",
      "0\n"
     ]
    }
   ],
   "source": [
    "# Practice\n",
    "\n",
    "x = range(10)\n",
    "for i in x[ : : -1]:\n",
    "  print(i)"
   ]
  },
  {
   "cell_type": "code",
   "execution_count": null,
   "metadata": {
    "colab": {
     "base_uri": "https://localhost:8080/"
    },
    "id": "WySQHzPyB28c",
    "outputId": "8518ff0b-0276-46c3-a67f-973cac7c8073"
   },
   "outputs": [
    {
     "name": "stdout",
     "output_type": "stream",
     "text": [
      "0\n",
      "2\n",
      "4\n",
      "6\n",
      "8\n"
     ]
    }
   ],
   "source": [
    "# Practice\n",
    "\n",
    "x = range(10)\n",
    "for i in x[ : : 2]:\n",
    "  print(i)"
   ]
  },
  {
   "cell_type": "code",
   "execution_count": null,
   "metadata": {
    "colab": {
     "base_uri": "https://localhost:8080/"
    },
    "id": "iFX5vvnrCHbS",
    "outputId": "1a5ce803-79ca-4d4e-edb3-d170158dbc49"
   },
   "outputs": [
    {
     "name": "stdout",
     "output_type": "stream",
     "text": [
      "10\n",
      "16\n",
      "22\n",
      "28\n",
      "34\n"
     ]
    }
   ],
   "source": [
    "# Practice\n",
    "\n",
    "x = range(100)\n",
    "for i in x[10:40:6]:\n",
    "  print(i)"
   ]
  },
  {
   "cell_type": "code",
   "execution_count": null,
   "metadata": {
    "colab": {
     "base_uri": "https://localhost:8080/",
     "height": 37
    },
    "id": "kevRakt8Chg9",
    "outputId": "57246c60-bf86-4cbf-c156-6133ec453fe9"
   },
   "outputs": [
    {
     "data": {
      "application/vnd.google.colaboratory.intrinsic+json": {
       "type": "string"
      },
      "text/plain": [
       "'iynaiN ma I'"
      ]
     },
     "execution_count": 37,
     "metadata": {},
     "output_type": "execute_result"
    }
   ],
   "source": [
    "# 延伸：真正用法在於NLP（ Nature Language Processing ) AI三大主軸-->影像、語音、語言\n",
    "\n",
    "sentence = 'I am Nianyi'\n",
    "sentence[ : :-1]"
   ]
  },
  {
   "cell_type": "markdown",
   "metadata": {
    "id": "-E80Tb1IFrtG"
   },
   "source": [
    "## 補充"
   ]
  },
  {
   "cell_type": "code",
   "execution_count": null,
   "metadata": {
    "colab": {
     "base_uri": "https://localhost:8080/"
    },
    "id": "NFsA6pzYMOpX",
    "outputId": "990248e7-6918-476c-cc97-9a68904036bc"
   },
   "outputs": [
    {
     "name": "stdout",
     "output_type": "stream",
     "text": [
      "0 0\n"
     ]
    }
   ],
   "source": [
    "# 預設變數\n",
    "\n",
    "def f0(c1 = 0, c2 = 0):\n",
    "  print(c1, c2)\n",
    "\n",
    "f0()"
   ]
  },
  {
   "cell_type": "code",
   "execution_count": null,
   "metadata": {
    "colab": {
     "base_uri": "https://localhost:8080/"
    },
    "id": "67PRBLbOMvFe",
    "outputId": "d9d463fa-8ff4-44a1-8bd0-6424eece607c"
   },
   "outputs": [
    {
     "name": "stdout",
     "output_type": "stream",
     "text": [
      "1 3\n"
     ]
    }
   ],
   "source": [
    "# 預設變數\n",
    "\n",
    "def f0(c1 = 0, c2 = 0):\n",
    "  print(c1, c2)\n",
    "\n",
    "f0(1, 3)"
   ]
  },
  {
   "cell_type": "code",
   "execution_count": null,
   "metadata": {
    "colab": {
     "base_uri": "https://localhost:8080/"
    },
    "id": "bV8K8YRyFuQB",
    "outputId": "6f95a62f-e624-463e-c0cb-2731d9939b0f"
   },
   "outputs": [
    {
     "name": "stdout",
     "output_type": "stream",
     "text": [
      "1 2 (3, 4, 5, 6)\n"
     ]
    }
   ],
   "source": [
    "# 輸入值變動\n",
    "# *c3 = tuple\n",
    "\n",
    "def f(c1, c2, *c3):\n",
    "  print(c1, c2, c3)\n",
    "\n",
    "f(1, 2, 3, 4, 5, 6)"
   ]
  },
  {
   "cell_type": "code",
   "execution_count": null,
   "metadata": {
    "colab": {
     "base_uri": "https://localhost:8080/"
    },
    "id": "tTrTENOjIsRU",
    "outputId": "25d4dbd9-1430-44b2-a97c-3705ff47277e"
   },
   "outputs": [
    {
     "data": {
      "text/plain": [
       "21"
      ]
     },
     "execution_count": 41,
     "metadata": {},
     "output_type": "execute_result"
    }
   ],
   "source": [
    "# How to do to sum\n",
    "\n",
    "def fsum(c1, c2, *c3):\n",
    "  return(c1 + c2 + sum(c3))\n",
    "\n",
    "fsum(1, 2, 3, 4, 5, 6)"
   ]
  },
  {
   "cell_type": "code",
   "execution_count": null,
   "metadata": {
    "colab": {
     "base_uri": "https://localhost:8080/"
    },
    "id": "iyS1bW6JKG2Q",
    "outputId": "c105e768-38d5-44b4-be77-4bfa8498a5e0"
   },
   "outputs": [
    {
     "name": "stdout",
     "output_type": "stream",
     "text": [
      "1 2 {'c3': 3, 'c4': 4, 'c5': 5, 'c6': 6}\n"
     ]
    }
   ],
   "source": [
    "# 輸入值變動\n",
    "# **c3 = dict\n",
    "\n",
    "def f2(c1, c2, **c3):\n",
    "  print(c1, c2, c3)\n",
    "\n",
    "f2(c1 = 1, c2 = 2, c3 = 3, c4 = 4, c5 = 5, c6 = 6)"
   ]
  },
  {
   "cell_type": "code",
   "execution_count": null,
   "metadata": {
    "colab": {
     "base_uri": "https://localhost:8080/",
     "height": 198
    },
    "id": "6zzoienSL8sC",
    "outputId": "314763c3-f4f6-4324-b829-6c718a68efe8"
   },
   "outputs": [
    {
     "ename": "TypeError",
     "evalue": "ignored",
     "output_type": "error",
     "traceback": [
      "\u001b[0;31m---------------------------------------------------------------------------\u001b[0m",
      "\u001b[0;31mTypeError\u001b[0m                                 Traceback (most recent call last)",
      "\u001b[0;32m<ipython-input-43-acb4b42ba451>\u001b[0m in \u001b[0;36m<module>\u001b[0;34m()\u001b[0m\n\u001b[1;32m      5\u001b[0m   \u001b[0mprint\u001b[0m\u001b[0;34m(\u001b[0m\u001b[0mc1\u001b[0m\u001b[0;34m,\u001b[0m \u001b[0mc2\u001b[0m\u001b[0;34m,\u001b[0m \u001b[0mc3\u001b[0m\u001b[0;34m)\u001b[0m\u001b[0;34m\u001b[0m\u001b[0;34m\u001b[0m\u001b[0m\n\u001b[1;32m      6\u001b[0m \u001b[0;34m\u001b[0m\u001b[0m\n\u001b[0;32m----> 7\u001b[0;31m \u001b[0mf2\u001b[0m\u001b[0;34m(\u001b[0m\u001b[0;36m1\u001b[0m\u001b[0;34m,\u001b[0m \u001b[0;36m2\u001b[0m\u001b[0;34m,\u001b[0m \u001b[0;36m3\u001b[0m\u001b[0;34m,\u001b[0m \u001b[0;36m4\u001b[0m\u001b[0;34m,\u001b[0m \u001b[0;36m5\u001b[0m\u001b[0;34m,\u001b[0m \u001b[0;36m6\u001b[0m\u001b[0;34m)\u001b[0m\u001b[0;34m\u001b[0m\u001b[0;34m\u001b[0m\u001b[0m\n\u001b[0m",
      "\u001b[0;31mTypeError\u001b[0m: f2() takes 2 positional arguments but 6 were given"
     ]
    }
   ],
   "source": [
    "# 輸入值變動：需使用key = value格式\n",
    "# **c3 = dict\n",
    "\n",
    "def f2(c1, c2, **c3):\n",
    "  print(c1, c2, c3)\n",
    "\n",
    "f2(1, 2, 3, 4, 5, 6)"
   ]
  },
  {
   "cell_type": "markdown",
   "metadata": {
    "id": "VZRgdksVdWTI"
   },
   "source": [
    "## 數值資料再思考\n",
    "#### 資料格式化"
   ]
  },
  {
   "cell_type": "code",
   "execution_count": null,
   "metadata": {
    "colab": {
     "base_uri": "https://localhost:8080/"
    },
    "id": "4PRvnUtNdeig",
    "outputId": "a0386e74-7be4-43c5-bdd2-d14fb9af5d1a"
   },
   "outputs": [
    {
     "name": "stdout",
     "output_type": "stream",
     "text": [
      "I am 20 years old\n"
     ]
    }
   ],
   "source": [
    "# str()\n",
    "# 如果使用加號將數字與文字合併，需使用str()\n",
    "\n",
    "age = 20\n",
    "print('I am ' + str(age) + ' years old')"
   ]
  },
  {
   "cell_type": "code",
   "execution_count": null,
   "metadata": {
    "colab": {
     "base_uri": "https://localhost:8080/"
    },
    "id": "zZN1a96deQEv",
    "outputId": "6c532aa3-a9c7-4b74-fc18-79509f8ce1c4"
   },
   "outputs": [
    {
     "name": "stdout",
     "output_type": "stream",
     "text": [
      "I am  20  years old\n"
     ]
    }
   ],
   "source": [
    "# 如果使用逗號則不需使用str()\n",
    "\n",
    "age = 20\n",
    "print('I am ', age, ' years old')"
   ]
  },
  {
   "cell_type": "code",
   "execution_count": null,
   "metadata": {
    "colab": {
     "base_uri": "https://localhost:8080/"
    },
    "id": "EGo3kmetfYwi",
    "outputId": "39f48f0a-18d6-4540-b9cc-42178c0227e3"
   },
   "outputs": [
    {
     "name": "stdout",
     "output_type": "stream",
     "text": [
      "I am 20 years old and will be 21 next year\n"
     ]
    }
   ],
   "source": [
    "# 輸出格式化 %d digit (以十進位方式輸出)\n",
    "\n",
    "age = 20\n",
    "print('I am %d years old and will be %d next year' %(age, age+1))"
   ]
  },
  {
   "cell_type": "code",
   "execution_count": null,
   "metadata": {
    "colab": {
     "base_uri": "https://localhost:8080/"
    },
    "id": "5R99tD1DhcrH",
    "outputId": "5c0d92ef-32a8-4082-fabd-78c38787be37"
   },
   "outputs": [
    {
     "name": "stdout",
     "output_type": "stream",
     "text": [
      "I am 20 years old and will be 21 next year\n"
     ]
    }
   ],
   "source": [
    "# 輸出格式化 .format()\n",
    "\n",
    "age = 20\n",
    "print('I am {} years old and will be {} next year'.format(age, age+1))"
   ]
  },
  {
   "cell_type": "code",
   "execution_count": null,
   "metadata": {
    "colab": {
     "base_uri": "https://localhost:8080/"
    },
    "id": "LJXCWJ9RjWb1",
    "outputId": "b18709ea-fbb8-4eeb-f44f-bda2e8c1d59c"
   },
   "outputs": [
    {
     "name": "stdout",
     "output_type": "stream",
     "text": [
      "The value of 20 convert to 24 and 14\n"
     ]
    }
   ],
   "source": [
    "# 轉換數值 %o(八進位)、%x(十六進位)\n",
    "\n",
    "age = 20\n",
    "print('The value of %d convert to %o and %x' %(age, age, age))"
   ]
  },
  {
   "cell_type": "code",
   "execution_count": null,
   "metadata": {
    "colab": {
     "base_uri": "https://localhost:8080/"
    },
    "id": "x2bfxv8-j_l3",
    "outputId": "97dbe5d2-35a1-4d49-dd17-e6a503e36bf8"
   },
   "outputs": [
    {
     "name": "stdout",
     "output_type": "stream",
     "text": [
      "My weight is 70.12\n"
     ]
    }
   ],
   "source": [
    "# %f : %與代碼之間可加入兩個整數，以n.m表示，代表資料輸出位數輸出位數\n",
    "# %5.2f = 小數點上面 5-2-1(.) = 2位, 小數點下面2位\n",
    "\n",
    "weight = 70.123\n",
    "print('My weight is %5.2f' %(weight))"
   ]
  },
  {
   "cell_type": "code",
   "execution_count": null,
   "metadata": {
    "colab": {
     "base_uri": "https://localhost:8080/"
    },
    "id": "8I3lRhcd5R_H",
    "outputId": "da44e83d-5b81-4dab-ec61-8ebedd621d0b"
   },
   "outputs": [
    {
     "name": "stdout",
     "output_type": "stream",
     "text": [
      "My weight is 70.12\n"
     ]
    }
   ],
   "source": [
    "# 承上例，不足夠也照常顯示\n",
    "# %3.2f = 小數點上面 3-2-1(.) = 0位, 小數點下面2位\n",
    "\n",
    "weight = 70.123\n",
    "print('My weight is %3.2f' %(weight))"
   ]
  },
  {
   "cell_type": "code",
   "execution_count": null,
   "metadata": {
    "colab": {
     "base_uri": "https://localhost:8080/"
    },
    "id": "YV2fskRi46YZ",
    "outputId": "f8d0a767-42ec-4b21-82e0-1b3d38a31307"
   },
   "outputs": [
    {
     "name": "stdout",
     "output_type": "stream",
     "text": [
      "My weight is 7.012300e+01\n"
     ]
    }
   ],
   "source": [
    "# %e : 科學記號\n",
    "\n",
    "weight = 70.123\n",
    "print('My weight is %e' %(weight))"
   ]
  },
  {
   "cell_type": "code",
   "execution_count": null,
   "metadata": {
    "colab": {
     "base_uri": "https://localhost:8080/"
    },
    "id": "aiVTc7sOog-b",
    "outputId": "2eebc8bf-e962-42ce-d474-73df27627c38"
   },
   "outputs": [
    {
     "name": "stdout",
     "output_type": "stream",
     "text": [
      "Are you Jean\n",
      "Are you [  Jean]\n",
      "Are you [Jean  ]\n"
     ]
    }
   ],
   "source": [
    "# %s : string\n",
    "# 留意正數為往右對齊、負數為往左對齊\n",
    "\n",
    "name = 'Jean'\n",
    "print('Are you %s' %(name))\n",
    "print('Are you [%6s]' %(name))\n",
    "print('Are you [%-6s]' %(name))"
   ]
  },
  {
   "cell_type": "code",
   "execution_count": null,
   "metadata": {
    "colab": {
     "base_uri": "https://localhost:8080/"
    },
    "id": "J1PhKaK0pvy6",
    "outputId": "47d3fcaf-56cb-4d5b-94e2-95793eec1826"
   },
   "outputs": [
    {
     "name": "stdout",
     "output_type": "stream",
     "text": [
      "Are you J\n"
     ]
    }
   ],
   "source": [
    "# %c : character\n",
    "\n",
    "name = 'J'\n",
    "print('Are you %c' %(name))"
   ]
  },
  {
   "cell_type": "code",
   "execution_count": null,
   "metadata": {
    "colab": {
     "base_uri": "https://localhost:8080/"
    },
    "id": "iOlB8nemzPSZ",
    "outputId": "f31431d4-c776-4fcf-ed7d-5df171b9b953"
   },
   "outputs": [
    {
     "name": "stdout",
     "output_type": "stream",
     "text": [
      "*我*\n",
      "*    我*\n",
      "*我    *\n",
      "* 我*\n"
     ]
    }
   ],
   "source": [
    "# Practice \n",
    "\n",
    "c = '我'\n",
    "print(\"*%c*\"   %(c))\n",
    "print(\"*%5s*\"  %(c))\n",
    "print(\"*%-5s*\" %(c))\n",
    "print(\"*%2s*\"  %(c))"
   ]
  },
  {
   "cell_type": "code",
   "execution_count": null,
   "metadata": {
    "colab": {
     "base_uri": "https://localhost:8080/"
    },
    "id": "8wY1uLSjwPoP",
    "outputId": "4c43541d-2f57-41cd-b370-e4aa6424cf1e"
   },
   "outputs": [
    {
     "name": "stdout",
     "output_type": "stream",
     "text": [
      "王念以\n"
     ]
    }
   ],
   "source": [
    "# 承上練習，%c真正用意可利用unicode編碼轉換成文字\n",
    "\n",
    "# 使用SQL查詢unicode\n",
    "# select unicode(N'王') # 29579\n",
    "# select unicode(N'念') # 24565\n",
    "# select unicode(N'以') # 20197\n",
    "\n",
    "print('%c%c%c' %(29579, 24565, 20197))"
   ]
  },
  {
   "cell_type": "markdown",
   "metadata": {},
   "source": [
    "#### 浮點數資料"
   ]
  },
  {
   "cell_type": "code",
   "execution_count": null,
   "metadata": {
    "colab": {
     "base_uri": "https://localhost:8080/"
    },
    "id": "hIeGvKtO1GWI",
    "outputId": "0f9a31a6-c7ed-4cf2-adb1-f60eabd34c7a"
   },
   "outputs": [
    {
     "name": "stdout",
     "output_type": "stream",
     "text": [
      "[123]\n",
      "[ 123.93]\n",
      "[123.9260 ]\n",
      "[123.93]\n"
     ]
    }
   ],
   "source": [
    "# Practice\n",
    "\n",
    "b = 123.926\n",
    "\n",
    "print(\"[%d]\"     % (b))\n",
    "print(\"[%7.2f]\"  % (b))\n",
    "print(\"[%-9.4f]\" % (b))\n",
    "print(\"[%.2f]\"   % (b))"
   ]
  },
  {
   "cell_type": "code",
   "execution_count": null,
   "metadata": {
    "colab": {
     "base_uri": "https://localhost:8080/"
    },
    "id": "8Qki7Da28Avh",
    "outputId": "563d99f0-0f99-4bce-97ca-24a02c7aaf77"
   },
   "outputs": [
    {
     "name": "stdout",
     "output_type": "stream",
     "text": [
      "*  23.46*\n"
     ]
    }
   ],
   "source": [
    "# Practice\n",
    "\n",
    "print('*%7.2f*' %(23.462))"
   ]
  },
  {
   "cell_type": "code",
   "execution_count": null,
   "metadata": {
    "id": "iMeHT2nYGmQy"
   },
   "outputs": [],
   "source": [
    "# 精準度問題\n",
    "\n",
    "from decimal import *"
   ]
  },
  {
   "cell_type": "code",
   "execution_count": null,
   "metadata": {
    "colab": {
     "base_uri": "https://localhost:8080/"
    },
    "id": "S440Y-VYHXyY",
    "outputId": "f580dc0c-575d-4ae6-d836-0b6b74d6b0d6"
   },
   "outputs": [
    {
     "name": "stdout",
     "output_type": "stream",
     "text": [
      "3.3000000000000003\n",
      "3.3\n",
      "5.551115123125783e-17\n",
      "0.0\n",
      "2.5\n",
      "2.50\n"
     ]
    }
   ],
   "source": [
    "# Practice\n",
    "# decimal-->pip、Decimal-->function\n",
    "\n",
    "from decimal import Decimal\n",
    "\n",
    "print(1.1 + 2.2)\n",
    "print(Decimal('1.1') + Decimal('2.2'))\n",
    "\n",
    "print(0.1 + 0.1 + 0.1 - 0.3)\n",
    "print(Decimal('0.1') + Decimal('0.1') + Decimal('0.1') - Decimal('0.3'))\n",
    "\n",
    "print(1.20 + 1.30)\n",
    "print(Decimal('1.20') + Decimal('1.30'))"
   ]
  },
  {
   "cell_type": "code",
   "execution_count": null,
   "metadata": {
    "colab": {
     "base_uri": "https://localhost:8080/"
    },
    "id": "NKSY1acMLLuv",
    "outputId": "ae7c64f6-2804-4294-9183-f7f52c0e7f9b"
   },
   "outputs": [
    {
     "name": "stdout",
     "output_type": "stream",
     "text": [
      "3.3000000000000003\n",
      "3.3\n"
     ]
    }
   ],
   "source": [
    "from decimal import Decimal\n",
    "\n",
    "print(1.1 + 2.2)\n",
    "print(Decimal('1.1') + Decimal('2.2'))"
   ]
  },
  {
   "cell_type": "code",
   "execution_count": null,
   "metadata": {
    "id": "K7-6hqMaTHw5"
   },
   "outputs": [],
   "source": [
    "# 補充：將以下自訂函數存成sample.py，並置於同資料夾內，方可使用此函數\n",
    "# import sample as spl\n",
    "# dir(spl) --> 列出所有function（可得multi、plus、minus）dir僅限WINDOWS使用\n",
    "# 最後可利用spl.multi、spl.plus、spl.minus得出結果\n",
    "\n",
    "def multi(a, b):\n",
    "    return(a * b)\n",
    "\n",
    "def plus(a, b):\n",
    "    return(a + b)\n",
    "\n",
    "def minus(a, b):\n",
    "    return(a - b)"
   ]
  },
  {
   "cell_type": "code",
   "execution_count": null,
   "metadata": {
    "colab": {
     "base_uri": "https://localhost:8080/"
    },
    "id": "hgbzPpmmV-xG",
    "outputId": "fa329884-8965-4408-e026-82d7a79a104b"
   },
   "outputs": [
    {
     "data": {
      "text/plain": [
       "(2, 4, 1)"
      ]
     },
     "execution_count": 43,
     "metadata": {},
     "output_type": "execute_result"
    }
   ],
   "source": [
    "def multi(a, b):\n",
    "    return(a * b)\n",
    "\n",
    "def plus(a, b):\n",
    "    return(a + b)\n",
    "\n",
    "def minus(a, b):\n",
    "    return(a - b)\n",
    "\n",
    "\n",
    "multi(1, 2), plus(2, 2), minus(3, 2)"
   ]
  },
  {
   "cell_type": "markdown",
   "metadata": {},
   "source": [
    "## 函數的變動傳遞\n",
    "#### 接收初始值設定"
   ]
  },
  {
   "cell_type": "code",
   "execution_count": null,
   "metadata": {
    "colab": {
     "base_uri": "https://localhost:8080/"
    },
    "id": "-WlkEZioKyIv",
    "outputId": "221fe065-2624-4221-db46-dbbdb4834809"
   },
   "outputs": [
    {
     "name": "stdout",
     "output_type": "stream",
     "text": [
      "Name:  50\n",
      "Age:  miki\n",
      "-----------\n",
      "Name:  may\n",
      "Age:  20\n",
      "-----------\n",
      "Name:  John\n",
      "Age:  20\n",
      "-----------\n",
      "Name:  300\n",
      "Age:  20\n",
      "-----------\n",
      "Name:  max\n",
      "Age:  45\n",
      "-----------\n"
     ]
    },
    {
     "data": {
      "text/plain": [
       "()"
      ]
     },
     "execution_count": 5,
     "metadata": {},
     "output_type": "execute_result"
    }
   ],
   "source": [
    "# Practice\n",
    "\n",
    "def printinfo(name = 'may', age = 20):\n",
    "    print('Name: ', name)\n",
    "    print('Age: ', age)\n",
    "    print('-----------')\n",
    "    return( )   # return可省略\n",
    "\n",
    "printinfo(50, 'miki')\n",
    "printinfo()\n",
    "printinfo('John')\n",
    "printinfo(300)\n",
    "printinfo('max', 45)"
   ]
  },
  {
   "cell_type": "code",
   "execution_count": null,
   "metadata": {
    "colab": {
     "base_uri": "https://localhost:8080/"
    },
    "id": "OzThXsc0LrYC",
    "outputId": "8ba89cb9-ef1f-4c58-b145-d1c245fad02a"
   },
   "outputs": [
    {
     "name": "stdout",
     "output_type": "stream",
     "text": [
      "Name:  may\n",
      "Age:  300\n",
      "-----------\n"
     ]
    }
   ],
   "source": [
    "# 承上例，建議寫成以下方式\n",
    "\n",
    "def printinfo(name = 'may', age = 20):\n",
    "    print('Name: ', name)\n",
    "    print('Age: ', age)\n",
    "    print('-----------')\n",
    "\n",
    "printinfo(age = 300)"
   ]
  },
  {
   "cell_type": "markdown",
   "metadata": {},
   "source": [
    "#### 不固定接收數量"
   ]
  },
  {
   "cell_type": "code",
   "execution_count": null,
   "metadata": {
    "colab": {
     "base_uri": "https://localhost:8080/"
    },
    "id": "6Pw236T2NpDd",
    "outputId": "a8d4b14b-71a8-40ea-deeb-e2537aed6fed"
   },
   "outputs": [
    {
     "name": "stdout",
     "output_type": "stream",
     "text": [
      "arg1: 1\n",
      "arg2: default\n",
      "arg1: 1\n",
      "arg2: 2\n",
      "arg1: 1\n",
      "arg2: 2\n",
      "each_arg: 3\n",
      "each_arg: 4\n"
     ]
    }
   ],
   "source": [
    "# Practice\n",
    "\n",
    "def fun3(arg1, arg2 = 'default', *arg3):\n",
    "    print(\"arg1:\", arg1)\n",
    "    print(\"arg2:\", arg2)\n",
    "    for each_arg in arg3:\n",
    "        print (\"each_arg:\", each_arg)\n",
    "fun3(1)\n",
    "fun3(1, 2)\n",
    "fun3(1, 2, 3, 4)"
   ]
  },
  {
   "cell_type": "code",
   "execution_count": null,
   "metadata": {
    "colab": {
     "base_uri": "https://localhost:8080/",
     "height": 130
    },
    "id": "8w4FT1O5PiBZ",
    "outputId": "5c6fa8a6-5c60-4b49-b118-0e31eb434a6a"
   },
   "outputs": [
    {
     "ename": "SyntaxError",
     "evalue": "ignored",
     "output_type": "error",
     "traceback": [
      "\u001b[0;36m  File \u001b[0;32m\"<ipython-input-2-8a3587cedd43>\"\u001b[0;36m, line \u001b[0;32m3\u001b[0m\n\u001b[0;31m    def fun3(arg2='default', arg1, *arg3):\u001b[0m\n\u001b[0m            ^\u001b[0m\n\u001b[0;31mSyntaxError\u001b[0m\u001b[0;31m:\u001b[0m non-default argument follows default argument\n"
     ]
    }
   ],
   "source": [
    "# 定義出錯\n",
    "\n",
    "def fun3(arg2='default', arg1, *arg3):\n",
    "    print('arg1:',arg1)\n",
    "    print('arg2:',arg2)\n",
    "    for each_arg in arg3:\n",
    "        print ('each_arg:', each_arg)\n"
   ]
  },
  {
   "cell_type": "code",
   "execution_count": null,
   "metadata": {
    "colab": {
     "base_uri": "https://localhost:8080/"
    },
    "id": "Fx7ho88Sc0YQ",
    "outputId": "3aa2098e-02cf-4bd4-c4fb-3e7a764d4f4a"
   },
   "outputs": [
    {
     "name": "stdout",
     "output_type": "stream",
     "text": [
      "arg2: default\n",
      "---A---\n",
      "arg2: 1\n",
      "---B---\n",
      "arg2: 1\n",
      "each_arg: 2\n",
      "---C---\n",
      "arg2: 1\n",
      "each_arg: 2\n",
      "each_arg: 3\n",
      "each_arg: 5\n"
     ]
    }
   ],
   "source": [
    "#Practice\n",
    "\n",
    "def fun3(arg2 = 'default', *arg3):\n",
    "    print('arg2:',arg2)\n",
    "    for each_arg in arg3:\n",
    "        print ('each_arg:', each_arg)\n",
    "        \n",
    "fun3()\n",
    "print('---A---')\n",
    "fun3(1)\n",
    "print('---B---')\n",
    "fun3(1, 2)\n",
    "print('---C---')\n",
    "fun3(1, 2, 3, 5)"
   ]
  },
  {
   "cell_type": "code",
   "execution_count": null,
   "metadata": {
    "colab": {
     "base_uri": "https://localhost:8080/"
    },
    "id": "f9B7P-nbeHLz",
    "outputId": "32f5632e-db57-48ee-94ed-fa308ea6201f"
   },
   "outputs": [
    {
     "name": "stdout",
     "output_type": "stream",
     "text": [
      "()\n",
      "---A---\n",
      "each_arg: 1\n",
      "(1,)\n",
      "---B---\n",
      "each_arg: 1\n",
      "each_arg: 2\n",
      "(1, 2)\n",
      "---C---\n",
      "each_arg: 1\n",
      "each_arg: 2\n",
      "each_arg: 3\n",
      "each_arg: 5\n",
      "(1, 2, 3, 5)\n"
     ]
    }
   ],
   "source": [
    "# Practice\n",
    "\n",
    "def fun3(*arg3):\n",
    "    for each_arg in arg3:\n",
    "        print ('each_arg:', each_arg)\n",
    "    print(arg3)\n",
    "\n",
    "fun3()\n",
    "print(\"---A---\")\n",
    "fun3(1)\n",
    "print(\"---B---\")\n",
    "fun3(1, 2)\n",
    "print(\"---C---\")\n",
    "fun3(1, 2, 3, 5)"
   ]
  },
  {
   "cell_type": "code",
   "execution_count": null,
   "metadata": {
    "colab": {
     "base_uri": "https://localhost:8080/"
    },
    "id": "bSW6Ygfce7RP",
    "outputId": "5209b808-d1c3-44dd-bcd5-b205c4ec925a"
   },
   "outputs": [
    {
     "name": "stdout",
     "output_type": "stream",
     "text": [
      "15\n"
     ]
    }
   ],
   "source": [
    "# Practice\n",
    "\n",
    "def fun3(arg1, arg2 = 300, *arg3):\n",
    "    sum = 0\n",
    "    sum += arg1\n",
    "    sum += arg2\n",
    "    for each_arg in arg3:\n",
    "        sum += each_arg\n",
    "    print(sum)\n",
    "    \n",
    "fun3(1, 2, 3, 4, 5)"
   ]
  },
  {
   "cell_type": "code",
   "execution_count": null,
   "metadata": {
    "colab": {
     "base_uri": "https://localhost:8080/"
    },
    "id": "wfJESNl6gE_D",
    "outputId": "2eea60ab-db4f-44c3-b9fd-023fa4df1de5"
   },
   "outputs": [
    {
     "name": "stdout",
     "output_type": "stream",
     "text": [
      "15\n"
     ]
    }
   ],
   "source": [
    "# 承上例，簡化寫法\n",
    "\n",
    "def fun3(arg1, arg2 = 300, *arg3):\n",
    "    print(arg1 + arg2 + sum(arg3))\n",
    "    \n",
    "fun3(1, 2, 3, 4, 5)"
   ]
  },
  {
   "cell_type": "code",
   "execution_count": null,
   "metadata": {
    "colab": {
     "base_uri": "https://localhost:8080/"
    },
    "id": "AnYzmKfdhmy7",
    "outputId": "df7bd83c-c140-41f1-85b2-ea29a30970e7"
   },
   "outputs": [
    {
     "name": "stdout",
     "output_type": "stream",
     "text": [
      "arg1: 1\n",
      "arg2: default\n",
      "arg1: 1\n",
      "arg2: 2\n",
      "arg1: 1\n",
      "arg2: 2\n",
      "a => b\n"
     ]
    }
   ],
   "source": [
    "# Alternative\n",
    "\n",
    "def fun4(arg1, arg2 = 'default', **arg4 ):\n",
    "    print('arg1:', arg1)\n",
    "    print('arg2:', arg2)\n",
    "    for a4 in arg4.items():\n",
    "        print(a4[0], '=>', a4[1])\n",
    "\n",
    "fun4(1)\n",
    "fun4(1, 2)\n",
    "fun4(1, 2, a = \"b\")"
   ]
  },
  {
   "cell_type": "markdown",
   "metadata": {},
   "source": [
    "## HW：回文偵測"
   ]
  },
  {
   "cell_type": "code",
   "execution_count": null,
   "metadata": {
    "colab": {
     "base_uri": "https://localhost:8080/"
    },
    "id": "vLtly4h2lLdN",
    "outputId": "ebe9c5b6-ebc2-4809-b6f9-e2e86f332e34"
   },
   "outputs": [
    {
     "name": "stdout",
     "output_type": "stream",
     "text": [
      "請輸入文字 0 結束69\n",
      "請輸入文字 0 結束23\n",
      "請輸入文字 0 結束0\n",
      "謝謝，歡迎再回來\n"
     ]
    }
   ],
   "source": [
    "# STEP1（確認基本架構是可以結束迴圈）\n",
    "# 1.輸入多個字串為list清單\n",
    "# 2.list清單的每個資料進行分析，判斷是否為回文\n",
    "# 3.回文是指從頭到尾與從尾到頭都是一樣的內容\n",
    "\n",
    "word = input('請輸入文字 0 結束')\n",
    "\n",
    "while True:\n",
    "    if word == '0':\n",
    "        break\n",
    "        \n",
    "    word = input('請輸入文字 0 結束')\n",
    "    \n",
    "print('謝謝，歡迎再回來')"
   ]
  },
  {
   "cell_type": "code",
   "execution_count": null,
   "metadata": {
    "colab": {
     "base_uri": "https://localhost:8080/"
    },
    "id": "hgRX69NCmvnH",
    "outputId": "6eb8b035-ffb5-4055-992c-b4ffa4adda09"
   },
   "outputs": [
    {
     "name": "stdout",
     "output_type": "stream",
     "text": [
      "請輸入文字 0 結束6996\n",
      "請輸入文字 0 結束77\n",
      "請輸入文字 0 結束5\n",
      "請輸入文字 0 結束0\n",
      "謝謝 歡迎再回來\n",
      "['6996', '77', '5']\n"
     ]
    }
   ],
   "source": [
    "# STEP2（加入判斷是否為回文）\n",
    "\n",
    "ans  = [] # 正確答案\n",
    "word = input('請輸入文字 0 結束')\n",
    "\n",
    "while True:\n",
    "    if word == '0':\n",
    "        break\n",
    "    # 判斷從頭到尾==從尾到頭\n",
    "    if word == word[::-1]:\n",
    "        ans.append(word)\n",
    "    \n",
    "    word = input('請輸入文字 0 結束')\n",
    "    \n",
    "print('謝謝 歡迎再回來')    \n",
    "print(ans)"
   ]
  }
 ],
 "metadata": {
  "colab": {
   "authorship_tag": "ABX9TyPPy9Z/Xbi16EOwEBBvDQ3+",
   "collapsed_sections": [],
   "name": "Day06-20210603-數值與函數進階運用.ipynb",
   "provenance": []
  },
  "kernelspec": {
   "display_name": "Python 3",
   "language": "python",
   "name": "python3"
  },
  "language_info": {
   "codemirror_mode": {
    "name": "ipython",
    "version": 3
   },
   "file_extension": ".py",
   "mimetype": "text/x-python",
   "name": "python",
   "nbconvert_exporter": "python",
   "pygments_lexer": "ipython3",
   "version": "3.7.10"
  }
 },
 "nbformat": 4,
 "nbformat_minor": 1
}
