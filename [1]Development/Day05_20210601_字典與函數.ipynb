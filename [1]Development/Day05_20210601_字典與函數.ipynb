{
 "cells": [
  {
   "cell_type": "markdown",
   "metadata": {
    "id": "oP00rkVZtSGs"
   },
   "source": [
    "## 字典介紹與操作\n",
    "#### key與value"
   ]
  },
  {
   "cell_type": "code",
   "execution_count": null,
   "metadata": {
    "colab": {
     "base_uri": "https://localhost:8080/"
    },
    "id": "PuVkyqR7koDJ",
    "outputId": "7eb142b8-e877-4739-f7c8-1c2cfff3c0b4"
   },
   "outputs": [
    {
     "name": "stdout",
     "output_type": "stream",
     "text": [
      "請輸入學生姓名 Lucy\n",
      "100\n"
     ]
    }
   ],
   "source": [
    "# 查找_list\n",
    "\n",
    "names = ['Jean', 'Lucy', 'Kuku', 'Mia']\n",
    "scores = [0, 100, 99, 98]\n",
    "\n",
    "n = input('請輸入學生姓名 ')\n",
    "\n",
    "if names.count(n) > 0:\n",
    "  pos = names.index(n)\n",
    "  print(scores[pos])"
   ]
  },
  {
   "cell_type": "code",
   "execution_count": null,
   "metadata": {
    "colab": {
     "base_uri": "https://localhost:8080/"
    },
    "id": "1nH-OnKoKiQ6",
    "outputId": "3e725d46-f5aa-42c4-96f3-a9a4ce949c1f"
   },
   "outputs": [
    {
     "name": "stdout",
     "output_type": "stream",
     "text": [
      "請輸入學生姓名 Mia\n"
     ]
    },
    {
     "data": {
      "text/plain": [
       "98"
      ]
     },
     "execution_count": 4,
     "metadata": {
      "tags": []
     },
     "output_type": "execute_result"
    }
   ],
   "source": [
    "# 查找_dict = {key:value, key:value...}\n",
    "\n",
    "students= {'Jean':0, 'Lucy':100, 'Kuku':99, 'Mia':98}\n",
    "n = input('請輸入學生姓名 ')\n",
    "students[n]"
   ]
  },
  {
   "cell_type": "code",
   "execution_count": null,
   "metadata": {
    "colab": {
     "base_uri": "https://localhost:8080/"
    },
    "id": "24R_pNHuMsYY",
    "outputId": "f5bab749-f72f-4944-d3af-e0be296e7ffb"
   },
   "outputs": [
    {
     "name": "stdout",
     "output_type": "stream",
     "text": [
      "請輸入學生姓名 Huhu\n"
     ]
    }
   ],
   "source": [
    "# dictionary查找_使用get：資料內沒有則搜尋不到\n",
    "\n",
    "students = {'Jean':0, 'Lucy':100, 'Kuku':99, 'Mia':98}\n",
    "n = input('請輸入學生姓名 ')\n",
    "students.get(n)"
   ]
  },
  {
   "cell_type": "code",
   "execution_count": null,
   "metadata": {
    "colab": {
     "base_uri": "https://localhost:8080/"
    },
    "id": "-7Bs4LE6ax9f",
    "outputId": "b096db92-a993-46b1-eef2-0645e49cf27a"
   },
   "outputs": [
    {
     "data": {
      "text/plain": [
       "{'Jean': 98, 'Kuku': 99, 'Lucy': 100}"
      ]
     },
     "execution_count": 9,
     "metadata": {
      "tags": []
     },
     "output_type": "execute_result"
    }
   ],
   "source": [
    "# 當key重複，後方data會蓋掉前方\n",
    "\n",
    "students = {'Jean':0, 'Lucy':100, 'Kuku':99, 'Jean':98}\n",
    "students"
   ]
  },
  {
   "cell_type": "code",
   "execution_count": null,
   "metadata": {
    "colab": {
     "base_uri": "https://localhost:8080/",
     "height": 283
    },
    "id": "W4TJ7zEDOV9h",
    "outputId": "b5481950-1a22-4507-c52a-9521553b95e9"
   },
   "outputs": [
    {
     "name": "stdout",
     "output_type": "stream",
     "text": [
      "{'a': 100, 'b': 200, 'c': 300}\n",
      "{'a': 100, 'b': 400, 'c': 300}\n",
      "100\n",
      "400\n",
      "None\n"
     ]
    },
    {
     "ename": "KeyError",
     "evalue": "ignored",
     "output_type": "error",
     "traceback": [
      "\u001b[0;31m---------------------------------------------------------------------------\u001b[0m",
      "\u001b[0;31mKeyError\u001b[0m                                  Traceback (most recent call last)",
      "\u001b[0;32m<ipython-input-23-d4ecfbbc32aa>\u001b[0m in \u001b[0;36m<module>\u001b[0;34m()\u001b[0m\n\u001b[1;32m      8\u001b[0m \u001b[0mprint\u001b[0m\u001b[0;34m(\u001b[0m\u001b[0mdata\u001b[0m\u001b[0;34m[\u001b[0m\u001b[0;34m'b'\u001b[0m\u001b[0;34m]\u001b[0m\u001b[0;34m)\u001b[0m\u001b[0;34m\u001b[0m\u001b[0;34m\u001b[0m\u001b[0m\n\u001b[1;32m      9\u001b[0m \u001b[0mprint\u001b[0m\u001b[0;34m(\u001b[0m\u001b[0mdata\u001b[0m\u001b[0;34m.\u001b[0m\u001b[0mget\u001b[0m\u001b[0;34m(\u001b[0m\u001b[0;34m'd'\u001b[0m\u001b[0;34m)\u001b[0m\u001b[0;34m)\u001b[0m\u001b[0;34m\u001b[0m\u001b[0;34m\u001b[0m\u001b[0m\n\u001b[0;32m---> 10\u001b[0;31m \u001b[0mprint\u001b[0m\u001b[0;34m(\u001b[0m\u001b[0mdata\u001b[0m\u001b[0;34m[\u001b[0m\u001b[0;34m'd'\u001b[0m\u001b[0;34m]\u001b[0m\u001b[0;34m)\u001b[0m \u001b[0;31m# 建議使用get不會出現錯誤\u001b[0m\u001b[0;34m\u001b[0m\u001b[0;34m\u001b[0m\u001b[0m\n\u001b[0m",
      "\u001b[0;31mKeyError\u001b[0m: 'd'"
     ]
    }
   ],
   "source": [
    "# Practice\n",
    "\n",
    "data = {'a':100, 'b':200, 'c':300}\n",
    "print(data)\n",
    "data = {'a':100, 'b':400, 'c':300}\n",
    "print(data)\n",
    "print(data['a'])\n",
    "print(data['b'])\n",
    "print(data.get('d'))\n",
    "print(data['d']) # 建議使用get不會出現錯誤"
   ]
  },
  {
   "cell_type": "code",
   "execution_count": null,
   "metadata": {
    "colab": {
     "base_uri": "https://localhost:8080/"
    },
    "id": "zdYbv761ek4B",
    "outputId": "0f5dc964-f622-40f5-a312-4fba1154fc1f"
   },
   "outputs": [
    {
     "name": "stdout",
     "output_type": "stream",
     "text": [
      "dict_keys(['Jean', 'Lucy', 'Kuku', 'Mia']) dict_values([0, 100, 99, 98])\n",
      "['Jean', 'Lucy', 'Kuku', 'Mia'] [0, 100, 99, 98]\n"
     ]
    }
   ],
   "source": [
    "# 使用.keys()、.values()找出key、value\n",
    "\n",
    "students = {'Jean':0, 'Lucy':100, 'Kuku':99, 'Mia':98}\n",
    "\n",
    "print(students.keys(), students.values())\n",
    "print(list(students.keys()), list(students.values())) # 轉換list"
   ]
  },
  {
   "cell_type": "markdown",
   "metadata": {
    "id": "HhKbGpuduYO_"
   },
   "source": [
    "#### 字典新增與修改"
   ]
  },
  {
   "cell_type": "code",
   "execution_count": null,
   "metadata": {
    "colab": {
     "base_uri": "https://localhost:8080/"
    },
    "id": "EPeEbY7AgWMG",
    "outputId": "e97ba73e-1569-44c6-d244-b8dcdb720ee5"
   },
   "outputs": [
    {
     "data": {
      "text/plain": [
       "{'Huhu': 97, 'Jean': 0, 'Kuku': 99, 'Lucy': 100, 'Mia': 98}"
      ]
     },
     "execution_count": 20,
     "metadata": {
      "tags": []
     },
     "output_type": "execute_result"
    }
   ],
   "source": [
    "# update用法：data內沒有就新增\n",
    "\n",
    "students = {'Jean':0, 'Lucy':100, 'Kuku':99, 'Mia':98}\n",
    "students.update({'Huhu':97})\n",
    "students"
   ]
  },
  {
   "cell_type": "code",
   "execution_count": null,
   "metadata": {
    "colab": {
     "base_uri": "https://localhost:8080/"
    },
    "id": "vgA6I4_ZjP2m",
    "outputId": "994dde93-a73f-46f3-9cde-8f9ba5e71b48"
   },
   "outputs": [
    {
     "data": {
      "text/plain": [
       "{'Jean': 0, 'Kuku': 99, 'Lucy': 100, 'Mia': 99}"
      ]
     },
     "execution_count": 21,
     "metadata": {
      "tags": []
     },
     "output_type": "execute_result"
    }
   ],
   "source": [
    "# update用法：data內沒有就更新\n",
    "\n",
    "students = {'Jean':0, 'Lucy':100, 'Kuku':99, 'Mia':98}\n",
    "students.update({'Mia':99})\n",
    "students"
   ]
  },
  {
   "cell_type": "code",
   "execution_count": null,
   "metadata": {
    "colab": {
     "base_uri": "https://localhost:8080/"
    },
    "id": "KXZwoQBRjihD",
    "outputId": "2537f0b6-1ea0-4b48-c8bf-083208c04096"
   },
   "outputs": [
    {
     "name": "stdout",
     "output_type": "stream",
     "text": [
      "{'a': 100, 'b': 200, 'c': 300}\n",
      "{'a': 100, 'b': 200, 'c': 300, 'd': 400}\n"
     ]
    }
   ],
   "source": [
    "# Practice\n",
    "\n",
    "data = {'a':100, 'b':200, 'c':300}\n",
    "print(data)\n",
    "add_dic = {'d':400}\n",
    "data.update(add_dic)\n",
    "print(data)"
   ]
  },
  {
   "cell_type": "code",
   "execution_count": null,
   "metadata": {
    "colab": {
     "base_uri": "https://localhost:8080/"
    },
    "id": "Uwl5wuAMnFbW",
    "outputId": "5f822831-869c-4ed3-d592-98345e38661f"
   },
   "outputs": [
    {
     "data": {
      "text/plain": [
       "{'a': 100, 'b': 500, 'c': 300}"
      ]
     },
     "execution_count": 25,
     "metadata": {
      "tags": []
     },
     "output_type": "execute_result"
    }
   ],
   "source": [
    "# Practice：簡易“更新”\n",
    "\n",
    "data = {'a':100, 'b':200, 'c':300}\n",
    "data['b'] = 500\n",
    "data"
   ]
  },
  {
   "cell_type": "code",
   "execution_count": null,
   "metadata": {
    "colab": {
     "base_uri": "https://localhost:8080/"
    },
    "id": "i-ue-8gGn8pe",
    "outputId": "3ea9d396-b358-437f-fa49-a7c0607fdfb9"
   },
   "outputs": [
    {
     "data": {
      "text/plain": [
       "{'a': 100, 'b': 200, 'c': 300, 'd': 500}"
      ]
     },
     "execution_count": 26,
     "metadata": {
      "tags": []
     },
     "output_type": "execute_result"
    }
   ],
   "source": [
    "# Practice：簡易“新增”\n",
    "\n",
    "data = {'a':100, 'b':200, 'c':300}\n",
    "data['d'] = 500\n",
    "data"
   ]
  },
  {
   "cell_type": "code",
   "execution_count": null,
   "metadata": {
    "colab": {
     "base_uri": "https://localhost:8080/"
    },
    "id": "YR6XXnbroXwY",
    "outputId": "77b382d7-45a6-486f-806f-f407df347ff4"
   },
   "outputs": [
    {
     "data": {
      "text/plain": [
       "{'Jean': 0, 'Kuku': 99, 'Lucy': 100, 'Mia': 98}"
      ]
     },
     "execution_count": 32,
     "metadata": {
      "tags": []
     },
     "output_type": "execute_result"
    }
   ],
   "source": [
    "# 兩個list組合成dict_a\n",
    "\n",
    "names = ['Jean', 'Lucy', 'Kuku', 'Mia']\n",
    "scores = [0, 100, 99, 98]\n",
    "students = {}\n",
    "\n",
    "for i in range(len(names)):\n",
    "  #print(names[i], scores[i])\n",
    "  students[names[i]] = scores[i]\n",
    "\n",
    "students"
   ]
  },
  {
   "cell_type": "code",
   "execution_count": null,
   "metadata": {
    "colab": {
     "base_uri": "https://localhost:8080/"
    },
    "id": "9orWLruWrtWd",
    "outputId": "27c73997-0597-4678-b7ef-d1274ffecd1d"
   },
   "outputs": [
    {
     "name": "stdout",
     "output_type": "stream",
     "text": [
      "('Jean', 0)\n",
      "('Lucy', 100)\n",
      "('Kuku', 99)\n",
      "('Mia', 98)\n"
     ]
    }
   ],
   "source": [
    "# zip用法\n",
    "# zip是兩個數值輸出\n",
    "# dict([(k:v, k:v, k:v)])\n",
    "\n",
    "for j in zip(names, scores):\n",
    "  print(j)"
   ]
  },
  {
   "cell_type": "code",
   "execution_count": null,
   "metadata": {
    "colab": {
     "base_uri": "https://localhost:8080/"
    },
    "id": "p8eL_-Ta7aKg",
    "outputId": "183e7eab-e694-4e02-9e33-bbfbf4898e36"
   },
   "outputs": [
    {
     "name": "stdout",
     "output_type": "stream",
     "text": [
      "('Jean', 0)\n",
      "('Lucy', 100)\n",
      "('Kuku', 99)\n",
      "('Mia', 98)\n"
     ]
    },
    {
     "data": {
      "text/plain": [
       "{'Jean': 0, 'Kuku': 99, 'Lucy': 100, 'Mia': 98}"
      ]
     },
     "execution_count": 8,
     "metadata": {},
     "output_type": "execute_result"
    }
   ],
   "source": [
    "# 兩個list組合成dict_b\n",
    "\n",
    "names = ['Jean', 'Lucy', 'Kuku', 'Mia']\n",
    "scores = [0, 100, 99, 98]\n",
    "students = {}\n",
    "\n",
    "for i in zip(names, scores):\n",
    "  print(i)\n",
    "  students[i[0]] = i[1]\n",
    "\n",
    "students"
   ]
  },
  {
   "cell_type": "code",
   "execution_count": null,
   "metadata": {
    "colab": {
     "base_uri": "https://localhost:8080/"
    },
    "id": "9op7aATKusAU",
    "outputId": "7bccf6c9-4dd4-4bb3-c558-029f238d2e2e"
   },
   "outputs": [
    {
     "data": {
      "text/plain": [
       "{'Jean': 0, 'Kuku': 99, 'Lucy': 100, 'Mia': 98}"
      ]
     },
     "execution_count": 34,
     "metadata": {
      "tags": []
     },
     "output_type": "execute_result"
    }
   ],
   "source": [
    "# 兩個list組合成dict_c\n",
    "# 接續上述，使用list comprehension\n",
    "\n",
    "dict(j for j in zip(names, scores))"
   ]
  },
  {
   "cell_type": "code",
   "execution_count": null,
   "metadata": {
    "colab": {
     "base_uri": "https://localhost:8080/"
    },
    "id": "DgODCrq7vL8v",
    "outputId": "7385ab64-65a1-452e-9e73-6898febe6397"
   },
   "outputs": [
    {
     "data": {
      "text/plain": [
       "{0: 'Jean', 98: 'Mia', 99: 'Kuku', 100: 'Lucy'}"
      ]
     },
     "execution_count": 5,
     "metadata": {},
     "output_type": "execute_result"
    }
   ],
   "source": [
    "# 兩個list組合成dict_d\n",
    "# 倒著寫成dict([(v:k, v:k, v:k)])\n",
    "\n",
    "names = ['Jean', 'Lucy', 'Kuku', 'Mia']\n",
    "scores = [0, 100, 99, 98]\n",
    "\n",
    "dict([(j[1],j[0]) for j in zip(names, scores)])"
   ]
  },
  {
   "cell_type": "markdown",
   "metadata": {
    "id": "a0Mf5tC3uA9N"
   },
   "source": [
    "#### 字典的刪除方式"
   ]
  },
  {
   "cell_type": "code",
   "execution_count": null,
   "metadata": {
    "colab": {
     "base_uri": "https://localhost:8080/"
    },
    "id": "VzSob-un7LlO",
    "outputId": "54d43262-3704-42a9-8179-d283d39e0027"
   },
   "outputs": [
    {
     "data": {
      "text/plain": [
       "{'Kuku': 97, 'Lucy': 98, 'Mia': 96, 'Nian': 99}"
      ]
     },
     "execution_count": 11,
     "metadata": {},
     "output_type": "execute_result"
    }
   ],
   "source": [
    "# del刪除資料\n",
    "\n",
    "students = {'Jean':99, 'Lucy':98, 'Kuku':97, 'Mia':96}\n",
    "del(students['Jean'])\n",
    "students['Nian'] = 99\n",
    "students"
   ]
  },
  {
   "cell_type": "code",
   "execution_count": null,
   "metadata": {
    "colab": {
     "base_uri": "https://localhost:8080/"
    },
    "id": "3375qevM_1nx",
    "outputId": "70bbc621-58c2-4de2-d505-8291ac97d728"
   },
   "outputs": [
    {
     "data": {
      "text/plain": [
       "False"
      ]
     },
     "execution_count": 12,
     "metadata": {},
     "output_type": "execute_result"
    }
   ],
   "source": [
    "# key的判斷：dict，回傳True or False\n",
    "\n",
    "students = {'Jean':99, 'Lucy':98, 'Kuku':97, 'Mia':96}\n",
    "'Huhu' in students.keys()"
   ]
  },
  {
   "cell_type": "code",
   "execution_count": null,
   "metadata": {
    "colab": {
     "base_uri": "https://localhost:8080/"
    },
    "id": "SJIqffByES0l",
    "outputId": "7fdf4f8e-9cbf-4e90-9f3d-e0b4287a3c5e"
   },
   "outputs": [
    {
     "data": {
      "text/plain": [
       "False"
      ]
     },
     "execution_count": 13,
     "metadata": {},
     "output_type": "execute_result"
    }
   ],
   "source": [
    "# key的判斷：list，回傳True or False\n",
    "\n",
    "students = ['Jean', 'Lucy', 'Kuku', 'Mia']\n",
    "'Huhu' in students"
   ]
  },
  {
   "cell_type": "code",
   "execution_count": null,
   "metadata": {
    "colab": {
     "base_uri": "https://localhost:8080/"
    },
    "id": "ePszB0stGf8L",
    "outputId": "98984a3a-3f75-4ac0-fa22-2771a796812c"
   },
   "outputs": [
    {
     "name": "stdout",
     "output_type": "stream",
     "text": [
      "False\n"
     ]
    }
   ],
   "source": [
    "# Practice：使用del刪除某個key\n",
    "\n",
    "data = {'a':100, 'b':200, 'c':300}\n",
    "del data['a']\n",
    "print('a' in data.keys())"
   ]
  },
  {
   "cell_type": "code",
   "execution_count": null,
   "metadata": {
    "colab": {
     "base_uri": "https://localhost:8080/"
    },
    "id": "5SkgOUIwHYe9",
    "outputId": "41f6957a-c43e-41d6-c111-4d0f6593bd23"
   },
   "outputs": [
    {
     "name": "stdout",
     "output_type": "stream",
     "text": [
      "False\n",
      "{}\n"
     ]
    }
   ],
   "source": [
    "# Practice：使用clear清除所有內容\n",
    "\n",
    "data = {'a':100, 'b':200, 'c':300}\n",
    "data.clear()\n",
    "print('a' in data.keys())\n",
    "print(data)"
   ]
  },
  {
   "cell_type": "code",
   "execution_count": null,
   "metadata": {
    "colab": {
     "base_uri": "https://localhost:8080/",
     "height": 198
    },
    "id": "zN25LLo0I1cd",
    "outputId": "834cabb6-6e77-446c-d427-4055cc533cb6"
   },
   "outputs": [
    {
     "ename": "NameError",
     "evalue": "ignored",
     "output_type": "error",
     "traceback": [
      "\u001b[0;31m---------------------------------------------------------------------------\u001b[0m",
      "\u001b[0;31mNameError\u001b[0m                                 Traceback (most recent call last)",
      "\u001b[0;32m<ipython-input-18-3dbaa5a16bc0>\u001b[0m in \u001b[0;36m<module>\u001b[0;34m()\u001b[0m\n\u001b[1;32m      3\u001b[0m \u001b[0mdata\u001b[0m \u001b[0;34m=\u001b[0m \u001b[0;34m{\u001b[0m\u001b[0;34m'a'\u001b[0m\u001b[0;34m:\u001b[0m\u001b[0;36m100\u001b[0m\u001b[0;34m,\u001b[0m \u001b[0;34m'b'\u001b[0m\u001b[0;34m:\u001b[0m\u001b[0;36m200\u001b[0m\u001b[0;34m,\u001b[0m \u001b[0;34m'c'\u001b[0m\u001b[0;34m:\u001b[0m\u001b[0;36m300\u001b[0m\u001b[0;34m}\u001b[0m\u001b[0;34m\u001b[0m\u001b[0;34m\u001b[0m\u001b[0m\n\u001b[1;32m      4\u001b[0m \u001b[0;32mdel\u001b[0m \u001b[0mdata\u001b[0m\u001b[0;34m\u001b[0m\u001b[0;34m\u001b[0m\u001b[0m\n\u001b[0;32m----> 5\u001b[0;31m \u001b[0mprint\u001b[0m\u001b[0;34m(\u001b[0m\u001b[0mdata\u001b[0m\u001b[0;34m)\u001b[0m\u001b[0;34m\u001b[0m\u001b[0;34m\u001b[0m\u001b[0m\n\u001b[0m",
      "\u001b[0;31mNameError\u001b[0m: name 'data' is not defined"
     ]
    }
   ],
   "source": [
    "# Practice_使用del刪除dict\n",
    "# 變數已被刪除，因此輸出時出現錯誤\n",
    "\n",
    "data = {'a':100, 'b':200, 'c':300}\n",
    "del data\n",
    "print(data)"
   ]
  },
  {
   "cell_type": "code",
   "execution_count": null,
   "metadata": {
    "colab": {
     "base_uri": "https://localhost:8080/"
    },
    "id": "Om4RI9zYKOB1",
    "outputId": "4d033dc7-9330-4323-e380-33444d80da68"
   },
   "outputs": [
    {
     "name": "stdout",
     "output_type": "stream",
     "text": [
      "a\n",
      "b\n",
      "c\n",
      "-----\n",
      "100\n",
      "200\n",
      "300\n",
      "-----\n"
     ]
    }
   ],
   "source": [
    "# Practice\n",
    "\n",
    "data = {'a':100, 'b':200, 'c':300}\n",
    "\n",
    "for k in data.keys():\n",
    "  print(k)\n",
    "print('-----')\n",
    "for k in data.keys():\n",
    "  print(data[k])\n",
    "print('-----')"
   ]
  },
  {
   "cell_type": "code",
   "execution_count": null,
   "metadata": {
    "colab": {
     "base_uri": "https://localhost:8080/"
    },
    "id": "x8Vu3PvVOJnY",
    "outputId": "6c8464b8-02dd-4b35-8486-820c4a4682f6"
   },
   "outputs": [
    {
     "name": "stdout",
     "output_type": "stream",
     "text": [
      "R\n",
      "G\n",
      "B\n"
     ]
    }
   ],
   "source": [
    "# Practice：輸出key\n",
    "\n",
    "blue = {'R':0, 'G':0, 'B':255}\n",
    "\n",
    "for i in blue:\n",
    "  print(i)"
   ]
  },
  {
   "cell_type": "code",
   "execution_count": null,
   "metadata": {
    "colab": {
     "base_uri": "https://localhost:8080/"
    },
    "id": "5isjpNcTOymv",
    "outputId": "e6c8a3f2-d569-49f4-9eb2-fe11a9da5a5e"
   },
   "outputs": [
    {
     "name": "stdout",
     "output_type": "stream",
     "text": [
      "('R', 0)\n",
      "('G', 0)\n",
      "('B', 0)\n"
     ]
    }
   ],
   "source": [
    "# Practice\n",
    "# dict.items()輸出key、value\n",
    "\n",
    "black = {'R':0, 'G':0, 'B':0}\n",
    "\n",
    "for i in black.items():\n",
    "  print(i)"
   ]
  },
  {
   "cell_type": "code",
   "execution_count": null,
   "metadata": {
    "colab": {
     "base_uri": "https://localhost:8080/"
    },
    "id": "FkdwxAZbRJxw",
    "outputId": "d6ff7790-fa40-489d-e4f0-cc0ae0b52d10"
   },
   "outputs": [
    {
     "name": "stdout",
     "output_type": "stream",
     "text": [
      "255\n",
      "255\n",
      "255\n"
     ]
    }
   ],
   "source": [
    "# Practice：輸出value\n",
    "\n",
    "white = {'R':255, 'G':255, 'B':255}\n",
    "\n",
    "for i in white.values():\n",
    "  print(i)"
   ]
  },
  {
   "cell_type": "markdown",
   "metadata": {},
   "source": [
    "## HW：支出最大與最小"
   ]
  },
  {
   "cell_type": "code",
   "execution_count": null,
   "metadata": {
    "colab": {
     "base_uri": "https://localhost:8080/"
    },
    "id": "35u32BjXTDnx",
    "outputId": "c08a350a-32e6-4d19-e4fe-83e41498c538"
   },
   "outputs": [
    {
     "name": "stdout",
     "output_type": "stream",
     "text": [
      "請輸入第1個月的支出金額3000\n",
      "請輸入第2個月的支出金額4000\n",
      "請輸入第3個月的支出金額3500\n",
      "請輸入第4個月的支出金額7000\n"
     ]
    }
   ],
   "source": [
    "# 輸入四個月的支出金額後列出最多與最少的支出金額\n",
    "\n",
    "money = []\n",
    "for i in range(1,5):\n",
    "  m = input('請輸入第' + str(i) + '個月的支出金額')\n",
    "  money.append(int(m))"
   ]
  },
  {
   "cell_type": "code",
   "execution_count": null,
   "metadata": {
    "colab": {
     "base_uri": "https://localhost:8080/"
    },
    "id": "um5X8wjL_oXe",
    "outputId": "7c71f50c-64ed-4abc-d11a-e824cc24e71c"
   },
   "outputs": [
    {
     "name": "stdout",
     "output_type": "stream",
     "text": [
      "支出最多的金額為： 7000\n",
      "支出最少的金額為： 3000\n",
      "支出的總額為： 17500\n",
      "支出金額由小到大排序為： [3000, 3500, 4000, 7000]\n"
     ]
    }
   ],
   "source": [
    "print('支出最多的金額為：', max(money))\n",
    "print('支出最少的金額為：', min(money))\n",
    "print('支出的總額為：', sum(money))\n",
    "print('支出金額由小到大排序為：', sorted(money))"
   ]
  }
 ],
 "metadata": {
  "colab": {
   "authorship_tag": "ABX9TyNQoFAxfGBDrLh8+cKXTVRS",
   "collapsed_sections": [],
   "name": "Day05-20210601-字典與函數.ipynb",
   "provenance": []
  },
  "kernelspec": {
   "display_name": "Python 3",
   "language": "python",
   "name": "python3"
  },
  "language_info": {
   "codemirror_mode": {
    "name": "ipython",
    "version": 3
   },
   "file_extension": ".py",
   "mimetype": "text/x-python",
   "name": "python",
   "nbconvert_exporter": "python",
   "pygments_lexer": "ipython3",
   "version": "3.7.10"
  }
 },
 "nbformat": 4,
 "nbformat_minor": 1
}
