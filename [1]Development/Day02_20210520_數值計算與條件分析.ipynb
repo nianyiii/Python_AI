{
 "cells": [
  {
   "cell_type": "markdown",
   "metadata": {
    "id": "H9my-h-Kng_f"
   },
   "source": [
    "## 環境與輸入計算\n",
    "#### 資料輸入"
   ]
  },
  {
   "cell_type": "code",
   "execution_count": null,
   "metadata": {
    "colab": {
     "base_uri": "https://localhost:8080/"
    },
    "id": "vH2kjhZy236V",
    "outputId": "57e03693-d48f-4951-8a56-5d0d20b5fd2a"
   },
   "outputs": [
    {
     "name": "stdout",
     "output_type": "stream",
     "text": [
      "你的名字是? Jean\n",
      "My name is Jean\n"
     ]
    }
   ],
   "source": [
    "# \"input\" 代表資料輸入\n",
    "\n",
    "name = input('你的名字是? ')\n",
    "print('My name is', name)"
   ]
  },
  {
   "cell_type": "code",
   "execution_count": null,
   "metadata": {
    "colab": {
     "base_uri": "https://localhost:8080/"
    },
    "id": "Gf7rMKXc4xXm",
    "outputId": "5ca537bf-4808-4810-84d4-e3a8ff33a2d6"
   },
   "outputs": [
    {
     "name": "stdout",
     "output_type": "stream",
     "text": [
      "你的年紀是? 29\n",
      "My age is 29 生於 1991\n"
     ]
    }
   ],
   "source": [
    "# Practice\n",
    "\n",
    "age = input('你的年紀是? ')\n",
    "print('My age is ' + age + ' 生於', 2021-30)"
   ]
  },
  {
   "cell_type": "code",
   "execution_count": null,
   "metadata": {
    "colab": {
     "base_uri": "https://localhost:8080/"
    },
    "id": "xG4fkpal50GE",
    "outputId": "27726756-d2be-4f6a-b547-290e1a598596"
   },
   "outputs": [
    {
     "name": "stdout",
     "output_type": "stream",
     "text": [
      "你的年紀是? 30\n",
      "My age is 30 生於 1991\n"
     ]
    }
   ],
   "source": [
    "# 同上範例，帶入age變數\n",
    "\n",
    "age = input('你的年紀是? ')\n",
    "print('My age is ' + age + ' 生於', 2021-int(age))"
   ]
  },
  {
   "cell_type": "code",
   "execution_count": null,
   "metadata": {
    "colab": {
     "base_uri": "https://localhost:8080/"
    },
    "id": "udPA-DU4iQYk",
    "outputId": "68132b93-56cd-49d7-f8ee-143e96fa6636"
   },
   "outputs": [
    {
     "name": "stdout",
     "output_type": "stream",
     "text": [
      "輸入整數1a: 55\n",
      "輸入整數1b: 66\n",
      "int輸入c:12\n",
      "int輸入d:21\n",
      "5566\n",
      "33\n"
     ]
    }
   ],
   "source": [
    "# Practice\n",
    "\n",
    "a = input(\"輸入整數1a: \") # string\n",
    "b = input(\"輸入整數1b: \") # string\n",
    "c = int(input(\"int輸入c:\")) # string --> int\n",
    "d = int(input(\"int輸入d:\")) # string --> int\n",
    "f = a + b # 字串串接\n",
    "g = c + d # 數字加法\n",
    "print(f)\n",
    "print(g)\n"
   ]
  },
  {
   "cell_type": "code",
   "execution_count": null,
   "metadata": {
    "colab": {
     "base_uri": "https://localhost:8080/"
    },
    "id": "DALVZS7_kugk",
    "outputId": "a8a99ba8-931f-4432-8848-2bfbc290278e"
   },
   "outputs": [
    {
     "name": "stdout",
     "output_type": "stream",
     "text": [
      "int輸入c:29\n",
      "int輸入d:29\n",
      "Int相加: 58\n",
      "float輸入h:16\n",
      "float輸入i:16\n",
      "Float相加: 45.0\n"
     ]
    }
   ],
   "source": [
    "# Practice\n",
    "\n",
    "c = int(input(\"int輸入c:\")) # string --> int\n",
    "d = int(input(\"int輸入d:\")) # string --> int\n",
    "g = c + d                  # 整數相加\n",
    "print(\"Int相加:\", g)\n",
    "\n",
    "h = float(input(\"float輸入h:\")) # string --> float\n",
    "i = float(input(\"float輸入i:\")) # string --> float\n",
    "j = h + d                      # 浮點數相加\n",
    "print(\"Float相加:\", j)"
   ]
  },
  {
   "cell_type": "code",
   "execution_count": null,
   "metadata": {
    "colab": {
     "base_uri": "https://localhost:8080/",
     "height": 368
    },
    "id": "POVQFPFFmFXV",
    "outputId": "fc381e48-6d2e-4d6d-a3e3-a5a3b93af3e3"
   },
   "outputs": [
    {
     "name": "stdout",
     "output_type": "stream",
     "text": [
      "輸入字串: Jean\n",
      "Jean <class 'str'>\n",
      "輸入整數: 16\n",
      "16 <class 'str'>\n",
      "float輸入浮點數: 16.0\n",
      "16.0 <class 'float'>\n",
      "int輸入整數:16\n",
      "16 <class 'int'>\n",
      "int輸入字串:Wang\n"
     ]
    },
    {
     "ename": "ValueError",
     "evalue": "ignored",
     "output_type": "error",
     "traceback": [
      "\u001b[0;31m---------------------------------------------------------------------------\u001b[0m",
      "\u001b[0;31mValueError\u001b[0m                                Traceback (most recent call last)",
      "\u001b[0;32m<ipython-input-3-7a5b34c77365>\u001b[0m in \u001b[0;36m<module>\u001b[0;34m()\u001b[0m\n\u001b[1;32m      8\u001b[0m \u001b[0ma\u001b[0m \u001b[0;34m=\u001b[0m \u001b[0mint\u001b[0m\u001b[0;34m(\u001b[0m\u001b[0minput\u001b[0m\u001b[0;34m(\u001b[0m\u001b[0;34m\"int輸入整數:\"\u001b[0m\u001b[0;34m)\u001b[0m\u001b[0;34m)\u001b[0m\u001b[0;34m\u001b[0m\u001b[0;34m\u001b[0m\u001b[0m\n\u001b[1;32m      9\u001b[0m \u001b[0mprint\u001b[0m\u001b[0;34m(\u001b[0m\u001b[0ma\u001b[0m\u001b[0;34m,\u001b[0m \u001b[0ma\u001b[0m\u001b[0;34m.\u001b[0m\u001b[0m__class__\u001b[0m\u001b[0;34m)\u001b[0m\u001b[0;34m\u001b[0m\u001b[0;34m\u001b[0m\u001b[0m\n\u001b[0;32m---> 10\u001b[0;31m \u001b[0ma\u001b[0m \u001b[0;34m=\u001b[0m \u001b[0mint\u001b[0m\u001b[0;34m(\u001b[0m\u001b[0minput\u001b[0m\u001b[0;34m(\u001b[0m\u001b[0;34m\"int輸入字串:\"\u001b[0m\u001b[0;34m)\u001b[0m\u001b[0;34m)\u001b[0m\u001b[0;34m\u001b[0m\u001b[0;34m\u001b[0m\u001b[0m\n\u001b[0m\u001b[1;32m     11\u001b[0m \u001b[0mprint\u001b[0m\u001b[0;34m(\u001b[0m\u001b[0ma\u001b[0m\u001b[0;34m,\u001b[0m \u001b[0ma\u001b[0m\u001b[0;34m.\u001b[0m\u001b[0m__class__\u001b[0m\u001b[0;34m)\u001b[0m\u001b[0;34m\u001b[0m\u001b[0;34m\u001b[0m\u001b[0m\n",
      "\u001b[0;31mValueError\u001b[0m: invalid literal for int() with base 10: 'Wang'"
     ]
    }
   ],
   "source": [
    "# Practice\n",
    "\n",
    "a = input(\"輸入字串: \") # 亦可使用type函數查詢資料型態\n",
    "print(a, a.__class__)\n",
    "a = input(\"輸入整數: \")\n",
    "print(a, a.__class__)\n",
    "a = float(input(\"float輸入浮點數: \"))\n",
    "print(a, a.__class__)\n",
    "a = int(input(\"int輸入整數:\"))\n",
    "print(a, a.__class__)\n",
    "a = int(input(\"int輸入字串:\")) # 文字無法強制轉換為數字\n",
    "print(a, a.__class__)"
   ]
  },
  {
   "cell_type": "markdown",
   "metadata": {
    "id": "r1EhMPGznw5L"
   },
   "source": [
    "## 關係運算、邏輯分析判斷"
   ]
  },
  {
   "cell_type": "code",
   "execution_count": null,
   "metadata": {
    "colab": {
     "base_uri": "https://localhost:8080/"
    },
    "id": "kBfuWmbftVvQ",
    "outputId": "6b047989-055c-4bfd-aecf-38498c3b9cf3"
   },
   "outputs": [
    {
     "name": "stdout",
     "output_type": "stream",
     "text": [
      "歡迎光臨\n"
     ]
    }
   ],
   "source": [
    "age = 18\n",
    "if age >= 18:\n",
    "  print('歡迎光臨')\n",
    "else:\n",
    "  print('下次再來')\n",
    "  print('年紀', age)"
   ]
  },
  {
   "cell_type": "code",
   "execution_count": null,
   "metadata": {
    "colab": {
     "base_uri": "https://localhost:8080/"
    },
    "id": "ibf01FPfuhar",
    "outputId": "a64218c1-7aa3-4225-9b80-fb5a4ee40d3b"
   },
   "outputs": [
    {
     "name": "stdout",
     "output_type": "stream",
     "text": [
      "下次再來\n",
      "年紀: 16\n"
     ]
    }
   ],
   "source": [
    "age = 16\n",
    "if age >= 18:\n",
    "  print('歡迎光臨')\n",
    "else:\n",
    "  print('下次再來')\n",
    "  print('年紀:', age)"
   ]
  },
  {
   "cell_type": "code",
   "execution_count": null,
   "metadata": {
    "colab": {
     "base_uri": "https://localhost:8080/"
    },
    "id": "gZZ0vl2yuvQ3",
    "outputId": "d6acb150-9d67-4d24-aa77-a5ccaddc0ed4"
   },
   "outputs": [
    {
     "name": "stdout",
     "output_type": "stream",
     "text": [
      "How old are you ?29\n",
      "歡迎光臨\n"
     ]
    }
   ],
   "source": [
    "# 使用input輸入，須留意資料型態\n",
    "\n",
    "age = int(input('How old are you ?'))\n",
    "if age >= 18:\n",
    "  print('歡迎光臨')\n",
    "else:\n",
    "  pring('下次再來')"
   ]
  },
  {
   "cell_type": "code",
   "execution_count": null,
   "metadata": {
    "id": "BGb1eOnHxEYu"
   },
   "outputs": [],
   "source": [
    "# 關係運算（留意“等號”用法）\n",
    "height = 189  # Assign 宣告變數\n",
    "height == 189 # Equal 布林值"
   ]
  },
  {
   "cell_type": "code",
   "execution_count": null,
   "metadata": {
    "colab": {
     "base_uri": "https://localhost:8080/"
    },
    "id": "PuG40onF0xLd",
    "outputId": "c9ced1ba-3622-4460-e7d1-de320a0380aa"
   },
   "outputs": [
    {
     "data": {
      "text/plain": [
       "(True, False, True, True)"
      ]
     },
     "execution_count": 6,
     "metadata": {
      "tags": []
     },
     "output_type": "execute_result"
    }
   ],
   "source": [
    "# 補充：boolean，除了0以外，其他整數都是True\n",
    "bool(1), bool(0), bool(2), bool(-1)"
   ]
  },
  {
   "cell_type": "code",
   "execution_count": null,
   "metadata": {
    "colab": {
     "base_uri": "https://localhost:8080/"
    },
    "id": "ba8wZ_M72D4a",
    "outputId": "66a5b4db-3cdd-4c90-dfc5-46e778c66c75"
   },
   "outputs": [
    {
     "data": {
      "text/plain": [
       "1"
      ]
     },
     "execution_count": 7,
     "metadata": {
      "tags": []
     },
     "output_type": "execute_result"
    }
   ],
   "source": [
    "# 補充：True、False相加，會轉換成int後才進行\n",
    "False + True"
   ]
  },
  {
   "cell_type": "code",
   "execution_count": null,
   "metadata": {
    "colab": {
     "base_uri": "https://localhost:8080/"
    },
    "id": "d7_iJizvWs5W",
    "outputId": "925548c4-5282-4228-a9f5-3019380ec65d"
   },
   "outputs": [
    {
     "name": "stdout",
     "output_type": "stream",
     "text": [
      "大於18\n",
      "執行結束\n"
     ]
    }
   ],
   "source": [
    "# Practice＿條件成立\n",
    "\n",
    "a = 21\n",
    "if a > 18:\n",
    "  print('大於18')\n",
    "print('執行結束')"
   ]
  },
  {
   "cell_type": "code",
   "execution_count": null,
   "metadata": {
    "colab": {
     "base_uri": "https://localhost:8080/"
    },
    "id": "UzYUCI0CXduc",
    "outputId": "2ee3e7ef-8efd-4a40-d80b-c5110fd98ec1"
   },
   "outputs": [
    {
     "name": "stdout",
     "output_type": "stream",
     "text": [
      "執行結束\n"
     ]
    }
   ],
   "source": [
    "# Practice＿條件不成立\n",
    "\n",
    "a = 11\n",
    "if a > 18:\n",
    "  print('大於18')\n",
    "print('執行結束')"
   ]
  },
  {
   "cell_type": "code",
   "execution_count": null,
   "metadata": {
    "colab": {
     "base_uri": "https://localhost:8080/"
    },
    "id": "E-CrysSQX0D_",
    "outputId": "23493a1e-95e2-409d-8e87-f61201327a79"
   },
   "outputs": [
    {
     "name": "stdout",
     "output_type": "stream",
     "text": [
      "等於12\n",
      "執行結束\n"
     ]
    }
   ],
   "source": [
    "# 補充：“!=”為不等於\n",
    "\n",
    "a = 12\n",
    "\n",
    "if a!=12:\n",
    "  print('不等於12')\n",
    "else:\n",
    "  print('等於12')\n",
    "\n",
    "print('執行結束')"
   ]
  },
  {
   "cell_type": "code",
   "execution_count": null,
   "metadata": {
    "colab": {
     "base_uri": "https://localhost:8080/"
    },
    "id": "Y3bxiiEga1kO",
    "outputId": "5ec7ee2b-54b7-4df2-a6d4-d588958b9e4c"
   },
   "outputs": [
    {
     "name": "stdout",
     "output_type": "stream",
     "text": [
      "大學\n"
     ]
    }
   ],
   "source": [
    "# elif為雙向選擇，第二條件成立時執行（大-小 or 小-大排列）\n",
    "\n",
    "age = 19\n",
    "\n",
    "if age > 18:\n",
    "  print('大學')\n",
    "elif age > 15:\n",
    "  print('高中')\n",
    "elif age > 12:\n",
    "  print('國中')\n",
    "elif age > 6:\n",
    "  print('國小')\n",
    "else:\n",
    "  print('幼兒園')"
   ]
  },
  {
   "cell_type": "code",
   "execution_count": null,
   "metadata": {
    "colab": {
     "base_uri": "https://localhost:8080/"
    },
    "id": "kxwaZRVXFsxg",
    "outputId": "2d6eaa85-19bd-4d4b-c0d3-e02dfb966b37"
   },
   "outputs": [
    {
     "name": "stdout",
     "output_type": "stream",
     "text": [
      "18+...\n"
     ]
    }
   ],
   "source": [
    "# Practice\n",
    "# 區間寫法，另可省略else\n",
    "\n",
    "age = 21\n",
    "\n",
    "if 12 < age <= 18:\n",
    "  print('12+...18')\n",
    "elif 18 < age:\n",
    "  print('18+...')\n",
    "elif age <= 12:\n",
    "  print('...12')"
   ]
  },
  {
   "cell_type": "code",
   "execution_count": null,
   "metadata": {
    "colab": {
     "base_uri": "https://localhost:8080/"
    },
    "id": "37v5LlX4I41I",
    "outputId": "ac68c1c2-07cc-48d0-8dca-c4b526f3b73c"
   },
   "outputs": [
    {
     "name": "stdout",
     "output_type": "stream",
     "text": [
      "ok-1\n",
      "ok-2\n",
      "ok-3\n"
     ]
    }
   ],
   "source": [
    "# Practice\n",
    "# 使用直覺方式進行邏輯分析\n",
    "\n",
    "a=14\n",
    "\n",
    "if a >= 12 and a < 18:\n",
    "    print(\"ok-1\")\n",
    "else:\n",
    "    print(\"cancel- 1\")\n",
    "\n",
    "if 12 <= a < 18:\n",
    "    print(\"ok-2\")\n",
    "else:\n",
    "    print(\"cancel- 2\")\n",
    "\n",
    "if not a > 18:\n",
    "    print(\"ok-3\")\n",
    "else:\n",
    "    print(\"cancel- 3\")"
   ]
  },
  {
   "cell_type": "code",
   "execution_count": null,
   "metadata": {
    "colab": {
     "base_uri": "https://localhost:8080/"
    },
    "id": "2Hg0hUqOKnqX",
    "outputId": "dc0b09d4-b76d-4953-82de-70c6e545a60a"
   },
   "outputs": [
    {
     "name": "stdout",
     "output_type": "stream",
     "text": [
      "國中\n"
     ]
    }
   ],
   "source": [
    "# Practice\n",
    "# 根據上述練習題的排序，改為小->大\n",
    "\n",
    "age = 13\n",
    "\n",
    "if age < 6:\n",
    "  print('幼兒園')\n",
    "elif age < 12:\n",
    "  print('國小')\n",
    "elif age < 15:\n",
    "  print('國中')\n",
    "elif age < 18:\n",
    "  print('高中')\n",
    "else:\n",
    "  print('大學')"
   ]
  },
  {
   "cell_type": "code",
   "execution_count": null,
   "metadata": {
    "colab": {
     "base_uri": "https://localhost:8080/"
    },
    "id": "ahlQF6qmPUug",
    "outputId": "a413c72b-b794-464e-f0cf-68f9733ad466"
   },
   "outputs": [
    {
     "name": "stdout",
     "output_type": "stream",
     "text": [
      "數值錯誤\n"
     ]
    }
   ],
   "source": [
    "# Practice\n",
    "# 較完整寫法，排除程式中有不合理的情況\n",
    "\n",
    "age = -1\n",
    "\n",
    "if 0 <= age < 6:\n",
    "  print('幼兒園')\n",
    "elif 6 <= age < 12:\n",
    "  print('國小')\n",
    "elif 12 <= age < 15:\n",
    "  print('國中')\n",
    "elif 15 <= age < 18:\n",
    "  print('高中')\n",
    "elif 18 < age:\n",
    "  print('大學')\n",
    "else:\n",
    "  print('數值錯誤')"
   ]
  },
  {
   "cell_type": "markdown",
   "metadata": {},
   "source": [
    "## 個人BMI計算 (round四捨五入)"
   ]
  },
  {
   "cell_type": "code",
   "execution_count": null,
   "metadata": {
    "colab": {
     "base_uri": "https://localhost:8080/"
    },
    "id": "q7shbq53f7AQ",
    "outputId": "59d19361-f8bc-4b59-ca11-2e8d01c693c0"
   },
   "outputs": [
    {
     "name": "stdout",
     "output_type": "stream",
     "text": [
      "正常\n",
      "19.1\n"
     ]
    }
   ],
   "source": [
    "height = 1.65\n",
    "kgw = 52\n",
    "bmi = round(kgw / (height * height),1)\n",
    "\n",
    "if bmi < 18.5:\n",
    "  print('太輕')\n",
    "elif 18.5 <= bmi < 25:\n",
    "  print('正常')\n",
    "elif 25 <= bmi < 30:\n",
    "  print('過重')\n",
    "elif bmi > 30:\n",
    "  print('肥胖')\n",
    "print(bmi)"
   ]
  }
 ],
 "metadata": {
  "colab": {
   "authorship_tag": "ABX9TyPNwSx4HVpvUv6HP7DWOSC/",
   "collapsed_sections": [],
   "name": "Day02-20210520-數值計算與條件分析.ipynb",
   "provenance": []
  },
  "kernelspec": {
   "display_name": "Python 3",
   "language": "python",
   "name": "python3"
  },
  "language_info": {
   "codemirror_mode": {
    "name": "ipython",
    "version": 3
   },
   "file_extension": ".py",
   "mimetype": "text/x-python",
   "name": "python",
   "nbconvert_exporter": "python",
   "pygments_lexer": "ipython3",
   "version": "3.7.10"
  }
 },
 "nbformat": 4,
 "nbformat_minor": 1
}
