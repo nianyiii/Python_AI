{
 "cells": [
  {
   "cell_type": "markdown",
   "metadata": {
    "id": "Lqhr8SD9sXLu"
   },
   "source": [
    "## 索引與排序方式"
   ]
  },
  {
   "cell_type": "code",
   "execution_count": null,
   "metadata": {
    "colab": {
     "base_uri": "https://localhost:8080/"
    },
    "id": "Vg-GdQA_zhVV",
    "outputId": "552afdb5-bbb6-421c-a780-e468d0d00cfa"
   },
   "outputs": [
    {
     "data": {
      "text/plain": [
       "0"
      ]
     },
     "execution_count": 2,
     "metadata": {
      "tags": []
     },
     "output_type": "execute_result"
    }
   ],
   "source": [
    "# index回傳指定值的位置\n",
    "\n",
    "students = ['Jean', 'Lucy', 'Kuku', 'Mia']\n",
    "students.index('Jean')"
   ]
  },
  {
   "cell_type": "code",
   "execution_count": null,
   "metadata": {
    "colab": {
     "base_uri": "https://localhost:8080/",
     "height": 198
    },
    "id": "BbZaE5EpVwit",
    "outputId": "484cdd73-08c6-43b1-bf58-a9a0efeaac1e"
   },
   "outputs": [
    {
     "ename": "ValueError",
     "evalue": "ignored",
     "output_type": "error",
     "traceback": [
      "\u001b[0;31m---------------------------------------------------------------------------\u001b[0m",
      "\u001b[0;31mValueError\u001b[0m                                Traceback (most recent call last)",
      "\u001b[0;32m<ipython-input-4-cb657f8c559c>\u001b[0m in \u001b[0;36m<module>\u001b[0;34m()\u001b[0m\n\u001b[1;32m      3\u001b[0m \u001b[0mstudents\u001b[0m \u001b[0;34m=\u001b[0m \u001b[0;34m[\u001b[0m\u001b[0;34m'Jean'\u001b[0m\u001b[0;34m,\u001b[0m \u001b[0;34m'Lucy'\u001b[0m\u001b[0;34m,\u001b[0m \u001b[0;34m'Kuku'\u001b[0m\u001b[0;34m,\u001b[0m \u001b[0;34m'Mia'\u001b[0m\u001b[0;34m]\u001b[0m\u001b[0;34m\u001b[0m\u001b[0;34m\u001b[0m\u001b[0m\n\u001b[1;32m      4\u001b[0m \u001b[0;34m\u001b[0m\u001b[0m\n\u001b[0;32m----> 5\u001b[0;31m \u001b[0mstudents\u001b[0m\u001b[0;34m.\u001b[0m\u001b[0mindex\u001b[0m\u001b[0;34m(\u001b[0m\u001b[0;34m'Huhu'\u001b[0m\u001b[0;34m)\u001b[0m\u001b[0;34m\u001b[0m\u001b[0;34m\u001b[0m\u001b[0m\n\u001b[0m",
      "\u001b[0;31mValueError\u001b[0m: 'Huhu' is not in list"
     ]
    }
   ],
   "source": [
    "# 根據上述方式，若無該值，則出現錯誤\n",
    "\n",
    "students = ['Jean', 'Lucy', 'Kuku', 'Mia']\n",
    "students.index('Huhu')"
   ]
  },
  {
   "cell_type": "code",
   "execution_count": null,
   "metadata": {
    "colab": {
     "base_uri": "https://localhost:8080/"
    },
    "id": "tuLQemrLWpuo",
    "outputId": "b7013c6c-72da-4676-f1c4-04117f8091a4"
   },
   "outputs": [
    {
     "name": "stdout",
     "output_type": "stream",
     "text": [
      "Jean 的位置是 0\n"
     ]
    }
   ],
   "source": [
    "# “查找”位置較為安全的方式\n",
    "# count：Return number of occurrences of value.\n",
    "\n",
    "data = 'Jean'\n",
    "\n",
    "if students.count(data) > 0:\n",
    "  print(data, '的位置是', students.index(data))\n",
    "\n",
    "else:\n",
    "  print('查無此人')"
   ]
  },
  {
   "cell_type": "code",
   "execution_count": null,
   "metadata": {
    "colab": {
     "base_uri": "https://localhost:8080/"
    },
    "id": "fDFW4FkyYgM6",
    "outputId": "4b852584-597b-42c5-879b-2eb7eedb829b"
   },
   "outputs": [
    {
     "name": "stdout",
     "output_type": "stream",
     "text": [
      "查無此人\n"
     ]
    }
   ],
   "source": [
    "# 同上，舉例未在students內的值\n",
    "\n",
    "data = 'Huhu'\n",
    "\n",
    "if students.count(data) > 0:\n",
    "  print(data, '的位置是', students.index(data))\n",
    "\n",
    "else:\n",
    "  print('查無此人')"
   ]
  },
  {
   "cell_type": "code",
   "execution_count": null,
   "metadata": {
    "colab": {
     "base_uri": "https://localhost:8080/"
    },
    "id": "62lO7Ghxa0WV",
    "outputId": "475c2326-f0c7-4776-fe82-053fa6bacfea"
   },
   "outputs": [
    {
     "name": "stdout",
     "output_type": "stream",
     "text": [
      "('Yo', 'yo')\n",
      "['Ya', 'yo']\n"
     ]
    }
   ],
   "source": [
    "# Practice：變更tuple & list內的值\n",
    "\n",
    "tupledata = ('Yo', 'yo')\n",
    "listdata = ['Yo', 'yo']\n",
    "\n",
    "# tupledata[0] = 'He' ---->此段無法執行，tuple型態無法變更\n",
    "listdata[0] = 'Ya'\n",
    "\n",
    "print(tupledata)\n",
    "print(listdata)"
   ]
  },
  {
   "cell_type": "code",
   "execution_count": null,
   "metadata": {
    "colab": {
     "base_uri": "https://localhost:8080/"
    },
    "id": "kZ2jHXvWkWeH",
    "outputId": "94366fa4-0378-4fc0-92f7-54e8d1d7893b"
   },
   "outputs": [
    {
     "name": "stdout",
     "output_type": "stream",
     "text": [
      "['Huhu', 'Lucy', 'Kuku', 'Mia']\n"
     ]
    }
   ],
   "source": [
    "# 變更list中的值很重要\n",
    "\n",
    "students = ['Jean', 'Lucy', 'Kuku', 'Mia']\n",
    "students[0] = 'Huhu'\n",
    "print(students)"
   ]
  },
  {
   "cell_type": "code",
   "execution_count": null,
   "metadata": {
    "colab": {
     "base_uri": "https://localhost:8080/"
    },
    "id": "eOzOM0Chnbu-",
    "outputId": "725982a2-13d6-410e-950a-2293219e161f"
   },
   "outputs": [
    {
     "name": "stdout",
     "output_type": "stream",
     "text": [
      "[15, 16, 29, 99]\n",
      "[99, 29, 16, 15]\n"
     ]
    }
   ],
   "source": [
    "# sort：排序，list會被改變\n",
    "\n",
    "scores = [29, 16, 15, 99]\n",
    "scores.sort()\n",
    "print(scores)\n",
    "scores.sort(reverse = True) # reverse = True or False來決定大-小 or 小-大\n",
    "print(scores)"
   ]
  },
  {
   "cell_type": "code",
   "execution_count": null,
   "metadata": {
    "colab": {
     "base_uri": "https://localhost:8080/"
    },
    "id": "jnc4YxKuoedW",
    "outputId": "80e65ecc-5ce0-4b99-88e5-d7ba7ba7732f"
   },
   "outputs": [
    {
     "name": "stdout",
     "output_type": "stream",
     "text": [
      "[15, 16, 29, 99]\n",
      "[29, 16, 15, 99]\n"
     ]
    }
   ],
   "source": [
    "# sorted：排序，list不被改變（僅顯示）\n",
    "\n",
    "scores = [29, 16, 15, 99]\n",
    "print(sorted(scores))\n",
    "print(scores)"
   ]
  },
  {
   "cell_type": "code",
   "execution_count": null,
   "metadata": {
    "colab": {
     "base_uri": "https://localhost:8080/",
     "height": 215
    },
    "id": "NuEx5B8upd9m",
    "outputId": "f145d455-6fc4-498f-aa09-5e23e5081080"
   },
   "outputs": [
    {
     "ename": "TypeError",
     "evalue": "ignored",
     "output_type": "error",
     "traceback": [
      "\u001b[0;31m---------------------------------------------------------------------------\u001b[0m",
      "\u001b[0;31mTypeError\u001b[0m                                 Traceback (most recent call last)",
      "\u001b[0;32m<ipython-input-25-86750d624957>\u001b[0m in \u001b[0;36m<module>\u001b[0;34m()\u001b[0m\n\u001b[1;32m      2\u001b[0m \u001b[0;34m\u001b[0m\u001b[0m\n\u001b[1;32m      3\u001b[0m \u001b[0mtuple1\u001b[0m \u001b[0;34m=\u001b[0m \u001b[0;34m(\u001b[0m\u001b[0;34m'1'\u001b[0m\u001b[0;34m,\u001b[0m\u001b[0;34m'2'\u001b[0m\u001b[0;34m)\u001b[0m\u001b[0;34m\u001b[0m\u001b[0;34m\u001b[0m\u001b[0m\n\u001b[0;32m----> 4\u001b[0;31m \u001b[0mtuple1\u001b[0m\u001b[0;34m[\u001b[0m\u001b[0;36m1\u001b[0m\u001b[0;34m]\u001b[0m \u001b[0;34m=\u001b[0m \u001b[0;36m0\u001b[0m\u001b[0;34m\u001b[0m\u001b[0;34m\u001b[0m\u001b[0m\n\u001b[0m\u001b[1;32m      5\u001b[0m \u001b[0mprint\u001b[0m\u001b[0;34m(\u001b[0m\u001b[0mtuple1\u001b[0m\u001b[0;34m)\u001b[0m\u001b[0;34m\u001b[0m\u001b[0;34m\u001b[0m\u001b[0m\n",
      "\u001b[0;31mTypeError\u001b[0m: 'tuple' object does not support item assignment"
     ]
    }
   ],
   "source": [
    "# Practice：執行以下程式，結果為錯誤，tuple型態不能變更\n",
    "\n",
    "tuple1 = ('1', '2')\n",
    "tuple1[1] = '0'\n",
    "print(tuple1)"
   ]
  },
  {
   "cell_type": "code",
   "execution_count": null,
   "metadata": {
    "colab": {
     "base_uri": "https://localhost:8080/"
    },
    "id": "jqNZJjyatHZV",
    "outputId": "39eb14d7-27be-4fad-afdc-670f204bf27d"
   },
   "outputs": [
    {
     "name": "stdout",
     "output_type": "stream",
     "text": [
      "['1', '0']\n"
     ]
    }
   ],
   "source": [
    "# Practice：同上，執行以下程式，list型態可變更\n",
    "\n",
    "list1 = ['1', '2']\n",
    "list1[1] = '0'\n",
    "print(list1)"
   ]
  },
  {
   "cell_type": "code",
   "execution_count": null,
   "metadata": {
    "colab": {
     "base_uri": "https://localhost:8080/"
    },
    "id": "U4yJ_iTHu7RD",
    "outputId": "28d47fc3-2c4e-4a12-9f2e-6ad852aa5571"
   },
   "outputs": [
    {
     "name": "stdout",
     "output_type": "stream",
     "text": [
      "Hello\n",
      "World\n"
     ]
    }
   ],
   "source": [
    "# Practice：輸出列表中的Hello、World，但不可用“,”隔開\n",
    "\n",
    "list1 = ['H', 'e', 'l', 'l', 'o', 'W', 'o', 'r', 'l', 'd']\n",
    "\n",
    "print(''.join(list1[:5]))\n",
    "print(''.join(list1[-5:]))"
   ]
  },
  {
   "cell_type": "code",
   "execution_count": null,
   "metadata": {
    "colab": {
     "base_uri": "https://localhost:8080/"
    },
    "id": "-d87Kiqq0qaQ",
    "outputId": "a4402204-e4c6-45c8-f8ff-b3395d6f51c7"
   },
   "outputs": [
    {
     "name": "stdout",
     "output_type": "stream",
     "text": [
      "['a', 'b', 'c']\n"
     ]
    }
   ],
   "source": [
    "# Practice：依照題目要求之結果，輸入正確的程式碼\n",
    "\n",
    "# You have a list x that is defined as follows:\n",
    "# x = ['a', 'b', 'b']\n",
    "# You need to change the second 'b'(the third element) to 'c'\n",
    "\n",
    "x = ['a', 'b', 'b']\n",
    "x[2] = 'c' # --> answer\n",
    "print(x)"
   ]
  },
  {
   "cell_type": "markdown",
   "metadata": {
    "id": "B1a1fUCLsqgu"
   },
   "source": [
    "## 擴展、新增與刪除"
   ]
  },
  {
   "cell_type": "code",
   "execution_count": null,
   "metadata": {
    "colab": {
     "base_uri": "https://localhost:8080/"
    },
    "id": "3UJR_-Ue2vI_",
    "outputId": "74e1f6d8-ccf9-406b-d9f3-e21d8e9879a9"
   },
   "outputs": [
    {
     "data": {
      "text/plain": [
       "[12, 24, 35, 46, 0]"
      ]
     },
     "execution_count": 50,
     "metadata": {
      "tags": []
     },
     "output_type": "execute_result"
    }
   ],
   "source": [
    "# append：附加資料(一次一筆)\n",
    "\n",
    "scores = [12, 24, 35, 46]\n",
    "scores.append(0)\n",
    "scores"
   ]
  },
  {
   "cell_type": "code",
   "execution_count": null,
   "metadata": {
    "colab": {
     "base_uri": "https://localhost:8080/"
    },
    "id": "wFUllETQF_fz",
    "outputId": "a05fd430-3fca-4aca-e675-1252ac44a7ef"
   },
   "outputs": [
    {
     "data": {
      "text/plain": [
       "[12, 24, 35, 46, 0]"
      ]
     },
     "execution_count": 53,
     "metadata": {
      "tags": []
     },
     "output_type": "execute_result"
    }
   ],
   "source": [
    "# 補充：如上，亦可使用 + 的方法\n",
    "\n",
    "scores = [12, 24, 35, 46]\n",
    "scores = scores + [0]\n",
    "scores"
   ]
  },
  {
   "cell_type": "code",
   "execution_count": null,
   "metadata": {
    "colab": {
     "base_uri": "https://localhost:8080/"
    },
    "id": "Wfs5hJ57G5s0",
    "outputId": "c604d451-7a44-4e08-d4df-ebb91b260e39"
   },
   "outputs": [
    {
     "data": {
      "text/plain": [
       "[12, 0, 24, 35, 46]"
      ]
     },
     "execution_count": 54,
     "metadata": {
      "tags": []
     },
     "output_type": "execute_result"
    }
   ],
   "source": [
    "# insert：Insert object before index.\n",
    "# list.insert(index, object)\n",
    "# 若無索引值，則改為append方式附加\n",
    "\n",
    "scores = [12, 24, 35, 46]\n",
    "scores.insert(1, 0)\n",
    "scores"
   ]
  },
  {
   "cell_type": "code",
   "execution_count": null,
   "metadata": {
    "colab": {
     "base_uri": "https://localhost:8080/"
    },
    "id": "zSNx6n8j4ACi",
    "outputId": "19296f6b-366c-4a63-df36-c6346ce79f36"
   },
   "outputs": [
    {
     "data": {
      "text/plain": [
       "[12, 24, 35, 46, 0, 1]"
      ]
     },
     "execution_count": 51,
     "metadata": {
      "tags": []
     },
     "output_type": "execute_result"
    }
   ],
   "source": [
    "# extend：擴增資料(一次多筆)\n",
    "\n",
    "scores = [12, 24, 35, 46]\n",
    "scores.extend([0, 1])\n",
    "scores"
   ]
  },
  {
   "cell_type": "code",
   "execution_count": null,
   "metadata": {
    "colab": {
     "base_uri": "https://localhost:8080/"
    },
    "id": "5X3tiieOFBSD",
    "outputId": "4bb1f1c3-d998-48ee-ad83-fc8771f6e425"
   },
   "outputs": [
    {
     "data": {
      "text/plain": [
       "[12, 24, 35, 46, [0, 1]]"
      ]
     },
     "execution_count": 52,
     "metadata": {
      "tags": []
     },
     "output_type": "execute_result"
    }
   ],
   "source": [
    "# 補充：如上，將extend改為append，則使數值被包成一個列表\n",
    "\n",
    "scores = [12, 24, 35, 46]\n",
    "scores.append([0, 1])\n",
    "scores"
   ]
  },
  {
   "cell_type": "code",
   "execution_count": null,
   "metadata": {
    "colab": {
     "base_uri": "https://localhost:8080/"
    },
    "id": "w0m12WvVI0p_",
    "outputId": "aa1bdac2-9a1b-4484-c755-37a64bc9e9c6"
   },
   "outputs": [
    {
     "name": "stdout",
     "output_type": "stream",
     "text": [
      "附加之前： ['a', 'b', 'c']\n",
      "附加之前長度： 3\n",
      "附加之後： ['a', 'b', 'c', ['def', 'ghij']]\n",
      "附加之後長度： 4\n",
      "擴增之後： ['a', 'b', 'c', ['def', 'ghij'], 'def', 'ghij']\n",
      "擴增之後長度： 6\n"
     ]
    }
   ],
   "source": [
    "# Practice\n",
    "\n",
    "listdata = ['a', 'b', 'c']\n",
    "\n",
    "print('附加之前：', listdata)\n",
    "print('附加之前長度：', len(listdata))\n",
    "listdata.append(['def', 'ghij'])\n",
    "\n",
    "print('附加之後：',listdata)\n",
    "print('附加之後長度：', len(listdata))\n",
    "listdata.extend(['def', 'ghij'])\n",
    "\n",
    "print('擴增之後：', listdata)\n",
    "print('擴增之後長度：', len(listdata))"
   ]
  },
  {
   "cell_type": "code",
   "execution_count": null,
   "metadata": {
    "colab": {
     "base_uri": "https://localhost:8080/"
    },
    "id": "UrBZhkygK4fq",
    "outputId": "875dd7fa-236c-4cb5-ca30-459e2fcd615b"
   },
   "outputs": [
    {
     "name": "stdout",
     "output_type": "stream",
     "text": [
      "['this', 'is', 'list']\n",
      "['this', 'item', 'is', 'list']\n",
      "['this', 'item', 'is', 'list', '99']\n"
     ]
    }
   ],
   "source": [
    "# Practice\n",
    "\n",
    "data = ['this', 'is', 'list']\n",
    "\n",
    "print(data)\n",
    "\n",
    "data.insert(1, 'item')\n",
    "print(data)\n",
    "\n",
    "data.insert(99, '99')\n",
    "print(data)  # --->無99位置，因此改為append方式附加"
   ]
  },
  {
   "cell_type": "code",
   "execution_count": null,
   "metadata": {
    "colab": {
     "base_uri": "https://localhost:8080/"
    },
    "id": "lt-baAeFMsiu",
    "outputId": "2e3e75f3-d46a-40dc-85ef-88c752c2882f"
   },
   "outputs": [
    {
     "data": {
      "text/plain": [
       "[12, 24, 46]"
      ]
     },
     "execution_count": 63,
     "metadata": {
      "tags": []
     },
     "output_type": "execute_result"
    }
   ],
   "source": [
    "# del：移除資料\n",
    "\n",
    "scores = [12, 24, 35, 46]\n",
    "del(scores[2])\n",
    "scores"
   ]
  },
  {
   "cell_type": "code",
   "execution_count": null,
   "metadata": {
    "colab": {
     "base_uri": "https://localhost:8080/"
    },
    "id": "wI8ybkB9NcQ6",
    "outputId": "7a05ed62-adbc-45d6-8958-45a60c0e148c"
   },
   "outputs": [
    {
     "data": {
      "text/plain": [
       "[12, 35, 46, 24]"
      ]
     },
     "execution_count": 68,
     "metadata": {
      "tags": []
     },
     "output_type": "execute_result"
    }
   ],
   "source": [
    "# remove：Remove first occurrence of value.\n",
    "# list.remove(value)\n",
    "\n",
    "scores = [12, 24, 35, 46, 24]\n",
    "scores.remove(24)\n",
    "scores\n",
    "\n",
    "# 補充：如有重複的值，僅移除第一個"
   ]
  },
  {
   "cell_type": "code",
   "execution_count": null,
   "metadata": {
    "colab": {
     "base_uri": "https://localhost:8080/"
    },
    "id": "Ux7Qjp3EOmXh",
    "outputId": "baea7a31-2143-457f-83b3-dc34ff1fb09b"
   },
   "outputs": [
    {
     "data": {
      "text/plain": [
       "[12, 35, 46]"
      ]
     },
     "execution_count": 66,
     "metadata": {
      "tags": []
     },
     "output_type": "execute_result"
    }
   ],
   "source": [
    "# pop：Remove and return item at index(default last).\n",
    "# list.pop(index = -1)\n",
    "# 若無索引值，則移除最後一筆資料\n",
    "\n",
    "scores = [12, 24, 35, 46]\n",
    "scores.pop(1)\n",
    "scores"
   ]
  },
  {
   "cell_type": "code",
   "execution_count": null,
   "metadata": {
    "colab": {
     "base_uri": "https://localhost:8080/"
    },
    "id": "F-ljzpx2QmuI",
    "outputId": "96e9f531-79f7-4a19-ba6a-0417442c1992"
   },
   "outputs": [
    {
     "data": {
      "text/plain": [
       "['1', '2', 'x', '3']"
      ]
     },
     "execution_count": 69,
     "metadata": {
      "tags": []
     },
     "output_type": "execute_result"
    }
   ],
   "source": [
    "# Practice\n",
    "\n",
    "data = ['1', 'x', '2', 'x', '3']\n",
    "\n",
    "data.remove('x')\n",
    "data"
   ]
  },
  {
   "cell_type": "code",
   "execution_count": null,
   "metadata": {
    "colab": {
     "base_uri": "https://localhost:8080/"
    },
    "id": "JHoFgMj3Q-cn",
    "outputId": "9dc414b7-28c9-4079-9ed6-a0b5ce131a33"
   },
   "outputs": [
    {
     "data": {
      "text/plain": [
       "['x', '2', 'x', '3']"
      ]
     },
     "execution_count": 70,
     "metadata": {
      "tags": []
     },
     "output_type": "execute_result"
    }
   ],
   "source": [
    "# Practice\n",
    "\n",
    "data = ['1', 'x', '2', 'x', '3']\n",
    "\n",
    "del(data[:1])\n",
    "data"
   ]
  },
  {
   "cell_type": "markdown",
   "metadata": {
    "id": "fy_A1lj1sGUZ"
   },
   "source": [
    "## 排序與反轉"
   ]
  },
  {
   "cell_type": "code",
   "execution_count": null,
   "metadata": {
    "colab": {
     "base_uri": "https://localhost:8080/"
    },
    "id": "GwnzcLkSSZPZ",
    "outputId": "3b160a73-dcb6-484d-df1e-14cbbf300dd0"
   },
   "outputs": [
    {
     "name": "stdout",
     "output_type": "stream",
     "text": [
      "['A', 'a', 'b', 'c']\n",
      "65 97 98 99\n"
     ]
    }
   ],
   "source": [
    "# Practice\n",
    "\n",
    "data = ['c', 'b', 'a', 'A']\n",
    "data.sort()\n",
    "print(data)\n",
    "# 可使用ord查看ASCII編碼\n",
    "print(ord('A'), ord('a'), ord('b'), ord('c'))"
   ]
  },
  {
   "cell_type": "code",
   "execution_count": null,
   "metadata": {
    "colab": {
     "base_uri": "https://localhost:8080/"
    },
    "id": "H-BFzzc5UbCd",
    "outputId": "27e73022-1911-4330-e0a2-610a2835bf68"
   },
   "outputs": [
    {
     "name": "stdout",
     "output_type": "stream",
     "text": [
      "['1', '2', '5', '6', '9']\n",
      "['5', '2', '1', '9', '6']\n",
      "['9', '6', '5', '2', '1']\n",
      "['5', '2', '1', '9', '6']\n"
     ]
    }
   ],
   "source": [
    "# Practice：不變更資料\n",
    "\n",
    "data = ['5', '2', '1', '9', '6']\n",
    "\n",
    "print(sorted(data))\n",
    "print(data)\n",
    "\n",
    "print(sorted(data, reverse = True))\n",
    "print(data)"
   ]
  },
  {
   "cell_type": "code",
   "execution_count": null,
   "metadata": {
    "colab": {
     "base_uri": "https://localhost:8080/"
    },
    "id": "ZsJ2TGhbVcIl",
    "outputId": "a212ad68-7c51-411d-a665-2947abcb5939"
   },
   "outputs": [
    {
     "name": "stdout",
     "output_type": "stream",
     "text": [
      "['9', '6', '5', '2', '1']\n"
     ]
    }
   ],
   "source": [
    "# Practice：變更資料\n",
    "\n",
    "data = ['5', '2', '1', '9', '6']\n",
    "\n",
    "data.sort(reverse = True)\n",
    "print(data)"
   ]
  },
  {
   "cell_type": "markdown",
   "metadata": {
    "id": "wkic8_ZdsLB3"
   },
   "source": [
    "## 補充：List Comprehension"
   ]
  },
  {
   "cell_type": "code",
   "execution_count": null,
   "metadata": {
    "colab": {
     "base_uri": "https://localhost:8080/"
    },
    "id": "3ayfZd3-mcRd",
    "outputId": "7bdd329b-2ab2-4233-bdb5-c37e9dac8e72"
   },
   "outputs": [
    {
     "name": "stdout",
     "output_type": "stream",
     "text": [
      "0\n",
      "1\n",
      "2\n",
      "3\n",
      "4\n",
      "5\n",
      "6\n",
      "7\n",
      "8\n",
      "9\n",
      "CPU times: user 4.71 ms, sys: 979 µs, total: 5.69 ms\n",
      "Wall time: 10.4 ms\n"
     ]
    }
   ],
   "source": [
    "%%time\n",
    "# 研究list comprehension_1\n",
    "# 迴圈寫法\n",
    "\n",
    "for i in range(10):\n",
    "  print(i)"
   ]
  },
  {
   "cell_type": "code",
   "execution_count": null,
   "metadata": {
    "colab": {
     "base_uri": "https://localhost:8080/"
    },
    "id": "efFqoSxqWY-7",
    "outputId": "28a2ebf1-c50e-4752-e85e-076381355764"
   },
   "outputs": [
    {
     "name": "stdout",
     "output_type": "stream",
     "text": [
      "[0, 1, 2, 3, 4, 5, 6, 7, 8, 9]\n",
      "CPU times: user 1.1 ms, sys: 7 µs, total: 1.1 ms\n",
      "Wall time: 1.18 ms\n"
     ]
    }
   ],
   "source": [
    "%%time\n",
    "# 研究list comprehension_2\n",
    "# 加入append迴圈寫法\n",
    "\n",
    "data = []\n",
    "\n",
    "for i in range(10):\n",
    "  data.append(i)\n",
    "\n",
    "print(data)"
   ]
  },
  {
   "cell_type": "code",
   "execution_count": null,
   "metadata": {
    "colab": {
     "base_uri": "https://localhost:8080/"
    },
    "id": "3m8HSu3JnBJz",
    "outputId": "0a8bbd07-3317-4d01-cf17-808796ae1ffa"
   },
   "outputs": [
    {
     "name": "stdout",
     "output_type": "stream",
     "text": [
      "[0, 1, 2, 3, 4, 5, 6, 7, 8, 9]\n",
      "CPU times: user 395 µs, sys: 0 ns, total: 395 µs\n",
      "Wall time: 319 µs\n"
     ]
    }
   ],
   "source": [
    "%%time\n",
    "# 研究list comprehension_3\n",
    "# 最有效寫法\n",
    "\n",
    "data1 = [i for i in range(10)]\n",
    "\n",
    "print(data1)"
   ]
  },
  {
   "cell_type": "code",
   "execution_count": null,
   "metadata": {
    "colab": {
     "base_uri": "https://localhost:8080/"
    },
    "id": "ogwv08tMVf_N",
    "outputId": "c6918c61-eb73-4aba-e5a3-a327cb27f044"
   },
   "outputs": [
    {
     "name": "stdout",
     "output_type": "stream",
     "text": [
      "[0 1 2 3 4 5 6 7 8 9]\n",
      "CPU times: user 302 µs, sys: 0 ns, total: 302 µs\n",
      "Wall time: 309 µs\n"
     ]
    }
   ],
   "source": [
    "%%time\n",
    "# 研究list comprehension_4\n",
    "# 補充：numpy寫法\n",
    "\n",
    "import numpy as np\n",
    "data2 = np.arange(10)\n",
    "\n",
    "print(data2)"
   ]
  },
  {
   "cell_type": "code",
   "execution_count": null,
   "metadata": {
    "colab": {
     "base_uri": "https://localhost:8080/"
    },
    "id": "ZzSe9A4ubBTX",
    "outputId": "bf49b748-c6ba-4eb1-bed1-dbad55e7d1e2"
   },
   "outputs": [
    {
     "name": "stdout",
     "output_type": "stream",
     "text": [
      "1 * 1 = 1\n",
      "1 * 2 = 2\n",
      "1 * 3 = 3\n",
      "1 * 4 = 4\n",
      "1 * 5 = 5\n",
      "1 * 6 = 6\n",
      "1 * 7 = 7\n",
      "1 * 8 = 8\n",
      "1 * 9 = 9\n",
      "2 * 1 = 2\n",
      "2 * 2 = 4\n",
      "2 * 3 = 6\n",
      "2 * 4 = 8\n",
      "2 * 5 = 10\n",
      "2 * 6 = 12\n",
      "2 * 7 = 14\n",
      "2 * 8 = 16\n",
      "2 * 9 = 18\n",
      "3 * 1 = 3\n",
      "3 * 2 = 6\n",
      "3 * 3 = 9\n",
      "3 * 4 = 12\n",
      "3 * 5 = 15\n",
      "3 * 6 = 18\n",
      "3 * 7 = 21\n",
      "3 * 8 = 24\n",
      "3 * 9 = 27\n",
      "4 * 1 = 4\n",
      "4 * 2 = 8\n",
      "4 * 3 = 12\n",
      "4 * 4 = 16\n",
      "4 * 5 = 20\n",
      "4 * 6 = 24\n",
      "4 * 7 = 28\n",
      "4 * 8 = 32\n",
      "4 * 9 = 36\n",
      "5 * 1 = 5\n",
      "5 * 2 = 10\n",
      "5 * 3 = 15\n",
      "5 * 4 = 20\n",
      "5 * 5 = 25\n",
      "5 * 6 = 30\n",
      "5 * 7 = 35\n",
      "5 * 8 = 40\n",
      "5 * 9 = 45\n",
      "6 * 1 = 6\n",
      "6 * 2 = 12\n",
      "6 * 3 = 18\n",
      "6 * 4 = 24\n",
      "6 * 5 = 30\n",
      "6 * 6 = 36\n",
      "6 * 7 = 42\n",
      "6 * 8 = 48\n",
      "6 * 9 = 54\n",
      "7 * 1 = 7\n",
      "7 * 2 = 14\n",
      "7 * 3 = 21\n",
      "7 * 4 = 28\n",
      "7 * 5 = 35\n",
      "7 * 6 = 42\n",
      "7 * 7 = 49\n",
      "7 * 8 = 56\n",
      "7 * 9 = 63\n",
      "8 * 1 = 8\n",
      "8 * 2 = 16\n",
      "8 * 3 = 24\n",
      "8 * 4 = 32\n",
      "8 * 5 = 40\n",
      "8 * 6 = 48\n",
      "8 * 7 = 56\n",
      "8 * 8 = 64\n",
      "8 * 9 = 72\n",
      "9 * 1 = 9\n",
      "9 * 2 = 18\n",
      "9 * 3 = 27\n",
      "9 * 4 = 36\n",
      "9 * 5 = 45\n",
      "9 * 6 = 54\n",
      "9 * 7 = 63\n",
      "9 * 8 = 72\n",
      "9 * 9 = 81\n"
     ]
    }
   ],
   "source": [
    "# 九九乘法表\n",
    "# 二層迴圈\n",
    "\n",
    "for i in range(1, 10):\n",
    "  for j in range(1, 10):\n",
    "    print(i, '*', j, '=', i * j)"
   ]
  },
  {
   "cell_type": "code",
   "execution_count": null,
   "metadata": {
    "colab": {
     "base_uri": "https://localhost:8080/"
    },
    "id": "RpgMhHhrcNnd",
    "outputId": "8fd50c78-76f9-4f59-ff98-8f5d86b1ba0b"
   },
   "outputs": [
    {
     "data": {
      "text/plain": [
       "[1,\n",
       " 2,\n",
       " 3,\n",
       " 4,\n",
       " 5,\n",
       " 6,\n",
       " 7,\n",
       " 8,\n",
       " 9,\n",
       " 2,\n",
       " 4,\n",
       " 6,\n",
       " 8,\n",
       " 10,\n",
       " 12,\n",
       " 14,\n",
       " 16,\n",
       " 18,\n",
       " 3,\n",
       " 6,\n",
       " 9,\n",
       " 12,\n",
       " 15,\n",
       " 18,\n",
       " 21,\n",
       " 24,\n",
       " 27,\n",
       " 4,\n",
       " 8,\n",
       " 12,\n",
       " 16,\n",
       " 20,\n",
       " 24,\n",
       " 28,\n",
       " 32,\n",
       " 36,\n",
       " 5,\n",
       " 10,\n",
       " 15,\n",
       " 20,\n",
       " 25,\n",
       " 30,\n",
       " 35,\n",
       " 40,\n",
       " 45,\n",
       " 6,\n",
       " 12,\n",
       " 18,\n",
       " 24,\n",
       " 30,\n",
       " 36,\n",
       " 42,\n",
       " 48,\n",
       " 54,\n",
       " 7,\n",
       " 14,\n",
       " 21,\n",
       " 28,\n",
       " 35,\n",
       " 42,\n",
       " 49,\n",
       " 56,\n",
       " 63,\n",
       " 8,\n",
       " 16,\n",
       " 24,\n",
       " 32,\n",
       " 40,\n",
       " 48,\n",
       " 56,\n",
       " 64,\n",
       " 72,\n",
       " 9,\n",
       " 18,\n",
       " 27,\n",
       " 36,\n",
       " 45,\n",
       " 54,\n",
       " 63,\n",
       " 72,\n",
       " 81]"
      ]
     },
     "execution_count": 30,
     "metadata": {
      "tags": []
     },
     "output_type": "execute_result"
    }
   ],
   "source": [
    "# 九九乘法表\n",
    "# list comprehension\n",
    "[i * j for i in range(1, 10) for j in range(1, 10)]"
   ]
  },
  {
   "cell_type": "code",
   "execution_count": null,
   "metadata": {
    "colab": {
     "base_uri": "https://localhost:8080/"
    },
    "id": "LWI_PX-TdeLn",
    "outputId": "62b90140-ce59-4eda-f2d9-8e10dd021681"
   },
   "outputs": [
    {
     "name": "stdout",
     "output_type": "stream",
     "text": [
      "0\n",
      "2\n",
      "4\n",
      "6\n",
      "8\n"
     ]
    }
   ],
   "source": [
    "# loop_if\n",
    "\n",
    "for i in range(10):\n",
    "  if i % 2 == 0:\n",
    "    print(i)"
   ]
  },
  {
   "cell_type": "code",
   "execution_count": null,
   "metadata": {
    "colab": {
     "base_uri": "https://localhost:8080/"
    },
    "id": "cW4I2MHudw_0",
    "outputId": "3ffcd279-0fa6-434d-ad62-00d105aa9768"
   },
   "outputs": [
    {
     "data": {
      "text/plain": [
       "[0, 2, 4, 6, 8]"
      ]
     },
     "execution_count": 32,
     "metadata": {
      "tags": []
     },
     "output_type": "execute_result"
    }
   ],
   "source": [
    "# loop_if\n",
    "# list comprehension\n",
    "\n",
    "[i for i in range(10) if i % 2 == 0]"
   ]
  },
  {
   "cell_type": "code",
   "execution_count": null,
   "metadata": {
    "colab": {
     "base_uri": "https://localhost:8080/"
    },
    "id": "UyxKl_NdfDSe",
    "outputId": "732622d1-bc33-4322-d118-b66fda4ee546"
   },
   "outputs": [
    {
     "name": "stdout",
     "output_type": "stream",
     "text": [
      "0\n",
      "1\n",
      "0\n",
      "1\n",
      "0\n",
      "1\n",
      "0\n",
      "1\n",
      "0\n",
      "1\n"
     ]
    }
   ],
   "source": [
    "# loop_if else\n",
    "\n",
    "for i in range(10):\n",
    "  if i % 2 == 0:\n",
    "    print(0)\n",
    "  else:\n",
    "    print(1)"
   ]
  },
  {
   "cell_type": "code",
   "execution_count": null,
   "metadata": {
    "colab": {
     "base_uri": "https://localhost:8080/"
    },
    "id": "YnyjLkQvf8qw",
    "outputId": "57e166a8-adf8-4370-e46a-5518b72f3324"
   },
   "outputs": [
    {
     "data": {
      "text/plain": [
       "[0, 1, 0, 1, 0, 1, 0, 1, 0, 1]"
      ]
     },
     "execution_count": 34,
     "metadata": {
      "tags": []
     },
     "output_type": "execute_result"
    }
   ],
   "source": [
    "# loop_if else\n",
    "# list comprehension\n",
    "\n",
    "[0 if i % 2 == 0 else 1 for i in range(10)]"
   ]
  },
  {
   "cell_type": "code",
   "execution_count": null,
   "metadata": {
    "colab": {
     "base_uri": "https://localhost:8080/"
    },
    "id": "2ucCbtM0hKqN",
    "outputId": "4a5f4388-839f-473f-f967-4887f848c874"
   },
   "outputs": [
    {
     "name": "stdout",
     "output_type": "stream",
     "text": [
      "[1, 2, 3]\n",
      "[4, 5]\n",
      "[6]\n"
     ]
    },
    {
     "data": {
      "text/plain": [
       "[1, 2, 3, 4, 5, 6]"
      ]
     },
     "execution_count": 5,
     "metadata": {
      "tags": []
     },
     "output_type": "execute_result"
    }
   ],
   "source": [
    "# Practice_1\n",
    "# 使src = [1, 2, 3, 4, 5, 6]\n",
    "\n",
    "src = [[1, 2, 3], [4, 5], [6]]\n",
    "\n",
    "ans = []\n",
    "for s in src:\n",
    "  print(s)\n",
    "  ans.extend(s)\n",
    "\n",
    "ans"
   ]
  },
  {
   "cell_type": "code",
   "execution_count": null,
   "metadata": {
    "colab": {
     "base_uri": "https://localhost:8080/"
    },
    "id": "9c5n6nR07OGC",
    "outputId": "25620214-bd8e-44b9-db38-2699d33fd568"
   },
   "outputs": [
    {
     "data": {
      "text/plain": [
       "[1, 2, 3, 4, 5, 6]"
      ]
     },
     "execution_count": 11,
     "metadata": {
      "tags": []
     },
     "output_type": "execute_result"
    }
   ],
   "source": [
    "# Practice_2\n",
    "# 使src = [1, 2, 3, 4, 5, 6]\n",
    "\n",
    "for i in src:\n",
    "  for s in i:\n",
    "    ans.append(s)\n",
    "ans"
   ]
  },
  {
   "cell_type": "code",
   "execution_count": null,
   "metadata": {
    "colab": {
     "base_uri": "https://localhost:8080/"
    },
    "id": "Vn1Tafl865wo",
    "outputId": "49b542fd-ad47-4a35-e00c-e2246cff656c"
   },
   "outputs": [
    {
     "data": {
      "text/plain": [
       "[1, 2, 3, 4, 5, 6]"
      ]
     },
     "execution_count": 22,
     "metadata": {
      "tags": []
     },
     "output_type": "execute_result"
    }
   ],
   "source": [
    "# Practice_3\n",
    "# 使src = [1, 2, 3, 4, 5, 6]\n",
    "# list comprehension\n",
    "\n",
    "src = [[1, 2, 3], [4, 5], [6]]\n",
    "\n",
    "[s for i in src for s in i]"
   ]
  },
  {
   "cell_type": "markdown",
   "metadata": {},
   "source": [
    "## HW：清單中找水果"
   ]
  },
  {
   "cell_type": "code",
   "execution_count": null,
   "metadata": {
    "colab": {
     "base_uri": "https://localhost:8080/"
    },
    "id": "hY3xI4dEBh7r",
    "outputId": "284cc197-63ad-4459-8e3c-eac0701250d5"
   },
   "outputs": [
    {
     "name": "stdout",
     "output_type": "stream",
     "text": [
      "請輸入希歡的水果(Enter結束)蘋果\n",
      "蘋果 在清單中第 1 項\n",
      "請輸入希歡的水果(Enter結束)柳丁\n",
      "柳丁 不在清單中\n",
      "請輸入希歡的水果(Enter結束)\n"
     ]
    }
   ],
   "source": [
    "# 清單中找水果\n",
    "\n",
    "fruits = ['香蕉', '蘋果', '橘子', '鳳梨', '西瓜']\n",
    "f = input('請輸入希歡的水果(Enter結束)')\n",
    "\n",
    "while True:\n",
    "  if f == '':\n",
    "    break\n",
    "\n",
    "  if fruits.count(f) > 0:\n",
    "    print(f,'在清單中第', fruits.index(f), '項')\n",
    "  else:\n",
    "    print(f, '不在清單中')\n",
    "\n",
    "  f = input('請輸入希歡的水果(Enter結束)')\n",
    "\n",
    "print('歡迎再回來')"
   ]
  },
  {
   "cell_type": "markdown",
   "metadata": {},
   "source": [
    "## 補充：List Comprehension"
   ]
  },
  {
   "cell_type": "code",
   "execution_count": null,
   "metadata": {
    "colab": {
     "base_uri": "https://localhost:8080/"
    },
    "id": "rM4NIYqkYQeb",
    "outputId": "216ebc0f-d7b3-4b97-b720-746e02a4dc63"
   },
   "outputs": [
    {
     "data": {
      "text/plain": [
       "[11, 12, 13, 14, 15, 16, 17, 18, 19, 20]"
      ]
     },
     "execution_count": 1,
     "metadata": {},
     "output_type": "execute_result"
    }
   ],
   "source": [
    "# 每數值再加10\n",
    "\n",
    "values = [1, 2, 3, 4, 5, 6, 7, 8, 9, 10]\n",
    "[x + 10 for x in values]"
   ]
  },
  {
   "cell_type": "code",
   "execution_count": null,
   "metadata": {
    "colab": {
     "base_uri": "https://localhost:8080/"
    },
    "id": "cf3C4epMaByy",
    "outputId": "8d59225a-ca5e-447b-f64b-293700d77d08"
   },
   "outputs": [
    {
     "data": {
      "text/plain": [
       "[2, 4, 6, 8, 10]"
      ]
     },
     "execution_count": 2,
     "metadata": {},
     "output_type": "execute_result"
    }
   ],
   "source": [
    "# 被2整除\n",
    "\n",
    "values = [1, 2, 3, 4, 5, 6, 7, 8, 9, 10]\n",
    "[x for x in values if x % 2 == 0]"
   ]
  }
 ],
 "metadata": {
  "colab": {
   "authorship_tag": "ABX9TyMLnzIQ72yozcPS7kqcRn+u",
   "collapsed_sections": [],
   "name": "Day04-20210527-List資料操作.ipynb",
   "provenance": []
  },
  "kernelspec": {
   "display_name": "Python 3",
   "language": "python",
   "name": "python3"
  },
  "language_info": {
   "codemirror_mode": {
    "name": "ipython",
    "version": 3
   },
   "file_extension": ".py",
   "mimetype": "text/x-python",
   "name": "python",
   "nbconvert_exporter": "python",
   "pygments_lexer": "ipython3",
   "version": "3.7.10"
  }
 },
 "nbformat": 4,
 "nbformat_minor": 1
}
