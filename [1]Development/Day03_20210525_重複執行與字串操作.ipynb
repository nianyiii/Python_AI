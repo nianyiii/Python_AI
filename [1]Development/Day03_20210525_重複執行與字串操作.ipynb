{
 "cells": [
  {
   "cell_type": "markdown",
   "metadata": {
    "id": "YglQDDgm1EUQ"
   },
   "source": [
    "## while與for迴圈\n",
    "#### while迴圈"
   ]
  },
  {
   "cell_type": "code",
   "execution_count": null,
   "metadata": {
    "colab": {
     "base_uri": "https://localhost:8080/"
    },
    "id": "f4Bk13Zwt7ss",
    "outputId": "2925f251-180b-4530-9bec-331c547b74f8"
   },
   "outputs": [
    {
     "name": "stdout",
     "output_type": "stream",
     "text": [
      "1\n",
      "2\n",
      "3\n",
      "4\n",
      "5\n",
      "6\n"
     ]
    }
   ],
   "source": [
    "# while迴圈＿知道幾次結束\n",
    "\n",
    "counter = 0\n",
    "while counter <= 5:\n",
    "  counter += 1\n",
    "  print(counter)"
   ]
  },
  {
   "cell_type": "code",
   "execution_count": null,
   "metadata": {
    "colab": {
     "base_uri": "https://localhost:8080/"
    },
    "id": "s9P1iJqBv8tV",
    "outputId": "06d3d161-56b9-4531-99ed-4a743f660fe8"
   },
   "outputs": [
    {
     "name": "stdout",
     "output_type": "stream",
     "text": [
      "輸入hello\n",
      "hello\n",
      "\n",
      "\n",
      "輸入world\n",
      "world\n",
      "\n",
      "\n",
      "輸入stop\n"
     ]
    }
   ],
   "source": [
    "# while迴圈＿不知何時結束\n",
    "\n",
    "while True:\n",
    "  keyword = input('輸入')\n",
    "  if keyword == 'stop':\n",
    "    break\n",
    "  else:\n",
    "    print(keyword)\n",
    "    print('\\n')"
   ]
  },
  {
   "cell_type": "code",
   "execution_count": null,
   "metadata": {
    "colab": {
     "base_uri": "https://localhost:8080/"
    },
    "id": "4OKLsPqDxB7s",
    "outputId": "027115f2-3766-471c-aeed-3fdf7e566c89"
   },
   "outputs": [
    {
     "name": "stdout",
     "output_type": "stream",
     "text": [
      "Jean\n",
      "Kuku\n",
      "Lucy\n"
     ]
    }
   ],
   "source": [
    "# for迴圈＿已知幾次結束\n",
    "\n",
    "for i in ['Jean', 'Kuku', 'Lucy']:\n",
    "  print(i)"
   ]
  },
  {
   "cell_type": "code",
   "execution_count": null,
   "metadata": {
    "colab": {
     "base_uri": "https://localhost:8080/"
    },
    "id": "8mhQQyFZyKHj",
    "outputId": "83b58afc-9874-4f23-b991-5338a74289bd"
   },
   "outputs": [
    {
     "name": "stdout",
     "output_type": "stream",
     "text": [
      "6\n",
      "5\n",
      "4\n",
      "3\n",
      "2\n",
      "1\n",
      "離開後a為 0\n"
     ]
    }
   ],
   "source": [
    "# Practice：遞減練習\n",
    "\n",
    "a = 6\n",
    "while a > 0:\n",
    "  print(a)\n",
    "  a -= 1\n",
    "print('離開後a為',a)"
   ]
  },
  {
   "cell_type": "code",
   "execution_count": null,
   "metadata": {
    "colab": {
     "base_uri": "https://localhost:8080/"
    },
    "id": "zKc1QV6RzEVP",
    "outputId": "7cd75bf3-6f53-491c-d7cb-42b4bf818766"
   },
   "outputs": [
    {
     "name": "stdout",
     "output_type": "stream",
     "text": [
      "15\n",
      "13\n",
      "11\n",
      "9\n",
      "7\n",
      "5\n",
      "3\n",
      "1\n"
     ]
    }
   ],
   "source": [
    "# Practice\n",
    "# 最後輸出為1\n",
    "\n",
    "a = 15\n",
    "while a > 0:\n",
    "  print(a)\n",
    "  a -= 2"
   ]
  },
  {
   "cell_type": "code",
   "execution_count": null,
   "metadata": {
    "colab": {
     "base_uri": "https://localhost:8080/"
    },
    "id": "ZY21UrYQzj2f",
    "outputId": "2fe8adfb-55cb-4a57-87b6-24ff05baa68a"
   },
   "outputs": [
    {
     "name": "stdout",
     "output_type": "stream",
     "text": [
      "13\n",
      "11\n",
      "9\n",
      "7\n",
      "5\n",
      "3\n",
      "1\n",
      "-1\n"
     ]
    }
   ],
   "source": [
    "# Practice\n",
    "# 延續上題，更改print位置，最後輸出為-1\n",
    "\n",
    "a = 15\n",
    "while a > 0:\n",
    "  a -= 2\n",
    "  print(a)"
   ]
  },
  {
   "cell_type": "markdown",
   "metadata": {
    "id": "bLHYxL2u125H"
   },
   "source": [
    "#### for迴圈"
   ]
  },
  {
   "cell_type": "code",
   "execution_count": null,
   "metadata": {
    "colab": {
     "base_uri": "https://localhost:8080/"
    },
    "id": "v0fke4Ty2xHq",
    "outputId": "4453adf8-bf73-4a22-a490-570462359bd4"
   },
   "outputs": [
    {
     "name": "stdout",
     "output_type": "stream",
     "text": [
      "1\n",
      "2\n",
      "3\n",
      "4\n",
      "5\n"
     ]
    }
   ],
   "source": [
    "# 輸出數字1~5（含頭不含尾）\n",
    "\n",
    "for i in range(1, 6):\n",
    "  print(i)"
   ]
  },
  {
   "cell_type": "code",
   "execution_count": null,
   "metadata": {
    "colab": {
     "base_uri": "https://localhost:8080/"
    },
    "id": "sQ13lACQ3heD",
    "outputId": "069648fa-7144-4a7f-e317-174321b7ce1d"
   },
   "outputs": [
    {
     "name": "stdout",
     "output_type": "stream",
     "text": [
      "0\n",
      "1\n",
      "2\n",
      "3\n",
      "離開後i為 3\n"
     ]
    }
   ],
   "source": [
    "# Practice\n",
    "# 等同range(0, 4)\n",
    "\n",
    "for i in range(4):\n",
    "  print(i)\n",
    "print('離開後i為', i)"
   ]
  },
  {
   "cell_type": "code",
   "execution_count": null,
   "metadata": {
    "colab": {
     "base_uri": "https://localhost:8080/"
    },
    "id": "ZgPTevxI4dAm",
    "outputId": "476e78d8-dd59-47c4-929d-39b4a76bdd7f"
   },
   "outputs": [
    {
     "name": "stdout",
     "output_type": "stream",
     "text": [
      "0\n",
      "2\n",
      "4\n",
      "6\n",
      "8\n"
     ]
    }
   ],
   "source": [
    "# for i in range(頭, 尾, 間隔)\n",
    "\n",
    "for i in range(0, 10, 2):\n",
    "  print(i)"
   ]
  },
  {
   "cell_type": "code",
   "execution_count": null,
   "metadata": {
    "colab": {
     "base_uri": "https://localhost:8080/"
    },
    "id": "kX0lbvEW5h6e",
    "outputId": "0ffad3ed-7923-43dd-b4f4-4d7d8e3a5455"
   },
   "outputs": [
    {
     "name": "stdout",
     "output_type": "stream",
     "text": [
      "4\n",
      "3\n",
      "2\n",
      "1\n",
      "離開後i為 1\n"
     ]
    }
   ],
   "source": [
    "# Practice\n",
    "\n",
    "for i in range(4, 0, -1):\n",
    "  print(i)\n",
    "print('離開後i為', i)"
   ]
  },
  {
   "cell_type": "markdown",
   "metadata": {
    "id": "7n0uFaE26awN"
   },
   "source": [
    "#### 迴圈中斷"
   ]
  },
  {
   "cell_type": "code",
   "execution_count": null,
   "metadata": {
    "colab": {
     "base_uri": "https://localhost:8080/"
    },
    "id": "I1Us6VDf73lD",
    "outputId": "7d0d25d7-8103-4d6b-f706-0064f2f1ec0e"
   },
   "outputs": [
    {
     "name": "stdout",
     "output_type": "stream",
     "text": [
      "1\n",
      "3\n",
      "5\n",
      "7\n",
      "9\n"
     ]
    }
   ],
   "source": [
    "# break：迴圈中斷後，跳出迴圈\n",
    "# continue：迴圈中斷後，繼續執行迴圈(忽略）\n",
    "\n",
    "for i in range(1, 11):\n",
    "  if i % 2 == 0:\n",
    "    continue\n",
    "  else:\n",
    "    print(i)"
   ]
  },
  {
   "cell_type": "code",
   "execution_count": null,
   "metadata": {
    "colab": {
     "base_uri": "https://localhost:8080/"
    },
    "id": "aTDS9Kn18dze",
    "outputId": "343f7ae9-0b93-4120-9994-6fbfbc7fbc2b"
   },
   "outputs": [
    {
     "name": "stdout",
     "output_type": "stream",
     "text": [
      "1\n",
      "2\n",
      "3\n",
      "4\n",
      "5\n",
      "6\n"
     ]
    }
   ],
   "source": [
    "for i in range(1, 11):\n",
    "  if i == 7:\n",
    "    break\n",
    "  print(i)"
   ]
  },
  {
   "cell_type": "code",
   "execution_count": null,
   "metadata": {
    "colab": {
     "base_uri": "https://localhost:8080/"
    },
    "id": "Ufeay4nw81PB",
    "outputId": "3e79f616-860e-478e-9ac6-1afa7abf7de6"
   },
   "outputs": [
    {
     "name": "stdout",
     "output_type": "stream",
     "text": [
      "a\n",
      "b\n"
     ]
    }
   ],
   "source": [
    "# Practice\n",
    "\n",
    "i = ['a', 'b', 'c', 'd']\n",
    "\n",
    "for j in i:\n",
    "  if j == 'c':\n",
    "    break\n",
    "  print(j)"
   ]
  },
  {
   "cell_type": "code",
   "execution_count": null,
   "metadata": {
    "colab": {
     "base_uri": "https://localhost:8080/"
    },
    "id": "D8u8bk3s9hKS",
    "outputId": "3f240e4b-7dc8-4edb-c622-e6566147ece5"
   },
   "outputs": [
    {
     "name": "stdout",
     "output_type": "stream",
     "text": [
      "a\n",
      "b\n",
      "d\n"
     ]
    }
   ],
   "source": [
    "# Practice\n",
    "# 延續上題，將break更換成continue，“c”值條件符合則忽略\n",
    "\n",
    "i = ['a', 'b', 'c', 'd']\n",
    "\n",
    "for j in i:\n",
    "  if j == 'c':\n",
    "    continue\n",
    "  print(j)"
   ]
  },
  {
   "cell_type": "markdown",
   "metadata": {},
   "source": [
    "## 字串符號與操作\n",
    "#### 單雙引號、跳脫字元"
   ]
  },
  {
   "cell_type": "code",
   "execution_count": null,
   "metadata": {
    "colab": {
     "base_uri": "https://localhost:8080/"
    },
    "id": "kEf1uewF_zd5",
    "outputId": "f55c2de3-a510-49d1-b36c-1f8b6188ea2d"
   },
   "outputs": [
    {
     "name": "stdout",
     "output_type": "stream",
     "text": [
      "I'm \n",
      "Jean\twang.\n"
     ]
    }
   ],
   "source": [
    "# 跳脫字元，反斜線作為跳脫字元，可引用特殊字元\n",
    "# \\\\ 反斜線\n",
    "# \\' 單引號\n",
    "# \\\" 雙引號\n",
    "# \\n 換行\n",
    "# \\t 固定間隔\n",
    "\n",
    "message = 'I\\'m \\nJean\\twang.'\n",
    "print(message)"
   ]
  },
  {
   "cell_type": "markdown",
   "metadata": {},
   "source": [
    "#### 索引編號與取值"
   ]
  },
  {
   "cell_type": "code",
   "execution_count": null,
   "metadata": {
    "colab": {
     "base_uri": "https://localhost:8080/"
    },
    "id": "_50E9SQoCVmJ",
    "outputId": "a084c88a-e059-4e18-b831-ffc2cae03595"
   },
   "outputs": [
    {
     "data": {
      "text/plain": [
       "('ell', 'Wor', 'rld')"
      ]
     },
     "execution_count": 25,
     "metadata": {
      "tags": []
     },
     "output_type": "execute_result"
    }
   ],
   "source": [
    "# 索引值\n",
    "\n",
    "#           正+++++++++\n",
    "#           01234567891\n",
    "#                     0\n",
    "mystring = 'Hello World'\n",
    "#           ----------負\n",
    "#           11\n",
    "#           10987654321\n",
    "\n",
    "mystring[1:4], mystring[-5:-2], mystring[-3:]"
   ]
  },
  {
   "cell_type": "code",
   "execution_count": null,
   "metadata": {
    "colab": {
     "base_uri": "https://localhost:8080/"
    },
    "id": "nQHuZ-HaEVmq",
    "outputId": "531c2a1a-2f4a-4448-ca37-9ae162947f7b"
   },
   "outputs": [
    {
     "name": "stdout",
     "output_type": "stream",
     "text": [
      "Hello Hello\n",
      "World World\n"
     ]
    }
   ],
   "source": [
    "# Practice 個別輸出Hello、World\n",
    "\n",
    "mystring = 'Hello World'\n",
    "\n",
    "print(mystring[:5],mystring[:-6])\n",
    "print(mystring[6:],mystring[-5:])"
   ]
  },
  {
   "cell_type": "markdown",
   "metadata": {
    "id": "aquuvisPHK13"
   },
   "source": [
    "## 字串取代與搜尋"
   ]
  },
  {
   "cell_type": "code",
   "execution_count": null,
   "metadata": {
    "colab": {
     "base_uri": "https://localhost:8080/"
    },
    "id": "4PMgF0zPINvV",
    "outputId": "c8b5404c-96de-46a3-a5c4-4db5c74cc2c6"
   },
   "outputs": [
    {
     "name": "stdout",
     "output_type": "stream",
     "text": [
      "更換一個: Hell* World\n",
      "全部更換: He!!o Wor!d\n"
     ]
    }
   ],
   "source": [
    "# 可將指定字串進行更換：str.replace(舊字串, 新字串)\n",
    "# 可指定第幾個位置\"後\"不進行更換：str.replace(舊字串, 新字串, 換幾個)\n",
    "\n",
    "mystring = 'Hello World'\n",
    "print('更換一個:', mystring.replace('o', '*', 1))\n",
    "print('全部更換:', mystring.replace('l', '!', -1))"
   ]
  },
  {
   "cell_type": "code",
   "execution_count": null,
   "metadata": {
    "colab": {
     "base_uri": "https://localhost:8080/",
     "height": 37
    },
    "id": "JfWddWl3KalR",
    "outputId": "75aa528a-dc7a-45ee-8bc2-db4fdf061c8a"
   },
   "outputs": [
    {
     "data": {
      "application/vnd.google.colaboratory.intrinsic+json": {
       "type": "string"
      },
      "text/plain": [
       "'Th** ** Python, That is Java; This is SQLite, That is MySQL'"
      ]
     },
     "execution_count": 33,
     "metadata": {
      "tags": []
     },
     "output_type": "execute_result"
    }
   ],
   "source": [
    "# Practice\n",
    "# 更換兩個\n",
    "\n",
    "string = 'This is Python, That is Java; This is SQLite, That is MySQL'\n",
    "string.replace('is', '**', 2)"
   ]
  },
  {
   "cell_type": "code",
   "execution_count": null,
   "metadata": {
    "colab": {
     "base_uri": "https://localhost:8080/"
    },
    "id": "qMWmwfsMPIp_",
    "outputId": "1b222ddf-3ed0-4b81-f9fd-b7f52813ce02"
   },
   "outputs": [
    {
     "data": {
      "text/plain": [
       "8"
      ]
     },
     "execution_count": 39,
     "metadata": {
      "tags": []
     },
     "output_type": "execute_result"
    }
   ],
   "source": [
    "# 搜尋指定內容的位置：string.find(搜尋字串, 起始位置, 結束位置)\n",
    "# -> 搜尋不到回傳-1\n",
    "# -> 若無起始、結束位置，預設由0開始\n",
    "# -> 若無結束位置，預設到最後一個字\n",
    "\n",
    "string = 'This is Python Tutorial, there'\n",
    "search = 'Python'\n",
    "string.find(search, 0, -1)"
   ]
  },
  {
   "cell_type": "code",
   "execution_count": null,
   "metadata": {
    "colab": {
     "base_uri": "https://localhost:8080/"
    },
    "id": "eau4q9uCPxmC",
    "outputId": "2ef1984c-8145-400d-eb50-5ba3b71548ee"
   },
   "outputs": [
    {
     "data": {
      "text/plain": [
       "8"
      ]
     },
     "execution_count": 40,
     "metadata": {
      "tags": []
     },
     "output_type": "execute_result"
    }
   ],
   "source": [
    "# 若有兩個相同的指定內容，以搜尋到的第一個位置為主\n",
    "string = 'This is Python Tutorial, there Python'\n",
    "search = 'Python'\n",
    "string.find(search, 0)"
   ]
  },
  {
   "cell_type": "markdown",
   "metadata": {
    "id": "LyD-nK0eQ0Je"
   },
   "source": [
    "## 字串插入與切割"
   ]
  },
  {
   "cell_type": "code",
   "execution_count": null,
   "metadata": {
    "colab": {
     "base_uri": "https://localhost:8080/"
    },
    "id": "Gi3pYGR3ZzvD",
    "outputId": "9b2370f6-2234-40f1-bc92-37c996d688a3"
   },
   "outputs": [
    {
     "name": "stdout",
     "output_type": "stream",
     "text": [
      "JeanLucyKuku\n",
      "Jean,Lucy,Kuku\n"
     ]
    }
   ],
   "source": [
    "# join()：於字串或字元之間加入指定文字\n",
    "# -> 要插入的文字.join(string)\n",
    "\n",
    "# split()：將字串進行切割\n",
    "# -> string.split(分割符號)\n",
    "# -> string.split(分割符號, 分割次數)\n",
    "\n",
    "names = ['Jean', 'Lucy', 'Kuku']\n",
    "print(''.join(names))\n",
    "print(','.join(names))"
   ]
  },
  {
   "cell_type": "code",
   "execution_count": null,
   "metadata": {
    "colab": {
     "base_uri": "https://localhost:8080/"
    },
    "id": "ZIbvSnHlazIT",
    "outputId": "243f8b5a-7104-46c1-8b49-8f184aa080fb"
   },
   "outputs": [
    {
     "data": {
      "text/plain": [
       "['Jean', ' Lucy', ' Kuku']"
      ]
     },
     "execution_count": 47,
     "metadata": {
      "tags": []
     },
     "output_type": "execute_result"
    }
   ],
   "source": [
    "names = 'Jean, Lucy, Kuku'\n",
    "names.split(',')"
   ]
  },
  {
   "cell_type": "code",
   "execution_count": null,
   "metadata": {
    "colab": {
     "base_uri": "https://localhost:8080/",
     "height": 37
    },
    "id": "tWFmygVCbuMd",
    "outputId": "258e9d81-f38d-41bf-a510-a8891cc19d39"
   },
   "outputs": [
    {
     "data": {
      "application/vnd.google.colaboratory.intrinsic+json": {
       "type": "string"
      },
      "text/plain": [
       "'a-b-c'"
      ]
     },
     "execution_count": 50,
     "metadata": {
      "tags": []
     },
     "output_type": "execute_result"
    }
   ],
   "source": [
    "# Practice\n",
    "\n",
    "string = ['a', 'b', 'c']\n",
    "'-'.join(string)"
   ]
  },
  {
   "cell_type": "code",
   "execution_count": null,
   "metadata": {
    "colab": {
     "base_uri": "https://localhost:8080/",
     "height": 71
    },
    "id": "GCUix6_OcTOX",
    "outputId": "4edb663b-6887-4546-fdde-60aa69373965"
   },
   "outputs": [
    {
     "name": "stdout",
     "output_type": "stream",
     "text": [
      "P:y:t:h:o:n\n",
      "['P', 'y', 't', 'h', 'o', 'n']\n"
     ]
    },
    {
     "data": {
      "application/vnd.google.colaboratory.intrinsic+json": {
       "type": "string"
      },
      "text/plain": [
       "'P:y:t:h:o:n'"
      ]
     },
     "execution_count": 53,
     "metadata": {
      "tags": []
     },
     "output_type": "execute_result"
    }
   ],
   "source": [
    "# Practice 'Python'為字串，等同使用list('Python')\n",
    "\n",
    "string = ':'.join('Python')\n",
    "print(string)\n",
    "\n",
    "data = list('Python')\n",
    "print(data)\n",
    "':'.join(data)"
   ]
  },
  {
   "cell_type": "code",
   "execution_count": null,
   "metadata": {
    "colab": {
     "base_uri": "https://localhost:8080/"
    },
    "id": "6mx7dohTeaPp",
    "outputId": "636a3ac7-8ae4-4458-ba38-44c45bad7f9f"
   },
   "outputs": [
    {
     "name": "stdout",
     "output_type": "stream",
     "text": [
      "['python', 'java', 'c++', 'ruby']\n"
     ]
    }
   ],
   "source": [
    "# Practice\n",
    "string = 'python-java-c++-ruby'\n",
    "print(string.split('-'))"
   ]
  },
  {
   "cell_type": "code",
   "execution_count": null,
   "metadata": {
    "colab": {
     "base_uri": "https://localhost:8080/"
    },
    "id": "Us9JWpjzfDEF",
    "outputId": "7b497d56-2318-4a4d-fa3a-0b71e2c7a77c"
   },
   "outputs": [
    {
     "name": "stdout",
     "output_type": "stream",
     "text": [
      "['python', 'java-c++-ruby']\n"
     ]
    }
   ],
   "source": [
    "# Practice 延續上題，只分割一個\n",
    "string = 'python-java-c++-ruby'\n",
    "print(string.split('-', 1))"
   ]
  },
  {
   "cell_type": "markdown",
   "metadata": {},
   "source": [
    "## 字串文字接龍"
   ]
  },
  {
   "cell_type": "code",
   "execution_count": null,
   "metadata": {
    "colab": {
     "base_uri": "https://localhost:8080/"
    },
    "id": "V0lTMx5mkIQX",
    "outputId": "a6ca57d7-b38e-4b07-d13f-cdb2542e5339"
   },
   "outputs": [
    {
     "name": "stdout",
     "output_type": "stream",
     "text": [
      "請輸入一個字串python\n",
      "請再輸入一個字串new\n",
      "python_new\n",
      "請再輸入一個字串well\n",
      "python_new_well\n",
      "請再輸入一個字串long time\n",
      "python_new_well_long time\n",
      "請再輸入一個字串else\n",
      "python_new_well_long time_else\n",
      "請再輸入一個字串ok\n",
      "剩下幾次 4\n",
      "請再輸入一個字串else\n",
      "python_new_well_long time_else_else\n",
      "請再輸入一個字串h\n",
      "剩下幾次 3\n",
      "請再輸入一個字串look\n",
      "剩下幾次 2\n",
      "請再輸入一個字串see\n",
      "剩下幾次 1\n",
      "請再輸入一個字串yo\n",
      "剩下幾次 0\n",
      "歡迎再次挑戰\n"
     ]
    }
   ],
   "source": [
    "# 失敗5次退出遊戲\n",
    "\n",
    "count = 5\n",
    "string = input('請輸入一個字串')\n",
    "\n",
    "while True:\n",
    "  word = input('請再輸入一個字串')\n",
    "\n",
    "  if string[-1] == word[0]:\n",
    "    string = string + '_' + word\n",
    "    print(string)\n",
    "\n",
    "  else:\n",
    "    count -= 1\n",
    "    print('剩下幾次', count)\n",
    "\n",
    "  if count <= 0:\n",
    "    break\n",
    "\n",
    "print('歡迎再次挑戰')"
   ]
  }
 ],
 "metadata": {
  "colab": {
   "authorship_tag": "ABX9TyOOvsnw7Z8TSv37OKHmrn/S",
   "collapsed_sections": [],
   "name": "Day03-20210525-重複執行與字串操作.ipynb",
   "provenance": []
  },
  "kernelspec": {
   "display_name": "Python 3",
   "language": "python",
   "name": "python3"
  },
  "language_info": {
   "codemirror_mode": {
    "name": "ipython",
    "version": 3
   },
   "file_extension": ".py",
   "mimetype": "text/x-python",
   "name": "python",
   "nbconvert_exporter": "python",
   "pygments_lexer": "ipython3",
   "version": "3.7.10"
  }
 },
 "nbformat": 4,
 "nbformat_minor": 1
}
