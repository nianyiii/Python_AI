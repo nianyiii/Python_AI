{
 "cells": [
  {
   "cell_type": "markdown",
   "metadata": {},
   "source": [
    "## 程式概念與指定"
   ]
  },
  {
   "cell_type": "code",
   "execution_count": null,
   "metadata": {
    "colab": {
     "base_uri": "https://localhost:8080/"
    },
    "id": "DJ6kdZjwM9-D",
    "outputId": "e301e476-347d-4a91-db78-58a584ddbab8"
   },
   "outputs": [
    {
     "name": "stdout",
     "output_type": "stream",
     "text": [
      "140495277066272 140495277066512\n",
      "<class 'list'> <class 'list'>\n"
     ]
    }
   ],
   "source": [
    "# 放在記憶體中的變數\n",
    "#weights、heights 變數\n",
    "\n",
    "weights = [77, 88, 66]\n",
    "heights = [177, 188, 166]\n",
    "\n",
    "# 占用記憶體(位置)\n",
    "print(id(weights), id(heights))\n",
    "\n",
    "# 查詢物件類型\n",
    "print(type(weights), type(heights))"
   ]
  },
  {
   "cell_type": "code",
   "execution_count": null,
   "metadata": {
    "colab": {
     "base_uri": "https://localhost:8080/"
    },
    "id": "433O5tX5awJL",
    "outputId": "aa04ef4f-f2db-4100-ef78-a68e475c217b"
   },
   "outputs": [
    {
     "name": "stdout",
     "output_type": "stream",
     "text": [
      "<class 'tuple'>\n",
      "<class 'list'>\n",
      "<class 'dict'>\n"
     ]
    }
   ],
   "source": [
    "# tuple = list 不可變更 (tuple)\n",
    "students = ('Lewis', 'Ada', 'Julia')\n",
    "print(type(students))\n",
    "\n",
    "# list 可以變更 [list]\n",
    "students = ['Lewis', 'Ada', 'Julia']\n",
    "print(type(students))\n",
    "\n",
    "# dictionay 字典 {dict}\n",
    "school = {'Lewis':77, 'Ada':88, 'Julia':66}\n",
    "print(type(school))"
   ]
  },
  {
   "cell_type": "code",
   "execution_count": null,
   "metadata": {
    "colab": {
     "base_uri": "https://localhost:8080/"
    },
    "id": "InV-MJcGcBOS",
    "outputId": "115db7a6-8261-4481-9325-6be788cb8411"
   },
   "outputs": [
    {
     "name": "stdout",
     "output_type": "stream",
     "text": [
      "['__class__', '__contains__', '__delattr__', '__delitem__', '__dir__', '__doc__', '__eq__', '__format__', '__ge__', '__getattribute__', '__getitem__', '__gt__', '__hash__', '__init__', '__init_subclass__', '__iter__', '__le__', '__len__', '__lt__', '__ne__', '__new__', '__reduce__', '__reduce_ex__', '__repr__', '__setattr__', '__setitem__', '__sizeof__', '__str__', '__subclasshook__', 'clear', 'copy', 'fromkeys', 'get', 'items', 'keys', 'pop', 'popitem', 'setdefault', 'update', 'values']\n",
      "['__add__', '__class__', '__contains__', '__delattr__', '__delitem__', '__dir__', '__doc__', '__eq__', '__format__', '__ge__', '__getattribute__', '__getitem__', '__gt__', '__hash__', '__iadd__', '__imul__', '__init__', '__init_subclass__', '__iter__', '__le__', '__len__', '__lt__', '__mul__', '__ne__', '__new__', '__reduce__', '__reduce_ex__', '__repr__', '__reversed__', '__rmul__', '__setattr__', '__setitem__', '__sizeof__', '__str__', '__subclasshook__', 'append', 'clear', 'copy', 'count', 'extend', 'index', 'insert', 'pop', 'remove', 'reverse', 'sort']\n",
      "['__add__', '__class__', '__contains__', '__delattr__', '__delitem__', '__dir__', '__doc__', '__eq__', '__format__', '__ge__', '__getattribute__', '__getitem__', '__gt__', '__hash__', '__iadd__', '__imul__', '__init__', '__init_subclass__', '__iter__', '__le__', '__len__', '__lt__', '__mul__', '__ne__', '__new__', '__reduce__', '__reduce_ex__', '__repr__', '__reversed__', '__rmul__', '__setattr__', '__setitem__', '__sizeof__', '__str__', '__subclasshook__', 'append', 'clear', 'copy', 'count', 'extend', 'index', 'insert', 'pop', 'remove', 'reverse', 'sort']\n",
      "['__add__', '__class__', '__contains__', '__delattr__', '__delitem__', '__dir__', '__doc__', '__eq__', '__format__', '__ge__', '__getattribute__', '__getitem__', '__gt__', '__hash__', '__iadd__', '__imul__', '__init__', '__init_subclass__', '__iter__', '__le__', '__len__', '__lt__', '__mul__', '__ne__', '__new__', '__reduce__', '__reduce_ex__', '__repr__', '__reversed__', '__rmul__', '__setattr__', '__setitem__', '__sizeof__', '__str__', '__subclasshook__', 'append', 'clear', 'copy', 'count', 'extend', 'index', 'insert', 'pop', 'remove', 'reverse', 'sort']\n"
     ]
    }
   ],
   "source": [
    "# 列印 顯示“變數”的所有方法跟屬性\n",
    "\n",
    "print(dir(school))\n",
    "print(dir(students))\n",
    "print(dir(weights))\n",
    "print(dir(heights))"
   ]
  },
  {
   "cell_type": "code",
   "execution_count": null,
   "metadata": {
    "colab": {
     "base_uri": "https://localhost:8080/"
    },
    "id": "uQZCoD0Qdrv5",
    "outputId": "1a3de5e8-d25d-4087-f2a9-b2f7c2295528"
   },
   "outputs": [
    {
     "name": "stdout",
     "output_type": "stream",
     "text": [
      "['__add__', '__class__', '__contains__', '__delattr__', '__delitem__', '__dir__', '__doc__', '__eq__', '__format__', '__ge__', '__getattribute__', '__getitem__', '__gt__', '__hash__', '__iadd__', '__imul__', '__init__', '__init_subclass__', '__iter__', '__le__', '__len__', '__lt__', '__mul__', '__ne__', '__new__', '__reduce__', '__reduce_ex__', '__repr__', '__reversed__', '__rmul__', '__setattr__', '__setitem__', '__sizeof__', '__str__', '__subclasshook__', 'append', 'clear', 'copy', 'count', 'extend', 'index', 'insert', 'pop', 'remove', 'reverse', 'sort']\n",
      "['Lewis', 'Ada', 'Julia', 'Nancy']\n",
      "<class 'list'>\n"
     ]
    }
   ],
   "source": [
    "# 方法() = method = 可以針對宣告的變數進行增加、刪除、修改的動作就是方法，譬如append\n",
    "# 屬性 = property = 變數的描述資料__class__，可以描述說明宣告的變數，譬如哪一種類型 __class__\n",
    "\n",
    "members = ['Lewis', 'Ada', 'Julia']\n",
    "print(dir(members))\n",
    "\n",
    "members.append('Nancy')\n",
    "print(members) #方法\n",
    "print(members.__class__) #屬性"
   ]
  },
  {
   "cell_type": "markdown",
   "metadata": {
    "id": "XPW5PIBfbNF3"
   },
   "source": [
    "變數：程式執行時需要儲存，這個儲存的對象就是變數，是由我們自行定義的名稱。"
   ]
  },
  {
   "cell_type": "code",
   "execution_count": null,
   "metadata": {
    "colab": {
     "base_uri": "https://localhost:8080/"
    },
    "id": "dyL6Xdr4fzbY",
    "outputId": "6b1cb3d4-0613-4a67-eb77-9f9e8c592435"
   },
   "outputs": [
    {
     "name": "stdout",
     "output_type": "stream",
     "text": [
      "10\n"
     ]
    }
   ],
   "source": [
    "openedx = 100  # 第一次宣告\n",
    "openedx = 10  # 再一次宣告\n",
    "print(openedx)  # 以最後宣告為主"
   ]
  },
  {
   "cell_type": "code",
   "execution_count": null,
   "metadata": {
    "colab": {
     "base_uri": "https://localhost:8080/"
    },
    "id": "7vxjfpYcgTFV",
    "outputId": "9aac0a42-52a8-4a96-a8b0-1f7bfbdc3ef5"
   },
   "outputs": [
    {
     "name": "stdout",
     "output_type": "stream",
     "text": [
      "94357195267488 94357195267488 94357195267488\n",
      "10 30 30\n",
      "94357195266848 94357195267488 94357195267488\n"
     ]
    }
   ],
   "source": [
    "# 如有多個相同內容的變數要宣告，可以一起指定變數內容\n",
    "\n",
    "x = y = z = 30\n",
    "print(id(x), id(y), id(z)) # 數值一樣狀況下，記憶體位址相同\n",
    "\n",
    "x = 10\n",
    "print(x, y, z)\n",
    "print(id(x), id(y), id(z)) # 變數內容變更宣告後，記憶體位址也會改變"
   ]
  },
  {
   "cell_type": "code",
   "execution_count": null,
   "metadata": {
    "colab": {
     "base_uri": "https://localhost:8080/"
    },
    "id": "nIoToDbvhx5c",
    "outputId": "b243e2cc-8d6e-45a8-f43d-31dd76b8b3ad"
   },
   "outputs": [
    {
     "name": "stdout",
     "output_type": "stream",
     "text": [
      "94357195267488 94357195267488 94357195267488\n"
     ]
    }
   ],
   "source": [
    "# 數值一樣狀況下，記憶體位址相同\n",
    "\n",
    "x = 30\n",
    "y = 30\n",
    "z = 30\n",
    "print(id(x), id(y), id(z))"
   ]
  },
  {
   "cell_type": "code",
   "execution_count": null,
   "metadata": {
    "id": "YrHVDiQ_gzEt"
   },
   "outputs": [],
   "source": [
    "# 函式後方加上“問號”，可跳出函式說明\n",
    "id?"
   ]
  },
  {
   "cell_type": "code",
   "execution_count": null,
   "metadata": {
    "colab": {
     "base_uri": "https://localhost:8080/"
    },
    "id": "KW427_GJnz0a",
    "outputId": "eb686ed5-3935-4ee9-fdf5-754cb1fd7139"
   },
   "outputs": [
    {
     "name": "stdout",
     "output_type": "stream",
     "text": [
      "members\t x\t y\t z\t \n"
     ]
    }
   ],
   "source": [
    "# 用下列指令可找出該ipynb連線有多少已經宣告的變數<jupyter magic command>\n",
    "%who"
   ]
  },
  {
   "cell_type": "code",
   "execution_count": null,
   "metadata": {
    "id": "EdEQz3TSoIV0"
   },
   "outputs": [],
   "source": [
    "pcschool, years = '中興', 2021\n",
    "############################### 等同下方\n",
    "pcschool = '中興'\n",
    "years = 2021"
   ]
  },
  {
   "cell_type": "code",
   "execution_count": null,
   "metadata": {
    "colab": {
     "base_uri": "https://localhost:8080/"
    },
    "id": "LGm9M_N8rPXE",
    "outputId": "e7a1879c-b922-43ed-ba78-b123fe1755ac"
   },
   "outputs": [
    {
     "data": {
      "text/plain": [
       "20"
      ]
     },
     "execution_count": 14,
     "metadata": {
      "tags": []
     },
     "output_type": "execute_result"
    }
   ],
   "source": [
    "# 未輸入print，後者會覆蓋前者，因此x的值不會輸出\n",
    "\n",
    "x = 10\n",
    "y = 20\n",
    "x\n",
    "y"
   ]
  },
  {
   "cell_type": "code",
   "execution_count": null,
   "metadata": {
    "colab": {
     "base_uri": "https://localhost:8080/",
     "height": 215
    },
    "id": "gt7oo3kGhERX",
    "outputId": "ca8870e5-8dae-4990-e363-22e573c8ea9a"
   },
   "outputs": [
    {
     "name": "stdout",
     "output_type": "stream",
     "text": [
      "Nian\n"
     ]
    },
    {
     "ename": "NameError",
     "evalue": "ignored",
     "output_type": "error",
     "traceback": [
      "\u001b[0;31m---------------------------------------------------------------------------\u001b[0m",
      "\u001b[0;31mNameError\u001b[0m                                 Traceback (most recent call last)",
      "\u001b[0;32m<ipython-input-17-a64e8a0d9476>\u001b[0m in \u001b[0;36m<module>\u001b[0;34m()\u001b[0m\n\u001b[1;32m      2\u001b[0m \u001b[0mNAME\u001b[0m \u001b[0;34m,\u001b[0m \u001b[0mname\u001b[0m \u001b[0;34m=\u001b[0m \u001b[0;34m'Nian'\u001b[0m\u001b[0;34m,\u001b[0m \u001b[0;34m'Yi'\u001b[0m\u001b[0;34m\u001b[0m\u001b[0;34m\u001b[0m\u001b[0m\n\u001b[1;32m      3\u001b[0m \u001b[0mprint\u001b[0m\u001b[0;34m(\u001b[0m\u001b[0mNAME\u001b[0m\u001b[0;34m)\u001b[0m\u001b[0;34m\u001b[0m\u001b[0;34m\u001b[0m\u001b[0m\n\u001b[0;32m----> 4\u001b[0;31m \u001b[0mprint\u001b[0m\u001b[0;34m(\u001b[0m\u001b[0mName\u001b[0m\u001b[0;34m)\u001b[0m\u001b[0;34m\u001b[0m\u001b[0;34m\u001b[0m\u001b[0m\n\u001b[0m",
      "\u001b[0;31mNameError\u001b[0m: name 'Name' is not defined"
     ]
    }
   ],
   "source": [
    "# PYTHON區分大小寫\n",
    "\n",
    "NAME, name = 'Nian', 'Yi'\n",
    "print(NAME)\n",
    "print(Name) #產生錯誤"
   ]
  },
  {
   "cell_type": "code",
   "execution_count": null,
   "metadata": {
    "colab": {
     "base_uri": "https://localhost:8080/"
    },
    "id": "jVnwDstxiHsW",
    "outputId": "af91165e-fed9-412e-801d-104f2bd933bb"
   },
   "outputs": [
    {
     "name": "stdout",
     "output_type": "stream",
     "text": [
      "30\n"
     ]
    }
   ],
   "source": [
    "'''\n",
    "這是多行註解\n",
    "'''\n",
    "x = x + 20\n",
    "print(x)"
   ]
  },
  {
   "cell_type": "code",
   "execution_count": null,
   "metadata": {
    "colab": {
     "base_uri": "https://localhost:8080/"
    },
    "id": "hBBQSyIAr2fL",
    "outputId": "5d3c18e6-5744-41bf-fd21-dbde7d54e0ee"
   },
   "outputs": [
    {
     "name": "stdout",
     "output_type": "stream",
     "text": [
      "30\n"
     ]
    }
   ],
   "source": [
    "# 只要是動作，譬如“輸出”就需要加上()\n",
    "print (10 + 20)"
   ]
  },
  {
   "cell_type": "code",
   "execution_count": null,
   "metadata": {
    "colab": {
     "base_uri": "https://localhost:8080/"
    },
    "id": "8odjsytOwL4r",
    "outputId": "ceb41e12-45a4-437f-a791-3bd0b7e70d9d"
   },
   "outputs": [
    {
     "name": "stdout",
     "output_type": "stream",
     "text": [
      "94744996637312\n",
      "94744996637792\n",
      "140145008885808\n"
     ]
    }
   ],
   "source": [
    "# 值不同，記憶體位址跟著改變\n",
    "\n",
    "a = 5\n",
    "print(id(a))\n",
    "a = 20\n",
    "print(id(a))\n",
    "a = 'test'\n",
    "print(id(a))"
   ]
  },
  {
   "cell_type": "code",
   "execution_count": null,
   "metadata": {
    "colab": {
     "base_uri": "https://localhost:8080/"
    },
    "id": "rbmWXcypoEiS",
    "outputId": "5635e78c-b09a-42b7-e056-bc9d43efed9d"
   },
   "outputs": [
    {
     "name": "stdout",
     "output_type": "stream",
     "text": [
      "<class 'int'>\n",
      "<class 'float'>\n",
      "<class 'bool'>\n",
      "<class 'str'>\n"
     ]
    }
   ],
   "source": [
    "#PYTHON的變數並沒有固定的資料型態\n",
    "\n",
    "x = 29\n",
    "print(type(x))\n",
    "\n",
    "x = 29.0\n",
    "print(type(x))\n",
    "\n",
    "x = True\n",
    "print(type(x))\n",
    "\n",
    "x = 'ok'\n",
    "print(type(x))"
   ]
  }
 ],
 "metadata": {
  "colab": {
   "authorship_tag": "ABX9TyPuVbSwb3Tqyt/I2oy2Q2Wh",
   "collapsed_sections": [],
   "name": "Day01-20210518-程式語言概論.ipynb",
   "provenance": []
  },
  "kernelspec": {
   "display_name": "Python 3",
   "language": "python",
   "name": "python3"
  },
  "language_info": {
   "codemirror_mode": {
    "name": "ipython",
    "version": 3
   },
   "file_extension": ".py",
   "mimetype": "text/x-python",
   "name": "python",
   "nbconvert_exporter": "python",
   "pygments_lexer": "ipython3",
   "version": "3.7.10"
  }
 },
 "nbformat": 4,
 "nbformat_minor": 1
}
